{
 "cells": [
  {
   "cell_type": "markdown",
   "metadata": {},
   "source": [
    "# A Guided Tour of Ray Core: JobLib"
   ]
  },
  {
   "cell_type": "markdown",
   "metadata": {},
   "source": [
    "[*Distributed scikit-learn*](https://docs.ray.io/en/latest/joblib.html) provides a drop-in replacement to parallelize the [`JobLib`](https://joblib.readthedocs.io/en/latest/) backend for [`scikit-learn`](https://scikit-learn.org/stable/)\n",
    "\n",
    "\n",
    "---"
   ]
  },
  {
   "cell_type": "markdown",
   "metadata": {},
   "source": [
    "First, let's start Ray…"
   ]
  },
  {
   "cell_type": "code",
   "execution_count": 1,
   "metadata": {},
   "outputs": [
    {
     "name": "stdout",
     "output_type": "stream",
     "text": [
      "Dashboard URL: http://127.0.0.1:8265\n"
     ]
    }
   ],
   "source": [
    "from icecream import ic\n",
    "import logging\n",
    "import ray\n",
    "\n",
    "ray.init(\n",
    "    ignore_reinit_error=True,\n",
    "    logging_level=logging.ERROR,\n",
    ")\n",
    "\n",
    "print(f\"Dashboard URL: http://{ray.get_dashboard_url()}\")"
   ]
  },
  {
   "cell_type": "markdown",
   "metadata": {},
   "source": [
    "## JobLib example"
   ]
  },
  {
   "cell_type": "markdown",
   "metadata": {},
   "source": [
    "Set up for this example..."
   ]
  },
  {
   "cell_type": "code",
   "execution_count": 2,
   "metadata": {},
   "outputs": [],
   "source": [
    "from ray.util.joblib import register_ray\n",
    "from sklearn.datasets import load_digits\n",
    "from sklearn.model_selection import RandomizedSearchCV\n",
    "from sklearn.svm import SVC\n",
    "import numpy as np\n",
    "import joblib"
   ]
  },
  {
   "cell_type": "markdown",
   "metadata": {},
   "source": [
    "First, let's register Ray as the parallelized [*joblib*](https://scikit-learn.org/stable/modules/generated/sklearn.utils.parallel_backend.html) backend for `scikit-learn`, using  Ray actors instead of local processes.\n",
    "This makes it easy to scale existing applications running on a single node to running on a cluster.\n",
    "\n",
    "See: <https://docs.ray.io/en/master/joblib.html>"
   ]
  },
  {
   "cell_type": "code",
   "execution_count": 3,
   "metadata": {},
   "outputs": [],
   "source": [
    "register_ray()"
   ]
  },
  {
   "cell_type": "markdown",
   "metadata": {},
   "source": [
    "Next, load a copy of the UCI machine learning data repository's hand-written *digits* dataset.\n",
    "See: <https://scikit-learn.org/stable/modules/generated/sklearn.datasets.load_digits.html>"
   ]
  },
  {
   "cell_type": "code",
   "execution_count": 4,
   "metadata": {},
   "outputs": [],
   "source": [
    "digits = load_digits()"
   ]
  },
  {
   "cell_type": "markdown",
   "metadata": {},
   "source": [
    "We'll define the hyper-parameter space for training a *support vector machines* model:"
   ]
  },
  {
   "cell_type": "code",
   "execution_count": 5,
   "metadata": {},
   "outputs": [],
   "source": [
    "param_space = {\n",
    "    \"C\": np.logspace(-6, 6, 30),\n",
    "    \"gamma\": np.logspace(-8, 8, 30),\n",
    "    \"tol\": np.logspace(-4, -1, 30),\n",
    "    \"class_weight\": [None, \"balanced\"],\n",
    "}\n",
    "\n",
    "model = SVC(kernel=\"rbf\")"
   ]
  },
  {
   "cell_type": "markdown",
   "metadata": {},
   "source": [
    "Then use a randomized search to optimize these hyper-parameters. See: <https://scikit-learn.org/stable/modules/generated/sklearn.model_selection.RandomizedSearchCV.html>\n",
    "\n",
    "We'll use 5 cross-validation splits and 10 iterations, which will result in a total of 50 \"fits\". This is enough to illustrate the `joblib` being parallelized, although in practice you'd probably use more iterations."
   ]
  },
  {
   "cell_type": "code",
   "execution_count": 6,
   "metadata": {},
   "outputs": [
    {
     "data": {
      "text/plain": [
       "RandomizedSearchCV(cv=5, error_score=nan,\n",
       "                   estimator=SVC(C=1.0, break_ties=False, cache_size=200,\n",
       "                                 class_weight=None, coef0=0.0,\n",
       "                                 decision_function_shape='ovr', degree=3,\n",
       "                                 gamma='scale', kernel='rbf', max_iter=-1,\n",
       "                                 probability=False, random_state=None,\n",
       "                                 shrinking=True, tol=0.001, verbose=False),\n",
       "                   iid='deprecated', n_iter=10, n_jobs=None,\n",
       "                   param_distributions={'C': array([1.000...\n",
       "       0.00032903, 0.00041753, 0.00052983, 0.00067234, 0.00085317,\n",
       "       0.00108264, 0.00137382, 0.00174333, 0.00221222, 0.00280722,\n",
       "       0.00356225, 0.00452035, 0.00573615, 0.00727895, 0.00923671,\n",
       "       0.01172102, 0.01487352, 0.01887392, 0.02395027, 0.03039195,\n",
       "       0.0385662 , 0.04893901, 0.06210169, 0.07880463, 0.1       ])},\n",
       "                   pre_dispatch='2*n_jobs', random_state=None, refit=True,\n",
       "                   return_train_score=False, scoring=None, verbose=10)"
      ]
     },
     "execution_count": 6,
     "metadata": {},
     "output_type": "execute_result"
    }
   ],
   "source": [
    "clf = RandomizedSearchCV(model, param_space, cv=5, n_iter=10, verbose=10)\n",
    "clf"
   ]
  },
  {
   "cell_type": "markdown",
   "metadata": {},
   "source": [
    "Run the cross-validation fits (i.e., the random search for hyper-parameter optimization) using Ray to parallelize the backend processes:"
   ]
  },
  {
   "cell_type": "code",
   "execution_count": 7,
   "metadata": {
    "scrolled": true,
    "tags": []
   },
   "outputs": [
    {
     "name": "stdout",
     "output_type": "stream",
     "text": [
      "Fitting 5 folds for each of 10 candidates, totalling 50 fits\n"
     ]
    },
    {
     "name": "stderr",
     "output_type": "stream",
     "text": [
      "[Parallel(n_jobs=-1)]: Using backend RayBackend with 8 concurrent workers.\n"
     ]
    },
    {
     "name": "stdout",
     "output_type": "stream",
     "text": [
      "\u001b[2m\u001b[36m(pid=104)\u001b[0m [CV] tol=0.00020433597178569417, gamma=6.723357536499335, class_weight=balanced, C=2.592943797404667e-06 \n",
      "\u001b[2m\u001b[36m(pid=98)\u001b[0m [CV] tol=0.00032903445623126676, gamma=7.278953843983146e-05, class_weight=None, C=4.175318936560401 \n"
     ]
    },
    {
     "name": "stdout",
     "output_type": "stream",
     "text": [
      "\u001b[2m\u001b[36m(pid=98)\u001b[0m [CV]  tol=0.00032903445623126676, gamma=7.278953843983146e-05, class_weight=None, C=4.175318936560401, score=0.928, total=   0.2s\n",
      "\u001b[2m\u001b[36m(pid=98)\u001b[0m [CV] tol=0.00020433597178569417, gamma=6.723357536499335, class_weight=balanced, C=2.592943797404667e-06 \n",
      "\u001b[2m\u001b[36m(pid=100)\u001b[0m [CV] tol=0.00032903445623126676, gamma=3.562247890262444e-08, class_weight=None, C=1268.9610031679233 \n",
      "\u001b[2m\u001b[36m(pid=102)\u001b[0m [CV] tol=0.00032903445623126676, gamma=7.278953843983146e-05, class_weight=None, C=4.175318936560401 \n",
      "\u001b[2m\u001b[36m(pid=102)\u001b[0m \n"
     ]
    },
    {
     "name": "stdout",
     "output_type": "stream",
     "text": [
      "\u001b[2m\u001b[36m(pid=105)\u001b[0m [CV] tol=0.00020433597178569417, gamma=6.723357536499335, class_weight=balanced, C=2.592943797404667e-06 \n",
      "\u001b[2m\u001b[36m(pid=101)\u001b[0m [CV] tol=0.00032903445623126676, gamma=7.278953843983146e-05, class_weight=None, C=4.175318936560401 \n",
      "\u001b[2m\u001b[36m(pid=99)\u001b[0m [CV] tol=0.00032903445623126676, gamma=7.278953843983146e-05, class_weight=None, C=4.175318936560401 \n"
     ]
    },
    {
     "name": "stdout",
     "output_type": "stream",
     "text": [
      "\u001b[2m\u001b[36m(pid=103)\u001b[0m [CV] tol=0.00032903445623126676, gamma=7.278953843983146e-05, class_weight=None, C=4.175318936560401 \n",
      "\u001b[2m\u001b[36m(pid=100)\u001b[0m [CV]  tol=0.00032903445623126676, gamma=3.562247890262444e-08, class_weight=None, C=1268.9610031679233, score=0.958, total=   0.4s\n",
      "\u001b[2m\u001b[36m(pid=100)\u001b[0m [CV] tol=0.1, gamma=303.9195382313195, class_weight=None, C=0.2395026619987486 \n",
      "\u001b[2m\u001b[36m(pid=102)\u001b[0m [CV]  tol=0.00032903445623126676, gamma=7.278953843983146e-05, class_weight=None, C=4.175318936560401, score=0.983, total=   0.3s\n",
      "\u001b[2m\u001b[36m(pid=99)\u001b[0m [CV]  tol=0.00032903445623126676, gamma=7.278953843983146e-05, class_weight=None, C=4.175318936560401, score=0.983, total=   0.2s\n",
      "\u001b[2m\u001b[36m(pid=101)\u001b[0m [CV]  tol=0.00032903445623126676, gamma=7.278953843983146e-05, class_weight=None, C=4.175318936560401, score=0.950, total=   0.3s\n",
      "\u001b[2m\u001b[36m(pid=101)\u001b[0m [CV] tol=0.00032903445623126676, gamma=3.562247890262444e-08, class_weight=None, C=1268.9610031679233 \n",
      "\u001b[2m\u001b[36m(pid=99)\u001b[0m [CV] tol=0.00020433597178569417, gamma=6.723357536499335, class_weight=balanced, C=2.592943797404667e-06 \n",
      "\u001b[2m\u001b[36m(pid=103)\u001b[0m [CV]  tol=0.00032903445623126676, gamma=7.278953843983146e-05, class_weight=None, C=4.175318936560401, score=0.925, total=   0.2s\n"
     ]
    },
    {
     "name": "stderr",
     "output_type": "stream",
     "text": [
      "[Parallel(n_jobs=-1)]: Done   2 tasks      | elapsed:    1.5s\n"
     ]
    },
    {
     "name": "stdout",
     "output_type": "stream",
     "text": [
      "\u001b[2m\u001b[36m(pid=101)\u001b[0m [CV]  tol=0.00032903445623126676, gamma=3.562247890262444e-08, class_weight=None, C=1268.9610031679233, score=0.894, total=   0.4s\n",
      "\u001b[2m\u001b[36m(pid=101)\u001b[0m [CV] tol=0.1, gamma=303.9195382313195, class_weight=None, C=0.2395026619987486 \n"
     ]
    },
    {
     "name": "stdout",
     "output_type": "stream",
     "text": [
      "\u001b[2m\u001b[36m(pid=104)\u001b[0m [CV]  tol=0.00020433597178569417, gamma=6.723357536499335, class_weight=balanced, C=2.592943797404667e-06, score=0.100, total=   1.5s\n",
      "\u001b[2m\u001b[36m(pid=104)\u001b[0m [CV] tol=0.00020433597178569417, gamma=6.723357536499335, class_weight=balanced, C=2.592943797404667e-06 \n",
      "\u001b[2m\u001b[36m(pid=103)\u001b[0m [CV] tol=0.011721022975334805, gamma=28072162.039411698, class_weight=balanced, C=0.0007880462815669912 \n",
      "\u001b[2m\u001b[36m(pid=98)\u001b[0m [CV]  tol=0.00020433597178569417, gamma=6.723357536499335, class_weight=balanced, C=2.592943797404667e-06, score=0.100, total=   1.3s\n",
      "\u001b[2m\u001b[36m(pid=98)\u001b[0m [CV] tol=0.011721022975334805, gamma=28072162.039411698, class_weight=balanced, C=0.0007880462815669912 \n",
      "\u001b[2m\u001b[36m(pid=102)\u001b[0m [CV] tol=0.011721022975334805, gamma=28072162.039411698, class_weight=balanced, C=0.0007880462815669912 \n"
     ]
    },
    {
     "name": "stderr",
     "output_type": "stream",
     "text": [
      "[Parallel(n_jobs=-1)]: Done   9 tasks      | elapsed:    2.3s\n"
     ]
    },
    {
     "name": "stdout",
     "output_type": "stream",
     "text": [
      "\u001b[2m\u001b[36m(pid=100)\u001b[0m [CV]  tol=0.1, gamma=303.9195382313195, class_weight=None, C=0.2395026619987486, score=0.100, total=   1.3s\n",
      "\u001b[2m\u001b[36m(pid=100)\u001b[0m [CV] tol=0.1, gamma=303.9195382313195, class_weight=None, C=0.2395026619987486 \n",
      "\u001b[2m\u001b[36m(pid=105)\u001b[0m [CV]  tol=0.00020433597178569417, gamma=6.723357536499335, class_weight=balanced, C=2.592943797404667e-06, score=0.100, total=   1.8s\n",
      "\u001b[2m\u001b[36m(pid=105)\u001b[0m [CV] tol=0.011721022975334805, gamma=28072162.039411698, class_weight=balanced, C=0.0007880462815669912 \n"
     ]
    },
    {
     "name": "stdout",
     "output_type": "stream",
     "text": [
      "\u001b[2m\u001b[36m(pid=99)\u001b[0m [CV]  tol=0.00020433597178569417, gamma=6.723357536499335, class_weight=balanced, C=2.592943797404667e-06, score=0.097, total=   1.6s\n",
      "\u001b[2m\u001b[36m(pid=99)\u001b[0m [CV] tol=0.1, gamma=303.9195382313195, class_weight=None, C=0.2395026619987486 \n"
     ]
    },
    {
     "name": "stdout",
     "output_type": "stream",
     "text": [
      "\u001b[2m\u001b[36m(pid=101)\u001b[0m [CV]  tol=0.1, gamma=303.9195382313195, class_weight=None, C=0.2395026619987486, score=0.100, total=   1.8s\n"
     ]
    },
    {
     "name": "stdout",
     "output_type": "stream",
     "text": [
      "\u001b[2m\u001b[36m(pid=102)\u001b[0m [CV]  tol=0.011721022975334805, gamma=28072162.039411698, class_weight=balanced, C=0.0007880462815669912, score=0.097, total=   1.6s\n",
      "\u001b[2m\u001b[36m(pid=104)\u001b[0m [CV]  tol=0.00020433597178569417, gamma=6.723357536499335, class_weight=balanced, C=2.592943797404667e-06, score=0.097, total=   1.8s\n",
      "\u001b[2m\u001b[36m(pid=104)\u001b[0m [CV] tol=0.00032903445623126676, gamma=3.562247890262444e-08, class_weight=None, C=1268.9610031679233 \n"
     ]
    },
    {
     "name": "stderr",
     "output_type": "stream",
     "text": [
      "[Parallel(n_jobs=-1)]: Done  16 tasks      | elapsed:    4.4s\n"
     ]
    },
    {
     "name": "stdout",
     "output_type": "stream",
     "text": [
      "\u001b[2m\u001b[36m(pid=99)\u001b[0m [CV]  tol=0.1, gamma=303.9195382313195, class_weight=None, C=0.2395026619987486, score=0.103, total=   1.2s\n",
      "\u001b[2m\u001b[36m(pid=103)\u001b[0m [CV]  tol=0.011721022975334805, gamma=28072162.039411698, class_weight=balanced, C=0.0007880462815669912, score=0.097, total=   2.1s\n",
      "\u001b[2m\u001b[36m(pid=103)\u001b[0m [CV] tol=0.0028072162039411755, gamma=28072162.039411698, class_weight=balanced, C=3290.344562312671 \n"
     ]
    },
    {
     "name": "stdout",
     "output_type": "stream",
     "text": [
      "\u001b[2m\u001b[36m(pid=98)\u001b[0m [CV]  tol=0.011721022975334805, gamma=28072162.039411698, class_weight=balanced, C=0.0007880462815669912, score=0.100, total=   2.2s\n",
      "\u001b[2m\u001b[36m(pid=98)\u001b[0m [CV] tol=0.0028072162039411755, gamma=28072162.039411698, class_weight=balanced, C=3290.344562312671 \n",
      "\u001b[2m\u001b[36m(pid=104)\u001b[0m [CV]  tol=0.00032903445623126676, gamma=3.562247890262444e-08, class_weight=None, C=1268.9610031679233, score=0.922, total=   0.5s\n",
      "\u001b[2m\u001b[36m(pid=104)\u001b[0m [CV] tol=0.00032903445623126676, gamma=3.562247890262444e-08, class_weight=None, C=1268.9610031679233 \n",
      "\u001b[2m\u001b[36m(pid=100)\u001b[0m [CV]  tol=0.1, gamma=303.9195382313195, class_weight=None, C=0.2395026619987486, score=0.100, total=   1.8s\n",
      "\u001b[2m\u001b[36m(pid=100)\u001b[0m [CV] tol=0.1, gamma=303.9195382313195, class_weight=None, C=0.2395026619987486 \n"
     ]
    },
    {
     "name": "stdout",
     "output_type": "stream",
     "text": [
      "\u001b[2m\u001b[36m(pid=104)\u001b[0m [CV]  tol=0.00032903445623126676, gamma=3.562247890262444e-08, class_weight=None, C=1268.9610031679233, score=0.911, total=   0.3s\n",
      "\u001b[2m\u001b[36m(pid=104)\u001b[0m [CV] tol=0.00032903445623126676, gamma=3.562247890262444e-08, class_weight=None, C=1268.9610031679233 \n",
      "\u001b[2m\u001b[36m(pid=105)\u001b[0m [CV]  tol=0.011721022975334805, gamma=28072162.039411698, class_weight=balanced, C=0.0007880462815669912, score=0.095, total=   2.0s\n",
      "\u001b[2m\u001b[36m(pid=105)\u001b[0m [CV] tol=0.04893900918477494, gamma=85.31678524172814, class_weight=balanced, C=148735.21072935118 \n"
     ]
    },
    {
     "name": "stdout",
     "output_type": "stream",
     "text": [
      "\u001b[2m\u001b[36m(pid=104)\u001b[0m [CV]  tol=0.00032903445623126676, gamma=3.562247890262444e-08, class_weight=None, C=1268.9610031679233, score=0.972, total=   0.3s\n",
      "\u001b[2m\u001b[36m(pid=104)\u001b[0m [CV] tol=0.011721022975334805, gamma=28072162.039411698, class_weight=balanced, C=0.0007880462815669912 \n",
      "\u001b[2m\u001b[36m(pid=103)\u001b[0m [CV]  tol=0.0028072162039411755, gamma=28072162.039411698, class_weight=balanced, C=3290.344562312671, score=0.100, total=   0.8s\n"
     ]
    },
    {
     "name": "stderr",
     "output_type": "stream",
     "text": [
      "[Parallel(n_jobs=-1)]: Done  25 tasks      | elapsed:    5.4s\n"
     ]
    },
    {
     "name": "stdout",
     "output_type": "stream",
     "text": [
      "\u001b[2m\u001b[36m(pid=100)\u001b[0m [CV]  tol=0.1, gamma=303.9195382313195, class_weight=None, C=0.2395026619987486, score=0.100, total=   0.8s\n",
      "\u001b[2m\u001b[36m(pid=100)\u001b[0m [CV] tol=0.0028072162039411755, gamma=28072162.039411698, class_weight=balanced, C=3290.344562312671 \n"
     ]
    },
    {
     "name": "stdout",
     "output_type": "stream",
     "text": [
      "\u001b[2m\u001b[36m(pid=98)\u001b[0m [CV]  tol=0.0028072162039411755, gamma=28072162.039411698, class_weight=balanced, C=3290.344562312671, score=0.100, total=   1.1s\n",
      "\u001b[2m\u001b[36m(pid=98)\u001b[0m [CV] tol=0.0028072162039411755, gamma=28072162.039411698, class_weight=balanced, C=3290.344562312671 \n",
      "\u001b[2m\u001b[36m(pid=105)\u001b[0m [CV]  tol=0.04893900918477494, gamma=85.31678524172814, class_weight=balanced, C=148735.21072935118, score=0.103, total=   0.8s\n",
      "\u001b[2m\u001b[36m(pid=105)\u001b[0m [CV] tol=0.011721022975334805, gamma=48939.00918477499, class_weight=None, C=1e-06 \n"
     ]
    },
    {
     "name": "stdout",
     "output_type": "stream",
     "text": [
      "\u001b[2m\u001b[36m(pid=104)\u001b[0m [CV]  tol=0.011721022975334805, gamma=28072162.039411698, class_weight=balanced, C=0.0007880462815669912, score=0.100, total=   0.7s\n",
      "\u001b[2m\u001b[36m(pid=104)\u001b[0m [CV] tol=0.0028072162039411755, gamma=28072162.039411698, class_weight=balanced, C=3290.344562312671 \n"
     ]
    },
    {
     "name": "stdout",
     "output_type": "stream",
     "text": [
      "\u001b[2m\u001b[36m(pid=100)\u001b[0m [CV]  tol=0.0028072162039411755, gamma=28072162.039411698, class_weight=balanced, C=3290.344562312671, score=0.100, total=   0.8s\n",
      "\u001b[2m\u001b[36m(pid=100)\u001b[0m [CV] tol=0.04893900918477494, gamma=85.31678524172814, class_weight=balanced, C=148735.21072935118 \n",
      "\u001b[2m\u001b[36m(pid=99)\u001b[0m [CV] tol=0.007278953843983146, gamma=0.0009236708571873865, class_weight=balanced, C=489.3900918477499 \n",
      "\u001b[2m\u001b[36m(pid=98)\u001b[0m [CV]  tol=0.0028072162039411755, gamma=28072162.039411698, class_weight=balanced, C=3290.344562312671, score=0.100, total=   0.7s\n",
      "\u001b[2m\u001b[36m(pid=98)\u001b[0m [CV] tol=0.04893900918477494, gamma=85.31678524172814, class_weight=balanced, C=148735.21072935118 \n",
      "\u001b[2m\u001b[36m(pid=101)\u001b[0m [CV] tol=0.06210169418915616, gamma=174332.88221999872, class_weight=None, C=0.2395026619987486 \n"
     ]
    },
    {
     "name": "stdout",
     "output_type": "stream",
     "text": [
      "\u001b[2m\u001b[36m(pid=99)\u001b[0m [CV]  tol=0.007278953843983146, gamma=0.0009236708571873865, class_weight=balanced, C=489.3900918477499, score=0.961, total=   0.2s\n",
      "\u001b[2m\u001b[36m(pid=99)\u001b[0m [CV] tol=0.06210169418915616, gamma=174332.88221999872, class_weight=None, C=0.2395026619987486 \n",
      "\u001b[2m\u001b[36m(pid=102)\u001b[0m [CV] tol=0.06210169418915616, gamma=174332.88221999872, class_weight=None, C=0.2395026619987486 \n",
      "\u001b[2m\u001b[36m(pid=105)\u001b[0m [CV]  tol=0.011721022975334805, gamma=48939.00918477499, class_weight=None, C=1e-06, score=0.100, total=   0.7s\n",
      "\u001b[2m\u001b[36m(pid=105)\u001b[0m [CV] tol=0.011721022975334805, gamma=48939.00918477499, class_weight=None, C=1e-06 \n",
      "\u001b[2m\u001b[36m(pid=104)\u001b[0m [CV]  tol=0.0028072162039411755, gamma=28072162.039411698, class_weight=balanced, C=3290.344562312671, score=0.103, total=   0.7s\n",
      "\u001b[2m\u001b[36m(pid=104)\u001b[0m [CV] tol=0.04893900918477494, gamma=85.31678524172814, class_weight=balanced, C=148735.21072935118 \n"
     ]
    },
    {
     "name": "stderr",
     "output_type": "stream",
     "text": [
      "[Parallel(n_jobs=-1)]: Done  34 tasks      | elapsed:    7.0s\n"
     ]
    },
    {
     "name": "stdout",
     "output_type": "stream",
     "text": [
      "\u001b[2m\u001b[36m(pid=100)\u001b[0m [CV]  tol=0.04893900918477494, gamma=85.31678524172814, class_weight=balanced, C=148735.21072935118, score=0.100, total=   0.8s\n",
      "\u001b[2m\u001b[36m(pid=100)\u001b[0m [CV] tol=0.04893900918477494, gamma=85.31678524172814, class_weight=balanced, C=148735.21072935118 \n",
      "\u001b[2m\u001b[36m(pid=101)\u001b[0m [CV]  tol=0.06210169418915616, gamma=174332.88221999872, class_weight=None, C=0.2395026619987486, score=0.100, total=   0.7s\n"
     ]
    },
    {
     "name": "stdout",
     "output_type": "stream",
     "text": [
      "\u001b[2m\u001b[36m(pid=98)\u001b[0m [CV]  tol=0.04893900918477494, gamma=85.31678524172814, class_weight=balanced, C=148735.21072935118, score=0.100, total=   0.9s\n",
      "\u001b[2m\u001b[36m(pid=98)\u001b[0m [CV] tol=0.011721022975334805, gamma=48939.00918477499, class_weight=None, C=1e-06 \n",
      "\u001b[2m\u001b[36m(pid=102)\u001b[0m [CV]  tol=0.06210169418915616, gamma=174332.88221999872, class_weight=None, C=0.2395026619987486, score=0.103, total=   0.8s\n",
      "\u001b[2m\u001b[36m(pid=105)\u001b[0m [CV]  tol=0.011721022975334805, gamma=48939.00918477499, class_weight=None, C=1e-06, score=0.100, total=   0.8s\n",
      "\u001b[2m\u001b[36m(pid=99)\u001b[0m [CV]  tol=0.06210169418915616, gamma=174332.88221999872, class_weight=None, C=0.2395026619987486, score=0.100, total=   0.8s\n",
      "\u001b[2m\u001b[36m(pid=99)\u001b[0m [CV] tol=0.06210169418915616, gamma=174332.88221999872, class_weight=None, C=0.2395026619987486 \n",
      "\u001b[2m\u001b[36m(pid=104)\u001b[0m [CV]  tol=0.04893900918477494, gamma=85.31678524172814, class_weight=balanced, C=148735.21072935118, score=0.100, total=   0.8s\n",
      "\u001b[2m\u001b[36m(pid=104)\u001b[0m [CV] tol=0.011721022975334805, gamma=48939.00918477499, class_weight=None, C=1e-06 \n"
     ]
    },
    {
     "name": "stderr",
     "output_type": "stream",
     "text": [
      "[Parallel(n_jobs=-1)]: Done  41 out of  50 | elapsed:    7.7s remaining:    1.7s\n"
     ]
    },
    {
     "name": "stdout",
     "output_type": "stream",
     "text": [
      "\u001b[2m\u001b[36m(pid=100)\u001b[0m [CV]  tol=0.04893900918477494, gamma=85.31678524172814, class_weight=balanced, C=148735.21072935118, score=0.100, total=   0.7s\n",
      "\u001b[2m\u001b[36m(pid=100)\u001b[0m [CV] tol=0.011721022975334805, gamma=48939.00918477499, class_weight=None, C=1e-06 \n",
      "\u001b[2m\u001b[36m(pid=98)\u001b[0m [CV]  tol=0.011721022975334805, gamma=48939.00918477499, class_weight=None, C=1e-06, score=0.100, total=   0.6s\n",
      "\u001b[2m\u001b[36m(pid=98)\u001b[0m [CV] tol=0.007278953843983146, gamma=0.0009236708571873865, class_weight=balanced, C=489.3900918477499 \n",
      "\u001b[2m\u001b[36m(pid=99)\u001b[0m [CV]  tol=0.06210169418915616, gamma=174332.88221999872, class_weight=None, C=0.2395026619987486, score=0.100, total=   0.6s\n"
     ]
    },
    {
     "name": "stdout",
     "output_type": "stream",
     "text": [
      "\u001b[2m\u001b[36m(pid=104)\u001b[0m [CV]  tol=0.011721022975334805, gamma=48939.00918477499, class_weight=None, C=1e-06, score=0.103, total=   0.6s\n",
      "\u001b[2m\u001b[36m(pid=104)\u001b[0m [CV] tol=0.007278953843983146, gamma=0.0009236708571873865, class_weight=balanced, C=489.3900918477499 \n",
      "\u001b[2m\u001b[36m(pid=98)\u001b[0m [CV]  tol=0.007278953843983146, gamma=0.0009236708571873865, class_weight=balanced, C=489.3900918477499, score=0.950, total=   0.2s\n",
      "\u001b[2m\u001b[36m(pid=98)\u001b[0m [CV] tol=0.06210169418915616, gamma=174332.88221999872, class_weight=None, C=0.2395026619987486 \n",
      "\u001b[2m\u001b[36m(pid=104)\u001b[0m [CV]  tol=0.007278953843983146, gamma=0.0009236708571873865, class_weight=balanced, C=489.3900918477499, score=0.978, total=   0.1s\n",
      "\u001b[2m\u001b[36m(pid=104)\u001b[0m [CV] tol=0.007278953843983146, gamma=0.0009236708571873865, class_weight=balanced, C=489.3900918477499 \n"
     ]
    },
    {
     "name": "stderr",
     "output_type": "stream",
     "text": [
      "[Parallel(n_jobs=-1)]: Done  47 out of  50 | elapsed:    8.3s remaining:    0.5s\n"
     ]
    },
    {
     "name": "stdout",
     "output_type": "stream",
     "text": [
      "\u001b[2m\u001b[36m(pid=104)\u001b[0m [CV]  tol=0.007278953843983146, gamma=0.0009236708571873865, class_weight=balanced, C=489.3900918477499, score=0.983, total=   0.2s\n",
      "\u001b[2m\u001b[36m(pid=100)\u001b[0m [CV]  tol=0.011721022975334805, gamma=48939.00918477499, class_weight=None, C=1e-06, score=0.100, total=   0.6s\n",
      "\u001b[2m\u001b[36m(pid=100)\u001b[0m [CV] tol=0.007278953843983146, gamma=0.0009236708571873865, class_weight=balanced, C=489.3900918477499 \n"
     ]
    },
    {
     "name": "stdout",
     "output_type": "stream",
     "text": [
      "\u001b[2m\u001b[36m(pid=100)\u001b[0m [CV]  tol=0.007278953843983146, gamma=0.0009236708571873865, class_weight=balanced, C=489.3900918477499, score=0.986, total=   0.2s\n",
      "\u001b[2m\u001b[36m(pid=98)\u001b[0m [CV]  tol=0.06210169418915616, gamma=174332.88221999872, class_weight=None, C=0.2395026619987486, score=0.100, total=   0.6s\n"
     ]
    },
    {
     "name": "stderr",
     "output_type": "stream",
     "text": [
      "[Parallel(n_jobs=-1)]: Done  50 out of  50 | elapsed:    8.6s finished\n"
     ]
    }
   ],
   "source": [
    "with joblib.parallel_backend(\"ray\"):\n",
    "    search = clf.fit(digits.data, digits.target)"
   ]
  },
  {
   "cell_type": "markdown",
   "metadata": {},
   "source": [
    "So far, what is the best set of hyper-parameters found?"
   ]
  },
  {
   "cell_type": "code",
   "execution_count": 8,
   "metadata": {},
   "outputs": [
    {
     "data": {
      "text/plain": [
       "{'tol': 0.007278953843983146,\n",
       " 'gamma': 0.0009236708571873865,\n",
       " 'class_weight': 'balanced',\n",
       " 'C': 489.3900918477499}"
      ]
     },
     "execution_count": 8,
     "metadata": {},
     "output_type": "execute_result"
    }
   ],
   "source": [
    "search.best_params_"
   ]
  },
  {
   "cell_type": "markdown",
   "metadata": {},
   "source": [
    "Finally, shutdown Ray"
   ]
  },
  {
   "cell_type": "code",
   "execution_count": 9,
   "metadata": {},
   "outputs": [],
   "source": [
    "ray.shutdown()"
   ]
  }
 ],
 "metadata": {
  "kernelspec": {
   "display_name": "Python 3",
   "language": "python",
   "name": "orchest-kernel-ea858517-17b2-4ad8-bad2-1764d69f4b6d"
  },
  "language_info": {
   "codemirror_mode": {
    "name": "ipython",
    "version": 3
   },
   "file_extension": ".py",
   "mimetype": "text/x-python",
   "name": "python",
   "nbconvert_exporter": "python",
   "pygments_lexer": "ipython3",
   "version": "3.7.6"
  }
 },
 "nbformat": 4,
 "nbformat_minor": 4
}
