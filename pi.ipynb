{
 "cells": [
  {
   "cell_type": "markdown",
   "metadata": {},
   "source": [
    "# Profiling in Python\n",
    "\n",
    "There are several different ways to measure resource usage in Python applications, which help identify where an application should be parallelized and what kinds of design patterns from Ray core to use.\n",
    "to show how to determine where to parallelize.\n",
    "We'll introduce profiling methods to measure memory allocation, objects creation, deterministic profiling (call stack), sampling, etc., plus different means of visualization.\n",
    "\n",
    "The following example uses a Monte Carlo method for approximating the value of π, based on the tutorial [\"Ray Crash Course - Tasks\"](https://github.com/anyscale/academy/blob/main/ray-crash-course/01-Ray-Tasks.ipynb) by Dean Wampler.\n",
    "\n",
    "We'll compare/contrast the serial implementation versus use of *remote functions* to help parallelize this application.\n",
    "Then we'll analysze the per-CPU speedup, and also consider the overhead costs of using Ray core features -- to understand more about the trade-offs being made."
   ]
  },
  {
   "cell_type": "code",
   "execution_count": 1,
   "metadata": {},
   "outputs": [
    {
     "name": "stdout",
     "output_type": "stream",
     "text": [
      "Python implementation: CPython\n",
      "Python version       : 3.7.6\n",
      "IPython version      : 7.18.1\n",
      "\n",
      "Compiler    : GCC 7.5.0\n",
      "OS          : Linux\n",
      "Release     : 5.3.0-1030-gcp\n",
      "Machine     : x86_64\n",
      "Processor   : x86_64\n",
      "CPU cores   : 8\n",
      "Architecture: 64bit\n",
      "\n"
     ]
    }
   ],
   "source": [
    "%load_ext watermark\n",
    "%watermark -v -m"
   ]
  },
  {
   "cell_type": "markdown",
   "metadata": {},
   "source": [
    "## Launch Ray\n",
    "\n",
    "First, start Ray and open its dashboard in another browser tab:"
   ]
  },
  {
   "cell_type": "code",
   "execution_count": 2,
   "metadata": {},
   "outputs": [
    {
     "name": "stdout",
     "output_type": "stream",
     "text": [
      "Dashboard URL: http://127.0.0.1:8265\n"
     ]
    }
   ],
   "source": [
    "import logging\n",
    "import ray\n",
    "\n",
    "ray.init(\n",
    "    ignore_reinit_error=True,\n",
    "    logging_level=logging.ERROR,\n",
    ")\n",
    "\n",
    "print(f\"Dashboard URL: http://{ray.get_dashboard_url()}\")"
   ]
  },
  {
   "cell_type": "markdown",
   "metadata": {},
   "source": [
    "## Application Code\n",
    "\n",
    "Define a simple function that uses a stochastic method of approximating π, repeated through some number of samples:"
   ]
  },
  {
   "cell_type": "code",
   "execution_count": 3,
   "metadata": {},
   "outputs": [],
   "source": [
    "from IPython.core.display import display, HTML\n",
    "import matplotlib.pyplot as plt\n",
    "import numpy as np\n",
    "import pandas as pd\n",
    "import statistics\n",
    "import time\n",
    "\n",
    "def estimate_pi (num_samples):\n",
    "    xs = np.random.uniform(low=-1.0, high=1.0, size=num_samples)   # generate num_samples random samples for the x coordinate\n",
    "    ys = np.random.uniform(low=-1.0, high=1.0, size=num_samples)   # generate num_samples random samples for the y coordinate\n",
    "    xys = np.stack((xs, ys), axis=-1)                              # similar to Python's \"zip(a,b)\"; creates np.array([(x1,y1), (x2,y2), ...]).\n",
    "\n",
    "    inside = (xs**2.0 + ys**2.0) <= 1.0                            # create a predicate over all the array elements\n",
    "    xys_inside = xys[inside]                                       # select only those  elements inside the circle\n",
    "    in_circle = xys_inside.shape[0]                                # return the number of elements inside the circle\n",
    "    approx_pi = 4.0 * in_circle / num_samples                      # the Pi estimate\n",
    "\n",
    "    return approx_pi"
   ]
  },
  {
   "cell_type": "markdown",
   "metadata": {},
   "source": [
    "Since this approximation requires many samples, which are independent, a *task-parallel* pattern can be applied. We'll create a *remote function* version of the sampling function:"
   ]
  },
  {
   "cell_type": "code",
   "execution_count": 4,
   "metadata": {},
   "outputs": [],
   "source": [
    "@ray.remote\n",
    "def distrib_estimate_pi (num_samples):\n",
    "    return estimate_pi(num_samples)"
   ]
  },
  {
   "cell_type": "markdown",
   "metadata": {},
   "source": [
    "Another function will collect measures for one epoch, i.e., some number of trials:"
   ]
  },
  {
   "cell_type": "code",
   "execution_count": 5,
   "metadata": {},
   "outputs": [],
   "source": [
    "def run_epoch (num_samples, num_trials, distrib=False):\n",
    "    start = time.time()\n",
    "    \n",
    "    if distrib:\n",
    "        refs = [distrib_estimate_pi.remote(num_samples) for _ in range(num_trials)]\n",
    "        pis = ray.get(refs)\n",
    "    else:\n",
    "        pis = [estimate_pi(num_samples) for _ in range(num_trials)]\n",
    "\n",
    "    # measure CPU time for the code section parallelized as a remote function\n",
    "    duration = time.time() - start\n",
    "\n",
    "    approx_pi = statistics.mean(pis)\n",
    "    stdev = statistics.stdev(pis)\n",
    "    error = 100.0 * abs(approx_pi - np.pi) / np.pi\n",
    "\n",
    "    return num_samples, duration, approx_pi, stdev, error"
   ]
  },
  {
   "cell_type": "markdown",
   "metadata": {},
   "source": [
    "Define class to manage the simulation:"
   ]
  },
  {
   "cell_type": "code",
   "execution_count": 6,
   "metadata": {
    "scrolled": true
   },
   "outputs": [],
   "source": [
    "class Sim:\n",
    "    DF_COL_NAMES = [\"n\", \"duration\", \"approx_pi\", \"stdev\", \"error\"]\n",
    "    NUM_SAMPLES = 1000000\n",
    "    NUM_TRIALS = 20\n",
    "    STEP_SIZE = int(NUM_SAMPLES / 25)\n",
    "\n",
    "    def __init__ (self, distrib=False, num_samples=NUM_SAMPLES, num_trials=NUM_TRIALS, step_size=STEP_SIZE):\n",
    "        self.distrib = distrib\n",
    "        self.num_samples = num_samples\n",
    "        self.num_trials = num_trials\n",
    "        self.step_size = step_size\n",
    "        self.df = None\n",
    "\n",
    "\n",
    "    def run (self):\n",
    "        # use a minimum of 2 trials, to be able to calculate standard deviation\n",
    "        results = [\n",
    "            run_epoch(n_samp, self.num_trials, distrib=self.distrib)\n",
    "            for n_samp in range(2, self.num_samples, self.step_size)\n",
    "        ]\n",
    "    \n",
    "        self.df = pd.DataFrame(results, columns=self.DF_COL_NAMES)\n",
    "        return self\n",
    "\n",
    "\n",
    "    def plot (self):\n",
    "        plt.plot(\"n\", \"duration\", data=self.df, color=\"green\", linewidth=1, linestyle=\"dashed\")\n",
    "        plt.plot(\"n\", \"error\", data=self.df, color=\"red\", linewidth=0.5, linestyle=\"dashed\")\n",
    "        plt.plot(\"n\", \"stdev\", data=self.df, color=\"blue\", linewidth=2)\n",
    "\n",
    "        plt.yscale(\"log\")\n",
    "        plt.legend()\n",
    "        plt.show()\n",
    "        return self"
   ]
  },
  {
   "cell_type": "markdown",
   "metadata": {},
   "source": [
    "## Profiling Tools\n",
    "\n",
    "Next, we'll set up to use the following tools for profiling in Python:\n",
    "\n",
    "  * [`objgraph`](https://mg.pov.lt/objgraph/)\n",
    "  * [`tracemalloc`](https://docs.python.org/3/library/tracemalloc.html)\n",
    "  * [`prun`](https://ipython.readthedocs.io/en/stable/interactive/magics.html#magic-prun)\n",
    "  * [`snakeviz`](https://jiffyclub.github.io/snakeviz/)\n",
    "  * [`pyinstrument`](https://github.com/joerick/pyinstrument/)"
   ]
  },
  {
   "cell_type": "code",
   "execution_count": 7,
   "metadata": {},
   "outputs": [],
   "source": [
    "import objgraph\n",
    "import tracemalloc\n",
    "import pyinstrument\n",
    "\n",
    "%load_ext snakeviz"
   ]
  },
  {
   "cell_type": "markdown",
   "metadata": {},
   "source": [
    "### Object Creation\n",
    "\n",
    "The first method of profiling shown here uses\n",
    "[`objgraph`](https://mg.pov.lt/objgraph/)\n",
    "to examine a before/after contrast of what objects are getting generated by the application.\n",
    "While other profiling methods can be repeated, this kind of analysis requires some special handling (isolation) and should be run first -- before other tools make the runtime environment confusing to analyze.\n",
    "The objectives here are to understand:\n",
    "\n",
    "  1. Which kinds of objects are growing (by count)\n",
    "  2. How the different objects refer to each other\n",
    "\n",
    "That can help identify if there are problems with allocating many objects, which might require the application code to be reworked.\n",
    "\n",
    "First we'll measure a baseline of the top 10 kinds of objects that have been created so far:"
   ]
  },
  {
   "cell_type": "code",
   "execution_count": 8,
   "metadata": {},
   "outputs": [
    {
     "name": "stdout",
     "output_type": "stream",
     "text": [
      "function              33692    +33692\n",
      "dict                  20141    +20141\n",
      "tuple                 16130    +16130\n",
      "list                   8134     +8134\n",
      "cell                   7443     +7443\n",
      "weakref                5817     +5817\n",
      "getset_descriptor      4486     +4486\n",
      "type                   3663     +3663\n",
      "method_descriptor      3353     +3353\n",
      "wrapper_descriptor     3261     +3261\n"
     ]
    }
   ],
   "source": [
    "objgraph.show_growth(limit=10)"
   ]
  },
  {
   "cell_type": "markdown",
   "metadata": {},
   "source": [
    "Then run the simulation serially **once**:"
   ]
  },
  {
   "cell_type": "code",
   "execution_count": 9,
   "metadata": {},
   "outputs": [
    {
     "name": "stdout",
     "output_type": "stream",
     "text": [
      "CPU times: user 13.3 s, sys: 5.57 s, total: 18.9 s\n",
      "Wall time: 18 s\n"
     ]
    },
    {
     "data": {
      "text/plain": [
       "<__main__.Sim at 0x7fec41442550>"
      ]
     },
     "execution_count": 9,
     "metadata": {},
     "output_type": "execute_result"
    }
   ],
   "source": [
    "%%time\n",
    "\n",
    "sim_s = Sim(distrib=False, num_samples=Sim.NUM_SAMPLES)\n",
    "sim_s.run();"
   ]
  },
  {
   "cell_type": "markdown",
   "metadata": {},
   "source": [
    "Now we can measure the object counts again, and examine the growth (by contrast):"
   ]
  },
  {
   "cell_type": "code",
   "execution_count": 10,
   "metadata": {},
   "outputs": [
    {
     "name": "stdout",
     "output_type": "stream",
     "text": [
      "dict                          20155       +14\n",
      "weakref                        5824        +7\n",
      "list                           8141        +7\n",
      "cell                           7449        +6\n",
      "builtin_function_or_method     3056        +4\n",
      "set                             994        +3\n",
      "method                          390        +2\n",
      "function                      33694        +2\n",
      "slice                            92        +2\n",
      "BlockPlacement                    2        +2\n"
     ]
    }
   ],
   "source": [
    "objgraph.show_growth()"
   ]
  },
  {
   "cell_type": "code",
   "execution_count": 11,
   "metadata": {},
   "outputs": [
    {
     "name": "stdout",
     "output_type": "stream",
     "text": [
      "function           33694\n",
      "dict               20157\n",
      "tuple              16142\n",
      "list               8144\n",
      "cell               7448\n",
      "weakref            5824\n",
      "getset_descriptor  4486\n",
      "type               3663\n",
      "method_descriptor  3353\n",
      "wrapper_descriptor 3261\n"
     ]
    }
   ],
   "source": [
    "objgraph.show_most_common_types() "
   ]
  },
  {
   "cell_type": "markdown",
   "metadata": {},
   "source": [
    "The top few categories are function calls, dictionaries, and tuples – which is expected, given how our π approximations create lots of NumPy arrays.\n",
    "As expected, there's nothing much there to worry about – although in applications which large memory use we might need to parallelize so that each unit of work had more available memory.\n",
    "\n",
    "Next, let's examine a graph of how object make reference to other objects.\n",
    "This can be useful for tracing potential memory leaks..."
   ]
  },
  {
   "cell_type": "code",
   "execution_count": 12,
   "metadata": {},
   "outputs": [
    {
     "data": {
      "image/svg+xml": [
       "<?xml version=\"1.0\" encoding=\"UTF-8\" standalone=\"no\"?>\n",
       "<!DOCTYPE svg PUBLIC \"-//W3C//DTD SVG 1.1//EN\"\n",
       " \"http://www.w3.org/Graphics/SVG/1.1/DTD/svg11.dtd\">\n",
       "<!-- Generated by graphviz version 2.43.0 (0)\n",
       " -->\n",
       "<!-- Title: ObjectGraph Pages: 1 -->\n",
       "<svg width=\"3436pt\" height=\"313pt\"\n",
       " viewBox=\"0.00 0.00 3435.50 313.00\" xmlns=\"http://www.w3.org/2000/svg\" xmlns:xlink=\"http://www.w3.org/1999/xlink\">\n",
       "<g id=\"graph0\" class=\"graph\" transform=\"scale(1 1) rotate(0) translate(4 309)\">\n",
       "<title>ObjectGraph</title>\n",
       "<polygon fill=\"white\" stroke=\"transparent\" points=\"-4,4 -4,-309 3431.5,-309 3431.5,4 -4,4\"/>\n",
       "<!-- o140663951711680 -->\n",
       "<g id=\"node1\" class=\"node\">\n",
       "<title>o140663951711680</title>\n",
       "<polygon fill=\"#ffffff\" stroke=\"black\" points=\"1331,-305 1221,-305 1221,-267 1331,-267 1331,-305\"/>\n",
       "<text text-anchor=\"middle\" x=\"1276\" y=\"-289.8\" font-family=\"Times,serif\" font-size=\"14.00\" fill=\"red\">method [2]</text>\n",
       "<text text-anchor=\"middle\" x=\"1276\" y=\"-274.8\" font-family=\"Times,serif\" font-size=\"14.00\" fill=\"red\">__exit__ (bound)</text>\n",
       "</g>\n",
       "<!-- o140664042422000 -->\n",
       "<g id=\"node4\" class=\"node\">\n",
       "<title>o140664042422000</title>\n",
       "<polygon fill=\"#c3c3c3\" stroke=\"black\" points=\"1262.5,-216 1017.5,-216 1017.5,-178 1262.5,-178 1262.5,-216\"/>\n",
       "<text text-anchor=\"middle\" x=\"1140\" y=\"-200.8\" font-family=\"Times,serif\" font-size=\"14.00\">function [7]</text>\n",
       "<text text-anchor=\"middle\" x=\"1140\" y=\"-185.8\" font-family=\"Times,serif\" font-size=\"14.00\">&lt;function Condition.__exit__ at 0x7feee6</text>\n",
       "</g>\n",
       "<!-- o140663951711680&#45;&gt;o140664042422000 -->\n",
       "<g id=\"edge1\" class=\"edge\">\n",
       "<title>o140663951711680&#45;&gt;o140664042422000</title>\n",
       "<path fill=\"none\" stroke=\"black\" d=\"M1247.82,-266.97C1227.22,-253.79 1199.08,-235.79 1176.71,-221.49\"/>\n",
       "<polygon fill=\"black\" stroke=\"black\" points=\"1178.45,-218.44 1168.14,-216 1174.68,-224.34 1178.45,-218.44\"/>\n",
       "<text text-anchor=\"middle\" x=\"1243\" y=\"-237.8\" font-family=\"Times,serif\" font-size=\"14.00\">__func__</text>\n",
       "</g>\n",
       "<!-- o140663493068368 -->\n",
       "<g id=\"node5\" class=\"node\">\n",
       "<title>o140663493068368</title>\n",
       "<polygon fill=\"#c3c3c3\" stroke=\"black\" points=\"1601.5,-216 1352.5,-216 1352.5,-178 1601.5,-178 1601.5,-216\"/>\n",
       "<text text-anchor=\"middle\" x=\"1477\" y=\"-200.8\" font-family=\"Times,serif\" font-size=\"14.00\">Condition [11]</text>\n",
       "<text text-anchor=\"middle\" x=\"1477\" y=\"-185.8\" font-family=\"Times,serif\" font-size=\"14.00\">&lt;Condition(&lt;unlocked _thread.lock object</text>\n",
       "</g>\n",
       "<!-- o140663951711680&#45;&gt;o140663493068368 -->\n",
       "<g id=\"edge2\" class=\"edge\">\n",
       "<title>o140663951711680&#45;&gt;o140663493068368</title>\n",
       "<path fill=\"none\" stroke=\"black\" d=\"M1317.65,-266.97C1349.18,-253.33 1392.65,-234.51 1426.22,-219.98\"/>\n",
       "<polygon fill=\"black\" stroke=\"black\" points=\"1427.62,-223.19 1435.41,-216 1424.84,-216.76 1427.62,-223.19\"/>\n",
       "<text text-anchor=\"middle\" x=\"1412.5\" y=\"-237.8\" font-family=\"Times,serif\" font-size=\"14.00\">__self__</text>\n",
       "</g>\n",
       "<!-- o140652684350560 -->\n",
       "<g id=\"node2\" class=\"node\">\n",
       "<title>o140652684350560</title>\n",
       "<polygon fill=\"#ffffff\" stroke=\"black\" points=\"2420.5,-305 2357.5,-305 2357.5,-267 2420.5,-267 2420.5,-305\"/>\n",
       "<text text-anchor=\"middle\" x=\"2389\" y=\"-289.8\" font-family=\"Times,serif\" font-size=\"14.00\" fill=\"red\">tuple [2]</text>\n",
       "<text text-anchor=\"middle\" x=\"2389\" y=\"-274.8\" font-family=\"Times,serif\" font-size=\"14.00\" fill=\"red\">2 items</text>\n",
       "</g>\n",
       "<!-- o140663493685488 -->\n",
       "<g id=\"node6\" class=\"node\">\n",
       "<title>o140663493685488</title>\n",
       "<polygon fill=\"#c3c3c3\" stroke=\"black\" points=\"2373.5,-216 2312.5,-216 2312.5,-178 2373.5,-178 2373.5,-216\"/>\n",
       "<text text-anchor=\"middle\" x=\"2343\" y=\"-200.8\" font-family=\"Times,serif\" font-size=\"14.00\">float [2]</text>\n",
       "<text text-anchor=\"middle\" x=\"2343\" y=\"-185.8\" font-family=\"Times,serif\" font-size=\"14.00\">0.01</text>\n",
       "</g>\n",
       "<!-- o140652684350560&#45;&gt;o140663493685488 -->\n",
       "<g id=\"edge3\" class=\"edge\">\n",
       "<title>o140652684350560&#45;&gt;o140663493685488</title>\n",
       "<path fill=\"none\" stroke=\"black\" d=\"M2379.47,-266.97C2373.05,-254.84 2364.48,-238.63 2357.26,-224.97\"/>\n",
       "<polygon fill=\"black\" stroke=\"black\" points=\"2360.29,-223.21 2352.52,-216 2354.1,-226.48 2360.29,-223.21\"/>\n",
       "</g>\n",
       "<!-- o93830273303104 -->\n",
       "<g id=\"node7\" class=\"node\">\n",
       "<title>o93830273303104</title>\n",
       "<polygon fill=\"#c3c3c3\" stroke=\"black\" points=\"2478.5,-216 2391.5,-216 2391.5,-178 2478.5,-178 2478.5,-216\"/>\n",
       "<text text-anchor=\"middle\" x=\"2435\" y=\"-200.8\" font-family=\"Times,serif\" font-size=\"14.00\">bool [13023]</text>\n",
       "<text text-anchor=\"middle\" x=\"2435\" y=\"-185.8\" font-family=\"Times,serif\" font-size=\"14.00\">True</text>\n",
       "</g>\n",
       "<!-- o140652684350560&#45;&gt;o93830273303104 -->\n",
       "<g id=\"edge4\" class=\"edge\">\n",
       "<title>o140652684350560&#45;&gt;o93830273303104</title>\n",
       "<path fill=\"none\" stroke=\"black\" d=\"M2398.53,-266.97C2404.95,-254.84 2413.52,-238.63 2420.74,-224.97\"/>\n",
       "<polygon fill=\"black\" stroke=\"black\" points=\"2423.9,-226.48 2425.48,-216 2417.71,-223.21 2423.9,-226.48\"/>\n",
       "</g>\n",
       "<!-- o140652769612496 -->\n",
       "<g id=\"node3\" class=\"node\">\n",
       "<title>o140652769612496</title>\n",
       "<polygon fill=\"#ffffff\" stroke=\"black\" points=\"3392.5,-305 3203.5,-305 3203.5,-267 3392.5,-267 3392.5,-305\"/>\n",
       "<text text-anchor=\"middle\" x=\"3298\" y=\"-289.8\" font-family=\"Times,serif\" font-size=\"14.00\" fill=\"red\">builtin_function_or_method [2]</text>\n",
       "<text text-anchor=\"middle\" x=\"3298\" y=\"-274.8\" font-family=\"Times,serif\" font-size=\"14.00\" fill=\"red\">run</text>\n",
       "</g>\n",
       "<!-- o140664002731536 -->\n",
       "<g id=\"node8\" class=\"node\">\n",
       "<title>o140664002731536</title>\n",
       "<polygon fill=\"#c3c3c3\" stroke=\"black\" points=\"3407,-216 3189,-216 3189,-178 3407,-178 3407,-216\"/>\n",
       "<text text-anchor=\"middle\" x=\"3298\" y=\"-200.8\" font-family=\"Times,serif\" font-size=\"14.00\">Context [2]</text>\n",
       "<text text-anchor=\"middle\" x=\"3298\" y=\"-185.8\" font-family=\"Times,serif\" font-size=\"14.00\">&lt;Context object at 0x7feee3ea5e10&gt;</text>\n",
       "</g>\n",
       "<!-- o140652769612496&#45;&gt;o140664002731536 -->\n",
       "<g id=\"edge5\" class=\"edge\">\n",
       "<title>o140652769612496&#45;&gt;o140664002731536</title>\n",
       "<path fill=\"none\" stroke=\"black\" d=\"M3298,-266.97C3298,-255.19 3298,-239.56 3298,-226.16\"/>\n",
       "<polygon fill=\"black\" stroke=\"black\" points=\"3301.5,-226 3298,-216 3294.5,-226 3301.5,-226\"/>\n",
       "</g>\n",
       "<!-- o140664042802896 -->\n",
       "<g id=\"node9\" class=\"node\">\n",
       "<title>o140664042802896</title>\n",
       "<polygon fill=\"#878787\" stroke=\"black\" points=\"628,-127 380,-127 380,-89 628,-89 628,-127\"/>\n",
       "<text text-anchor=\"middle\" x=\"504\" y=\"-111.8\" font-family=\"Times,serif\" font-size=\"14.00\">code [1]</text>\n",
       "<text text-anchor=\"middle\" x=\"504\" y=\"-96.8\" font-family=\"Times,serif\" font-size=\"14.00\">&lt;code object __exit__ at 0x7feee64dced0,</text>\n",
       "</g>\n",
       "<!-- o140664042422000&#45;&gt;o140664042802896 -->\n",
       "<g id=\"edge6\" class=\"edge\">\n",
       "<title>o140664042422000&#45;&gt;o140664042802896</title>\n",
       "<path fill=\"none\" stroke=\"black\" d=\"M1017.42,-194.01C881.98,-190.74 672.96,-182.16 597,-160 576.57,-154.04 555.62,-143.06 538.8,-132.82\"/>\n",
       "<polygon fill=\"black\" stroke=\"black\" points=\"540.24,-129.58 529.9,-127.23 536.52,-135.51 540.24,-129.58\"/>\n",
       "<text text-anchor=\"middle\" x=\"623.5\" y=\"-148.8\" font-family=\"Times,serif\" font-size=\"14.00\">__code__</text>\n",
       "</g>\n",
       "<!-- o140664042785200 -->\n",
       "<g id=\"node10\" class=\"node\">\n",
       "<title>o140664042785200</title>\n",
       "<polygon fill=\"#878787\" stroke=\"black\" points=\"1062,-127 992,-127 992,-89 1062,-89 1062,-127\"/>\n",
       "<text text-anchor=\"middle\" x=\"1027\" y=\"-111.8\" font-family=\"Times,serif\" font-size=\"14.00\">dict [110]</text>\n",
       "<text text-anchor=\"middle\" x=\"1027\" y=\"-96.8\" font-family=\"Times,serif\" font-size=\"14.00\">62 items</text>\n",
       "</g>\n",
       "<!-- o140664042422000&#45;&gt;o140664042785200 -->\n",
       "<g id=\"edge7\" class=\"edge\">\n",
       "<title>o140664042422000&#45;&gt;o140664042785200</title>\n",
       "<path fill=\"none\" stroke=\"black\" d=\"M1097.33,-177.96C1087.54,-172.87 1077.52,-166.83 1069,-160 1060.18,-152.93 1051.93,-143.75 1045.12,-135.13\"/>\n",
       "<polygon fill=\"black\" stroke=\"black\" points=\"1047.88,-132.98 1039.05,-127.13 1042.3,-137.21 1047.88,-132.98\"/>\n",
       "<text text-anchor=\"middle\" x=\"1102.5\" y=\"-148.8\" font-family=\"Times,serif\" font-size=\"14.00\">__globals__</text>\n",
       "</g>\n",
       "<!-- o140664043276144 -->\n",
       "<g id=\"node11\" class=\"node\">\n",
       "<title>o140664043276144</title>\n",
       "<polygon fill=\"#878787\" stroke=\"black\" points=\"72,-38 0,-38 0,0 72,0 72,-38\"/>\n",
       "<text text-anchor=\"middle\" x=\"36\" y=\"-22.8\" font-family=\"Times,serif\" font-size=\"14.00\">str [206]</text>\n",
       "<text text-anchor=\"middle\" x=\"36\" y=\"-7.8\" font-family=\"Times,serif\" font-size=\"14.00\">&#39;threading&#39;</text>\n",
       "</g>\n",
       "<!-- o140664042422000&#45;&gt;o140664043276144 -->\n",
       "<g id=\"edge8\" class=\"edge\">\n",
       "<title>o140664042422000&#45;&gt;o140664043276144</title>\n",
       "<path fill=\"none\" stroke=\"black\" d=\"M1068.44,-177.99C971.33,-154.18 792.14,-112.53 637,-89 394.89,-52.28 324.13,-94.87 81.86,-37.8\"/>\n",
       "<polygon fill=\"black\" stroke=\"black\" points=\"82.59,-34.38 72.06,-35.46 80.97,-41.19 82.59,-34.38\"/>\n",
       "<text text-anchor=\"middle\" x=\"872.5\" y=\"-104.3\" font-family=\"Times,serif\" font-size=\"14.00\">__module__</text>\n",
       "</g>\n",
       "<!-- o93830273253200 -->\n",
       "<g id=\"node12\" class=\"node\">\n",
       "<title>o93830273253200</title>\n",
       "<polygon fill=\"#878787\" stroke=\"black\" points=\"1199.5,-127 1080.5,-127 1080.5,-89 1199.5,-89 1199.5,-127\"/>\n",
       "<text text-anchor=\"middle\" x=\"1140\" y=\"-111.8\" font-family=\"Times,serif\" font-size=\"14.00\">NoneType [72264]</text>\n",
       "<text text-anchor=\"middle\" x=\"1140\" y=\"-96.8\" font-family=\"Times,serif\" font-size=\"14.00\">None</text>\n",
       "</g>\n",
       "<!-- o140664042422000&#45;&gt;o93830273253200 -->\n",
       "<g id=\"edge9\" class=\"edge\">\n",
       "<title>o140664042422000&#45;&gt;o93830273253200</title>\n",
       "<path fill=\"none\" stroke=\"black\" d=\"M1140,-177.97C1140,-166.19 1140,-150.56 1140,-137.16\"/>\n",
       "<polygon fill=\"black\" stroke=\"black\" points=\"1143.5,-137 1140,-127 1136.5,-137 1143.5,-137\"/>\n",
       "<text text-anchor=\"middle\" x=\"1173.5\" y=\"-148.8\" font-family=\"Times,serif\" font-size=\"14.00\">__closure__</text>\n",
       "</g>\n",
       "<!-- o140664045732016 -->\n",
       "<g id=\"node13\" class=\"node\">\n",
       "<title>o140664045732016</title>\n",
       "<polygon fill=\"#878787\" stroke=\"black\" points=\"1286,-127 1218,-127 1218,-89 1286,-89 1286,-127\"/>\n",
       "<text text-anchor=\"middle\" x=\"1252\" y=\"-111.8\" font-family=\"Times,serif\" font-size=\"14.00\">str [365]</text>\n",
       "<text text-anchor=\"middle\" x=\"1252\" y=\"-96.8\" font-family=\"Times,serif\" font-size=\"14.00\">&#39;__exit__&#39;</text>\n",
       "</g>\n",
       "<!-- o140664042422000&#45;&gt;o140664045732016 -->\n",
       "<g id=\"edge10\" class=\"edge\">\n",
       "<title>o140664042422000&#45;&gt;o140664045732016</title>\n",
       "<path fill=\"none\" stroke=\"black\" d=\"M1183.1,-177.84C1192.77,-172.79 1202.63,-166.79 1211,-160 1219.6,-153.02 1227.6,-143.96 1234.2,-135.42\"/>\n",
       "<polygon fill=\"black\" stroke=\"black\" points=\"1237.19,-137.26 1240.32,-127.14 1231.56,-133.11 1237.19,-137.26\"/>\n",
       "<text text-anchor=\"middle\" x=\"1255\" y=\"-148.8\" font-family=\"Times,serif\" font-size=\"14.00\">__name__</text>\n",
       "</g>\n",
       "<!-- o140664042808704 -->\n",
       "<g id=\"node14\" class=\"node\">\n",
       "<title>o140664042808704</title>\n",
       "<polygon fill=\"#878787\" stroke=\"black\" points=\"1430,-127 1304,-127 1304,-89 1430,-89 1430,-127\"/>\n",
       "<text text-anchor=\"middle\" x=\"1367\" y=\"-111.8\" font-family=\"Times,serif\" font-size=\"14.00\">str [1]</text>\n",
       "<text text-anchor=\"middle\" x=\"1367\" y=\"-96.8\" font-family=\"Times,serif\" font-size=\"14.00\">&#39;Condition.__exit__&#39;</text>\n",
       "</g>\n",
       "<!-- o140664042422000&#45;&gt;o140664042808704 -->\n",
       "<g id=\"edge11\" class=\"edge\">\n",
       "<title>o140664042422000&#45;&gt;o140664042808704</title>\n",
       "<path fill=\"none\" stroke=\"black\" d=\"M1234.71,-177.97C1252.76,-173.14 1271.24,-167.2 1288,-160 1304.52,-152.9 1321.45,-142.47 1335.37,-132.89\"/>\n",
       "<polygon fill=\"black\" stroke=\"black\" points=\"1337.47,-135.69 1343.63,-127.07 1333.44,-129.97 1337.47,-135.69\"/>\n",
       "<text text-anchor=\"middle\" x=\"1356.5\" y=\"-148.8\" font-family=\"Times,serif\" font-size=\"14.00\">__qualname__</text>\n",
       "</g>\n",
       "<!-- o140663493076624 -->\n",
       "<g id=\"node15\" class=\"node\">\n",
       "<title>o140663493076624</title>\n",
       "<polygon fill=\"#878787\" stroke=\"black\" points=\"1505.5,-127 1448.5,-127 1448.5,-89 1505.5,-89 1505.5,-127\"/>\n",
       "<text text-anchor=\"middle\" x=\"1477\" y=\"-111.8\" font-family=\"Times,serif\" font-size=\"14.00\">dict [1]</text>\n",
       "<text text-anchor=\"middle\" x=\"1477\" y=\"-96.8\" font-family=\"Times,serif\" font-size=\"14.00\">4 items</text>\n",
       "</g>\n",
       "<!-- o140663493068368&#45;&gt;o140663493076624 -->\n",
       "<g id=\"edge12\" class=\"edge\">\n",
       "<title>o140663493068368&#45;&gt;o140663493076624</title>\n",
       "<path fill=\"none\" stroke=\"black\" d=\"M1477,-177.97C1477,-166.19 1477,-150.56 1477,-137.16\"/>\n",
       "<polygon fill=\"black\" stroke=\"black\" points=\"1480.5,-137 1477,-127 1473.5,-137 1480.5,-137\"/>\n",
       "<text text-anchor=\"middle\" x=\"1501\" y=\"-148.8\" font-family=\"Times,serif\" font-size=\"14.00\">__dict__</text>\n",
       "</g>\n",
       "<!-- o93830299207936 -->\n",
       "<g id=\"node16\" class=\"node\">\n",
       "<title>o93830299207936</title>\n",
       "<polygon fill=\"#878787\" stroke=\"black\" points=\"2974.5,-127 2903.5,-127 2903.5,-89 2974.5,-89 2974.5,-127\"/>\n",
       "<text text-anchor=\"middle\" x=\"2939\" y=\"-111.8\" font-family=\"Times,serif\" font-size=\"14.00\">type [31]</text>\n",
       "<text text-anchor=\"middle\" x=\"2939\" y=\"-96.8\" font-family=\"Times,serif\" font-size=\"14.00\">Condition</text>\n",
       "</g>\n",
       "<!-- o140663493068368&#45;&gt;o93830299207936 -->\n",
       "<g id=\"edge13\" class=\"edge\">\n",
       "<title>o140663493068368&#45;&gt;o93830299207936</title>\n",
       "<path fill=\"none\" stroke=\"black\" d=\"M1601.65,-188.58C1909.64,-170.25 2695.91,-123.47 2893.44,-111.71\"/>\n",
       "<polygon fill=\"black\" stroke=\"black\" points=\"2893.7,-115.2 2903.47,-111.11 2893.28,-108.21 2893.7,-115.2\"/>\n",
       "</g>\n",
       "<!-- o140664002728416 -->\n",
       "<g id=\"node17\" class=\"node\">\n",
       "<title>o140664002728416</title>\n",
       "<polygon fill=\"#878787\" stroke=\"black\" points=\"3399.5,-127 3196.5,-127 3196.5,-89 3399.5,-89 3399.5,-127\"/>\n",
       "<text text-anchor=\"middle\" x=\"3298\" y=\"-111.8\" font-family=\"Times,serif\" font-size=\"14.00\">hamt [17]</text>\n",
       "<text text-anchor=\"middle\" x=\"3298\" y=\"-96.8\" font-family=\"Times,serif\" font-size=\"14.00\">&lt;hamt object at 0x7feee3ea51e0&gt;</text>\n",
       "</g>\n",
       "<!-- o140664002731536&#45;&gt;o140664002728416 -->\n",
       "<g id=\"edge14\" class=\"edge\">\n",
       "<title>o140664002731536&#45;&gt;o140664002728416</title>\n",
       "<path fill=\"none\" stroke=\"black\" d=\"M3298,-177.97C3298,-166.19 3298,-150.56 3298,-137.16\"/>\n",
       "<polygon fill=\"black\" stroke=\"black\" points=\"3301.5,-137 3298,-127 3294.5,-137 3301.5,-137\"/>\n",
       "</g>\n",
       "<!-- o140664042785200&#45;&gt;o140664043276144 -->\n",
       "<g id=\"edge15\" class=\"edge\">\n",
       "<title>o140664042785200&#45;&gt;o140664043276144</title>\n",
       "<path fill=\"none\" stroke=\"black\" d=\"M991.95,-105.66C917.78,-102.43 747.36,-92.81 694,-71 684.04,-66.93 685.11,-59.68 675,-56 615.32,-34.26 180.65,-50.15 82.09,-37.33\"/>\n",
       "<polygon fill=\"black\" stroke=\"black\" points=\"82.45,-33.84 72.01,-35.66 81.31,-40.74 82.45,-33.84\"/>\n",
       "<text text-anchor=\"middle\" x=\"723\" y=\"-59.8\" font-family=\"Times,serif\" font-size=\"14.00\">__name__</text>\n",
       "</g>\n",
       "<!-- o140664042832032 -->\n",
       "<g id=\"node18\" class=\"node\">\n",
       "<title>o140664042832032</title>\n",
       "<polygon fill=\"#4c4c4c\" stroke=\"black\" points=\"338,-38 90,-38 90,0 338,0 338,-38\"/>\n",
       "<text text-anchor=\"middle\" x=\"214\" y=\"-22.8\" font-family=\"Times,serif\" font-size=\"14.00\" fill=\"white\">str [1]</text>\n",
       "<text text-anchor=\"middle\" x=\"214\" y=\"-7.8\" font-family=\"Times,serif\" font-size=\"14.00\" fill=\"white\">&quot;Thread module emulating a subset of Jav</text>\n",
       "</g>\n",
       "<!-- o140664042785200&#45;&gt;o140664042832032 -->\n",
       "<g id=\"edge16\" class=\"edge\">\n",
       "<title>o140664042785200&#45;&gt;o140664042832032</title>\n",
       "<path fill=\"none\" stroke=\"black\" d=\"M991.63,-107.65C941.41,-107.33 847.5,-102.09 775,-71 765.11,-66.76 766.08,-59.75 756,-56 673.48,-25.3 452.49,-44.76 348.22,-37.94\"/>\n",
       "<polygon fill=\"black\" stroke=\"black\" points=\"348.44,-34.45 338.21,-37.17 347.91,-41.43 348.44,-34.45\"/>\n",
       "<text text-anchor=\"middle\" x=\"798.5\" y=\"-59.8\" font-family=\"Times,serif\" font-size=\"14.00\">__doc__</text>\n",
       "</g>\n",
       "<!-- o140664045802416 -->\n",
       "<g id=\"node19\" class=\"node\">\n",
       "<title>o140664045802416</title>\n",
       "<polygon fill=\"#4c4c4c\" stroke=\"black\" points=\"426,-38 356,-38 356,0 426,0 426,-38\"/>\n",
       "<text text-anchor=\"middle\" x=\"391\" y=\"-22.8\" font-family=\"Times,serif\" font-size=\"14.00\" fill=\"white\">str [4406]</text>\n",
       "<text text-anchor=\"middle\" x=\"391\" y=\"-7.8\" font-family=\"Times,serif\" font-size=\"14.00\" fill=\"white\">&#39;&#39;</text>\n",
       "</g>\n",
       "<!-- o140664042785200&#45;&gt;o140664045802416 -->\n",
       "<g id=\"edge17\" class=\"edge\">\n",
       "<title>o140664042785200&#45;&gt;o140664045802416</title>\n",
       "<path fill=\"none\" stroke=\"black\" d=\"M991.97,-104.96C954.18,-101.66 892.98,-93.11 845,-71 835.23,-66.5 836.08,-59.76 826,-56 747.29,-26.63 535.12,-54.68 436.26,-37.6\"/>\n",
       "<polygon fill=\"black\" stroke=\"black\" points=\"436.69,-34.12 426.21,-35.61 435.34,-40.99 436.69,-34.12\"/>\n",
       "<text text-anchor=\"middle\" x=\"881\" y=\"-59.8\" font-family=\"Times,serif\" font-size=\"14.00\">__package__</text>\n",
       "</g>\n",
       "<!-- o140664042804624 -->\n",
       "<g id=\"node20\" class=\"node\">\n",
       "<title>o140664042804624</title>\n",
       "<polygon fill=\"#4c4c4c\" stroke=\"black\" points=\"695.5,-38 444.5,-38 444.5,0 695.5,0 695.5,-38\"/>\n",
       "<text text-anchor=\"middle\" x=\"570\" y=\"-22.8\" font-family=\"Times,serif\" font-size=\"14.00\" fill=\"white\">SourceFileLoader [2]</text>\n",
       "<text text-anchor=\"middle\" x=\"570\" y=\"-7.8\" font-family=\"Times,serif\" font-size=\"14.00\" fill=\"white\">&lt;_frozen_importlib_external.SourceFileLo</text>\n",
       "</g>\n",
       "<!-- o140664042785200&#45;&gt;o140664042804624 -->\n",
       "<g id=\"edge18\" class=\"edge\">\n",
       "<title>o140664042785200&#45;&gt;o140664042804624</title>\n",
       "<path fill=\"none\" stroke=\"black\" d=\"M991.65,-94.92C975.42,-88.74 956.22,-80.51 940,-71 930.72,-65.56 931.01,-59.95 921,-56 878.53,-39.26 765.89,-42.73 705.75,-38\"/>\n",
       "<polygon fill=\"black\" stroke=\"black\" points=\"705.79,-34.49 695.51,-37.06 705.15,-41.46 705.79,-34.49\"/>\n",
       "<text text-anchor=\"middle\" x=\"970.5\" y=\"-59.8\" font-family=\"Times,serif\" font-size=\"14.00\">__loader__</text>\n",
       "</g>\n",
       "<!-- o140664042805200 -->\n",
       "<g id=\"node21\" class=\"node\">\n",
       "<title>o140664042805200</title>\n",
       "<polygon fill=\"#4c4c4c\" stroke=\"black\" points=\"970.5,-38 713.5,-38 713.5,0 970.5,0 970.5,-38\"/>\n",
       "<text text-anchor=\"middle\" x=\"842\" y=\"-22.8\" font-family=\"Times,serif\" font-size=\"14.00\" fill=\"white\">ModuleSpec [1]</text>\n",
       "<text text-anchor=\"middle\" x=\"842\" y=\"-7.8\" font-family=\"Times,serif\" font-size=\"14.00\" fill=\"white\">ModuleSpec(name=&#39;threading&#39;, loader=&lt;_fr</text>\n",
       "</g>\n",
       "<!-- o140664042785200&#45;&gt;o140664042805200 -->\n",
       "<g id=\"edge19\" class=\"edge\">\n",
       "<title>o140664042785200&#45;&gt;o140664042805200</title>\n",
       "<path fill=\"none\" stroke=\"black\" d=\"M1023.56,-88.9C1020.52,-77.82 1014.96,-64.23 1005,-56 997.95,-50.18 984.47,-45.03 968.16,-40.59\"/>\n",
       "<polygon fill=\"black\" stroke=\"black\" points=\"968.81,-37.15 958.25,-38.06 967.07,-43.93 968.81,-37.15\"/>\n",
       "<text text-anchor=\"middle\" x=\"1043\" y=\"-59.8\" font-family=\"Times,serif\" font-size=\"14.00\">__spec__</text>\n",
       "</g>\n",
       "<!-- o140664042736112 -->\n",
       "<g id=\"node22\" class=\"node\">\n",
       "<title>o140664042736112</title>\n",
       "<polygon fill=\"#4c4c4c\" stroke=\"black\" points=\"1215.5,-38 988.5,-38 988.5,0 1215.5,0 1215.5,-38\"/>\n",
       "<text text-anchor=\"middle\" x=\"1102\" y=\"-22.8\" font-family=\"Times,serif\" font-size=\"14.00\" fill=\"white\">str [90]</text>\n",
       "<text text-anchor=\"middle\" x=\"1102\" y=\"-7.8\" font-family=\"Times,serif\" font-size=\"14.00\" fill=\"white\">&#39;/opt/conda/lib/python3.7/threading.py&#39;</text>\n",
       "</g>\n",
       "<!-- o140664042785200&#45;&gt;o140664042736112 -->\n",
       "<g id=\"edge20\" class=\"edge\">\n",
       "<title>o140664042785200&#45;&gt;o140664042736112</title>\n",
       "<path fill=\"none\" stroke=\"black\" d=\"M1059.94,-88.88C1067.21,-83.79 1074.4,-77.77 1080,-71 1085.59,-64.24 1089.99,-55.84 1093.33,-47.82\"/>\n",
       "<polygon fill=\"black\" stroke=\"black\" points=\"1096.64,-48.96 1096.9,-38.36 1090.09,-46.49 1096.64,-48.96\"/>\n",
       "<text text-anchor=\"middle\" x=\"1113\" y=\"-59.8\" font-family=\"Times,serif\" font-size=\"14.00\">__file__</text>\n",
       "</g>\n",
       "<!-- o140664042708640 -->\n",
       "<g id=\"node23\" class=\"node\">\n",
       "<title>o140664042708640</title>\n",
       "<polygon fill=\"#4c4c4c\" stroke=\"black\" points=\"1476,-38 1234,-38 1234,0 1476,0 1476,-38\"/>\n",
       "<text text-anchor=\"middle\" x=\"1355\" y=\"-22.8\" font-family=\"Times,serif\" font-size=\"14.00\" fill=\"white\">str [2]</text>\n",
       "<text text-anchor=\"middle\" x=\"1355\" y=\"-7.8\" font-family=\"Times,serif\" font-size=\"14.00\" fill=\"white\">&#39;/opt/conda/lib/python3.7/__pycache__/th</text>\n",
       "</g>\n",
       "<!-- o140664042785200&#45;&gt;o140664042708640 -->\n",
       "<g id=\"edge21\" class=\"edge\">\n",
       "<title>o140664042785200&#45;&gt;o140664042708640</title>\n",
       "<path fill=\"none\" stroke=\"black\" d=\"M1062.37,-92C1065.27,-90.93 1068.17,-89.92 1071,-89 1089.88,-82.88 1191.78,-58.46 1268.16,-40.4\"/>\n",
       "<polygon fill=\"black\" stroke=\"black\" points=\"1269.36,-43.72 1278.29,-38.01 1267.75,-36.9 1269.36,-43.72\"/>\n",
       "<text text-anchor=\"middle\" x=\"1233.5\" y=\"-59.8\" font-family=\"Times,serif\" font-size=\"14.00\">__cached__</text>\n",
       "</g>\n",
       "<!-- o140664045836560 -->\n",
       "<g id=\"node24\" class=\"node\">\n",
       "<title>o140664045836560</title>\n",
       "<polygon fill=\"#4c4c4c\" stroke=\"black\" points=\"1571.5,-38 1494.5,-38 1494.5,0 1571.5,0 1571.5,-38\"/>\n",
       "<text text-anchor=\"middle\" x=\"1533\" y=\"-22.8\" font-family=\"Times,serif\" font-size=\"14.00\" fill=\"white\">dict [2129]</text>\n",
       "<text text-anchor=\"middle\" x=\"1533\" y=\"-7.8\" font-family=\"Times,serif\" font-size=\"14.00\" fill=\"white\">153 items</text>\n",
       "</g>\n",
       "<!-- o140664042785200&#45;&gt;o140664045836560 -->\n",
       "<g id=\"edge22\" class=\"edge\">\n",
       "<title>o140664042785200&#45;&gt;o140664045836560</title>\n",
       "<path fill=\"none\" stroke=\"black\" d=\"M1062.24,-91.53C1065.17,-90.57 1068.11,-89.7 1071,-89 1157.28,-67.95 1181.85,-81.74 1270,-71 1362.87,-59.68 1389.75,-62.25 1484.73,-37.77\"/>\n",
       "<polygon fill=\"black\" stroke=\"black\" points=\"1485.66,-41.15 1494.45,-35.24 1483.89,-34.38 1485.66,-41.15\"/>\n",
       "<text text-anchor=\"middle\" x=\"1435\" y=\"-59.8\" font-family=\"Times,serif\" font-size=\"14.00\">__builtins__</text>\n",
       "</g>\n",
       "<!-- o140664045018768 -->\n",
       "<g id=\"node25\" class=\"node\">\n",
       "<title>o140664045018768</title>\n",
       "<polygon fill=\"#0f4c00\" stroke=\"black\" points=\"1680.5,-38 1589.5,-38 1589.5,0 1680.5,0 1680.5,-38\"/>\n",
       "<text text-anchor=\"middle\" x=\"1635\" y=\"-22.8\" font-family=\"Times,serif\" font-size=\"14.00\" fill=\"white\">module [260]</text>\n",
       "<text text-anchor=\"middle\" x=\"1635\" y=\"-7.8\" font-family=\"Times,serif\" font-size=\"14.00\" fill=\"white\">os</text>\n",
       "</g>\n",
       "<!-- o140664042785200&#45;&gt;o140664045018768 -->\n",
       "<g id=\"edge23\" class=\"edge\">\n",
       "<title>o140664042785200&#45;&gt;o140664045018768</title>\n",
       "<path fill=\"none\" stroke=\"black\" d=\"M1062.21,-91.38C1065.14,-90.45 1068.1,-89.64 1071,-89 1245.67,-50.58 1296.79,-101.6 1473,-71 1509.31,-64.69 1548.77,-52.39 1579.66,-41.45\"/>\n",
       "<polygon fill=\"black\" stroke=\"black\" points=\"1581.15,-44.63 1589.37,-37.95 1578.78,-38.05 1581.15,-44.63\"/>\n",
       "<text text-anchor=\"middle\" x=\"1541.5\" y=\"-59.8\" font-family=\"Times,serif\" font-size=\"14.00\">_os</text>\n",
       "</g>\n",
       "<!-- o140664045784432 -->\n",
       "<g id=\"node26\" class=\"node\">\n",
       "<title>o140664045784432</title>\n",
       "<polygon fill=\"#0f4c00\" stroke=\"black\" points=\"1789.5,-38 1698.5,-38 1698.5,0 1789.5,0 1789.5,-38\"/>\n",
       "<text text-anchor=\"middle\" x=\"1744\" y=\"-22.8\" font-family=\"Times,serif\" font-size=\"14.00\" fill=\"white\">module [383]</text>\n",
       "<text text-anchor=\"middle\" x=\"1744\" y=\"-7.8\" font-family=\"Times,serif\" font-size=\"14.00\" fill=\"white\">sys</text>\n",
       "</g>\n",
       "<!-- o140664042785200&#45;&gt;o140664045784432 -->\n",
       "<g id=\"edge24\" class=\"edge\">\n",
       "<title>o140664042785200&#45;&gt;o140664045784432</title>\n",
       "<path fill=\"none\" stroke=\"black\" d=\"M1062.2,-91.36C1065.14,-90.43 1068.1,-89.63 1071,-89 1176.2,-66.27 1448.41,-85.95 1555,-71 1600.88,-64.57 1651.49,-50.52 1688.78,-38.8\"/>\n",
       "<polygon fill=\"black\" stroke=\"black\" points=\"1689.98,-42.09 1698.45,-35.72 1687.86,-35.42 1689.98,-42.09\"/>\n",
       "<text text-anchor=\"middle\" x=\"1636.5\" y=\"-59.8\" font-family=\"Times,serif\" font-size=\"14.00\">_sys</text>\n",
       "</g>\n",
       "<!-- too_many_o140664042785200 -->\n",
       "<g id=\"node27\" class=\"node\">\n",
       "<title>too_many_o140664042785200</title>\n",
       "<polygon fill=\"#4c0000\" stroke=\"red\" points=\"1872.5,-28 1807.5,-28 1807.5,-10 1872.5,-10 1872.5,-28\"/>\n",
       "<text text-anchor=\"middle\" x=\"1840\" y=\"-17.7\" font-family=\"Times,serif\" font-size=\"6.00\" fill=\"white\">52 more references</text>\n",
       "</g>\n",
       "<!-- o140664042785200&#45;&gt;too_many_o140664042785200 -->\n",
       "<g id=\"edge25\" class=\"edge\">\n",
       "<title>o140664042785200&#45;&gt;too_many_o140664042785200</title>\n",
       "<path fill=\"none\" stroke=\"red\" stroke-dasharray=\"1,5\" d=\"M1062.2,-91.34C1065.13,-90.42 1068.09,-89.62 1071,-89 1197.56,-62.07 1524.65,-87.43 1653,-71 1718.56,-62.61 1735.15,-58.43 1798,-38 1803.15,-36.33 1808.54,-34.27 1813.67,-32.14\"/>\n",
       "<polygon fill=\"red\" stroke=\"red\" points=\"1815.31,-35.25 1823.1,-28.07 1812.54,-28.82 1815.31,-35.25\"/>\n",
       "</g>\n",
       "<!-- o140663493237808 -->\n",
       "<g id=\"node28\" class=\"node\">\n",
       "<title>o140663493237808</title>\n",
       "<polygon fill=\"#4c4c4c\" stroke=\"black\" points=\"2133,-38 1891,-38 1891,0 2133,0 2133,-38\"/>\n",
       "<text text-anchor=\"middle\" x=\"2012\" y=\"-22.8\" font-family=\"Times,serif\" font-size=\"14.00\" fill=\"white\">lock [3]</text>\n",
       "<text text-anchor=\"middle\" x=\"2012\" y=\"-7.8\" font-family=\"Times,serif\" font-size=\"14.00\" fill=\"white\">&lt;unlocked _thread.lock object at 0x7feec</text>\n",
       "</g>\n",
       "<!-- o140663493076624&#45;&gt;o140663493237808 -->\n",
       "<g id=\"edge26\" class=\"edge\">\n",
       "<title>o140663493076624&#45;&gt;o140663493237808</title>\n",
       "<path fill=\"none\" stroke=\"black\" d=\"M1505.69,-106.38C1569.13,-104.54 1725.86,-97.47 1854,-71 1888.36,-63.9 1925.78,-52.02 1955.56,-41.51\"/>\n",
       "<polygon fill=\"black\" stroke=\"black\" points=\"1957.12,-44.67 1965.36,-38.01 1954.76,-38.08 1957.12,-44.67\"/>\n",
       "<text text-anchor=\"middle\" x=\"1927.5\" y=\"-59.8\" font-family=\"Times,serif\" font-size=\"14.00\">_lock</text>\n",
       "</g>\n",
       "<!-- o140663496803424 -->\n",
       "<g id=\"node29\" class=\"node\">\n",
       "<title>o140663496803424</title>\n",
       "<polygon fill=\"#4c4c4c\" stroke=\"black\" points=\"2340.5,-38 2151.5,-38 2151.5,0 2340.5,0 2340.5,-38\"/>\n",
       "<text text-anchor=\"middle\" x=\"2246\" y=\"-22.8\" font-family=\"Times,serif\" font-size=\"14.00\" fill=\"white\">builtin_function_or_method [1]</text>\n",
       "<text text-anchor=\"middle\" x=\"2246\" y=\"-7.8\" font-family=\"Times,serif\" font-size=\"14.00\" fill=\"white\">acquire</text>\n",
       "</g>\n",
       "<!-- o140663493076624&#45;&gt;o140663496803424 -->\n",
       "<g id=\"edge27\" class=\"edge\">\n",
       "<title>o140663493076624&#45;&gt;o140663496803424</title>\n",
       "<path fill=\"none\" stroke=\"black\" d=\"M1505.7,-105.71C1579.27,-102.22 1780.48,-91.42 1947,-71 2031.09,-60.69 2053.75,-53.37 2141.23,-38.14\"/>\n",
       "<polygon fill=\"black\" stroke=\"black\" points=\"2142.08,-41.55 2151.34,-36.4 2140.89,-34.65 2142.08,-41.55\"/>\n",
       "<text text-anchor=\"middle\" x=\"2065\" y=\"-59.8\" font-family=\"Times,serif\" font-size=\"14.00\">acquire</text>\n",
       "</g>\n",
       "<!-- o140663496700544 -->\n",
       "<g id=\"node30\" class=\"node\">\n",
       "<title>o140663496700544</title>\n",
       "<polygon fill=\"#4c4c4c\" stroke=\"black\" points=\"2547.5,-38 2358.5,-38 2358.5,0 2547.5,0 2547.5,-38\"/>\n",
       "<text text-anchor=\"middle\" x=\"2453\" y=\"-22.8\" font-family=\"Times,serif\" font-size=\"14.00\" fill=\"white\">builtin_function_or_method [1]</text>\n",
       "<text text-anchor=\"middle\" x=\"2453\" y=\"-7.8\" font-family=\"Times,serif\" font-size=\"14.00\" fill=\"white\">release</text>\n",
       "</g>\n",
       "<!-- o140663493076624&#45;&gt;o140663496700544 -->\n",
       "<g id=\"edge28\" class=\"edge\">\n",
       "<title>o140663493076624&#45;&gt;o140663496700544</title>\n",
       "<path fill=\"none\" stroke=\"black\" d=\"M1505.73,-106C1593.35,-102.8 1864.86,-91.79 2089,-71 2201.81,-60.53 2232.16,-55.55 2348.36,-38.07\"/>\n",
       "<polygon fill=\"black\" stroke=\"black\" points=\"2349,-41.51 2358.37,-36.56 2347.96,-34.59 2349,-41.51\"/>\n",
       "<text text-anchor=\"middle\" x=\"2243\" y=\"-59.8\" font-family=\"Times,serif\" font-size=\"14.00\">release</text>\n",
       "</g>\n",
       "<!-- o140663493015488 -->\n",
       "<g id=\"node31\" class=\"node\">\n",
       "<title>o140663493015488</title>\n",
       "<polygon fill=\"#4c4c4c\" stroke=\"black\" points=\"2806.5,-38 2565.5,-38 2565.5,0 2806.5,0 2806.5,-38\"/>\n",
       "<text text-anchor=\"middle\" x=\"2686\" y=\"-22.8\" font-family=\"Times,serif\" font-size=\"14.00\" fill=\"white\">deque [1]</text>\n",
       "<text text-anchor=\"middle\" x=\"2686\" y=\"-7.8\" font-family=\"Times,serif\" font-size=\"14.00\" fill=\"white\">deque([&lt;locked _thread.lock object at 0x</text>\n",
       "</g>\n",
       "<!-- o140663493076624&#45;&gt;o140663493015488 -->\n",
       "<g id=\"edge29\" class=\"edge\">\n",
       "<title>o140663493076624&#45;&gt;o140663493015488</title>\n",
       "<path fill=\"none\" stroke=\"black\" d=\"M1505.7,-106.39C1608.71,-104.06 1969.38,-94.62 2266,-71 2392.03,-60.97 2425.61,-54.56 2554.95,-38.12\"/>\n",
       "<polygon fill=\"black\" stroke=\"black\" points=\"2555.78,-41.55 2565.26,-36.82 2554.9,-34.6 2555.78,-41.55\"/>\n",
       "<text text-anchor=\"middle\" x=\"2440\" y=\"-59.8\" font-family=\"Times,serif\" font-size=\"14.00\">_waiters</text>\n",
       "</g>\n",
       "<!-- o140664042918128 -->\n",
       "<g id=\"node32\" class=\"node\">\n",
       "<title>o140664042918128</title>\n",
       "<polygon fill=\"#4c4c4c\" stroke=\"black\" points=\"2889,-38 2825,-38 2825,0 2889,0 2889,-38\"/>\n",
       "<text text-anchor=\"middle\" x=\"2857\" y=\"-22.8\" font-family=\"Times,serif\" font-size=\"14.00\" fill=\"white\">dict [1]</text>\n",
       "<text text-anchor=\"middle\" x=\"2857\" y=\"-7.8\" font-family=\"Times,serif\" font-size=\"14.00\" fill=\"white\">16 items</text>\n",
       "</g>\n",
       "<!-- o93830299207936&#45;&gt;o140664042918128 -->\n",
       "<g id=\"edge30\" class=\"edge\">\n",
       "<title>o93830299207936&#45;&gt;o140664042918128</title>\n",
       "<path fill=\"none\" stroke=\"black\" d=\"M2922.01,-88.97C2910.14,-76.38 2894.11,-59.38 2880.95,-45.41\"/>\n",
       "<polygon fill=\"black\" stroke=\"black\" points=\"2883.37,-42.88 2873.97,-38 2878.28,-47.68 2883.37,-42.88\"/>\n",
       "</g>\n",
       "<!-- o140664042329104 -->\n",
       "<g id=\"node33\" class=\"node\">\n",
       "<title>o140664042329104</title>\n",
       "<polygon fill=\"#4c4c4c\" stroke=\"black\" points=\"2970.5,-38 2907.5,-38 2907.5,0 2970.5,0 2970.5,-38\"/>\n",
       "<text text-anchor=\"middle\" x=\"2939\" y=\"-22.8\" font-family=\"Times,serif\" font-size=\"14.00\" fill=\"white\">tuple [1]</text>\n",
       "<text text-anchor=\"middle\" x=\"2939\" y=\"-7.8\" font-family=\"Times,serif\" font-size=\"14.00\" fill=\"white\">2 items</text>\n",
       "</g>\n",
       "<!-- o93830299207936&#45;&gt;o140664042329104 -->\n",
       "<g id=\"edge31\" class=\"edge\">\n",
       "<title>o93830299207936&#45;&gt;o140664042329104</title>\n",
       "<path fill=\"none\" stroke=\"black\" d=\"M2939,-88.97C2939,-77.19 2939,-61.56 2939,-48.16\"/>\n",
       "<polygon fill=\"black\" stroke=\"black\" points=\"2942.5,-48 2939,-38 2935.5,-48 2942.5,-48\"/>\n",
       "</g>\n",
       "<!-- o140664042954960 -->\n",
       "<g id=\"node34\" class=\"node\">\n",
       "<title>o140664042954960</title>\n",
       "<polygon fill=\"#4c4c4c\" stroke=\"black\" points=\"3051.5,-38 2988.5,-38 2988.5,0 3051.5,0 3051.5,-38\"/>\n",
       "<text text-anchor=\"middle\" x=\"3020\" y=\"-22.8\" font-family=\"Times,serif\" font-size=\"14.00\" fill=\"white\">tuple [1]</text>\n",
       "<text text-anchor=\"middle\" x=\"3020\" y=\"-7.8\" font-family=\"Times,serif\" font-size=\"14.00\" fill=\"white\">1 items</text>\n",
       "</g>\n",
       "<!-- o93830299207936&#45;&gt;o140664042954960 -->\n",
       "<g id=\"edge32\" class=\"edge\">\n",
       "<title>o93830299207936&#45;&gt;o140664042954960</title>\n",
       "<path fill=\"none\" stroke=\"black\" d=\"M2955.78,-88.97C2967.51,-76.38 2983.34,-59.38 2996.35,-45.41\"/>\n",
       "<polygon fill=\"black\" stroke=\"black\" points=\"2998.99,-47.71 3003.24,-38 2993.86,-42.94 2998.99,-47.71\"/>\n",
       "</g>\n",
       "<!-- o93830273241280 -->\n",
       "<g id=\"node35\" class=\"node\">\n",
       "<title>o93830273241280</title>\n",
       "<polygon fill=\"#4c4c4c\" stroke=\"black\" points=\"3150,-38 3070,-38 3070,0 3150,0 3150,-38\"/>\n",
       "<text text-anchor=\"middle\" x=\"3110\" y=\"-22.8\" font-family=\"Times,serif\" font-size=\"14.00\" fill=\"white\">type [9114]</text>\n",
       "<text text-anchor=\"middle\" x=\"3110\" y=\"-7.8\" font-family=\"Times,serif\" font-size=\"14.00\" fill=\"white\">object</text>\n",
       "</g>\n",
       "<!-- o93830299207936&#45;&gt;o93830273241280 -->\n",
       "<g id=\"edge33\" class=\"edge\">\n",
       "<title>o93830299207936&#45;&gt;o93830273241280</title>\n",
       "<path fill=\"none\" stroke=\"black\" d=\"M2974.43,-88.97C3000.91,-75.5 3037.29,-56.99 3065.69,-42.54\"/>\n",
       "<polygon fill=\"black\" stroke=\"black\" points=\"3067.29,-45.66 3074.61,-38 3064.11,-39.42 3067.29,-45.66\"/>\n",
       "</g>\n",
       "<!-- o140664003134288 -->\n",
       "<g id=\"node36\" class=\"node\">\n",
       "<title>o140664003134288</title>\n",
       "<polygon fill=\"#4c4c4c\" stroke=\"black\" points=\"3427.5,-38 3168.5,-38 3168.5,0 3427.5,0 3427.5,-38\"/>\n",
       "<text text-anchor=\"middle\" x=\"3298\" y=\"-22.8\" font-family=\"Times,serif\" font-size=\"14.00\" fill=\"white\">hamt_bitmap_node [3]</text>\n",
       "<text text-anchor=\"middle\" x=\"3298\" y=\"-7.8\" font-family=\"Times,serif\" font-size=\"14.00\" fill=\"white\">&lt;hamt_bitmap_node object at 0x7feee3f083</text>\n",
       "</g>\n",
       "<!-- o140664002728416&#45;&gt;o140664003134288 -->\n",
       "<g id=\"edge34\" class=\"edge\">\n",
       "<title>o140664002728416&#45;&gt;o140664003134288</title>\n",
       "<path fill=\"none\" stroke=\"black\" d=\"M3298,-88.97C3298,-77.19 3298,-61.56 3298,-48.16\"/>\n",
       "<polygon fill=\"black\" stroke=\"black\" points=\"3301.5,-48 3298,-38 3294.5,-48 3301.5,-48\"/>\n",
       "</g>\n",
       "</g>\n",
       "</svg>\n"
      ],
      "text/plain": [
       "<graphviz.files.Source at 0x7feee0df7110>"
      ]
     },
     "execution_count": 12,
     "metadata": {},
     "output_type": "execute_result"
    }
   ],
   "source": [
    "roots = objgraph.get_leaking_objects()\n",
    "objgraph.show_refs(roots[:3], refcounts=True)"
   ]
  },
  {
   "cell_type": "markdown",
   "metadata": {},
   "source": [
    "### Memory Allocation\n",
    "\n",
    "The next profiling method uses\n",
    "[`tracemalloc`](https://docs.python.org/3/library/tracemalloc.html)\n",
    "to trace the memory blocks allocated by Python.\n",
    "This analysis provides the following information:\n",
    "\n",
    "  * traceback to where an object got allocated\n",
    "  * statistics about allocated memory blocks per filename, per line: total size, number and average size\n",
    "  * computing the differences between two snapshots to detect memory leaks\n",
    "  \n",
    "We'll run the application serially to capture a snapshot:"
   ]
  },
  {
   "cell_type": "code",
   "execution_count": 13,
   "metadata": {},
   "outputs": [],
   "source": [
    "tracemalloc.start()\n",
    "\n",
    "Sim(distrib=False, num_samples=Sim.NUM_SAMPLES).run()\n",
    "\n",
    "snapshot = tracemalloc.take_snapshot()"
   ]
  },
  {
   "cell_type": "code",
   "execution_count": 14,
   "metadata": {
    "scrolled": true
   },
   "outputs": [
    {
     "name": "stdout",
     "output_type": "stream",
     "text": [
      "26 memory blocks: 2.3 KiB\n",
      "  File \"<__array_function__ internals>\", line 6\n",
      "3 memory blocks: 1.6 KiB\n",
      "  File \"/opt/conda/lib/python3.7/site-packages/redis/connection.py\", line 417\n",
      "    raise_on_timeout=False)\n",
      "40 memory blocks: 0.9 KiB\n",
      "  File \"/opt/conda/lib/python3.7/statistics.py\", line 535\n",
      "    T, total, count = _sum((x-c)**2 for x in data)\n",
      "1 memory blocks: 0.8 KiB\n",
      "  File \"/opt/conda/lib/python3.7/site-packages/pandas/core/internals/managers.py\", line 1880\n",
      "    stacked = np.empty(shape, dtype=dtype)\n",
      "2 memory blocks: 0.7 KiB\n",
      "  File \"/opt/conda/lib/python3.7/site-packages/pandas/core/indexes/base.py\", line 361\n",
      "    new_data, dtype=new_dtype, copy=False, name=name, **kwargs\n",
      "24 memory blocks: 0.6 KiB\n",
      "  File \"/opt/conda/lib/python3.7/numbers.py\", line 291\n",
      "    return self.numerator / self.denominator\n",
      "19 memory blocks: 0.4 KiB\n",
      "  File \"<ipython-input-5-f468449b6838>\", line 11\n",
      "    duration = time.time() - start\n",
      "1 memory blocks: 0.4 KiB\n",
      "  File \"/opt/conda/lib/python3.7/site-packages/redis/connection.py\", line 427\n",
      "    bufflen = recv_into(self._sock, self._buffer)\n",
      "1 memory blocks: 0.4 KiB\n",
      "  File \"/opt/conda/lib/python3.7/site-packages/redis/client.py\", line 3503\n",
      "    if not block and not conn.can_read(timeout=timeout):\n",
      "4 memory blocks: 0.3 KiB\n",
      "  File \"/opt/conda/lib/python3.7/site-packages/pandas/core/internals/managers.py\", line 1875\n",
      "    placement, names, arrays = zip(*tuples)\n",
      "15 memory blocks: 0.3 KiB\n",
      "  File \"<ipython-input-3-e3928f1810f1>\", line 9\n",
      "    xs = np.random.uniform(low=-1.0, high=1.0, size=num_samples)   # generate num_samples random samples for the x coordinate\n",
      "8 memory blocks: 0.3 KiB\n",
      "  File \"/opt/conda/lib/python3.7/threading.py\", line 289\n",
      "    waiter = _allocate_lock()\n",
      "3 memory blocks: 0.3 KiB\n",
      "  File \"/opt/conda/lib/python3.7/codeop.py\", line 136\n",
      "    codeob = compile(source, filename, symbol, self.flags, 1)\n",
      "3 memory blocks: 0.2 KiB\n",
      "  File \"/opt/conda/lib/python3.7/site-packages/pandas/core/internals/managers.py\", line 1755\n",
      "    items_dict[block_type.__name__].append((i, k, v))\n",
      "2 memory blocks: 0.2 KiB\n",
      "  File \"/opt/conda/lib/python3.7/site-packages/pandas/core/internals/construction.py\", line 732\n",
      "    arr = lib.maybe_convert_objects(arr, try_float=coerce_float)\n",
      "2 memory blocks: 0.2 KiB\n",
      "  File \"/opt/conda/lib/python3.7/queue.py\", line 167\n",
      "    raise Empty\n",
      "2 memory blocks: 0.1 KiB\n",
      "  File \"/opt/conda/lib/python3.7/site-packages/pandas/core/internals/managers.py\", line 1852\n",
      "    values, placement = _stack_arrays(list(tup_block), dtype)\n",
      "1 memory blocks: 0.1 KiB\n",
      "  File \"/opt/conda/lib/python3.7/site-packages/IPython/core/interactiveshell.py\", line 3337\n",
      "    if (await self.run_code(code, result,  async_=asy)):\n",
      "2 memory blocks: 0.1 KiB\n",
      "  File \"/opt/conda/lib/python3.7/site-packages/IPython/core/interactiveshell.py\", line 117\n",
      "    Module = lambda nodelist, type_ignores: OriginalModule(nodelist)\n",
      "1 memory blocks: 0.1 KiB\n",
      "  File \"<ipython-input-13-73e24b7f89a5>\", line 3\n",
      "    Sim(distrib=False, num_samples=Sim.NUM_SAMPLES).run()\n",
      "1 memory blocks: 0.1 KiB\n",
      "  File \"<ipython-input-3-e3928f1810f1>\", line 10\n",
      "    ys = np.random.uniform(low=-1.0, high=1.0, size=num_samples)   # generate num_samples random samples for the y coordinate\n",
      "1 memory blocks: 0.1 KiB\n",
      "  File \"/opt/conda/lib/python3.7/site-packages/zmq/sugar/socket.py\", line 432\n",
      "    if isinstance(msg, (zmq.Frame, bytes, memoryview)):\n",
      "1 memory blocks: 0.1 KiB\n",
      "  File \"/opt/conda/lib/python3.7/site-packages/pandas/core/internals/blocks.py\", line 141\n",
      "    if self._validate_ndim and self.ndim and len(self.mgr_locs) != len(self.values):\n",
      "1 memory blocks: 0.1 KiB\n",
      "  File \"/opt/conda/lib/python3.7/site-packages/pandas/core/flags.py\", line 48\n",
      "    self._allows_duplicate_labels = allows_duplicate_labels\n",
      "1 memory blocks: 0.1 KiB\n",
      "  File \"/opt/conda/lib/python3.7/queue.py\", line 107\n",
      "    with self.mutex:\n",
      "1 memory blocks: 0.1 KiB\n",
      "  File \"/opt/conda/lib/python3.7/asyncio/events.py\", line 41\n",
      "    context = contextvars.copy_context()\n",
      "1 memory blocks: 0.1 KiB\n",
      "  File \"/opt/conda/lib/python3.7/site-packages/zmq/sugar/socket.py\", line 445\n",
      "    self.send(msg, SNDMORE|flags, copy=copy, track=track)\n",
      "1 memory blocks: 0.1 KiB\n",
      "  File \"/opt/conda/lib/python3.7/site-packages/zmq/sugar/attrsettr.py\", line 48\n",
      "    return self._get_attr_opt(upper_key, opt)\n",
      "1 memory blocks: 0.1 KiB\n",
      "  File \"/opt/conda/lib/python3.7/site-packages/ray/worker.py\", line 1040\n",
      "    error, t = task_error_queue.get(block=False)\n",
      "1 memory blocks: 0.1 KiB\n",
      "  File \"/opt/conda/lib/python3.7/site-packages/pandas/core/internals/managers.py\", line 1808\n",
      "    if len(items_dict[\"ObjectValuesExtensionBlock\"]):\n",
      "1 memory blocks: 0.1 KiB\n",
      "  File \"/opt/conda/lib/python3.7/site-packages/pandas/core/internals/managers.py\", line 1800\n",
      "    if len(items_dict[\"ExtensionBlock\"]):\n",
      "1 memory blocks: 0.1 KiB\n",
      "  File \"/opt/conda/lib/python3.7/site-packages/pandas/core/internals/managers.py\", line 1793\n",
      "    if len(items_dict[\"CategoricalBlock\"]) > 0:\n",
      "1 memory blocks: 0.1 KiB\n",
      "  File \"/opt/conda/lib/python3.7/site-packages/pandas/core/internals/managers.py\", line 1789\n",
      "    if len(items_dict[\"ObjectBlock\"]) > 0:\n",
      "1 memory blocks: 0.1 KiB\n",
      "  File \"/opt/conda/lib/python3.7/site-packages/pandas/core/internals/managers.py\", line 1785\n",
      "    if len(items_dict[\"BoolBlock\"]):\n",
      "1 memory blocks: 0.1 KiB\n",
      "  File \"/opt/conda/lib/python3.7/site-packages/pandas/core/internals/managers.py\", line 1778\n",
      "    if len(items_dict[\"DatetimeTZBlock\"]):\n",
      "1 memory blocks: 0.1 KiB\n",
      "  File \"/opt/conda/lib/python3.7/site-packages/pandas/core/internals/managers.py\", line 1774\n",
      "    if len(items_dict[\"DatetimeBlock\"]):\n",
      "1 memory blocks: 0.1 KiB\n",
      "  File \"/opt/conda/lib/python3.7/site-packages/pandas/core/internals/managers.py\", line 1766\n",
      "    if len(items_dict[\"TimeDeltaBlock\"]):\n",
      "1 memory blocks: 0.1 KiB\n",
      "  File \"/opt/conda/lib/python3.7/site-packages/pandas/core/internals/managers.py\", line 1762\n",
      "    if len(items_dict[\"ComplexBlock\"]):\n",
      "1 memory blocks: 0.1 KiB\n",
      "  File \"/opt/conda/lib/python3.7/site-packages/pandas/core/internals/managers.py\", line 322\n",
      "    if block.shape[1:] != mgr_shape[1:]:\n",
      "1 memory blocks: 0.1 KiB\n",
      "  File \"/opt/conda/lib/python3.7/site-packages/pandas/core/internals/managers.py\", line 208\n",
      "    return tuple(len(ax) for ax in self.axes)\n",
      "1 memory blocks: 0.1 KiB\n",
      "  File \"/opt/conda/lib/python3.7/site-packages/pandas/core/internals/construction.py\", line 562\n",
      "    content = list(lib.to_object_array_tuples(data).T)\n",
      "4 memory blocks: 0.1 KiB\n",
      "  File \"/opt/conda/lib/python3.7/site-packages/numpy/core/numeric.py\", line 342\n",
      "    a = empty(shape, dtype, order)\n",
      "1 memory blocks: 0.1 KiB\n",
      "  File \"/opt/conda/lib/python3.7/site-packages/numpy/core/shape_base.py\", line 432\n",
      "    sl = (slice(None),) * axis + (_nx.newaxis,)\n",
      "1 memory blocks: 0.1 KiB\n",
      "  File \"/opt/conda/lib/python3.7/site-packages/pandas/core/dtypes/cast.py\", line 1270\n",
      "    return arr.dtype.name not in POSSIBLY_CAST_DTYPES\n",
      "1 memory blocks: 0.1 KiB\n",
      "  File \"/opt/conda/lib/python3.7/site-packages/zmq/sugar/attrsettr.py\", line 40\n",
      "    upper_key = key.upper()\n",
      "1 memory blocks: 0.0 KiB\n",
      "  File \"/opt/conda/lib/python3.7/site-packages/pandas/core/internals/managers.py\", line 1741\n",
      "    names_indexer = np.arange(len(names_idx))\n",
      "1 memory blocks: 0.0 KiB\n",
      "  File \"/opt/conda/lib/python3.7/selectors.py\", line 468\n",
      "    fd_event_list = self._selector.poll(timeout, max_ev)\n",
      "1 memory blocks: 0.0 KiB\n",
      "  File \"<ipython-input-3-e3928f1810f1>\", line 14\n",
      "    xys_inside = xys[inside]                                       # select only those  elements inside the circle\n",
      "1 memory blocks: 0.0 KiB\n",
      "  File \"/opt/conda/lib/python3.7/site-packages/IPython/core/compilerop.py\", line 150\n",
      "    self.flags &= ~turn_on_bits\n",
      "1 memory blocks: 0.0 KiB\n",
      "  File \"<ipython-input-3-e3928f1810f1>\", line 13\n",
      "    inside = (xs**2.0 + ys**2.0) <= 1.0                            # create a predicate over all the array elements\n",
      "1 memory blocks: 0.0 KiB\n",
      "  File \"/opt/conda/lib/python3.7/site-packages/IPython/core/interactiveshell.py\", line 3331\n",
      "    mod = Module([node], [])\n"
     ]
    }
   ],
   "source": [
    "top_stats = snapshot.statistics('traceback')\n",
    "\n",
    "# pick the biggest memory block\n",
    "for stat in top_stats:\n",
    "    print(\"%s memory blocks: %.1f KiB\" % (stat.count, stat.size / 1024))\n",
    "\n",
    "    for line in stat.traceback.format():\n",
    "        print(line)"
   ]
  },
  {
   "cell_type": "markdown",
   "metadata": {},
   "source": [
    "There should not be any *memory leaks* in this application."
   ]
  },
  {
   "cell_type": "markdown",
   "metadata": {},
   "source": [
    "### Deterministic Profiling\n",
    "\n",
    "The\n",
    "[`%%prun` magic](https://ipython.readthedocs.io/en/stable/interactive/magics.html#magic-prun)\n",
    "invokes the\n",
    "[cProfile](https://docs.python.org/3/library/profile.html)\n",
    "*deterministic* profiler in Python to trace how often and for what duration the different functions get called.\n",
    "In other words, we'll track of the call stack statistics to understand more about CPU use.\n",
    "This configures the profiler to save data to the file `prof_cpu.txt` as text.\n",
    "\n",
    "The [`%%snakeviz` magic](https://jiffyclub.github.io/snakeviz/)\n",
    "then analyzes that profiling data and generates an interactive report.\n",
    "\n",
    "Note that *deterministic profiling* creates some overhead which can distort the measurements in relatively small code blocks or short-running code, although it's generally find for long-running programs."
   ]
  },
  {
   "cell_type": "code",
   "execution_count": 15,
   "metadata": {
    "tags": []
   },
   "outputs": [
    {
     "name": "stdout",
     "output_type": "stream",
     "text": [
      " \n",
      "*** Profile stats marshalled to file '/tmp/tmphula3rxz'. \n",
      "Embedding SnakeViz in this document...\n"
     ]
    },
    {
     "data": {
      "text/html": [
       "\n",
       "<iframe id='snakeviz-facc1ede-913f-11eb-ab82-0242ac1f0016' frameborder=0 seamless width='100%' height='1000'></iframe>\n",
       "<script>document.getElementById(\"snakeviz-facc1ede-913f-11eb-ab82-0242ac1f0016\").setAttribute(\"src\", \"http://\" + document.location.hostname + \":8080/snakeviz/%2Ftmp%2Ftmphula3rxz\")</script>\n"
      ],
      "text/plain": [
       "<IPython.core.display.HTML object>"
      ]
     },
     "metadata": {},
     "output_type": "display_data"
    },
    {
     "name": "stdout",
     "output_type": "stream",
     "text": [
      " \n",
      "*** Profile printout saved to text file 'prof_cpu.txt'. \n"
     ]
    }
   ],
   "source": [
    "%%prun -q -T prof_cpu.txt\n",
    "%%snakeviz\n",
    "\n",
    "Sim(distrib=False, num_samples=Sim.NUM_SAMPLES).run()"
   ]
  },
  {
   "cell_type": "markdown",
   "metadata": {},
   "source": [
    "The *icicle* interactive chart illustrates how so very much of the overall CPU cost is in the `estimate_pi()` method."
   ]
  },
  {
   "cell_type": "markdown",
   "metadata": {},
   "source": [
    "### Sampling Profiler\n",
    "\n",
    "The\n",
    "[`pyinstrument`](https://github.com/joerick/pyinstrument/)\n",
    "library provides a *sampling profiler* – an alternative way to measure the call stack and CPU use.\n",
    "While not *exact*, this approach creates less overhead:"
   ]
  },
  {
   "cell_type": "code",
   "execution_count": 16,
   "metadata": {},
   "outputs": [
    {
     "data": {
      "text/html": [
       "<!DOCTYPE html>\n",
       "            <html>\n",
       "            <head>\n",
       "                <meta charset=\"utf-8\">\n",
       "            </head>\n",
       "            <body>\n",
       "                <div id=\"app\"></div>\n",
       "                <script>\n",
       "                    window.profileSession = {\"start_time\": 1617098957.300893,\"duration\": 12.789389,\"sample_count\": 1815,\"program\": \"/opt/conda/lib/python3.7/site-packages/ipykernel_launcher.py -f /tmp/tmpndhrp3bf.json --HistoryManager.hist_file=:memory:\",\"cpu_time\": 13.491773,\"root_frame\": {\"function\": \"run_code\",\"file_path_short\": \"IPython/core/interactiveshell.py\",\"file_path\": \"/opt/conda/lib/python3.7/site-packages/IPython/core/interactiveshell.py\",\"line_no\": 3376,\"time\": 12.788390,\"is_application_code\": false,\"children\": [{\"function\": \"<module>\",\"file_path_short\": \"<ipython-input-16-d5baf062beed>\",\"file_path\": \"<ipython-input-16-d5baf062beed>\",\"line_no\": 4,\"time\": 12.788390,\"is_application_code\": true,\"children\": [{\"function\": \"run\",\"file_path_short\": \"<ipython-input-6-8df37d01bd8a>\",\"file_path\": \"<ipython-input-6-8df37d01bd8a>\",\"line_no\": 15,\"time\": 12.788390,\"is_application_code\": true,\"children\": [{\"function\": \"<listcomp>\",\"file_path_short\": \"<ipython-input-6-8df37d01bd8a>\",\"file_path\": \"<ipython-input-6-8df37d01bd8a>\",\"line_no\": 18,\"time\": 12.786390,\"is_application_code\": true,\"children\": [{\"function\": \"run_epoch\",\"file_path_short\": \"<ipython-input-5-f468449b6838>\",\"file_path\": \"<ipython-input-5-f468449b6838>\",\"line_no\": 1,\"time\": 12.785375,\"is_application_code\": true,\"children\": [{\"function\": \"<listcomp>\",\"file_path_short\": \"<ipython-input-5-f468449b6838>\",\"file_path\": \"<ipython-input-5-f468449b6838>\",\"line_no\": 8,\"time\": 12.761404,\"is_application_code\": true,\"children\": [{\"function\": \"estimate_pi\",\"file_path_short\": \"<ipython-input-3-e3928f1810f1>\",\"file_path\": \"<ipython-input-3-e3928f1810f1>\",\"line_no\": 8,\"time\": 12.754653,\"is_application_code\": true,\"children\": [{\"function\": \"[self]\",\"file_path_short\": \"\",\"file_path\": \"<ipython-input-3-e3928f1810f1>\",\"line_no\": 8,\"time\": 6.469974,\"is_application_code\": false,\"children\": []},{\"function\": \"RandomState.uniform\",\"file_path_short\": \"<built-in>\",\"file_path\": \"<built-in>\",\"line_no\": 0,\"time\": 4.907944,\"is_application_code\": false,\"children\": [],\"group_id\": \"68fdbc29-ca0b-4d70-8f8d-ebce78bf9dc5\"},{\"function\": \"stack\",\"file_path_short\": \"<__array_function__ internals>\",\"file_path\": \"<__array_function__ internals>\",\"line_no\": 2,\"time\": 1.376734,\"is_application_code\": false,\"children\": [{\"function\": \"stack\",\"file_path_short\": \"numpy/core/shape_base.py\",\"file_path\": \"/opt/conda/lib/python3.7/site-packages/numpy/core/shape_base.py\",\"line_no\": 358,\"time\": 1.375730,\"is_application_code\": false,\"children\": [{\"function\": \"concatenate\",\"file_path_short\": \"<__array_function__ internals>\",\"file_path\": \"<__array_function__ internals>\",\"line_no\": 2,\"time\": 1.374717,\"is_application_code\": false,\"children\": [{\"function\": \"implement_array_function\",\"file_path_short\": \"<built-in>\",\"file_path\": \"<built-in>\",\"line_no\": 0,\"time\": 1.374717,\"is_application_code\": false,\"children\": [],\"group_id\": \"bc9a354d-6b36-48ad-81c4-e382147e40e1\"}],\"group_id\": \"bc9a354d-6b36-48ad-81c4-e382147e40e1\"}],\"group_id\": \"bc9a354d-6b36-48ad-81c4-e382147e40e1\"}],\"group_id\": \"bc9a354d-6b36-48ad-81c4-e382147e40e1\"}]}]}]}]}]}]}]}}\n",
       "\n",
       "                </script>\n",
       "                <script>\n",
       "                    (function(t){var e={};function n(r){if(e[r])return e[r].exports;var i=e[r]={i:r,l:!1,exports:{}};return t[r].call(i.exports,i,i.exports,n),i.l=!0,i.exports}n.m=t,n.c=e,n.d=function(t,e,r){n.o(t,e)||Object.defineProperty(t,e,{enumerable:!0,get:r})},n.r=function(t){\"undefined\"!==typeof Symbol&&Symbol.toStringTag&&Object.defineProperty(t,Symbol.toStringTag,{value:\"Module\"}),Object.defineProperty(t,\"__esModule\",{value:!0})},n.t=function(t,e){if(1&e&&(t=n(t)),8&e)return t;if(4&e&&\"object\"===typeof t&&t&&t.__esModule)return t;var r=Object.create(null);if(n.r(r),Object.defineProperty(r,\"default\",{enumerable:!0,value:t}),2&e&&\"string\"!=typeof t)for(var i in t)n.d(r,i,function(e){return t[e]}.bind(null,i));return r},n.n=function(t){var e=t&&t.__esModule?function(){return t[\"default\"]}:function(){return t};return n.d(e,\"a\",e),e},n.o=function(t,e){return Object.prototype.hasOwnProperty.call(t,e)},n.p=\"/\",n(n.s=0)})({0:function(t,e,n){t.exports=n(\"56d7\")},\"034f\":function(t,e,n){\"use strict\";n(\"3ebb\")},\"0890\":function(t,e,n){var r=n(\"2817\");\"string\"===typeof r&&(r=[[t.i,r,\"\"]]),r.locals&&(t.exports=r.locals);var i=n(\"499e\").default;i(\"8a0ab11e\",r,!0,{sourceMap:!1,shadowMode:!1})},\"24fb\":function(t,e,n){\"use strict\";function r(t,e){var n=t[1]||\"\",r=t[3];if(!r)return n;if(e&&\"function\"===typeof btoa){var o=i(r),a=r.sources.map((function(t){return\"/*# sourceURL=\".concat(r.sourceRoot||\"\").concat(t,\" */\")}));return[n].concat(a).concat([o]).join(\"\\n\")}return[n].join(\"\\n\")}function i(t){var e=btoa(unescape(encodeURIComponent(JSON.stringify(t)))),n=\"sourceMappingURL=data:application/json;charset=utf-8;base64,\".concat(e);return\"/*# \".concat(n,\" */\")}t.exports=function(t){var e=[];return e.toString=function(){return this.map((function(e){var n=r(e,t);return e[2]?\"@media \".concat(e[2],\" {\").concat(n,\"}\"):n})).join(\"\")},e.i=function(t,n,r){\"string\"===typeof t&&(t=[[null,t,\"\"]]);var i={};if(r)for(var o=0;o<this.length;o++){var a=this[o][0];null!=a&&(i[a]=!0)}for(var s=0;s<t.length;s++){var c=[].concat(t[s]);r&&i[c[0]]||(n&&(c[2]?c[2]=\"\".concat(n,\" and \").concat(c[2]):c[2]=n),e.push(c))}},e}},2817:function(t,e,n){var r=n(\"24fb\");e=r(!1),e.push([t.i,\".header[data-v-0183f483]{background:#292f32}.row[data-v-0183f483]{display:flex;align-items:center}.title[data-v-0183f483]{font-size:34px;padding-top:20px;padding-bottom:16px;white-space:nowrap;overflow:hidden;text-overflow:ellipsis;margin-right:10px;flex:1}.metrics[data-v-0183f483]{display:grid;grid-template-columns:auto auto auto auto;font-size:14px;text-transform:uppercase;grid-gap:1px 8px}.metric-label[data-v-0183f483]{font-weight:600;color:#a9abad}.metric-value[data-v-0183f483]{color:#737779;margin-right:.5em}\",\"\"]),t.exports=e},\"2b0e\":function(t,e,n){\"use strict\";(function(t){\n",
       "/*!\n",
       " * Vue.js v2.6.12\n",
       " * (c) 2014-2020 Evan You\n",
       " * Released under the MIT License.\n",
       " */\n",
       "var n=Object.freeze({});function r(t){return void 0===t||null===t}function i(t){return void 0!==t&&null!==t}function o(t){return!0===t}function a(t){return!1===t}function s(t){return\"string\"===typeof t||\"number\"===typeof t||\"symbol\"===typeof t||\"boolean\"===typeof t}function c(t){return null!==t&&\"object\"===typeof t}var l=Object.prototype.toString;function u(t){return\"[object Object]\"===l.call(t)}function f(t){return\"[object RegExp]\"===l.call(t)}function d(t){var e=parseFloat(String(t));return e>=0&&Math.floor(e)===e&&isFinite(t)}function p(t){return i(t)&&\"function\"===typeof t.then&&\"function\"===typeof t.catch}function v(t){return null==t?\"\":Array.isArray(t)||u(t)&&t.toString===l?JSON.stringify(t,null,2):String(t)}function h(t){var e=parseFloat(t);return isNaN(e)?t:e}function m(t,e){for(var n=Object.create(null),r=t.split(\",\"),i=0;i<r.length;i++)n[r[i]]=!0;return e?function(t){return n[t.toLowerCase()]}:function(t){return n[t]}}m(\"slot,component\",!0);var y=m(\"key,ref,slot,slot-scope,is\");function g(t,e){if(t.length){var n=t.indexOf(e);if(n>-1)return t.splice(n,1)}}var _=Object.prototype.hasOwnProperty;function b(t,e){return _.call(t,e)}function w(t){var e=Object.create(null);return function(n){var r=e[n];return r||(e[n]=t(n))}}var C=/-(\\w)/g,x=w((function(t){return t.replace(C,(function(t,e){return e?e.toUpperCase():\"\"}))})),A=w((function(t){return t.charAt(0).toUpperCase()+t.slice(1)})),$=/\\B([A-Z])/g,S=w((function(t){return t.replace($,\"-$1\").toLowerCase()}));function k(t,e){function n(n){var r=arguments.length;return r?r>1?t.apply(e,arguments):t.call(e,n):t.call(e)}return n._length=t.length,n}function O(t,e){return t.bind(e)}var T=Function.prototype.bind?O:k;function E(t,e){e=e||0;var n=t.length-e,r=new Array(n);while(n--)r[n]=t[n+e];return r}function j(t,e){for(var n in e)t[n]=e[n];return t}function D(t){for(var e={},n=0;n<t.length;n++)t[n]&&j(e,t[n]);return e}function M(t,e,n){}var N=function(t,e,n){return!1},P=function(t){return t};function L(t,e){if(t===e)return!0;var n=c(t),r=c(e);if(!n||!r)return!n&&!r&&String(t)===String(e);try{var i=Array.isArray(t),o=Array.isArray(e);if(i&&o)return t.length===e.length&&t.every((function(t,n){return L(t,e[n])}));if(t instanceof Date&&e instanceof Date)return t.getTime()===e.getTime();if(i||o)return!1;var a=Object.keys(t),s=Object.keys(e);return a.length===s.length&&a.every((function(n){return L(t[n],e[n])}))}catch(l){return!1}}function F(t,e){for(var n=0;n<t.length;n++)if(L(t[n],e))return n;return-1}function I(t){var e=!1;return function(){e||(e=!0,t.apply(this,arguments))}}var V=\"data-server-rendered\",R=[\"component\",\"directive\",\"filter\"],B=[\"beforeCreate\",\"created\",\"beforeMount\",\"mounted\",\"beforeUpdate\",\"updated\",\"beforeDestroy\",\"destroyed\",\"activated\",\"deactivated\",\"errorCaptured\",\"serverPrefetch\"],z={optionMergeStrategies:Object.create(null),silent:!1,productionTip:!1,devtools:!1,performance:!1,errorHandler:null,warnHandler:null,ignoredElements:[],keyCodes:Object.create(null),isReservedTag:N,isReservedAttr:N,isUnknownElement:N,getTagNamespace:M,parsePlatformTagName:P,mustUseProp:N,async:!0,_lifecycleHooks:B},U=/a-zA-Z\\u00B7\\u00C0-\\u00D6\\u00D8-\\u00F6\\u00F8-\\u037D\\u037F-\\u1FFF\\u200C-\\u200D\\u203F-\\u2040\\u2070-\\u218F\\u2C00-\\u2FEF\\u3001-\\uD7FF\\uF900-\\uFDCF\\uFDF0-\\uFFFD/;function H(t){var e=(t+\"\").charCodeAt(0);return 36===e||95===e}function G(t,e,n,r){Object.defineProperty(t,e,{value:n,enumerable:!!r,writable:!0,configurable:!0})}var q=new RegExp(\"[^\"+U.source+\".$_\\\\d]\");function W(t){if(!q.test(t)){var e=t.split(\".\");return function(t){for(var n=0;n<e.length;n++){if(!t)return;t=t[e[n]]}return t}}}var X,K=\"__proto__\"in{},Y=\"undefined\"!==typeof window,J=\"undefined\"!==typeof WXEnvironment&&!!WXEnvironment.platform,Z=J&&WXEnvironment.platform.toLowerCase(),Q=Y&&window.navigator.userAgent.toLowerCase(),tt=Q&&/msie|trident/.test(Q),et=Q&&Q.indexOf(\"msie 9.0\")>0,nt=Q&&Q.indexOf(\"edge/\")>0,rt=(Q&&Q.indexOf(\"android\"),Q&&/iphone|ipad|ipod|ios/.test(Q)||\"ios\"===Z),it=(Q&&/chrome\\/\\d+/.test(Q),Q&&/phantomjs/.test(Q),Q&&Q.match(/firefox\\/(\\d+)/)),ot={}.watch,at=!1;if(Y)try{var st={};Object.defineProperty(st,\"passive\",{get:function(){at=!0}}),window.addEventListener(\"test-passive\",null,st)}catch(xa){}var ct=function(){return void 0===X&&(X=!Y&&!J&&\"undefined\"!==typeof t&&(t[\"process\"]&&\"server\"===t[\"process\"].env.VUE_ENV)),X},lt=Y&&window.__VUE_DEVTOOLS_GLOBAL_HOOK__;function ut(t){return\"function\"===typeof t&&/native code/.test(t.toString())}var ft,dt=\"undefined\"!==typeof Symbol&&ut(Symbol)&&\"undefined\"!==typeof Reflect&&ut(Reflect.ownKeys);ft=\"undefined\"!==typeof Set&&ut(Set)?Set:function(){function t(){this.set=Object.create(null)}return t.prototype.has=function(t){return!0===this.set[t]},t.prototype.add=function(t){this.set[t]=!0},t.prototype.clear=function(){this.set=Object.create(null)},t}();var pt=M,vt=0,ht=function(){this.id=vt++,this.subs=[]};ht.prototype.addSub=function(t){this.subs.push(t)},ht.prototype.removeSub=function(t){g(this.subs,t)},ht.prototype.depend=function(){ht.target&&ht.target.addDep(this)},ht.prototype.notify=function(){var t=this.subs.slice();for(var e=0,n=t.length;e<n;e++)t[e].update()},ht.target=null;var mt=[];function yt(t){mt.push(t),ht.target=t}function gt(){mt.pop(),ht.target=mt[mt.length-1]}var _t=function(t,e,n,r,i,o,a,s){this.tag=t,this.data=e,this.children=n,this.text=r,this.elm=i,this.ns=void 0,this.context=o,this.fnContext=void 0,this.fnOptions=void 0,this.fnScopeId=void 0,this.key=e&&e.key,this.componentOptions=a,this.componentInstance=void 0,this.parent=void 0,this.raw=!1,this.isStatic=!1,this.isRootInsert=!0,this.isComment=!1,this.isCloned=!1,this.isOnce=!1,this.asyncFactory=s,this.asyncMeta=void 0,this.isAsyncPlaceholder=!1},bt={child:{configurable:!0}};bt.child.get=function(){return this.componentInstance},Object.defineProperties(_t.prototype,bt);var wt=function(t){void 0===t&&(t=\"\");var e=new _t;return e.text=t,e.isComment=!0,e};function Ct(t){return new _t(void 0,void 0,void 0,String(t))}function xt(t){var e=new _t(t.tag,t.data,t.children&&t.children.slice(),t.text,t.elm,t.context,t.componentOptions,t.asyncFactory);return e.ns=t.ns,e.isStatic=t.isStatic,e.key=t.key,e.isComment=t.isComment,e.fnContext=t.fnContext,e.fnOptions=t.fnOptions,e.fnScopeId=t.fnScopeId,e.asyncMeta=t.asyncMeta,e.isCloned=!0,e}var At=Array.prototype,$t=Object.create(At),St=[\"push\",\"pop\",\"shift\",\"unshift\",\"splice\",\"sort\",\"reverse\"];St.forEach((function(t){var e=At[t];G($t,t,(function(){var n=[],r=arguments.length;while(r--)n[r]=arguments[r];var i,o=e.apply(this,n),a=this.__ob__;switch(t){case\"push\":case\"unshift\":i=n;break;case\"splice\":i=n.slice(2);break}return i&&a.observeArray(i),a.dep.notify(),o}))}));var kt=Object.getOwnPropertyNames($t),Ot=!0;function Tt(t){Ot=t}var Et=function(t){this.value=t,this.dep=new ht,this.vmCount=0,G(t,\"__ob__\",this),Array.isArray(t)?(K?jt(t,$t):Dt(t,$t,kt),this.observeArray(t)):this.walk(t)};function jt(t,e){t.__proto__=e}function Dt(t,e,n){for(var r=0,i=n.length;r<i;r++){var o=n[r];G(t,o,e[o])}}function Mt(t,e){var n;if(c(t)&&!(t instanceof _t))return b(t,\"__ob__\")&&t.__ob__ instanceof Et?n=t.__ob__:Ot&&!ct()&&(Array.isArray(t)||u(t))&&Object.isExtensible(t)&&!t._isVue&&(n=new Et(t)),e&&n&&n.vmCount++,n}function Nt(t,e,n,r,i){var o=new ht,a=Object.getOwnPropertyDescriptor(t,e);if(!a||!1!==a.configurable){var s=a&&a.get,c=a&&a.set;s&&!c||2!==arguments.length||(n=t[e]);var l=!i&&Mt(n);Object.defineProperty(t,e,{enumerable:!0,configurable:!0,get:function(){var e=s?s.call(t):n;return ht.target&&(o.depend(),l&&(l.dep.depend(),Array.isArray(e)&&Ft(e))),e},set:function(e){var r=s?s.call(t):n;e===r||e!==e&&r!==r||s&&!c||(c?c.call(t,e):n=e,l=!i&&Mt(e),o.notify())}})}}function Pt(t,e,n){if(Array.isArray(t)&&d(e))return t.length=Math.max(t.length,e),t.splice(e,1,n),n;if(e in t&&!(e in Object.prototype))return t[e]=n,n;var r=t.__ob__;return t._isVue||r&&r.vmCount?n:r?(Nt(r.value,e,n),r.dep.notify(),n):(t[e]=n,n)}function Lt(t,e){if(Array.isArray(t)&&d(e))t.splice(e,1);else{var n=t.__ob__;t._isVue||n&&n.vmCount||b(t,e)&&(delete t[e],n&&n.dep.notify())}}function Ft(t){for(var e=void 0,n=0,r=t.length;n<r;n++)e=t[n],e&&e.__ob__&&e.__ob__.dep.depend(),Array.isArray(e)&&Ft(e)}Et.prototype.walk=function(t){for(var e=Object.keys(t),n=0;n<e.length;n++)Nt(t,e[n])},Et.prototype.observeArray=function(t){for(var e=0,n=t.length;e<n;e++)Mt(t[e])};var It=z.optionMergeStrategies;function Vt(t,e){if(!e)return t;for(var n,r,i,o=dt?Reflect.ownKeys(e):Object.keys(e),a=0;a<o.length;a++)n=o[a],\"__ob__\"!==n&&(r=t[n],i=e[n],b(t,n)?r!==i&&u(r)&&u(i)&&Vt(r,i):Pt(t,n,i));return t}function Rt(t,e,n){return n?function(){var r=\"function\"===typeof e?e.call(n,n):e,i=\"function\"===typeof t?t.call(n,n):t;return r?Vt(r,i):i}:e?t?function(){return Vt(\"function\"===typeof e?e.call(this,this):e,\"function\"===typeof t?t.call(this,this):t)}:e:t}function Bt(t,e){var n=e?t?t.concat(e):Array.isArray(e)?e:[e]:t;return n?zt(n):n}function zt(t){for(var e=[],n=0;n<t.length;n++)-1===e.indexOf(t[n])&&e.push(t[n]);return e}function Ut(t,e,n,r){var i=Object.create(t||null);return e?j(i,e):i}It.data=function(t,e,n){return n?Rt(t,e,n):e&&\"function\"!==typeof e?t:Rt(t,e)},B.forEach((function(t){It[t]=Bt})),R.forEach((function(t){It[t+\"s\"]=Ut})),It.watch=function(t,e,n,r){if(t===ot&&(t=void 0),e===ot&&(e=void 0),!e)return Object.create(t||null);if(!t)return e;var i={};for(var o in j(i,t),e){var a=i[o],s=e[o];a&&!Array.isArray(a)&&(a=[a]),i[o]=a?a.concat(s):Array.isArray(s)?s:[s]}return i},It.props=It.methods=It.inject=It.computed=function(t,e,n,r){if(!t)return e;var i=Object.create(null);return j(i,t),e&&j(i,e),i},It.provide=Rt;var Ht=function(t,e){return void 0===e?t:e};function Gt(t,e){var n=t.props;if(n){var r,i,o,a={};if(Array.isArray(n)){r=n.length;while(r--)i=n[r],\"string\"===typeof i&&(o=x(i),a[o]={type:null})}else if(u(n))for(var s in n)i=n[s],o=x(s),a[o]=u(i)?i:{type:i};else 0;t.props=a}}function qt(t,e){var n=t.inject;if(n){var r=t.inject={};if(Array.isArray(n))for(var i=0;i<n.length;i++)r[n[i]]={from:n[i]};else if(u(n))for(var o in n){var a=n[o];r[o]=u(a)?j({from:o},a):{from:a}}else 0}}function Wt(t){var e=t.directives;if(e)for(var n in e){var r=e[n];\"function\"===typeof r&&(e[n]={bind:r,update:r})}}function Xt(t,e,n){if(\"function\"===typeof e&&(e=e.options),Gt(e,n),qt(e,n),Wt(e),!e._base&&(e.extends&&(t=Xt(t,e.extends,n)),e.mixins))for(var r=0,i=e.mixins.length;r<i;r++)t=Xt(t,e.mixins[r],n);var o,a={};for(o in t)s(o);for(o in e)b(t,o)||s(o);function s(r){var i=It[r]||Ht;a[r]=i(t[r],e[r],n,r)}return a}function Kt(t,e,n,r){if(\"string\"===typeof n){var i=t[e];if(b(i,n))return i[n];var o=x(n);if(b(i,o))return i[o];var a=A(o);if(b(i,a))return i[a];var s=i[n]||i[o]||i[a];return s}}function Yt(t,e,n,r){var i=e[t],o=!b(n,t),a=n[t],s=te(Boolean,i.type);if(s>-1)if(o&&!b(i,\"default\"))a=!1;else if(\"\"===a||a===S(t)){var c=te(String,i.type);(c<0||s<c)&&(a=!0)}if(void 0===a){a=Jt(r,i,t);var l=Ot;Tt(!0),Mt(a),Tt(l)}return a}function Jt(t,e,n){if(b(e,\"default\")){var r=e.default;return t&&t.$options.propsData&&void 0===t.$options.propsData[n]&&void 0!==t._props[n]?t._props[n]:\"function\"===typeof r&&\"Function\"!==Zt(e.type)?r.call(t):r}}function Zt(t){var e=t&&t.toString().match(/^\\s*function (\\w+)/);return e?e[1]:\"\"}function Qt(t,e){return Zt(t)===Zt(e)}function te(t,e){if(!Array.isArray(e))return Qt(e,t)?0:-1;for(var n=0,r=e.length;n<r;n++)if(Qt(e[n],t))return n;return-1}function ee(t,e,n){yt();try{if(e){var r=e;while(r=r.$parent){var i=r.$options.errorCaptured;if(i)for(var o=0;o<i.length;o++)try{var a=!1===i[o].call(r,t,e,n);if(a)return}catch(xa){re(xa,r,\"errorCaptured hook\")}}}re(t,e,n)}finally{gt()}}function ne(t,e,n,r,i){var o;try{o=n?t.apply(e,n):t.call(e),o&&!o._isVue&&p(o)&&!o._handled&&(o.catch((function(t){return ee(t,r,i+\" (Promise/async)\")})),o._handled=!0)}catch(xa){ee(xa,r,i)}return o}function re(t,e,n){if(z.errorHandler)try{return z.errorHandler.call(null,t,e,n)}catch(xa){xa!==t&&ie(xa,null,\"config.errorHandler\")}ie(t,e,n)}function ie(t,e,n){if(!Y&&!J||\"undefined\"===typeof console)throw t;console.error(t)}var oe,ae=!1,se=[],ce=!1;function le(){ce=!1;var t=se.slice(0);se.length=0;for(var e=0;e<t.length;e++)t[e]()}if(\"undefined\"!==typeof Promise&&ut(Promise)){var ue=Promise.resolve();oe=function(){ue.then(le),rt&&setTimeout(M)},ae=!0}else if(tt||\"undefined\"===typeof MutationObserver||!ut(MutationObserver)&&\"[object MutationObserverConstructor]\"!==MutationObserver.toString())oe=\"undefined\"!==typeof setImmediate&&ut(setImmediate)?function(){setImmediate(le)}:function(){setTimeout(le,0)};else{var fe=1,de=new MutationObserver(le),pe=document.createTextNode(String(fe));de.observe(pe,{characterData:!0}),oe=function(){fe=(fe+1)%2,pe.data=String(fe)},ae=!0}function ve(t,e){var n;if(se.push((function(){if(t)try{t.call(e)}catch(xa){ee(xa,e,\"nextTick\")}else n&&n(e)})),ce||(ce=!0,oe()),!t&&\"undefined\"!==typeof Promise)return new Promise((function(t){n=t}))}var he=new ft;function me(t){ye(t,he),he.clear()}function ye(t,e){var n,r,i=Array.isArray(t);if(!(!i&&!c(t)||Object.isFrozen(t)||t instanceof _t)){if(t.__ob__){var o=t.__ob__.dep.id;if(e.has(o))return;e.add(o)}if(i){n=t.length;while(n--)ye(t[n],e)}else{r=Object.keys(t),n=r.length;while(n--)ye(t[r[n]],e)}}}var ge=w((function(t){var e=\"&\"===t.charAt(0);t=e?t.slice(1):t;var n=\"~\"===t.charAt(0);t=n?t.slice(1):t;var r=\"!\"===t.charAt(0);return t=r?t.slice(1):t,{name:t,once:n,capture:r,passive:e}}));function _e(t,e){function n(){var t=arguments,r=n.fns;if(!Array.isArray(r))return ne(r,null,arguments,e,\"v-on handler\");for(var i=r.slice(),o=0;o<i.length;o++)ne(i[o],null,t,e,\"v-on handler\")}return n.fns=t,n}function be(t,e,n,i,a,s){var c,l,u,f;for(c in t)l=t[c],u=e[c],f=ge(c),r(l)||(r(u)?(r(l.fns)&&(l=t[c]=_e(l,s)),o(f.once)&&(l=t[c]=a(f.name,l,f.capture)),n(f.name,l,f.capture,f.passive,f.params)):l!==u&&(u.fns=l,t[c]=u));for(c in e)r(t[c])&&(f=ge(c),i(f.name,e[c],f.capture))}function we(t,e,n){var a;t instanceof _t&&(t=t.data.hook||(t.data.hook={}));var s=t[e];function c(){n.apply(this,arguments),g(a.fns,c)}r(s)?a=_e([c]):i(s.fns)&&o(s.merged)?(a=s,a.fns.push(c)):a=_e([s,c]),a.merged=!0,t[e]=a}function Ce(t,e,n){var o=e.options.props;if(!r(o)){var a={},s=t.attrs,c=t.props;if(i(s)||i(c))for(var l in o){var u=S(l);xe(a,c,l,u,!0)||xe(a,s,l,u,!1)}return a}}function xe(t,e,n,r,o){if(i(e)){if(b(e,n))return t[n]=e[n],o||delete e[n],!0;if(b(e,r))return t[n]=e[r],o||delete e[r],!0}return!1}function Ae(t){for(var e=0;e<t.length;e++)if(Array.isArray(t[e]))return Array.prototype.concat.apply([],t);return t}function $e(t){return s(t)?[Ct(t)]:Array.isArray(t)?ke(t):void 0}function Se(t){return i(t)&&i(t.text)&&a(t.isComment)}function ke(t,e){var n,a,c,l,u=[];for(n=0;n<t.length;n++)a=t[n],r(a)||\"boolean\"===typeof a||(c=u.length-1,l=u[c],Array.isArray(a)?a.length>0&&(a=ke(a,(e||\"\")+\"_\"+n),Se(a[0])&&Se(l)&&(u[c]=Ct(l.text+a[0].text),a.shift()),u.push.apply(u,a)):s(a)?Se(l)?u[c]=Ct(l.text+a):\"\"!==a&&u.push(Ct(a)):Se(a)&&Se(l)?u[c]=Ct(l.text+a.text):(o(t._isVList)&&i(a.tag)&&r(a.key)&&i(e)&&(a.key=\"__vlist\"+e+\"_\"+n+\"__\"),u.push(a)));return u}function Oe(t){var e=t.$options.provide;e&&(t._provided=\"function\"===typeof e?e.call(t):e)}function Te(t){var e=Ee(t.$options.inject,t);e&&(Tt(!1),Object.keys(e).forEach((function(n){Nt(t,n,e[n])})),Tt(!0))}function Ee(t,e){if(t){for(var n=Object.create(null),r=dt?Reflect.ownKeys(t):Object.keys(t),i=0;i<r.length;i++){var o=r[i];if(\"__ob__\"!==o){var a=t[o].from,s=e;while(s){if(s._provided&&b(s._provided,a)){n[o]=s._provided[a];break}s=s.$parent}if(!s)if(\"default\"in t[o]){var c=t[o].default;n[o]=\"function\"===typeof c?c.call(e):c}else 0}}return n}}function je(t,e){if(!t||!t.length)return{};for(var n={},r=0,i=t.length;r<i;r++){var o=t[r],a=o.data;if(a&&a.attrs&&a.attrs.slot&&delete a.attrs.slot,o.context!==e&&o.fnContext!==e||!a||null==a.slot)(n.default||(n.default=[])).push(o);else{var s=a.slot,c=n[s]||(n[s]=[]);\"template\"===o.tag?c.push.apply(c,o.children||[]):c.push(o)}}for(var l in n)n[l].every(De)&&delete n[l];return n}function De(t){return t.isComment&&!t.asyncFactory||\" \"===t.text}function Me(t,e,r){var i,o=Object.keys(e).length>0,a=t?!!t.$stable:!o,s=t&&t.$key;if(t){if(t._normalized)return t._normalized;if(a&&r&&r!==n&&s===r.$key&&!o&&!r.$hasNormal)return r;for(var c in i={},t)t[c]&&\"$\"!==c[0]&&(i[c]=Ne(e,c,t[c]))}else i={};for(var l in e)l in i||(i[l]=Pe(e,l));return t&&Object.isExtensible(t)&&(t._normalized=i),G(i,\"$stable\",a),G(i,\"$key\",s),G(i,\"$hasNormal\",o),i}function Ne(t,e,n){var r=function(){var t=arguments.length?n.apply(null,arguments):n({});return t=t&&\"object\"===typeof t&&!Array.isArray(t)?[t]:$e(t),t&&(0===t.length||1===t.length&&t[0].isComment)?void 0:t};return n.proxy&&Object.defineProperty(t,e,{get:r,enumerable:!0,configurable:!0}),r}function Pe(t,e){return function(){return t[e]}}function Le(t,e){var n,r,o,a,s;if(Array.isArray(t)||\"string\"===typeof t)for(n=new Array(t.length),r=0,o=t.length;r<o;r++)n[r]=e(t[r],r);else if(\"number\"===typeof t)for(n=new Array(t),r=0;r<t;r++)n[r]=e(r+1,r);else if(c(t))if(dt&&t[Symbol.iterator]){n=[];var l=t[Symbol.iterator](),u=l.next();while(!u.done)n.push(e(u.value,n.length)),u=l.next()}else for(a=Object.keys(t),n=new Array(a.length),r=0,o=a.length;r<o;r++)s=a[r],n[r]=e(t[s],s,r);return i(n)||(n=[]),n._isVList=!0,n}function Fe(t,e,n,r){var i,o=this.$scopedSlots[t];o?(n=n||{},r&&(n=j(j({},r),n)),i=o(n)||e):i=this.$slots[t]||e;var a=n&&n.slot;return a?this.$createElement(\"template\",{slot:a},i):i}function Ie(t){return Kt(this.$options,\"filters\",t,!0)||P}function Ve(t,e){return Array.isArray(t)?-1===t.indexOf(e):t!==e}function Re(t,e,n,r,i){var o=z.keyCodes[e]||n;return i&&r&&!z.keyCodes[e]?Ve(i,r):o?Ve(o,t):r?S(r)!==e:void 0}function Be(t,e,n,r,i){if(n)if(c(n)){var o;Array.isArray(n)&&(n=D(n));var a=function(a){if(\"class\"===a||\"style\"===a||y(a))o=t;else{var s=t.attrs&&t.attrs.type;o=r||z.mustUseProp(e,s,a)?t.domProps||(t.domProps={}):t.attrs||(t.attrs={})}var c=x(a),l=S(a);if(!(c in o)&&!(l in o)&&(o[a]=n[a],i)){var u=t.on||(t.on={});u[\"update:\"+a]=function(t){n[a]=t}}};for(var s in n)a(s)}else;return t}function ze(t,e){var n=this._staticTrees||(this._staticTrees=[]),r=n[t];return r&&!e||(r=n[t]=this.$options.staticRenderFns[t].call(this._renderProxy,null,this),He(r,\"__static__\"+t,!1)),r}function Ue(t,e,n){return He(t,\"__once__\"+e+(n?\"_\"+n:\"\"),!0),t}function He(t,e,n){if(Array.isArray(t))for(var r=0;r<t.length;r++)t[r]&&\"string\"!==typeof t[r]&&Ge(t[r],e+\"_\"+r,n);else Ge(t,e,n)}function Ge(t,e,n){t.isStatic=!0,t.key=e,t.isOnce=n}function qe(t,e){if(e)if(u(e)){var n=t.on=t.on?j({},t.on):{};for(var r in e){var i=n[r],o=e[r];n[r]=i?[].concat(i,o):o}}else;return t}function We(t,e,n,r){e=e||{$stable:!n};for(var i=0;i<t.length;i++){var o=t[i];Array.isArray(o)?We(o,e,n):o&&(o.proxy&&(o.fn.proxy=!0),e[o.key]=o.fn)}return r&&(e.$key=r),e}function Xe(t,e){for(var n=0;n<e.length;n+=2){var r=e[n];\"string\"===typeof r&&r&&(t[e[n]]=e[n+1])}return t}function Ke(t,e){return\"string\"===typeof t?e+t:t}function Ye(t){t._o=Ue,t._n=h,t._s=v,t._l=Le,t._t=Fe,t._q=L,t._i=F,t._m=ze,t._f=Ie,t._k=Re,t._b=Be,t._v=Ct,t._e=wt,t._u=We,t._g=qe,t._d=Xe,t._p=Ke}function Je(t,e,r,i,a){var s,c=this,l=a.options;b(i,\"_uid\")?(s=Object.create(i),s._original=i):(s=i,i=i._original);var u=o(l._compiled),f=!u;this.data=t,this.props=e,this.children=r,this.parent=i,this.listeners=t.on||n,this.injections=Ee(l.inject,i),this.slots=function(){return c.$slots||Me(t.scopedSlots,c.$slots=je(r,i)),c.$slots},Object.defineProperty(this,\"scopedSlots\",{enumerable:!0,get:function(){return Me(t.scopedSlots,this.slots())}}),u&&(this.$options=l,this.$slots=this.slots(),this.$scopedSlots=Me(t.scopedSlots,this.$slots)),l._scopeId?this._c=function(t,e,n,r){var o=fn(s,t,e,n,r,f);return o&&!Array.isArray(o)&&(o.fnScopeId=l._scopeId,o.fnContext=i),o}:this._c=function(t,e,n,r){return fn(s,t,e,n,r,f)}}function Ze(t,e,r,o,a){var s=t.options,c={},l=s.props;if(i(l))for(var u in l)c[u]=Yt(u,l,e||n);else i(r.attrs)&&tn(c,r.attrs),i(r.props)&&tn(c,r.props);var f=new Je(r,c,a,o,t),d=s.render.call(null,f._c,f);if(d instanceof _t)return Qe(d,r,f.parent,s,f);if(Array.isArray(d)){for(var p=$e(d)||[],v=new Array(p.length),h=0;h<p.length;h++)v[h]=Qe(p[h],r,f.parent,s,f);return v}}function Qe(t,e,n,r,i){var o=xt(t);return o.fnContext=n,o.fnOptions=r,e.slot&&((o.data||(o.data={})).slot=e.slot),o}function tn(t,e){for(var n in e)t[x(n)]=e[n]}Ye(Je.prototype);var en={init:function(t,e){if(t.componentInstance&&!t.componentInstance._isDestroyed&&t.data.keepAlive){var n=t;en.prepatch(n,n)}else{var r=t.componentInstance=on(t,En);r.$mount(e?t.elm:void 0,e)}},prepatch:function(t,e){var n=e.componentOptions,r=e.componentInstance=t.componentInstance;Pn(r,n.propsData,n.listeners,e,n.children)},insert:function(t){var e=t.context,n=t.componentInstance;n._isMounted||(n._isMounted=!0,Vn(n,\"mounted\")),t.data.keepAlive&&(e._isMounted?Zn(n):Fn(n,!0))},destroy:function(t){var e=t.componentInstance;e._isDestroyed||(t.data.keepAlive?In(e,!0):e.$destroy())}},nn=Object.keys(en);function rn(t,e,n,a,s){if(!r(t)){var l=n.$options._base;if(c(t)&&(t=l.extend(t)),\"function\"===typeof t){var u;if(r(t.cid)&&(u=t,t=wn(u,l),void 0===t))return bn(u,e,n,a,s);e=e||{},wr(t),i(e.model)&&cn(t.options,e);var f=Ce(e,t,s);if(o(t.options.functional))return Ze(t,f,e,n,a);var d=e.on;if(e.on=e.nativeOn,o(t.options.abstract)){var p=e.slot;e={},p&&(e.slot=p)}an(e);var v=t.options.name||s,h=new _t(\"vue-component-\"+t.cid+(v?\"-\"+v:\"\"),e,void 0,void 0,void 0,n,{Ctor:t,propsData:f,listeners:d,tag:s,children:a},u);return h}}}function on(t,e){var n={_isComponent:!0,_parentVnode:t,parent:e},r=t.data.inlineTemplate;return i(r)&&(n.render=r.render,n.staticRenderFns=r.staticRenderFns),new t.componentOptions.Ctor(n)}function an(t){for(var e=t.hook||(t.hook={}),n=0;n<nn.length;n++){var r=nn[n],i=e[r],o=en[r];i===o||i&&i._merged||(e[r]=i?sn(o,i):o)}}function sn(t,e){var n=function(n,r){t(n,r),e(n,r)};return n._merged=!0,n}function cn(t,e){var n=t.model&&t.model.prop||\"value\",r=t.model&&t.model.event||\"input\";(e.attrs||(e.attrs={}))[n]=e.model.value;var o=e.on||(e.on={}),a=o[r],s=e.model.callback;i(a)?(Array.isArray(a)?-1===a.indexOf(s):a!==s)&&(o[r]=[s].concat(a)):o[r]=s}var ln=1,un=2;function fn(t,e,n,r,i,a){return(Array.isArray(n)||s(n))&&(i=r,r=n,n=void 0),o(a)&&(i=un),dn(t,e,n,r,i)}function dn(t,e,n,r,o){if(i(n)&&i(n.__ob__))return wt();if(i(n)&&i(n.is)&&(e=n.is),!e)return wt();var a,s,c;(Array.isArray(r)&&\"function\"===typeof r[0]&&(n=n||{},n.scopedSlots={default:r[0]},r.length=0),o===un?r=$e(r):o===ln&&(r=Ae(r)),\"string\"===typeof e)?(s=t.$vnode&&t.$vnode.ns||z.getTagNamespace(e),a=z.isReservedTag(e)?new _t(z.parsePlatformTagName(e),n,r,void 0,void 0,t):n&&n.pre||!i(c=Kt(t.$options,\"components\",e))?new _t(e,n,r,void 0,void 0,t):rn(c,n,t,r,e)):a=rn(e,n,t,r);return Array.isArray(a)?a:i(a)?(i(s)&&pn(a,s),i(n)&&vn(n),a):wt()}function pn(t,e,n){if(t.ns=e,\"foreignObject\"===t.tag&&(e=void 0,n=!0),i(t.children))for(var a=0,s=t.children.length;a<s;a++){var c=t.children[a];i(c.tag)&&(r(c.ns)||o(n)&&\"svg\"!==c.tag)&&pn(c,e,n)}}function vn(t){c(t.style)&&me(t.style),c(t.class)&&me(t.class)}function hn(t){t._vnode=null,t._staticTrees=null;var e=t.$options,r=t.$vnode=e._parentVnode,i=r&&r.context;t.$slots=je(e._renderChildren,i),t.$scopedSlots=n,t._c=function(e,n,r,i){return fn(t,e,n,r,i,!1)},t.$createElement=function(e,n,r,i){return fn(t,e,n,r,i,!0)};var o=r&&r.data;Nt(t,\"$attrs\",o&&o.attrs||n,null,!0),Nt(t,\"$listeners\",e._parentListeners||n,null,!0)}var mn,yn=null;function gn(t){Ye(t.prototype),t.prototype.$nextTick=function(t){return ve(t,this)},t.prototype._render=function(){var t,e=this,n=e.$options,r=n.render,i=n._parentVnode;i&&(e.$scopedSlots=Me(i.data.scopedSlots,e.$slots,e.$scopedSlots)),e.$vnode=i;try{yn=e,t=r.call(e._renderProxy,e.$createElement)}catch(xa){ee(xa,e,\"render\"),t=e._vnode}finally{yn=null}return Array.isArray(t)&&1===t.length&&(t=t[0]),t instanceof _t||(t=wt()),t.parent=i,t}}function _n(t,e){return(t.__esModule||dt&&\"Module\"===t[Symbol.toStringTag])&&(t=t.default),c(t)?e.extend(t):t}function bn(t,e,n,r,i){var o=wt();return o.asyncFactory=t,o.asyncMeta={data:e,context:n,children:r,tag:i},o}function wn(t,e){if(o(t.error)&&i(t.errorComp))return t.errorComp;if(i(t.resolved))return t.resolved;var n=yn;if(n&&i(t.owners)&&-1===t.owners.indexOf(n)&&t.owners.push(n),o(t.loading)&&i(t.loadingComp))return t.loadingComp;if(n&&!i(t.owners)){var a=t.owners=[n],s=!0,l=null,u=null;n.$on(\"hook:destroyed\",(function(){return g(a,n)}));var f=function(t){for(var e=0,n=a.length;e<n;e++)a[e].$forceUpdate();t&&(a.length=0,null!==l&&(clearTimeout(l),l=null),null!==u&&(clearTimeout(u),u=null))},d=I((function(n){t.resolved=_n(n,e),s?a.length=0:f(!0)})),v=I((function(e){i(t.errorComp)&&(t.error=!0,f(!0))})),h=t(d,v);return c(h)&&(p(h)?r(t.resolved)&&h.then(d,v):p(h.component)&&(h.component.then(d,v),i(h.error)&&(t.errorComp=_n(h.error,e)),i(h.loading)&&(t.loadingComp=_n(h.loading,e),0===h.delay?t.loading=!0:l=setTimeout((function(){l=null,r(t.resolved)&&r(t.error)&&(t.loading=!0,f(!1))}),h.delay||200)),i(h.timeout)&&(u=setTimeout((function(){u=null,r(t.resolved)&&v(null)}),h.timeout)))),s=!1,t.loading?t.loadingComp:t.resolved}}function Cn(t){return t.isComment&&t.asyncFactory}function xn(t){if(Array.isArray(t))for(var e=0;e<t.length;e++){var n=t[e];if(i(n)&&(i(n.componentOptions)||Cn(n)))return n}}function An(t){t._events=Object.create(null),t._hasHookEvent=!1;var e=t.$options._parentListeners;e&&On(t,e)}function $n(t,e){mn.$on(t,e)}function Sn(t,e){mn.$off(t,e)}function kn(t,e){var n=mn;return function r(){var i=e.apply(null,arguments);null!==i&&n.$off(t,r)}}function On(t,e,n){mn=t,be(e,n||{},$n,Sn,kn,t),mn=void 0}function Tn(t){var e=/^hook:/;t.prototype.$on=function(t,n){var r=this;if(Array.isArray(t))for(var i=0,o=t.length;i<o;i++)r.$on(t[i],n);else(r._events[t]||(r._events[t]=[])).push(n),e.test(t)&&(r._hasHookEvent=!0);return r},t.prototype.$once=function(t,e){var n=this;function r(){n.$off(t,r),e.apply(n,arguments)}return r.fn=e,n.$on(t,r),n},t.prototype.$off=function(t,e){var n=this;if(!arguments.length)return n._events=Object.create(null),n;if(Array.isArray(t)){for(var r=0,i=t.length;r<i;r++)n.$off(t[r],e);return n}var o,a=n._events[t];if(!a)return n;if(!e)return n._events[t]=null,n;var s=a.length;while(s--)if(o=a[s],o===e||o.fn===e){a.splice(s,1);break}return n},t.prototype.$emit=function(t){var e=this,n=e._events[t];if(n){n=n.length>1?E(n):n;for(var r=E(arguments,1),i='event handler for \"'+t+'\"',o=0,a=n.length;o<a;o++)ne(n[o],e,r,e,i)}return e}}var En=null;function jn(t){var e=En;return En=t,function(){En=e}}function Dn(t){var e=t.$options,n=e.parent;if(n&&!e.abstract){while(n.$options.abstract&&n.$parent)n=n.$parent;n.$children.push(t)}t.$parent=n,t.$root=n?n.$root:t,t.$children=[],t.$refs={},t._watcher=null,t._inactive=null,t._directInactive=!1,t._isMounted=!1,t._isDestroyed=!1,t._isBeingDestroyed=!1}function Mn(t){t.prototype._update=function(t,e){var n=this,r=n.$el,i=n._vnode,o=jn(n);n._vnode=t,n.$el=i?n.__patch__(i,t):n.__patch__(n.$el,t,e,!1),o(),r&&(r.__vue__=null),n.$el&&(n.$el.__vue__=n),n.$vnode&&n.$parent&&n.$vnode===n.$parent._vnode&&(n.$parent.$el=n.$el)},t.prototype.$forceUpdate=function(){var t=this;t._watcher&&t._watcher.update()},t.prototype.$destroy=function(){var t=this;if(!t._isBeingDestroyed){Vn(t,\"beforeDestroy\"),t._isBeingDestroyed=!0;var e=t.$parent;!e||e._isBeingDestroyed||t.$options.abstract||g(e.$children,t),t._watcher&&t._watcher.teardown();var n=t._watchers.length;while(n--)t._watchers[n].teardown();t._data.__ob__&&t._data.__ob__.vmCount--,t._isDestroyed=!0,t.__patch__(t._vnode,null),Vn(t,\"destroyed\"),t.$off(),t.$el&&(t.$el.__vue__=null),t.$vnode&&(t.$vnode.parent=null)}}}function Nn(t,e,n){var r;return t.$el=e,t.$options.render||(t.$options.render=wt),Vn(t,\"beforeMount\"),r=function(){t._update(t._render(),n)},new nr(t,r,M,{before:function(){t._isMounted&&!t._isDestroyed&&Vn(t,\"beforeUpdate\")}},!0),n=!1,null==t.$vnode&&(t._isMounted=!0,Vn(t,\"mounted\")),t}function Pn(t,e,r,i,o){var a=i.data.scopedSlots,s=t.$scopedSlots,c=!!(a&&!a.$stable||s!==n&&!s.$stable||a&&t.$scopedSlots.$key!==a.$key),l=!!(o||t.$options._renderChildren||c);if(t.$options._parentVnode=i,t.$vnode=i,t._vnode&&(t._vnode.parent=i),t.$options._renderChildren=o,t.$attrs=i.data.attrs||n,t.$listeners=r||n,e&&t.$options.props){Tt(!1);for(var u=t._props,f=t.$options._propKeys||[],d=0;d<f.length;d++){var p=f[d],v=t.$options.props;u[p]=Yt(p,v,e,t)}Tt(!0),t.$options.propsData=e}r=r||n;var h=t.$options._parentListeners;t.$options._parentListeners=r,On(t,r,h),l&&(t.$slots=je(o,i.context),t.$forceUpdate())}function Ln(t){while(t&&(t=t.$parent))if(t._inactive)return!0;return!1}function Fn(t,e){if(e){if(t._directInactive=!1,Ln(t))return}else if(t._directInactive)return;if(t._inactive||null===t._inactive){t._inactive=!1;for(var n=0;n<t.$children.length;n++)Fn(t.$children[n]);Vn(t,\"activated\")}}function In(t,e){if((!e||(t._directInactive=!0,!Ln(t)))&&!t._inactive){t._inactive=!0;for(var n=0;n<t.$children.length;n++)In(t.$children[n]);Vn(t,\"deactivated\")}}function Vn(t,e){yt();var n=t.$options[e],r=e+\" hook\";if(n)for(var i=0,o=n.length;i<o;i++)ne(n[i],t,null,t,r);t._hasHookEvent&&t.$emit(\"hook:\"+e),gt()}var Rn=[],Bn=[],zn={},Un=!1,Hn=!1,Gn=0;function qn(){Gn=Rn.length=Bn.length=0,zn={},Un=Hn=!1}var Wn=0,Xn=Date.now;if(Y&&!tt){var Kn=window.performance;Kn&&\"function\"===typeof Kn.now&&Xn()>document.createEvent(\"Event\").timeStamp&&(Xn=function(){return Kn.now()})}function Yn(){var t,e;for(Wn=Xn(),Hn=!0,Rn.sort((function(t,e){return t.id-e.id})),Gn=0;Gn<Rn.length;Gn++)t=Rn[Gn],t.before&&t.before(),e=t.id,zn[e]=null,t.run();var n=Bn.slice(),r=Rn.slice();qn(),Qn(n),Jn(r),lt&&z.devtools&&lt.emit(\"flush\")}function Jn(t){var e=t.length;while(e--){var n=t[e],r=n.vm;r._watcher===n&&r._isMounted&&!r._isDestroyed&&Vn(r,\"updated\")}}function Zn(t){t._inactive=!1,Bn.push(t)}function Qn(t){for(var e=0;e<t.length;e++)t[e]._inactive=!0,Fn(t[e],!0)}function tr(t){var e=t.id;if(null==zn[e]){if(zn[e]=!0,Hn){var n=Rn.length-1;while(n>Gn&&Rn[n].id>t.id)n--;Rn.splice(n+1,0,t)}else Rn.push(t);Un||(Un=!0,ve(Yn))}}var er=0,nr=function(t,e,n,r,i){this.vm=t,i&&(t._watcher=this),t._watchers.push(this),r?(this.deep=!!r.deep,this.user=!!r.user,this.lazy=!!r.lazy,this.sync=!!r.sync,this.before=r.before):this.deep=this.user=this.lazy=this.sync=!1,this.cb=n,this.id=++er,this.active=!0,this.dirty=this.lazy,this.deps=[],this.newDeps=[],this.depIds=new ft,this.newDepIds=new ft,this.expression=\"\",\"function\"===typeof e?this.getter=e:(this.getter=W(e),this.getter||(this.getter=M)),this.value=this.lazy?void 0:this.get()};nr.prototype.get=function(){var t;yt(this);var e=this.vm;try{t=this.getter.call(e,e)}catch(xa){if(!this.user)throw xa;ee(xa,e,'getter for watcher \"'+this.expression+'\"')}finally{this.deep&&me(t),gt(),this.cleanupDeps()}return t},nr.prototype.addDep=function(t){var e=t.id;this.newDepIds.has(e)||(this.newDepIds.add(e),this.newDeps.push(t),this.depIds.has(e)||t.addSub(this))},nr.prototype.cleanupDeps=function(){var t=this.deps.length;while(t--){var e=this.deps[t];this.newDepIds.has(e.id)||e.removeSub(this)}var n=this.depIds;this.depIds=this.newDepIds,this.newDepIds=n,this.newDepIds.clear(),n=this.deps,this.deps=this.newDeps,this.newDeps=n,this.newDeps.length=0},nr.prototype.update=function(){this.lazy?this.dirty=!0:this.sync?this.run():tr(this)},nr.prototype.run=function(){if(this.active){var t=this.get();if(t!==this.value||c(t)||this.deep){var e=this.value;if(this.value=t,this.user)try{this.cb.call(this.vm,t,e)}catch(xa){ee(xa,this.vm,'callback for watcher \"'+this.expression+'\"')}else this.cb.call(this.vm,t,e)}}},nr.prototype.evaluate=function(){this.value=this.get(),this.dirty=!1},nr.prototype.depend=function(){var t=this.deps.length;while(t--)this.deps[t].depend()},nr.prototype.teardown=function(){if(this.active){this.vm._isBeingDestroyed||g(this.vm._watchers,this);var t=this.deps.length;while(t--)this.deps[t].removeSub(this);this.active=!1}};var rr={enumerable:!0,configurable:!0,get:M,set:M};function ir(t,e,n){rr.get=function(){return this[e][n]},rr.set=function(t){this[e][n]=t},Object.defineProperty(t,n,rr)}function or(t){t._watchers=[];var e=t.$options;e.props&&ar(t,e.props),e.methods&&vr(t,e.methods),e.data?sr(t):Mt(t._data={},!0),e.computed&&ur(t,e.computed),e.watch&&e.watch!==ot&&hr(t,e.watch)}function ar(t,e){var n=t.$options.propsData||{},r=t._props={},i=t.$options._propKeys=[],o=!t.$parent;o||Tt(!1);var a=function(o){i.push(o);var a=Yt(o,e,n,t);Nt(r,o,a),o in t||ir(t,\"_props\",o)};for(var s in e)a(s);Tt(!0)}function sr(t){var e=t.$options.data;e=t._data=\"function\"===typeof e?cr(e,t):e||{},u(e)||(e={});var n=Object.keys(e),r=t.$options.props,i=(t.$options.methods,n.length);while(i--){var o=n[i];0,r&&b(r,o)||H(o)||ir(t,\"_data\",o)}Mt(e,!0)}function cr(t,e){yt();try{return t.call(e,e)}catch(xa){return ee(xa,e,\"data()\"),{}}finally{gt()}}var lr={lazy:!0};function ur(t,e){var n=t._computedWatchers=Object.create(null),r=ct();for(var i in e){var o=e[i],a=\"function\"===typeof o?o:o.get;0,r||(n[i]=new nr(t,a||M,M,lr)),i in t||fr(t,i,o)}}function fr(t,e,n){var r=!ct();\"function\"===typeof n?(rr.get=r?dr(e):pr(n),rr.set=M):(rr.get=n.get?r&&!1!==n.cache?dr(e):pr(n.get):M,rr.set=n.set||M),Object.defineProperty(t,e,rr)}function dr(t){return function(){var e=this._computedWatchers&&this._computedWatchers[t];if(e)return e.dirty&&e.evaluate(),ht.target&&e.depend(),e.value}}function pr(t){return function(){return t.call(this,this)}}function vr(t,e){t.$options.props;for(var n in e)t[n]=\"function\"!==typeof e[n]?M:T(e[n],t)}function hr(t,e){for(var n in e){var r=e[n];if(Array.isArray(r))for(var i=0;i<r.length;i++)mr(t,n,r[i]);else mr(t,n,r)}}function mr(t,e,n,r){return u(n)&&(r=n,n=n.handler),\"string\"===typeof n&&(n=t[n]),t.$watch(e,n,r)}function yr(t){var e={get:function(){return this._data}},n={get:function(){return this._props}};Object.defineProperty(t.prototype,\"$data\",e),Object.defineProperty(t.prototype,\"$props\",n),t.prototype.$set=Pt,t.prototype.$delete=Lt,t.prototype.$watch=function(t,e,n){var r=this;if(u(e))return mr(r,t,e,n);n=n||{},n.user=!0;var i=new nr(r,t,e,n);if(n.immediate)try{e.call(r,i.value)}catch(o){ee(o,r,'callback for immediate watcher \"'+i.expression+'\"')}return function(){i.teardown()}}}var gr=0;function _r(t){t.prototype._init=function(t){var e=this;e._uid=gr++,e._isVue=!0,t&&t._isComponent?br(e,t):e.$options=Xt(wr(e.constructor),t||{},e),e._renderProxy=e,e._self=e,Dn(e),An(e),hn(e),Vn(e,\"beforeCreate\"),Te(e),or(e),Oe(e),Vn(e,\"created\"),e.$options.el&&e.$mount(e.$options.el)}}function br(t,e){var n=t.$options=Object.create(t.constructor.options),r=e._parentVnode;n.parent=e.parent,n._parentVnode=r;var i=r.componentOptions;n.propsData=i.propsData,n._parentListeners=i.listeners,n._renderChildren=i.children,n._componentTag=i.tag,e.render&&(n.render=e.render,n.staticRenderFns=e.staticRenderFns)}function wr(t){var e=t.options;if(t.super){var n=wr(t.super),r=t.superOptions;if(n!==r){t.superOptions=n;var i=Cr(t);i&&j(t.extendOptions,i),e=t.options=Xt(n,t.extendOptions),e.name&&(e.components[e.name]=t)}}return e}function Cr(t){var e,n=t.options,r=t.sealedOptions;for(var i in n)n[i]!==r[i]&&(e||(e={}),e[i]=n[i]);return e}function xr(t){this._init(t)}function Ar(t){t.use=function(t){var e=this._installedPlugins||(this._installedPlugins=[]);if(e.indexOf(t)>-1)return this;var n=E(arguments,1);return n.unshift(this),\"function\"===typeof t.install?t.install.apply(t,n):\"function\"===typeof t&&t.apply(null,n),e.push(t),this}}function $r(t){t.mixin=function(t){return this.options=Xt(this.options,t),this}}function Sr(t){t.cid=0;var e=1;t.extend=function(t){t=t||{};var n=this,r=n.cid,i=t._Ctor||(t._Ctor={});if(i[r])return i[r];var o=t.name||n.options.name;var a=function(t){this._init(t)};return a.prototype=Object.create(n.prototype),a.prototype.constructor=a,a.cid=e++,a.options=Xt(n.options,t),a[\"super\"]=n,a.options.props&&kr(a),a.options.computed&&Or(a),a.extend=n.extend,a.mixin=n.mixin,a.use=n.use,R.forEach((function(t){a[t]=n[t]})),o&&(a.options.components[o]=a),a.superOptions=n.options,a.extendOptions=t,a.sealedOptions=j({},a.options),i[r]=a,a}}function kr(t){var e=t.options.props;for(var n in e)ir(t.prototype,\"_props\",n)}function Or(t){var e=t.options.computed;for(var n in e)fr(t.prototype,n,e[n])}function Tr(t){R.forEach((function(e){t[e]=function(t,n){return n?(\"component\"===e&&u(n)&&(n.name=n.name||t,n=this.options._base.extend(n)),\"directive\"===e&&\"function\"===typeof n&&(n={bind:n,update:n}),this.options[e+\"s\"][t]=n,n):this.options[e+\"s\"][t]}}))}function Er(t){return t&&(t.Ctor.options.name||t.tag)}function jr(t,e){return Array.isArray(t)?t.indexOf(e)>-1:\"string\"===typeof t?t.split(\",\").indexOf(e)>-1:!!f(t)&&t.test(e)}function Dr(t,e){var n=t.cache,r=t.keys,i=t._vnode;for(var o in n){var a=n[o];if(a){var s=Er(a.componentOptions);s&&!e(s)&&Mr(n,o,r,i)}}}function Mr(t,e,n,r){var i=t[e];!i||r&&i.tag===r.tag||i.componentInstance.$destroy(),t[e]=null,g(n,e)}_r(xr),yr(xr),Tn(xr),Mn(xr),gn(xr);var Nr=[String,RegExp,Array],Pr={name:\"keep-alive\",abstract:!0,props:{include:Nr,exclude:Nr,max:[String,Number]},created:function(){this.cache=Object.create(null),this.keys=[]},destroyed:function(){for(var t in this.cache)Mr(this.cache,t,this.keys)},mounted:function(){var t=this;this.$watch(\"include\",(function(e){Dr(t,(function(t){return jr(e,t)}))})),this.$watch(\"exclude\",(function(e){Dr(t,(function(t){return!jr(e,t)}))}))},render:function(){var t=this.$slots.default,e=xn(t),n=e&&e.componentOptions;if(n){var r=Er(n),i=this,o=i.include,a=i.exclude;if(o&&(!r||!jr(o,r))||a&&r&&jr(a,r))return e;var s=this,c=s.cache,l=s.keys,u=null==e.key?n.Ctor.cid+(n.tag?\"::\"+n.tag:\"\"):e.key;c[u]?(e.componentInstance=c[u].componentInstance,g(l,u),l.push(u)):(c[u]=e,l.push(u),this.max&&l.length>parseInt(this.max)&&Mr(c,l[0],l,this._vnode)),e.data.keepAlive=!0}return e||t&&t[0]}},Lr={KeepAlive:Pr};function Fr(t){var e={get:function(){return z}};Object.defineProperty(t,\"config\",e),t.util={warn:pt,extend:j,mergeOptions:Xt,defineReactive:Nt},t.set=Pt,t.delete=Lt,t.nextTick=ve,t.observable=function(t){return Mt(t),t},t.options=Object.create(null),R.forEach((function(e){t.options[e+\"s\"]=Object.create(null)})),t.options._base=t,j(t.options.components,Lr),Ar(t),$r(t),Sr(t),Tr(t)}Fr(xr),Object.defineProperty(xr.prototype,\"$isServer\",{get:ct}),Object.defineProperty(xr.prototype,\"$ssrContext\",{get:function(){return this.$vnode&&this.$vnode.ssrContext}}),Object.defineProperty(xr,\"FunctionalRenderContext\",{value:Je}),xr.version=\"2.6.12\";var Ir=m(\"style,class\"),Vr=m(\"input,textarea,option,select,progress\"),Rr=function(t,e,n){return\"value\"===n&&Vr(t)&&\"button\"!==e||\"selected\"===n&&\"option\"===t||\"checked\"===n&&\"input\"===t||\"muted\"===n&&\"video\"===t},Br=m(\"contenteditable,draggable,spellcheck\"),zr=m(\"events,caret,typing,plaintext-only\"),Ur=function(t,e){return Xr(e)||\"false\"===e?\"false\":\"contenteditable\"===t&&zr(e)?e:\"true\"},Hr=m(\"allowfullscreen,async,autofocus,autoplay,checked,compact,controls,declare,default,defaultchecked,defaultmuted,defaultselected,defer,disabled,enabled,formnovalidate,hidden,indeterminate,inert,ismap,itemscope,loop,multiple,muted,nohref,noresize,noshade,novalidate,nowrap,open,pauseonexit,readonly,required,reversed,scoped,seamless,selected,sortable,translate,truespeed,typemustmatch,visible\"),Gr=\"http://www.w3.org/1999/xlink\",qr=function(t){return\":\"===t.charAt(5)&&\"xlink\"===t.slice(0,5)},Wr=function(t){return qr(t)?t.slice(6,t.length):\"\"},Xr=function(t){return null==t||!1===t};function Kr(t){var e=t.data,n=t,r=t;while(i(r.componentInstance))r=r.componentInstance._vnode,r&&r.data&&(e=Yr(r.data,e));while(i(n=n.parent))n&&n.data&&(e=Yr(e,n.data));return Jr(e.staticClass,e.class)}function Yr(t,e){return{staticClass:Zr(t.staticClass,e.staticClass),class:i(t.class)?[t.class,e.class]:e.class}}function Jr(t,e){return i(t)||i(e)?Zr(t,Qr(e)):\"\"}function Zr(t,e){return t?e?t+\" \"+e:t:e||\"\"}function Qr(t){return Array.isArray(t)?ti(t):c(t)?ei(t):\"string\"===typeof t?t:\"\"}function ti(t){for(var e,n=\"\",r=0,o=t.length;r<o;r++)i(e=Qr(t[r]))&&\"\"!==e&&(n&&(n+=\" \"),n+=e);return n}function ei(t){var e=\"\";for(var n in t)t[n]&&(e&&(e+=\" \"),e+=n);return e}var ni={svg:\"http://www.w3.org/2000/svg\",math:\"http://www.w3.org/1998/Math/MathML\"},ri=m(\"html,body,base,head,link,meta,style,title,address,article,aside,footer,header,h1,h2,h3,h4,h5,h6,hgroup,nav,section,div,dd,dl,dt,figcaption,figure,picture,hr,img,li,main,ol,p,pre,ul,a,b,abbr,bdi,bdo,br,cite,code,data,dfn,em,i,kbd,mark,q,rp,rt,rtc,ruby,s,samp,small,span,strong,sub,sup,time,u,var,wbr,area,audio,map,track,video,embed,object,param,source,canvas,script,noscript,del,ins,caption,col,colgroup,table,thead,tbody,td,th,tr,button,datalist,fieldset,form,input,label,legend,meter,optgroup,option,output,progress,select,textarea,details,dialog,menu,menuitem,summary,content,element,shadow,template,blockquote,iframe,tfoot\"),ii=m(\"svg,animate,circle,clippath,cursor,defs,desc,ellipse,filter,font-face,foreignObject,g,glyph,image,line,marker,mask,missing-glyph,path,pattern,polygon,polyline,rect,switch,symbol,text,textpath,tspan,use,view\",!0),oi=function(t){return ri(t)||ii(t)};function ai(t){return ii(t)?\"svg\":\"math\"===t?\"math\":void 0}var si=Object.create(null);function ci(t){if(!Y)return!0;if(oi(t))return!1;if(t=t.toLowerCase(),null!=si[t])return si[t];var e=document.createElement(t);return t.indexOf(\"-\")>-1?si[t]=e.constructor===window.HTMLUnknownElement||e.constructor===window.HTMLElement:si[t]=/HTMLUnknownElement/.test(e.toString())}var li=m(\"text,number,password,search,email,tel,url\");function ui(t){if(\"string\"===typeof t){var e=document.querySelector(t);return e||document.createElement(\"div\")}return t}function fi(t,e){var n=document.createElement(t);return\"select\"!==t||e.data&&e.data.attrs&&void 0!==e.data.attrs.multiple&&n.setAttribute(\"multiple\",\"multiple\"),n}function di(t,e){return document.createElementNS(ni[t],e)}function pi(t){return document.createTextNode(t)}function vi(t){return document.createComment(t)}function hi(t,e,n){t.insertBefore(e,n)}function mi(t,e){t.removeChild(e)}function yi(t,e){t.appendChild(e)}function gi(t){return t.parentNode}function _i(t){return t.nextSibling}function bi(t){return t.tagName}function wi(t,e){t.textContent=e}function Ci(t,e){t.setAttribute(e,\"\")}var xi=Object.freeze({createElement:fi,createElementNS:di,createTextNode:pi,createComment:vi,insertBefore:hi,removeChild:mi,appendChild:yi,parentNode:gi,nextSibling:_i,tagName:bi,setTextContent:wi,setStyleScope:Ci}),Ai={create:function(t,e){$i(e)},update:function(t,e){t.data.ref!==e.data.ref&&($i(t,!0),$i(e))},destroy:function(t){$i(t,!0)}};function $i(t,e){var n=t.data.ref;if(i(n)){var r=t.context,o=t.componentInstance||t.elm,a=r.$refs;e?Array.isArray(a[n])?g(a[n],o):a[n]===o&&(a[n]=void 0):t.data.refInFor?Array.isArray(a[n])?a[n].indexOf(o)<0&&a[n].push(o):a[n]=[o]:a[n]=o}}var Si=new _t(\"\",{},[]),ki=[\"create\",\"activate\",\"update\",\"remove\",\"destroy\"];function Oi(t,e){return t.key===e.key&&(t.tag===e.tag&&t.isComment===e.isComment&&i(t.data)===i(e.data)&&Ti(t,e)||o(t.isAsyncPlaceholder)&&t.asyncFactory===e.asyncFactory&&r(e.asyncFactory.error))}function Ti(t,e){if(\"input\"!==t.tag)return!0;var n,r=i(n=t.data)&&i(n=n.attrs)&&n.type,o=i(n=e.data)&&i(n=n.attrs)&&n.type;return r===o||li(r)&&li(o)}function Ei(t,e,n){var r,o,a={};for(r=e;r<=n;++r)o=t[r].key,i(o)&&(a[o]=r);return a}function ji(t){var e,n,a={},c=t.modules,l=t.nodeOps;for(e=0;e<ki.length;++e)for(a[ki[e]]=[],n=0;n<c.length;++n)i(c[n][ki[e]])&&a[ki[e]].push(c[n][ki[e]]);function u(t){return new _t(l.tagName(t).toLowerCase(),{},[],void 0,t)}function f(t,e){function n(){0===--n.listeners&&d(t)}return n.listeners=e,n}function d(t){var e=l.parentNode(t);i(e)&&l.removeChild(e,t)}function p(t,e,n,r,a,s,c){if(i(t.elm)&&i(s)&&(t=s[c]=xt(t)),t.isRootInsert=!a,!v(t,e,n,r)){var u=t.data,f=t.children,d=t.tag;i(d)?(t.elm=t.ns?l.createElementNS(t.ns,d):l.createElement(d,t),C(t),_(t,f,e),i(u)&&w(t,e),g(n,t.elm,r)):o(t.isComment)?(t.elm=l.createComment(t.text),g(n,t.elm,r)):(t.elm=l.createTextNode(t.text),g(n,t.elm,r))}}function v(t,e,n,r){var a=t.data;if(i(a)){var s=i(t.componentInstance)&&a.keepAlive;if(i(a=a.hook)&&i(a=a.init)&&a(t,!1),i(t.componentInstance))return h(t,e),g(n,t.elm,r),o(s)&&y(t,e,n,r),!0}}function h(t,e){i(t.data.pendingInsert)&&(e.push.apply(e,t.data.pendingInsert),t.data.pendingInsert=null),t.elm=t.componentInstance.$el,b(t)?(w(t,e),C(t)):($i(t),e.push(t))}function y(t,e,n,r){var o,s=t;while(s.componentInstance)if(s=s.componentInstance._vnode,i(o=s.data)&&i(o=o.transition)){for(o=0;o<a.activate.length;++o)a.activate[o](Si,s);e.push(s);break}g(n,t.elm,r)}function g(t,e,n){i(t)&&(i(n)?l.parentNode(n)===t&&l.insertBefore(t,e,n):l.appendChild(t,e))}function _(t,e,n){if(Array.isArray(e)){0;for(var r=0;r<e.length;++r)p(e[r],n,t.elm,null,!0,e,r)}else s(t.text)&&l.appendChild(t.elm,l.createTextNode(String(t.text)))}function b(t){while(t.componentInstance)t=t.componentInstance._vnode;return i(t.tag)}function w(t,n){for(var r=0;r<a.create.length;++r)a.create[r](Si,t);e=t.data.hook,i(e)&&(i(e.create)&&e.create(Si,t),i(e.insert)&&n.push(t))}function C(t){var e;if(i(e=t.fnScopeId))l.setStyleScope(t.elm,e);else{var n=t;while(n)i(e=n.context)&&i(e=e.$options._scopeId)&&l.setStyleScope(t.elm,e),n=n.parent}i(e=En)&&e!==t.context&&e!==t.fnContext&&i(e=e.$options._scopeId)&&l.setStyleScope(t.elm,e)}function x(t,e,n,r,i,o){for(;r<=i;++r)p(n[r],o,t,e,!1,n,r)}function A(t){var e,n,r=t.data;if(i(r))for(i(e=r.hook)&&i(e=e.destroy)&&e(t),e=0;e<a.destroy.length;++e)a.destroy[e](t);if(i(e=t.children))for(n=0;n<t.children.length;++n)A(t.children[n])}function $(t,e,n){for(;e<=n;++e){var r=t[e];i(r)&&(i(r.tag)?(S(r),A(r)):d(r.elm))}}function S(t,e){if(i(e)||i(t.data)){var n,r=a.remove.length+1;for(i(e)?e.listeners+=r:e=f(t.elm,r),i(n=t.componentInstance)&&i(n=n._vnode)&&i(n.data)&&S(n,e),n=0;n<a.remove.length;++n)a.remove[n](t,e);i(n=t.data.hook)&&i(n=n.remove)?n(t,e):e()}else d(t.elm)}function k(t,e,n,o,a){var s,c,u,f,d=0,v=0,h=e.length-1,m=e[0],y=e[h],g=n.length-1,_=n[0],b=n[g],w=!a;while(d<=h&&v<=g)r(m)?m=e[++d]:r(y)?y=e[--h]:Oi(m,_)?(T(m,_,o,n,v),m=e[++d],_=n[++v]):Oi(y,b)?(T(y,b,o,n,g),y=e[--h],b=n[--g]):Oi(m,b)?(T(m,b,o,n,g),w&&l.insertBefore(t,m.elm,l.nextSibling(y.elm)),m=e[++d],b=n[--g]):Oi(y,_)?(T(y,_,o,n,v),w&&l.insertBefore(t,y.elm,m.elm),y=e[--h],_=n[++v]):(r(s)&&(s=Ei(e,d,h)),c=i(_.key)?s[_.key]:O(_,e,d,h),r(c)?p(_,o,t,m.elm,!1,n,v):(u=e[c],Oi(u,_)?(T(u,_,o,n,v),e[c]=void 0,w&&l.insertBefore(t,u.elm,m.elm)):p(_,o,t,m.elm,!1,n,v)),_=n[++v]);d>h?(f=r(n[g+1])?null:n[g+1].elm,x(t,f,n,v,g,o)):v>g&&$(e,d,h)}function O(t,e,n,r){for(var o=n;o<r;o++){var a=e[o];if(i(a)&&Oi(t,a))return o}}function T(t,e,n,s,c,u){if(t!==e){i(e.elm)&&i(s)&&(e=s[c]=xt(e));var f=e.elm=t.elm;if(o(t.isAsyncPlaceholder))i(e.asyncFactory.resolved)?D(t.elm,e,n):e.isAsyncPlaceholder=!0;else if(o(e.isStatic)&&o(t.isStatic)&&e.key===t.key&&(o(e.isCloned)||o(e.isOnce)))e.componentInstance=t.componentInstance;else{var d,p=e.data;i(p)&&i(d=p.hook)&&i(d=d.prepatch)&&d(t,e);var v=t.children,h=e.children;if(i(p)&&b(e)){for(d=0;d<a.update.length;++d)a.update[d](t,e);i(d=p.hook)&&i(d=d.update)&&d(t,e)}r(e.text)?i(v)&&i(h)?v!==h&&k(f,v,h,n,u):i(h)?(i(t.text)&&l.setTextContent(f,\"\"),x(f,null,h,0,h.length-1,n)):i(v)?$(v,0,v.length-1):i(t.text)&&l.setTextContent(f,\"\"):t.text!==e.text&&l.setTextContent(f,e.text),i(p)&&i(d=p.hook)&&i(d=d.postpatch)&&d(t,e)}}}function E(t,e,n){if(o(n)&&i(t.parent))t.parent.data.pendingInsert=e;else for(var r=0;r<e.length;++r)e[r].data.hook.insert(e[r])}var j=m(\"attrs,class,staticClass,staticStyle,key\");function D(t,e,n,r){var a,s=e.tag,c=e.data,l=e.children;if(r=r||c&&c.pre,e.elm=t,o(e.isComment)&&i(e.asyncFactory))return e.isAsyncPlaceholder=!0,!0;if(i(c)&&(i(a=c.hook)&&i(a=a.init)&&a(e,!0),i(a=e.componentInstance)))return h(e,n),!0;if(i(s)){if(i(l))if(t.hasChildNodes())if(i(a=c)&&i(a=a.domProps)&&i(a=a.innerHTML)){if(a!==t.innerHTML)return!1}else{for(var u=!0,f=t.firstChild,d=0;d<l.length;d++){if(!f||!D(f,l[d],n,r)){u=!1;break}f=f.nextSibling}if(!u||f)return!1}else _(e,l,n);if(i(c)){var p=!1;for(var v in c)if(!j(v)){p=!0,w(e,n);break}!p&&c[\"class\"]&&me(c[\"class\"])}}else t.data!==e.text&&(t.data=e.text);return!0}return function(t,e,n,s){if(!r(e)){var c=!1,f=[];if(r(t))c=!0,p(e,f);else{var d=i(t.nodeType);if(!d&&Oi(t,e))T(t,e,f,null,null,s);else{if(d){if(1===t.nodeType&&t.hasAttribute(V)&&(t.removeAttribute(V),n=!0),o(n)&&D(t,e,f))return E(e,f,!0),t;t=u(t)}var v=t.elm,h=l.parentNode(v);if(p(e,f,v._leaveCb?null:h,l.nextSibling(v)),i(e.parent)){var m=e.parent,y=b(e);while(m){for(var g=0;g<a.destroy.length;++g)a.destroy[g](m);if(m.elm=e.elm,y){for(var _=0;_<a.create.length;++_)a.create[_](Si,m);var w=m.data.hook.insert;if(w.merged)for(var C=1;C<w.fns.length;C++)w.fns[C]()}else $i(m);m=m.parent}}i(h)?$([t],0,0):i(t.tag)&&A(t)}}return E(e,f,c),e.elm}i(t)&&A(t)}}var Di={create:Mi,update:Mi,destroy:function(t){Mi(t,Si)}};function Mi(t,e){(t.data.directives||e.data.directives)&&Ni(t,e)}function Ni(t,e){var n,r,i,o=t===Si,a=e===Si,s=Li(t.data.directives,t.context),c=Li(e.data.directives,e.context),l=[],u=[];for(n in c)r=s[n],i=c[n],r?(i.oldValue=r.value,i.oldArg=r.arg,Ii(i,\"update\",e,t),i.def&&i.def.componentUpdated&&u.push(i)):(Ii(i,\"bind\",e,t),i.def&&i.def.inserted&&l.push(i));if(l.length){var f=function(){for(var n=0;n<l.length;n++)Ii(l[n],\"inserted\",e,t)};o?we(e,\"insert\",f):f()}if(u.length&&we(e,\"postpatch\",(function(){for(var n=0;n<u.length;n++)Ii(u[n],\"componentUpdated\",e,t)})),!o)for(n in s)c[n]||Ii(s[n],\"unbind\",t,t,a)}var Pi=Object.create(null);function Li(t,e){var n,r,i=Object.create(null);if(!t)return i;for(n=0;n<t.length;n++)r=t[n],r.modifiers||(r.modifiers=Pi),i[Fi(r)]=r,r.def=Kt(e.$options,\"directives\",r.name,!0);return i}function Fi(t){return t.rawName||t.name+\".\"+Object.keys(t.modifiers||{}).join(\".\")}function Ii(t,e,n,r,i){var o=t.def&&t.def[e];if(o)try{o(n.elm,t,n,r,i)}catch(xa){ee(xa,n.context,\"directive \"+t.name+\" \"+e+\" hook\")}}var Vi=[Ai,Di];function Ri(t,e){var n=e.componentOptions;if((!i(n)||!1!==n.Ctor.options.inheritAttrs)&&(!r(t.data.attrs)||!r(e.data.attrs))){var o,a,s,c=e.elm,l=t.data.attrs||{},u=e.data.attrs||{};for(o in i(u.__ob__)&&(u=e.data.attrs=j({},u)),u)a=u[o],s=l[o],s!==a&&Bi(c,o,a);for(o in(tt||nt)&&u.value!==l.value&&Bi(c,\"value\",u.value),l)r(u[o])&&(qr(o)?c.removeAttributeNS(Gr,Wr(o)):Br(o)||c.removeAttribute(o))}}function Bi(t,e,n){t.tagName.indexOf(\"-\")>-1?zi(t,e,n):Hr(e)?Xr(n)?t.removeAttribute(e):(n=\"allowfullscreen\"===e&&\"EMBED\"===t.tagName?\"true\":e,t.setAttribute(e,n)):Br(e)?t.setAttribute(e,Ur(e,n)):qr(e)?Xr(n)?t.removeAttributeNS(Gr,Wr(e)):t.setAttributeNS(Gr,e,n):zi(t,e,n)}function zi(t,e,n){if(Xr(n))t.removeAttribute(e);else{if(tt&&!et&&\"TEXTAREA\"===t.tagName&&\"placeholder\"===e&&\"\"!==n&&!t.__ieph){var r=function(e){e.stopImmediatePropagation(),t.removeEventListener(\"input\",r)};t.addEventListener(\"input\",r),t.__ieph=!0}t.setAttribute(e,n)}}var Ui={create:Ri,update:Ri};function Hi(t,e){var n=e.elm,o=e.data,a=t.data;if(!(r(o.staticClass)&&r(o.class)&&(r(a)||r(a.staticClass)&&r(a.class)))){var s=Kr(e),c=n._transitionClasses;i(c)&&(s=Zr(s,Qr(c))),s!==n._prevClass&&(n.setAttribute(\"class\",s),n._prevClass=s)}}var Gi,qi={create:Hi,update:Hi},Wi=\"__r\",Xi=\"__c\";function Ki(t){if(i(t[Wi])){var e=tt?\"change\":\"input\";t[e]=[].concat(t[Wi],t[e]||[]),delete t[Wi]}i(t[Xi])&&(t.change=[].concat(t[Xi],t.change||[]),delete t[Xi])}function Yi(t,e,n){var r=Gi;return function i(){var o=e.apply(null,arguments);null!==o&&Qi(t,i,n,r)}}var Ji=ae&&!(it&&Number(it[1])<=53);function Zi(t,e,n,r){if(Ji){var i=Wn,o=e;e=o._wrapper=function(t){if(t.target===t.currentTarget||t.timeStamp>=i||t.timeStamp<=0||t.target.ownerDocument!==document)return o.apply(this,arguments)}}Gi.addEventListener(t,e,at?{capture:n,passive:r}:n)}function Qi(t,e,n,r){(r||Gi).removeEventListener(t,e._wrapper||e,n)}function to(t,e){if(!r(t.data.on)||!r(e.data.on)){var n=e.data.on||{},i=t.data.on||{};Gi=e.elm,Ki(n),be(n,i,Zi,Qi,Yi,e.context),Gi=void 0}}var eo,no={create:to,update:to};function ro(t,e){if(!r(t.data.domProps)||!r(e.data.domProps)){var n,o,a=e.elm,s=t.data.domProps||{},c=e.data.domProps||{};for(n in i(c.__ob__)&&(c=e.data.domProps=j({},c)),s)n in c||(a[n]=\"\");for(n in c){if(o=c[n],\"textContent\"===n||\"innerHTML\"===n){if(e.children&&(e.children.length=0),o===s[n])continue;1===a.childNodes.length&&a.removeChild(a.childNodes[0])}if(\"value\"===n&&\"PROGRESS\"!==a.tagName){a._value=o;var l=r(o)?\"\":String(o);io(a,l)&&(a.value=l)}else if(\"innerHTML\"===n&&ii(a.tagName)&&r(a.innerHTML)){eo=eo||document.createElement(\"div\"),eo.innerHTML=\"<svg>\"+o+\"</svg>\";var u=eo.firstChild;while(a.firstChild)a.removeChild(a.firstChild);while(u.firstChild)a.appendChild(u.firstChild)}else if(o!==s[n])try{a[n]=o}catch(xa){}}}}function io(t,e){return!t.composing&&(\"OPTION\"===t.tagName||oo(t,e)||ao(t,e))}function oo(t,e){var n=!0;try{n=document.activeElement!==t}catch(xa){}return n&&t.value!==e}function ao(t,e){var n=t.value,r=t._vModifiers;if(i(r)){if(r.number)return h(n)!==h(e);if(r.trim)return n.trim()!==e.trim()}return n!==e}var so={create:ro,update:ro},co=w((function(t){var e={},n=/;(?![^(]*\\))/g,r=/:(.+)/;return t.split(n).forEach((function(t){if(t){var n=t.split(r);n.length>1&&(e[n[0].trim()]=n[1].trim())}})),e}));function lo(t){var e=uo(t.style);return t.staticStyle?j(t.staticStyle,e):e}function uo(t){return Array.isArray(t)?D(t):\"string\"===typeof t?co(t):t}function fo(t,e){var n,r={};if(e){var i=t;while(i.componentInstance)i=i.componentInstance._vnode,i&&i.data&&(n=lo(i.data))&&j(r,n)}(n=lo(t.data))&&j(r,n);var o=t;while(o=o.parent)o.data&&(n=lo(o.data))&&j(r,n);return r}var po,vo=/^--/,ho=/\\s*!important$/,mo=function(t,e,n){if(vo.test(e))t.style.setProperty(e,n);else if(ho.test(n))t.style.setProperty(S(e),n.replace(ho,\"\"),\"important\");else{var r=go(e);if(Array.isArray(n))for(var i=0,o=n.length;i<o;i++)t.style[r]=n[i];else t.style[r]=n}},yo=[\"Webkit\",\"Moz\",\"ms\"],go=w((function(t){if(po=po||document.createElement(\"div\").style,t=x(t),\"filter\"!==t&&t in po)return t;for(var e=t.charAt(0).toUpperCase()+t.slice(1),n=0;n<yo.length;n++){var r=yo[n]+e;if(r in po)return r}}));function _o(t,e){var n=e.data,o=t.data;if(!(r(n.staticStyle)&&r(n.style)&&r(o.staticStyle)&&r(o.style))){var a,s,c=e.elm,l=o.staticStyle,u=o.normalizedStyle||o.style||{},f=l||u,d=uo(e.data.style)||{};e.data.normalizedStyle=i(d.__ob__)?j({},d):d;var p=fo(e,!0);for(s in f)r(p[s])&&mo(c,s,\"\");for(s in p)a=p[s],a!==f[s]&&mo(c,s,null==a?\"\":a)}}var bo={create:_o,update:_o},wo=/\\s+/;function Co(t,e){if(e&&(e=e.trim()))if(t.classList)e.indexOf(\" \")>-1?e.split(wo).forEach((function(e){return t.classList.add(e)})):t.classList.add(e);else{var n=\" \"+(t.getAttribute(\"class\")||\"\")+\" \";n.indexOf(\" \"+e+\" \")<0&&t.setAttribute(\"class\",(n+e).trim())}}function xo(t,e){if(e&&(e=e.trim()))if(t.classList)e.indexOf(\" \")>-1?e.split(wo).forEach((function(e){return t.classList.remove(e)})):t.classList.remove(e),t.classList.length||t.removeAttribute(\"class\");else{var n=\" \"+(t.getAttribute(\"class\")||\"\")+\" \",r=\" \"+e+\" \";while(n.indexOf(r)>=0)n=n.replace(r,\" \");n=n.trim(),n?t.setAttribute(\"class\",n):t.removeAttribute(\"class\")}}function Ao(t){if(t){if(\"object\"===typeof t){var e={};return!1!==t.css&&j(e,$o(t.name||\"v\")),j(e,t),e}return\"string\"===typeof t?$o(t):void 0}}var $o=w((function(t){return{enterClass:t+\"-enter\",enterToClass:t+\"-enter-to\",enterActiveClass:t+\"-enter-active\",leaveClass:t+\"-leave\",leaveToClass:t+\"-leave-to\",leaveActiveClass:t+\"-leave-active\"}})),So=Y&&!et,ko=\"transition\",Oo=\"animation\",To=\"transition\",Eo=\"transitionend\",jo=\"animation\",Do=\"animationend\";So&&(void 0===window.ontransitionend&&void 0!==window.onwebkittransitionend&&(To=\"WebkitTransition\",Eo=\"webkitTransitionEnd\"),void 0===window.onanimationend&&void 0!==window.onwebkitanimationend&&(jo=\"WebkitAnimation\",Do=\"webkitAnimationEnd\"));var Mo=Y?window.requestAnimationFrame?window.requestAnimationFrame.bind(window):setTimeout:function(t){return t()};function No(t){Mo((function(){Mo(t)}))}function Po(t,e){var n=t._transitionClasses||(t._transitionClasses=[]);n.indexOf(e)<0&&(n.push(e),Co(t,e))}function Lo(t,e){t._transitionClasses&&g(t._transitionClasses,e),xo(t,e)}function Fo(t,e,n){var r=Vo(t,e),i=r.type,o=r.timeout,a=r.propCount;if(!i)return n();var s=i===ko?Eo:Do,c=0,l=function(){t.removeEventListener(s,u),n()},u=function(e){e.target===t&&++c>=a&&l()};setTimeout((function(){c<a&&l()}),o+1),t.addEventListener(s,u)}var Io=/\\b(transform|all)(,|$)/;function Vo(t,e){var n,r=window.getComputedStyle(t),i=(r[To+\"Delay\"]||\"\").split(\", \"),o=(r[To+\"Duration\"]||\"\").split(\", \"),a=Ro(i,o),s=(r[jo+\"Delay\"]||\"\").split(\", \"),c=(r[jo+\"Duration\"]||\"\").split(\", \"),l=Ro(s,c),u=0,f=0;e===ko?a>0&&(n=ko,u=a,f=o.length):e===Oo?l>0&&(n=Oo,u=l,f=c.length):(u=Math.max(a,l),n=u>0?a>l?ko:Oo:null,f=n?n===ko?o.length:c.length:0);var d=n===ko&&Io.test(r[To+\"Property\"]);return{type:n,timeout:u,propCount:f,hasTransform:d}}function Ro(t,e){while(t.length<e.length)t=t.concat(t);return Math.max.apply(null,e.map((function(e,n){return Bo(e)+Bo(t[n])})))}function Bo(t){return 1e3*Number(t.slice(0,-1).replace(\",\",\".\"))}function zo(t,e){var n=t.elm;i(n._leaveCb)&&(n._leaveCb.cancelled=!0,n._leaveCb());var o=Ao(t.data.transition);if(!r(o)&&!i(n._enterCb)&&1===n.nodeType){var a=o.css,s=o.type,l=o.enterClass,u=o.enterToClass,f=o.enterActiveClass,d=o.appearClass,p=o.appearToClass,v=o.appearActiveClass,m=o.beforeEnter,y=o.enter,g=o.afterEnter,_=o.enterCancelled,b=o.beforeAppear,w=o.appear,C=o.afterAppear,x=o.appearCancelled,A=o.duration,$=En,S=En.$vnode;while(S&&S.parent)$=S.context,S=S.parent;var k=!$._isMounted||!t.isRootInsert;if(!k||w||\"\"===w){var O=k&&d?d:l,T=k&&v?v:f,E=k&&p?p:u,j=k&&b||m,D=k&&\"function\"===typeof w?w:y,M=k&&C||g,N=k&&x||_,P=h(c(A)?A.enter:A);0;var L=!1!==a&&!et,F=Go(D),V=n._enterCb=I((function(){L&&(Lo(n,E),Lo(n,T)),V.cancelled?(L&&Lo(n,O),N&&N(n)):M&&M(n),n._enterCb=null}));t.data.show||we(t,\"insert\",(function(){var e=n.parentNode,r=e&&e._pending&&e._pending[t.key];r&&r.tag===t.tag&&r.elm._leaveCb&&r.elm._leaveCb(),D&&D(n,V)})),j&&j(n),L&&(Po(n,O),Po(n,T),No((function(){Lo(n,O),V.cancelled||(Po(n,E),F||(Ho(P)?setTimeout(V,P):Fo(n,s,V)))}))),t.data.show&&(e&&e(),D&&D(n,V)),L||F||V()}}}function Uo(t,e){var n=t.elm;i(n._enterCb)&&(n._enterCb.cancelled=!0,n._enterCb());var o=Ao(t.data.transition);if(r(o)||1!==n.nodeType)return e();if(!i(n._leaveCb)){var a=o.css,s=o.type,l=o.leaveClass,u=o.leaveToClass,f=o.leaveActiveClass,d=o.beforeLeave,p=o.leave,v=o.afterLeave,m=o.leaveCancelled,y=o.delayLeave,g=o.duration,_=!1!==a&&!et,b=Go(p),w=h(c(g)?g.leave:g);0;var C=n._leaveCb=I((function(){n.parentNode&&n.parentNode._pending&&(n.parentNode._pending[t.key]=null),_&&(Lo(n,u),Lo(n,f)),C.cancelled?(_&&Lo(n,l),m&&m(n)):(e(),v&&v(n)),n._leaveCb=null}));y?y(x):x()}function x(){C.cancelled||(!t.data.show&&n.parentNode&&((n.parentNode._pending||(n.parentNode._pending={}))[t.key]=t),d&&d(n),_&&(Po(n,l),Po(n,f),No((function(){Lo(n,l),C.cancelled||(Po(n,u),b||(Ho(w)?setTimeout(C,w):Fo(n,s,C)))}))),p&&p(n,C),_||b||C())}}function Ho(t){return\"number\"===typeof t&&!isNaN(t)}function Go(t){if(r(t))return!1;var e=t.fns;return i(e)?Go(Array.isArray(e)?e[0]:e):(t._length||t.length)>1}function qo(t,e){!0!==e.data.show&&zo(e)}var Wo=Y?{create:qo,activate:qo,remove:function(t,e){!0!==t.data.show?Uo(t,e):e()}}:{},Xo=[Ui,qi,no,so,bo,Wo],Ko=Xo.concat(Vi),Yo=ji({nodeOps:xi,modules:Ko});et&&document.addEventListener(\"selectionchange\",(function(){var t=document.activeElement;t&&t.vmodel&&ia(t,\"input\")}));var Jo={inserted:function(t,e,n,r){\"select\"===n.tag?(r.elm&&!r.elm._vOptions?we(n,\"postpatch\",(function(){Jo.componentUpdated(t,e,n)})):Zo(t,e,n.context),t._vOptions=[].map.call(t.options,ea)):(\"textarea\"===n.tag||li(t.type))&&(t._vModifiers=e.modifiers,e.modifiers.lazy||(t.addEventListener(\"compositionstart\",na),t.addEventListener(\"compositionend\",ra),t.addEventListener(\"change\",ra),et&&(t.vmodel=!0)))},componentUpdated:function(t,e,n){if(\"select\"===n.tag){Zo(t,e,n.context);var r=t._vOptions,i=t._vOptions=[].map.call(t.options,ea);if(i.some((function(t,e){return!L(t,r[e])}))){var o=t.multiple?e.value.some((function(t){return ta(t,i)})):e.value!==e.oldValue&&ta(e.value,i);o&&ia(t,\"change\")}}}};function Zo(t,e,n){Qo(t,e,n),(tt||nt)&&setTimeout((function(){Qo(t,e,n)}),0)}function Qo(t,e,n){var r=e.value,i=t.multiple;if(!i||Array.isArray(r)){for(var o,a,s=0,c=t.options.length;s<c;s++)if(a=t.options[s],i)o=F(r,ea(a))>-1,a.selected!==o&&(a.selected=o);else if(L(ea(a),r))return void(t.selectedIndex!==s&&(t.selectedIndex=s));i||(t.selectedIndex=-1)}}function ta(t,e){return e.every((function(e){return!L(e,t)}))}function ea(t){return\"_value\"in t?t._value:t.value}function na(t){t.target.composing=!0}function ra(t){t.target.composing&&(t.target.composing=!1,ia(t.target,\"input\"))}function ia(t,e){var n=document.createEvent(\"HTMLEvents\");n.initEvent(e,!0,!0),t.dispatchEvent(n)}function oa(t){return!t.componentInstance||t.data&&t.data.transition?t:oa(t.componentInstance._vnode)}var aa={bind:function(t,e,n){var r=e.value;n=oa(n);var i=n.data&&n.data.transition,o=t.__vOriginalDisplay=\"none\"===t.style.display?\"\":t.style.display;r&&i?(n.data.show=!0,zo(n,(function(){t.style.display=o}))):t.style.display=r?o:\"none\"},update:function(t,e,n){var r=e.value,i=e.oldValue;if(!r!==!i){n=oa(n);var o=n.data&&n.data.transition;o?(n.data.show=!0,r?zo(n,(function(){t.style.display=t.__vOriginalDisplay})):Uo(n,(function(){t.style.display=\"none\"}))):t.style.display=r?t.__vOriginalDisplay:\"none\"}},unbind:function(t,e,n,r,i){i||(t.style.display=t.__vOriginalDisplay)}},sa={model:Jo,show:aa},ca={name:String,appear:Boolean,css:Boolean,mode:String,type:String,enterClass:String,leaveClass:String,enterToClass:String,leaveToClass:String,enterActiveClass:String,leaveActiveClass:String,appearClass:String,appearActiveClass:String,appearToClass:String,duration:[Number,String,Object]};function la(t){var e=t&&t.componentOptions;return e&&e.Ctor.options.abstract?la(xn(e.children)):t}function ua(t){var e={},n=t.$options;for(var r in n.propsData)e[r]=t[r];var i=n._parentListeners;for(var o in i)e[x(o)]=i[o];return e}function fa(t,e){if(/\\d-keep-alive$/.test(e.tag))return t(\"keep-alive\",{props:e.componentOptions.propsData})}function da(t){while(t=t.parent)if(t.data.transition)return!0}function pa(t,e){return e.key===t.key&&e.tag===t.tag}var va=function(t){return t.tag||Cn(t)},ha=function(t){return\"show\"===t.name},ma={name:\"transition\",props:ca,abstract:!0,render:function(t){var e=this,n=this.$slots.default;if(n&&(n=n.filter(va),n.length)){0;var r=this.mode;0;var i=n[0];if(da(this.$vnode))return i;var o=la(i);if(!o)return i;if(this._leaving)return fa(t,i);var a=\"__transition-\"+this._uid+\"-\";o.key=null==o.key?o.isComment?a+\"comment\":a+o.tag:s(o.key)?0===String(o.key).indexOf(a)?o.key:a+o.key:o.key;var c=(o.data||(o.data={})).transition=ua(this),l=this._vnode,u=la(l);if(o.data.directives&&o.data.directives.some(ha)&&(o.data.show=!0),u&&u.data&&!pa(o,u)&&!Cn(u)&&(!u.componentInstance||!u.componentInstance._vnode.isComment)){var f=u.data.transition=j({},c);if(\"out-in\"===r)return this._leaving=!0,we(f,\"afterLeave\",(function(){e._leaving=!1,e.$forceUpdate()})),fa(t,i);if(\"in-out\"===r){if(Cn(o))return l;var d,p=function(){d()};we(c,\"afterEnter\",p),we(c,\"enterCancelled\",p),we(f,\"delayLeave\",(function(t){d=t}))}}return i}}},ya=j({tag:String,moveClass:String},ca);delete ya.mode;var ga={props:ya,beforeMount:function(){var t=this,e=this._update;this._update=function(n,r){var i=jn(t);t.__patch__(t._vnode,t.kept,!1,!0),t._vnode=t.kept,i(),e.call(t,n,r)}},render:function(t){for(var e=this.tag||this.$vnode.data.tag||\"span\",n=Object.create(null),r=this.prevChildren=this.children,i=this.$slots.default||[],o=this.children=[],a=ua(this),s=0;s<i.length;s++){var c=i[s];if(c.tag)if(null!=c.key&&0!==String(c.key).indexOf(\"__vlist\"))o.push(c),n[c.key]=c,(c.data||(c.data={})).transition=a;else;}if(r){for(var l=[],u=[],f=0;f<r.length;f++){var d=r[f];d.data.transition=a,d.data.pos=d.elm.getBoundingClientRect(),n[d.key]?l.push(d):u.push(d)}this.kept=t(e,null,l),this.removed=u}return t(e,null,o)},updated:function(){var t=this.prevChildren,e=this.moveClass||(this.name||\"v\")+\"-move\";t.length&&this.hasMove(t[0].elm,e)&&(t.forEach(_a),t.forEach(ba),t.forEach(wa),this._reflow=document.body.offsetHeight,t.forEach((function(t){if(t.data.moved){var n=t.elm,r=n.style;Po(n,e),r.transform=r.WebkitTransform=r.transitionDuration=\"\",n.addEventListener(Eo,n._moveCb=function t(r){r&&r.target!==n||r&&!/transform$/.test(r.propertyName)||(n.removeEventListener(Eo,t),n._moveCb=null,Lo(n,e))})}})))},methods:{hasMove:function(t,e){if(!So)return!1;if(this._hasMove)return this._hasMove;var n=t.cloneNode();t._transitionClasses&&t._transitionClasses.forEach((function(t){xo(n,t)})),Co(n,e),n.style.display=\"none\",this.$el.appendChild(n);var r=Vo(n);return this.$el.removeChild(n),this._hasMove=r.hasTransform}}};function _a(t){t.elm._moveCb&&t.elm._moveCb(),t.elm._enterCb&&t.elm._enterCb()}function ba(t){t.data.newPos=t.elm.getBoundingClientRect()}function wa(t){var e=t.data.pos,n=t.data.newPos,r=e.left-n.left,i=e.top-n.top;if(r||i){t.data.moved=!0;var o=t.elm.style;o.transform=o.WebkitTransform=\"translate(\"+r+\"px,\"+i+\"px)\",o.transitionDuration=\"0s\"}}var Ca={Transition:ma,TransitionGroup:ga};xr.config.mustUseProp=Rr,xr.config.isReservedTag=oi,xr.config.isReservedAttr=Ir,xr.config.getTagNamespace=ai,xr.config.isUnknownElement=ci,j(xr.options.directives,sa),j(xr.options.components,Ca),xr.prototype.__patch__=Y?Yo:M,xr.prototype.$mount=function(t,e){return t=t&&Y?ui(t):void 0,Nn(this,t,e)},Y&&setTimeout((function(){z.devtools&&lt&&lt.emit(\"init\",xr)}),0),e[\"a\"]=xr}).call(this,n(\"c8ba\"))},3357:function(t,e,n){\"use strict\";n(\"0890\")},\"3ebb\":function(t,e,n){var r=n(\"e31a\");\"string\"===typeof r&&(r=[[t.i,r,\"\"]]),r.locals&&(t.exports=r.locals);var i=n(\"499e\").default;i(\"517436b3\",r,!0,{sourceMap:!1,shadowMode:!1})},\"499e\":function(t,e,n){\"use strict\";function r(t,e){for(var n=[],r={},i=0;i<e.length;i++){var o=e[i],a=o[0],s=o[1],c=o[2],l=o[3],u={id:t+\":\"+i,css:s,media:c,sourceMap:l};r[a]?r[a].parts.push(u):n.push(r[a]={id:a,parts:[u]})}return n}n.r(e),n.d(e,\"default\",(function(){return v}));var i=\"undefined\"!==typeof document;if(\"undefined\"!==typeof DEBUG&&DEBUG&&!i)throw new Error(\"vue-style-loader cannot be used in a non-browser environment. Use { target: 'node' } in your Webpack config to indicate a server-rendering environment.\");var o={},a=i&&(document.head||document.getElementsByTagName(\"head\")[0]),s=null,c=0,l=!1,u=function(){},f=null,d=\"data-vue-ssr-id\",p=\"undefined\"!==typeof navigator&&/msie [6-9]\\b/.test(navigator.userAgent.toLowerCase());function v(t,e,n,i){l=n,f=i||{};var a=r(t,e);return h(a),function(e){for(var n=[],i=0;i<a.length;i++){var s=a[i],c=o[s.id];c.refs--,n.push(c)}e?(a=r(t,e),h(a)):a=[];for(i=0;i<n.length;i++){c=n[i];if(0===c.refs){for(var l=0;l<c.parts.length;l++)c.parts[l]();delete o[c.id]}}}}function h(t){for(var e=0;e<t.length;e++){var n=t[e],r=o[n.id];if(r){r.refs++;for(var i=0;i<r.parts.length;i++)r.parts[i](n.parts[i]);for(;i<n.parts.length;i++)r.parts.push(y(n.parts[i]));r.parts.length>n.parts.length&&(r.parts.length=n.parts.length)}else{var a=[];for(i=0;i<n.parts.length;i++)a.push(y(n.parts[i]));o[n.id]={id:n.id,refs:1,parts:a}}}}function m(){var t=document.createElement(\"style\");return t.type=\"text/css\",a.appendChild(t),t}function y(t){var e,n,r=document.querySelector(\"style[\"+d+'~=\"'+t.id+'\"]');if(r){if(l)return u;r.parentNode.removeChild(r)}if(p){var i=c++;r=s||(s=m()),e=_.bind(null,r,i,!1),n=_.bind(null,r,i,!0)}else r=m(),e=b.bind(null,r),n=function(){r.parentNode.removeChild(r)};return e(t),function(r){if(r){if(r.css===t.css&&r.media===t.media&&r.sourceMap===t.sourceMap)return;e(t=r)}else n()}}var g=function(){var t=[];return function(e,n){return t[e]=n,t.filter(Boolean).join(\"\\n\")}}();function _(t,e,n,r){var i=n?\"\":r.css;if(t.styleSheet)t.styleSheet.cssText=g(e,i);else{var o=document.createTextNode(i),a=t.childNodes;a[e]&&t.removeChild(a[e]),a.length?t.insertBefore(o,a[e]):t.appendChild(o)}}function b(t,e){var n=e.css,r=e.media,i=e.sourceMap;if(r&&t.setAttribute(\"media\",r),f.ssrId&&t.setAttribute(d,e.id),i&&(n+=\"\\n/*# sourceURL=\"+i.sources[0]+\" */\",n+=\"\\n/*# sourceMappingURL=data:application/json;base64,\"+btoa(unescape(encodeURIComponent(JSON.stringify(i))))+\" */\"),t.styleSheet)t.styleSheet.cssText=n;else{while(t.firstChild)t.removeChild(t.firstChild);t.appendChild(document.createTextNode(n))}}},\"56d7\":function(t,e,n){\"use strict\";n.r(e);var r=n(\"2b0e\"),i=function(){var t=this,e=t.$createElement,n=t._self._c||e;return n(\"div\",{attrs:{id:\"app\"}},[t.session?n(\"Header\",{attrs:{session:t.session}}):t._e(),n(\"div\",{staticClass:\"spacer\",staticStyle:{height:\"20px\"}}),n(\"div\",{staticClass:\"margins\"},[t.rootFrame?n(\"Frame\",{attrs:{frame:t.rootFrame}}):t._e()],1)],1)},o=[],a=function(){var t=this,e=t.$createElement,n=t._self._c||e;return n(\"div\",{staticClass:\"frame\"},[t.isVisible?n(\"div\",{staticClass:\"frame-description\",class:{\"application-code\":t.frame.isApplicationCode,\"children-visible\":t.childrenVisible},style:{paddingLeft:35*t.indent+\"px\"},on:{click:function(e){e.preventDefault(),e.stopPropagation(),t.childrenVisible=!t.childrenVisible}}},[n(\"div\",{staticClass:\"frame-triangle\",class:{rotate:t.childrenVisible},style:{visibility:t.frame.children.length>0?\"visible\":\"hidden\"}},[n(\"svg\",{attrs:{width:\"6\",height:\"10\"}},[n(\"path\",{attrs:{d:\"M.937-.016L5.793 4.84.937 9.696z\",fill:t.timeStyle.color,\"fill-rule\":\"evenodd\",\"fill-opacity\":\".582\"}})])]),n(\"div\",{staticClass:\"time\",style:t.timeStyle},[t._v(\" \"+t._s(t.formattedTime)+\" \")]),n(\"div\",{staticClass:\"name\"},[t._v(t._s(t.frame.function))]),n(\"div\",{staticClass:\"spacer\",staticStyle:{flex:\"1\"}}),n(\"div\",{staticClass:\"code-position\"},[t._v(\" \"+t._s(t.codePosition)+\" \")])]):t._e(),t.frame.group&&t.frame.group.rootFrame==t.frame&&t.childrenVisible?n(\"div\",{staticClass:\"group-header\",style:{paddingLeft:35*t.indent+\"px\"},on:{click:function(e){return e.preventDefault(),e.stopPropagation(),t.headerClicked(e)}}},[n(\"div\",{staticClass:\"group-header-button\"},[n(\"div\",{staticClass:\"group-triangle\",class:{rotate:t.isGroupVisible}},[n(\"svg\",{attrs:{width:\"6\",height:\"10\"}},[n(\"path\",{attrs:{d:\"M.937-.016L5.793 4.84.937 9.696z\",fill:\"#FFF\",\"fill-rule\":\"evenodd\",\"fill-opacity\":\".582\"}})])]),t._v(\" \"+t._s(t.frame.group.frames.length)+\" frames hidden (\"+t._s(t.groupLibrarySummary)+\") \")])]):t._e(),t.childrenVisible?n(\"div\",{staticClass:\"children\"},t._l(t.frame.children,(function(e){return n(\"Frame\",{key:e.identifier,attrs:{frame:e,indent:t.indent+(t.isVisible?1:0)}})})),1):t._e(),n(\"div\",{staticClass:\"visual-guide\",style:{left:35*t.indent+21+\"px\",backgroundColor:t.timeStyle.color}})])},s=[];class c{constructor(){this.visibleGroups={}}isGroupVisible(t){return!0===this.visibleGroups[t.id]}setGroupVisibility(t,e){r[\"a\"].set(this.visibleGroups,t.id,e)}}const l=new c;var u=l,f={name:\"Frame\",props:{frame:{},indent:{default:0}},data(){return{childrenVisible:!0}},methods:{headerClicked(){u.setGroupVisibility(this.frame.group,!this.isGroupVisible)}},computed:{isVisible(){return!this.frame.group||(!!u.isGroupVisible(this.frame.group)||(this.frame.group.rootFrame===this.frame||this.frame.children.filter(t=>!t.group).length>1))},isGroupVisible(){return u.isGroupVisible(this.frame.group)},codePosition(){return`${this.frame.filePathShort}:${this.frame.lineNo.toString().padEnd(4,\" \")}`},formattedTime(){return this.frame.time.toLocaleString(void 0,{minimumFractionDigits:3,maximumFractionDigits:3})},groupLibrarySummary(){if(!this.frame.group)return;const t=this.frame.group.libraries;return t.length<4?t.join(\", \"):`${t[0]}, ${t[1]}, ${t[2]}...`},timeStyle(){let t=void 0,e=void 0;return this.frame.proportionOfTotal>.6?(t=\"#FF4159\",e=600):this.frame.proportionOfTotal>.3?(t=\"#F5A623\",e=600):this.frame.proportionOfTotal>.2?(t=\"#D8CB2A\",e=600):this.frame.proportionOfTotal>0&&(t=\"#7ED321\",e=500),{color:t,fontWeight:e}}}},d=f;n(\"d40e\"),n(\"ee17\");function p(t,e,n,r,i,o,a,s){var c,l=\"function\"===typeof t?t.options:t;if(e&&(l.render=e,l.staticRenderFns=n,l._compiled=!0),r&&(l.functional=!0),o&&(l._scopeId=\"data-v-\"+o),a?(c=function(t){t=t||this.$vnode&&this.$vnode.ssrContext||this.parent&&this.parent.$vnode&&this.parent.$vnode.ssrContext,t||\"undefined\"===typeof __VUE_SSR_CONTEXT__||(t=__VUE_SSR_CONTEXT__),i&&i.call(this,t),t&&t._registeredComponents&&t._registeredComponents.add(a)},l._ssrRegister=c):i&&(c=s?function(){i.call(this,(l.functional?this.parent:this).$root.$options.shadowRoot)}:i),c)if(l.functional){l._injectStyles=c;var u=l.render;l.render=function(t,e){return c.call(e),u(t,e)}}else{var f=l.beforeCreate;l.beforeCreate=f?[].concat(f,c):[c]}return{exports:t,options:l}}var v=p(d,a,s,!1,null,\"78518aaa\",null),h=v.exports,m=function(){var t=this,e=t.$createElement,n=t._self._c||e;return n(\"div\",{staticClass:\"header\"},[n(\"div\",{staticClass:\"margins\"},[n(\"div\",{staticClass:\"row\"},[n(\"div\",{staticClass:\"title\"},[t._v(\"pyinstrument\")]),n(\"div\",{staticClass:\"metrics\"},[n(\"div\",{staticClass:\"metric-label\"},[t._v(\"Recorded:\")]),n(\"div\",{staticClass:\"metric-value\"},[t._v(t._s(t.startTime))]),n(\"div\",{staticClass:\"metric-label\"},[t._v(\"Duration:\")]),n(\"div\",{staticClass:\"metric-value\"},[t._v(t._s(t.duration)+\" seconds\")]),n(\"div\",{staticClass:\"metric-label\"},[t._v(\"Samples:\")]),n(\"div\",{staticClass:\"metric-value\"},[t._v(t._s(t.session.sample_count))]),n(\"div\",{staticClass:\"metric-label\"},[t._v(\"CPU time:\")]),n(\"div\",{staticClass:\"metric-value\"},[t._v(t._s(t.cpuTime)+\" seconds\")])])])])])},y=[],g={name:\"Header\",props:[\"session\"],computed:{startTime(){const t=new Date(1e3*this.session.start_time);return t.toLocaleString()},cpuTime(){return this.session.cpu_time.toLocaleString(void 0,{maximumSignificantDigits:3})},duration(){return this.session.duration.toLocaleString(void 0,{maximumSignificantDigits:3})}}},_=g,b=(n(\"3357\"),p(_,m,y,!1,null,\"0183f483\",null)),w=b.exports;function C(t,e,n){return e in t?Object.defineProperty(t,e,{value:n,enumerable:!0,configurable:!0,writable:!0}):t[e]=n,t}class x{constructor(t,e){C(this,\"frames\",[]),this.id=t,this.rootFrame=e}addFrame(t){this.frames.push(t)}get exitFrames(){const t=[];for(const e of this.frames){let n=!1;for(const t of e.children)if(t.group!=this){n=!0;break}n&&t.push(e)}return t}get libraries(){const t=[];for(const e of this.frames){const n=/^[^\\\\/.]*/.exec(e.filePathShort)[0];t.includes(n)||t.push(n)}return t}}class A{constructor(t,e=null,n={groups:{}}){if(this.parent=e,this.function=t.function,this.filePathShort=t.file_path_short,this.filePath=t.file_path,this.lineNo=t.line_no,this.time=t.time,this.isApplicationCode=t.is_application_code,t.group_id){const e=t.group_id;let r=n.groups[e];r||(r=n.groups[e]=new x(e,this)),r.addFrame(this),this.group=n.groups[e]}else this.group=null;this.children=t.children.map(t=>new A(t,this,n))}get proportionOfTotal(){return this.parent?this.parent.proportionOfTotal*this.proportionOfParent:1}get proportionOfParent(){return this.parent?this.time/this.parent.time:1}}var $={name:\"app\",data(){return{appState:u,session:window.profileSession}},mounted(){window.App=this,this.setFavicon(n(\"99dd\")),this.session||fetch(\"./sample.json\").then(t=>t.json()).then(t=>{this.session=t}).catch(console.log),this.scrollListener=()=>this.didScroll(),window.addEventListener(\"scroll\",this.scrollListener,{passive:!0})},beforeDestroy(){window.removeEventListener(\"scroll\",this.scrollListener,{passive:!0})},methods:{didScroll(){document.body.style.minHeight=window.scrollY+window.innerHeight+\"px\"},setFavicon(t){var e=document.querySelector(\"link[rel*='icon']\")||document.createElement(\"link\");e.rel=\"shortcut icon\",e.href=t,document.getElementsByTagName(\"head\")[0].appendChild(e)}},computed:{rootFrame(){if(this.session&&this.session.root_frame)return new A(this.session.root_frame)}},watch:{session:{handler(){if(!this.session||!this.rootFrame)return void(document.title=\"Pyinstrument\");const t=this.rootFrame,e=t.time.toLocaleString({maximumDecimalDigits:3});let n=t.function;\"<module>\"==n&&(n=this.session.program),document.title=`${e}s - ${n} - pyinstrument`},immediate:!0}},components:{Frame:h,Header:w}},S=$,k=(n(\"034f\"),p(S,i,o,!1,null,null,null)),O=k.exports;r[\"a\"].config.productionTip=!1,new r[\"a\"]({render:t=>t(O)}).$mount(\"#app\")},\"7d25\":function(t,e,n){var r=n(\"24fb\");e=r(!1),e.push([t.i,\".visual-guide{top:21px;bottom:0;left:0;width:2px;background-color:#fff;position:absolute;opacity:.08}.frame-description:hover~.visual-guide{opacity:.4}.frame-description:hover~.children .visual-guide{opacity:.1}\",\"\"]),t.exports=e},\"8c45\":function(t,e,n){var r=n(\"7d25\");\"string\"===typeof r&&(r=[[t.i,r,\"\"]]),r.locals&&(t.exports=r.locals);var i=n(\"499e\").default;i(\"51f1edf4\",r,!0,{sourceMap:!1,shadowMode:!1})},\"926e\":function(t,e,n){var r=n(\"24fb\");e=r(!1),e.push([t.i,'.frame[data-v-78518aaa]{font-family:Source Code Pro,Roboto Mono,Consolas,Monaco,monospace;font-size:15px;z-index:0;position:relative;-webkit-user-select:none;user-select:none}.group-header[data-v-78518aaa]{margin-left:35px}.group-header-button[data-v-78518aaa]{display:inline-block;color:hsla(0,0%,100%,.58);-webkit-user-select:none;user-select:none;cursor:default;position:relative}.group-header-button[data-v-78518aaa]:before{position:absolute;left:-3px;right:-3px;top:0;bottom:-1px;content:\"\";z-index:-1;background-color:#3b4043}.group-header-button[data-v-78518aaa]:hover:before{background-color:#4a4f54}.frame-triangle[data-v-78518aaa],.group-triangle[data-v-78518aaa]{width:6px;height:10px;padding-left:6px;padding-right:5px;display:inline-block}.frame-triangle.rotate[data-v-78518aaa],.group-triangle.rotate[data-v-78518aaa]{transform:translate(6px,4px) rotate(90deg)}.frame-description[data-v-78518aaa]{display:flex}.frame-description[data-v-78518aaa]:hover:before{position:absolute;left:-3px;right:-3px;top:-1px;height:22px;content:\"\";z-index:-1;background-color:#354759;opacity:.5}.frame-triangle[data-v-78518aaa]{opacity:1}.frame-description.children-visible .frame-triangle[data-v-78518aaa]{opacity:0}.frame-description.children-visible:hover .frame-triangle[data-v-78518aaa]{opacity:1}.code-position[data-v-78518aaa],.name[data-v-78518aaa],.time[data-v-78518aaa]{-webkit-user-select:text;user-select:text;cursor:default}.application-code .name[data-v-78518aaa]{color:#5db3ff}.time[data-v-78518aaa]{margin-right:.55em;color:rgba(184,233,134,.52)}.code-position[data-v-78518aaa]{color:hsla(0,0%,100%,.5);text-align:right;margin-left:1em}',\"\"]),t.exports=e},\"99dd\":function(t,e){t.exports=\"data:image/png;base64,iVBORw0KGgoAAAANSUhEUgAAACAAAAAgCAYAAABzenr0AAAABGdBTUEAALGPC/xhBQAABOBJREFUWAmdVl9Mm1UUv+d+X1YGKhiDMi0b6qbxRSldS2kbRiLBREWWGbIhLxtqNpPF+KYPJkJ80izRGB+2mejT1EEyM/ckxgWl/7u2GJ+WzcUNBs5pAgRmafvd67m1t9y2Xz9avqS595zzO3/u+XNvCdnGxzmHvr6++7ahWqFCKzg1MLo83omVe+moy+9/oga4JQQspSZCh7tnBDPwtRCh8t8A2qFkLDhrAq2JpdWEKoCcHn83Ov8OSb3AauSEjz762O6FpcX5uXpsSWzNAbh6e9tz2exlwkmLVC6sGgZxcJfdvvPEm29cnpmZ4WVyS7KmEoiGw5oHOCfPWVkDgIutLfePTk9Pr1vhVNmWTTg+Pk5X1tPntnIujGJ5hu4urwZFtlQnVvstS7B8b+MjNDBmZaRM1sYNY8S+u312cWHhdpmsgrQsQVe39xhj7MsKrRoYWI40ATiWioa+tYJXDcDh8vZywn5E5R2qASBwC+ev9GRcTAVvQ4e7sAxyQvJqFOhEIhqcwIBMm9M0AHHB5DK5GNb9IdW52FNNO5KMBM+X8wXtHBxsNO7cfQ2DfB8D2VPEAEzu1MjRcDj8b5FX2FQE4Ozvb2ara2F0/kw5WNBUh33JcPi6mUzyxAGyGSOMXfmw5GFQcdqgDyVmZ5ckT6wlUzA8PKyx1fXz1ZxjtCuJUOh3acDj6evocve87Hb7n5I8scYDgRuY8NMqD+8Kl7GRjblc3k6VXxLA9ZsLn2LqXlAB6p4DSaq1TLONtxnnlzI8d7XT1RNF3WJGOaVRVTe/58SeJSzgdPcclLJiANh0b6GBk1JgtlIOiRI+545Nmrt9Pl+rpHG+K+pdkDUZnF9wuL3vCjofgMPj6SfAP5PKVVeNXlFleNzNAABuh0Khv6Tc4MaTcm+yAh72MN6wDXS/z/c0N2AKGSXjY6KEzx8rZkA0Gs5VM5YkDUAiukYOqTrA4bBKq3tsyCUbtb2C70Ya8Hm9hs73qgCzvWjAZCz8oOwB1IH9x4/rV86cyUme1Ovq7nmHMf6JpNUVsVga2puKBfPZpED4FwhgKshsX96Awmni7Nms6lxMER7odZyiU2Y2kMcx90elc4HRk7HIx53d3quEsXNINwmm2VfegAMDA03/MKZrq+lHMsD3AOPPXrs5fxKf6w4zfcHD1H+QjIcnVXm+CeeioYsAug/TPK8K1T2nmxMg0o+v3qKxsrYsRpAwYxqv7VOWzgG+ScXDH6o2xb44hqlY4FedNLgxzMr5RSBQXpwAh+fAXkzzA+XGqtJos7nRNmYmLwYghPH4zJ8tjQ19mImSF0w0oHoDAsk5zYyZ8URWbdA0JDreTF4SgAAIYCoeGcFMjCOZf8HKGxBL0CWwW34AawT0wWj0pzvVsBUBSOBcLDKBwiNibMobEE9VSwYYUDoqSittmq1VAxDgZDwyyXU4wDX+g6qM9d8yAxTgvVQk+L2qZ7bHw9T35Z/ajVzxRayi/dVcPDJWRVbCtsxACbJA5LLM8vRYsl/2dbSfMNM149UdADBmMzP0Pw9u0Ebbq1NTU5nqmFIJvpr1fUuLC7+12e1/oNaL+Cvqi1Gl2o7nk4Gfb9Vjse4ekMad3X4/Y8YF/KfTimk30NBL+FiVNKvEWq3bDkAYdbt7H8+Q7CWs42l0/rmVo2qy/wB919ZHvcvTXwAAAABJRU5ErkJggg==\"},c8ba:function(t,e){var n;n=function(){return this}();try{n=n||new Function(\"return this\")()}catch(r){\"object\"===typeof window&&(n=window)}t.exports=n},d072:function(t,e,n){var r=n(\"926e\");\"string\"===typeof r&&(r=[[t.i,r,\"\"]]),r.locals&&(t.exports=r.locals);var i=n(\"499e\").default;i(\"259274aa\",r,!0,{sourceMap:!1,shadowMode:!1})},d40e:function(t,e,n){\"use strict\";n(\"d072\")},e31a:function(t,e,n){var r=n(\"24fb\");e=r(!1),e.push([t.i,\"@import url(https://fonts.googleapis.com/css?family=Source+Code+Pro:400,600|Source+Sans+Pro:400,600);\"]),e.push([t.i,\"body,html{background-color:#303538;color:#fff;padding:0;margin:0}#app{font-family:Source Sans Pro,Helvetica,Arial,sans-serif;-webkit-font-smoothing:antialiased;-moz-osx-font-smoothing:grayscale}.margins{padding:0 30px}\",\"\"]),t.exports=e},ee17:function(t,e,n){\"use strict\";n(\"8c45\")}});\n",
       "//# sourceMappingURL=app.js.map\n",
       "                </script>\n",
       "            </body>\n",
       "            </html>"
      ],
      "text/plain": [
       "<IPython.core.display.HTML object>"
      ]
     },
     "metadata": {},
     "output_type": "display_data"
    }
   ],
   "source": [
    "profiler = pyinstrument.Profiler()\n",
    "profiler.start()\n",
    "\n",
    "Sim(distrib=False, num_samples=Sim.NUM_SAMPLES).run()\n",
    "\n",
    "profiler.stop()\n",
    "display(HTML(profiler.output_html()))"
   ]
  },
  {
   "cell_type": "markdown",
   "metadata": {},
   "source": [
    "Again, the `estimate_pi()` function is where most of the CPU cost occurs, although we can get clearer measures for how much overhead there is among the rest of code.\n",
    "In this case the cumulative overhead is relatively small, probably measured in milliseconds."
   ]
  },
  {
   "cell_type": "markdown",
   "metadata": {},
   "source": [
    "## Results of Serial Execution\n",
    "\n",
    "Now let's look at a visualization of the *number of samples* plotted versus *duration*, *error*, and *standard deviation*:"
   ]
  },
  {
   "cell_type": "code",
   "execution_count": 17,
   "metadata": {},
   "outputs": [
    {
     "data": {
      "image/png": "[encoded data removed]",
      "text/plain": [
       "<Figure size 432x288 with 1 Axes>"
      ]
     },
     "metadata": {
      "needs_background": "light"
     },
     "output_type": "display_data"
    }
   ],
   "source": [
    "sim_s.plot();"
   ]
  },
  {
   "cell_type": "markdown",
   "metadata": {},
   "source": [
    "Note how the *standard deviation* drops quickly.\n",
    "We can calculate that measure without even knowing an \"exact\" value of π (the *error* measure), so we could potentially rework this application to have an *early termination* by setting a threshold on the *stdev* measure."
   ]
  },
  {
   "cell_type": "code",
   "execution_count": 18,
   "metadata": {},
   "outputs": [
    {
     "data": {
      "text/html": [
       "<div>\n",
       "<style scoped>\n",
       "    .dataframe tbody tr th:only-of-type {\n",
       "        vertical-align: middle;\n",
       "    }\n",
       "\n",
       "    .dataframe tbody tr th {\n",
       "        vertical-align: top;\n",
       "    }\n",
       "\n",
       "    .dataframe thead th {\n",
       "        text-align: right;\n",
       "    }\n",
       "</style>\n",
       "<table border=\"1\" class=\"dataframe\">\n",
       "  <thead>\n",
       "    <tr style=\"text-align: right;\">\n",
       "      <th></th>\n",
       "      <th>n</th>\n",
       "      <th>duration</th>\n",
       "      <th>approx_pi</th>\n",
       "      <th>stdev</th>\n",
       "      <th>error</th>\n",
       "    </tr>\n",
       "  </thead>\n",
       "  <tbody>\n",
       "    <tr>\n",
       "      <th>count</th>\n",
       "      <td>25.000000</td>\n",
       "      <td>25.000000</td>\n",
       "      <td>25.000000</td>\n",
       "      <td>25.000000</td>\n",
       "      <td>25.000000</td>\n",
       "    </tr>\n",
       "    <tr>\n",
       "      <th>mean</th>\n",
       "      <td>480002.000000</td>\n",
       "      <td>0.720954</td>\n",
       "      <td>3.139754</td>\n",
       "      <td>0.043638</td>\n",
       "      <td>0.067105</td>\n",
       "    </tr>\n",
       "    <tr>\n",
       "      <th>std</th>\n",
       "      <td>294392.028878</td>\n",
       "      <td>0.339853</td>\n",
       "      <td>0.008302</td>\n",
       "      <td>0.203590</td>\n",
       "      <td>0.262116</td>\n",
       "    </tr>\n",
       "    <tr>\n",
       "      <th>min</th>\n",
       "      <td>2.000000</td>\n",
       "      <td>0.005038</td>\n",
       "      <td>3.100000</td>\n",
       "      <td>0.001339</td>\n",
       "      <td>0.000467</td>\n",
       "    </tr>\n",
       "    <tr>\n",
       "      <th>25%</th>\n",
       "      <td>240002.000000</td>\n",
       "      <td>0.534559</td>\n",
       "      <td>3.141008</td>\n",
       "      <td>0.002015</td>\n",
       "      <td>0.006630</td>\n",
       "    </tr>\n",
       "    <tr>\n",
       "      <th>50%</th>\n",
       "      <td>480002.000000</td>\n",
       "      <td>0.809990</td>\n",
       "      <td>3.141311</td>\n",
       "      <td>0.002403</td>\n",
       "      <td>0.012705</td>\n",
       "    </tr>\n",
       "    <tr>\n",
       "      <th>75%</th>\n",
       "      <td>720002.000000</td>\n",
       "      <td>0.954856</td>\n",
       "      <td>3.141578</td>\n",
       "      <td>0.003365</td>\n",
       "      <td>0.020604</td>\n",
       "    </tr>\n",
       "    <tr>\n",
       "      <th>max</th>\n",
       "      <td>960002.000000</td>\n",
       "      <td>1.216741</td>\n",
       "      <td>3.143071</td>\n",
       "      <td>1.020836</td>\n",
       "      <td>1.323935</td>\n",
       "    </tr>\n",
       "  </tbody>\n",
       "</table>\n",
       "</div>"
      ],
      "text/plain": [
       "                   n   duration  approx_pi      stdev      error\n",
       "count      25.000000  25.000000  25.000000  25.000000  25.000000\n",
       "mean   480002.000000   0.720954   3.139754   0.043638   0.067105\n",
       "std    294392.028878   0.339853   0.008302   0.203590   0.262116\n",
       "min         2.000000   0.005038   3.100000   0.001339   0.000467\n",
       "25%    240002.000000   0.534559   3.141008   0.002015   0.006630\n",
       "50%    480002.000000   0.809990   3.141311   0.002403   0.012705\n",
       "75%    720002.000000   0.954856   3.141578   0.003365   0.020604\n",
       "max    960002.000000   1.216741   3.143071   1.020836   1.323935"
      ]
     },
     "execution_count": 18,
     "metadata": {},
     "output_type": "execute_result"
    }
   ],
   "source": [
    "sim_s.df.describe()"
   ]
  },
  {
   "cell_type": "markdown",
   "metadata": {},
   "source": [
    "## Results of Parallel Execution\n",
    "\n",
    "Now let's run again and this time parallelize the application using *remote functions*, by setting the `distrib=True` flag.\n",
    "We'll use the `%%time` magic to show the \"wall clock\" CPU time:"
   ]
  },
  {
   "cell_type": "code",
   "execution_count": 19,
   "metadata": {},
   "outputs": [
    {
     "name": "stdout",
     "output_type": "stream",
     "text": [
      "CPU times: user 607 ms, sys: 167 ms, total: 773 ms\n",
      "Wall time: 4.37 s\n"
     ]
    },
    {
     "data": {
      "text/plain": [
       "<__main__.Sim at 0x7fec40125ad0>"
      ]
     },
     "execution_count": 19,
     "metadata": {},
     "output_type": "execute_result"
    }
   ],
   "source": [
    "%%time\n",
    "\n",
    "sim_d = Sim(distrib=True, num_samples=Sim.NUM_SAMPLES)\n",
    "sim_d.run();"
   ]
  },
  {
   "cell_type": "code",
   "execution_count": 20,
   "metadata": {},
   "outputs": [
    {
     "data": {
      "image/png": "[encoded data removed]",
      "text/plain": [
       "<Figure size 432x288 with 1 Axes>"
      ]
     },
     "metadata": {
      "needs_background": "light"
     },
     "output_type": "display_data"
    }
   ],
   "source": [
    "sim_d.plot();"
   ]
  },
  {
   "cell_type": "code",
   "execution_count": 21,
   "metadata": {},
   "outputs": [
    {
     "data": {
      "text/html": [
       "<div>\n",
       "<style scoped>\n",
       "    .dataframe tbody tr th:only-of-type {\n",
       "        vertical-align: middle;\n",
       "    }\n",
       "\n",
       "    .dataframe tbody tr th {\n",
       "        vertical-align: top;\n",
       "    }\n",
       "\n",
       "    .dataframe thead th {\n",
       "        text-align: right;\n",
       "    }\n",
       "</style>\n",
       "<table border=\"1\" class=\"dataframe\">\n",
       "  <thead>\n",
       "    <tr style=\"text-align: right;\">\n",
       "      <th></th>\n",
       "      <th>n</th>\n",
       "      <th>duration</th>\n",
       "      <th>approx_pi</th>\n",
       "      <th>stdev</th>\n",
       "      <th>error</th>\n",
       "    </tr>\n",
       "  </thead>\n",
       "  <tbody>\n",
       "    <tr>\n",
       "      <th>count</th>\n",
       "      <td>25.000000</td>\n",
       "      <td>25.000000</td>\n",
       "      <td>25.000000</td>\n",
       "      <td>25.000000</td>\n",
       "      <td>25.000000</td>\n",
       "    </tr>\n",
       "    <tr>\n",
       "      <th>mean</th>\n",
       "      <td>480002.000000</td>\n",
       "      <td>0.173811</td>\n",
       "      <td>3.143923</td>\n",
       "      <td>0.042963</td>\n",
       "      <td>0.090903</td>\n",
       "    </tr>\n",
       "    <tr>\n",
       "      <th>std</th>\n",
       "      <td>294392.028878</td>\n",
       "      <td>0.091427</td>\n",
       "      <td>0.011704</td>\n",
       "      <td>0.200484</td>\n",
       "      <td>0.368681</td>\n",
       "    </tr>\n",
       "    <tr>\n",
       "      <th>min</th>\n",
       "      <td>2.000000</td>\n",
       "      <td>0.021904</td>\n",
       "      <td>3.139854</td>\n",
       "      <td>0.001486</td>\n",
       "      <td>0.002962</td>\n",
       "    </tr>\n",
       "    <tr>\n",
       "      <th>25%</th>\n",
       "      <td>240002.000000</td>\n",
       "      <td>0.103302</td>\n",
       "      <td>3.141309</td>\n",
       "      <td>0.001926</td>\n",
       "      <td>0.005682</td>\n",
       "    </tr>\n",
       "    <tr>\n",
       "      <th>50%</th>\n",
       "      <td>480002.000000</td>\n",
       "      <td>0.181339</td>\n",
       "      <td>3.141500</td>\n",
       "      <td>0.002192</td>\n",
       "      <td>0.012686</td>\n",
       "    </tr>\n",
       "    <tr>\n",
       "      <th>75%</th>\n",
       "      <td>720002.000000</td>\n",
       "      <td>0.250812</td>\n",
       "      <td>3.142102</td>\n",
       "      <td>0.003461</td>\n",
       "      <td>0.023084</td>\n",
       "    </tr>\n",
       "    <tr>\n",
       "      <th>max</th>\n",
       "      <td>960002.000000</td>\n",
       "      <td>0.319216</td>\n",
       "      <td>3.200000</td>\n",
       "      <td>1.005249</td>\n",
       "      <td>1.859164</td>\n",
       "    </tr>\n",
       "  </tbody>\n",
       "</table>\n",
       "</div>"
      ],
      "text/plain": [
       "                   n   duration  approx_pi      stdev      error\n",
       "count      25.000000  25.000000  25.000000  25.000000  25.000000\n",
       "mean   480002.000000   0.173811   3.143923   0.042963   0.090903\n",
       "std    294392.028878   0.091427   0.011704   0.200484   0.368681\n",
       "min         2.000000   0.021904   3.139854   0.001486   0.002962\n",
       "25%    240002.000000   0.103302   3.141309   0.001926   0.005682\n",
       "50%    480002.000000   0.181339   3.141500   0.002192   0.012686\n",
       "75%    720002.000000   0.250812   3.142102   0.003461   0.023084\n",
       "max    960002.000000   0.319216   3.200000   1.005249   1.859164"
      ]
     },
     "execution_count": 21,
     "metadata": {},
     "output_type": "execute_result"
    }
   ],
   "source": [
    "sim_d.df.describe()"
   ]
  },
  {
   "cell_type": "markdown",
   "metadata": {},
   "source": [
    "While the *duration* of `estimate_pi()` CPU use scales pretty much the same as in serial execution, we'll show in the next section how the parallel run improves the application speed dramatically – depending on the number of available CPUs."
   ]
  },
  {
   "cell_type": "markdown",
   "metadata": {},
   "source": [
    "## Visualizing Aggregate Measures\n",
    "\n",
    "Now let's build a pipeline in `scikit-learn` to run a \n",
    "[*polynomial regression*](https://scikit-learn.org/stable/modules/generated/sklearn.preprocessing.PolynomialFeatures.html)\n",
    "of the *duration* measures.\n",
    "In other words, we'll perform some \"curve fitting\" to calculate the speedup of using *remote functions*.\n",
    "\n",
    "The `degree` parameter is set to the value `1`, which means we'll look at a linear regression.\n",
    "This pipeline allows you to evaluate fitting to higher order polynomials, by changing this parameter."
   ]
  },
  {
   "cell_type": "code",
   "execution_count": 22,
   "metadata": {},
   "outputs": [],
   "source": [
    "from sklearn.linear_model import LinearRegression\n",
    "from sklearn.pipeline import make_pipeline\n",
    "from sklearn.preprocessing import PolynomialFeatures\n",
    "\n",
    "DEGREE = 1\n",
    "polyreg = make_pipeline(PolynomialFeatures(DEGREE), LinearRegression())\n",
    "\n",
    "X = sim_s.df.iloc[:, 0].values.reshape(-1, 1)\n",
    "Y_s = sim_s.df.iloc[:, 1].values.reshape(-1, 1)\n",
    "Y_d = sim_d.df.iloc[:, 1].values.reshape(-1, 1)\n",
    "\n",
    "polyreg.fit(X, Y_s)\n",
    "Y_s_pred = polyreg.predict(X)\n",
    "\n",
    "polyreg.fit(X, Y_d)\n",
    "Y_d_pred = polyreg.predict(X)"
   ]
  },
  {
   "cell_type": "code",
   "execution_count": 23,
   "metadata": {},
   "outputs": [
    {
     "data": {
      "image/png": "[encoded data removed]",
      "text/plain": [
       "<Figure size 432x288 with 1 Axes>"
      ]
     },
     "metadata": {
      "needs_background": "light"
     },
     "output_type": "display_data"
    }
   ],
   "source": [
    "plt.scatter(X, Y_s, color=\"lightgray\")\n",
    "plt.scatter(X, Y_d, color=\"gray\")\n",
    "\n",
    "plt.plot(X, Y_s_pred, color=\"green\", linewidth=1, label=\"serial\")\n",
    "plt.plot(X, Y_d_pred, color=\"red\", linewidth=0.5, label=\"distrib\")\n",
    "\n",
    "plt.legend()\n",
    "plt.show()"
   ]
  },
  {
   "cell_type": "markdown",
   "metadata": {},
   "source": [
    "The distributed processing shows less time required for the tasks in aggregate.\n",
    "Let's calculate how much speedup, based on a ratio of the *slope* values for the two fitted regressions:"
   ]
  },
  {
   "cell_type": "code",
   "execution_count": 24,
   "metadata": {
    "scrolled": true,
    "tags": []
   },
   "outputs": [
    {
     "data": {
      "text/plain": [
       "array([[6.57275924],\n",
       "       [5.68883698],\n",
       "       [5.21991014],\n",
       "       [4.92928543],\n",
       "       [4.73151335],\n",
       "       [4.58822458],\n",
       "       [4.4796308 ],\n",
       "       [4.39449162],\n",
       "       [4.32594891],\n",
       "       [4.26958084],\n",
       "       [4.22240828],\n",
       "       [4.18235078],\n",
       "       [4.14791148],\n",
       "       [4.11798588],\n",
       "       [4.09174118],\n",
       "       [4.0685376 ],\n",
       "       [4.04787549],\n",
       "       [4.02935899],\n",
       "       [4.01267039],\n",
       "       [3.99755175],\n",
       "       [3.98379148],\n",
       "       [3.97121438],\n",
       "       [3.95967415],\n",
       "       [3.94904764],\n",
       "       [3.93923046]])"
      ]
     },
     "execution_count": 24,
     "metadata": {},
     "output_type": "execute_result"
    }
   ],
   "source": [
    "m = (Y_s_pred / Y_d_pred)\n",
    "m"
   ]
  },
  {
   "cell_type": "markdown",
   "metadata": {},
   "source": [
    "Now we can plot these ratios, and take their median value:"
   ]
  },
  {
   "cell_type": "code",
   "execution_count": 25,
   "metadata": {},
   "outputs": [
    {
     "data": {
      "image/png": "[encoded data removed]",
      "text/plain": [
       "<Figure size 432x288 with 1 Axes>"
      ]
     },
     "metadata": {
      "needs_background": "light"
     },
     "output_type": "display_data"
    }
   ],
   "source": [
    "plt.plot(m, color=\"red\", linewidth=1, label=\"speedup {:.2f}\".format(np.median(m)))\n",
    "plt.legend()\n",
    "plt.show()"
   ]
  },
  {
   "cell_type": "markdown",
   "metadata": {},
   "source": [
    "Depending on the number of available CPUs, you should see an asymptotically linear increase in performance."
   ]
  },
  {
   "cell_type": "markdown",
   "metadata": {},
   "source": [
    "## Exercise\n",
    "\n",
    "Try running the `Sim` simulation again in its parallelized mode, with a much larger number of samples.\n",
    "While that's running, check the Ray dashboard to see how processing for the *remote tasks* gets distributed across the available CPUs."
   ]
  },
  {
   "cell_type": "markdown",
   "metadata": {},
   "source": [
    "Finally, shutdown Ray"
   ]
  },
  {
   "cell_type": "code",
   "execution_count": 26,
   "metadata": {},
   "outputs": [],
   "source": [
    "ray.shutdown()"
   ]
  }
 ],
 "metadata": {
  "kernelspec": {
   "display_name": "Python 3",
   "language": "python",
   "name": "orchest-kernel-ea858517-17b2-4ad8-bad2-1764d69f4b6d"
  },
  "language_info": {
   "codemirror_mode": {
    "name": "ipython",
    "version": 3
   },
   "file_extension": ".py",
   "mimetype": "text/x-python",
   "name": "python",
   "nbconvert_exporter": "python",
   "pygments_lexer": "ipython3",
   "version": "3.7.6"
  }
 },
 "nbformat": 4,
 "nbformat_minor": 4
}
