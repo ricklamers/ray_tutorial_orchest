{
 "cells": [
  {
   "cell_type": "markdown",
   "metadata": {},
   "source": [
    "# A Guided Tour of Ray Core: Parallel Iterators"
   ]
  },
  {
   "cell_type": "markdown",
   "metadata": {},
   "source": [
    "[*Parallel Iterators*](https://docs.ray.io/en/latest/iter.html) provide a simple yet powerful API for data ingest and stream processing, where transformations are based on method chaining.\n",
    "\n",
    "Parallel iterators get partitioned into *data shards*, and Ray creates a worker (an *actor*) to produces the data for each shard.\n",
    "Evaluation is *lazy*, i.e., only executed when the application calls `next()` to fetch the next item in a sequence.\n",
    "\n",
    "Parallel iterators are fully serializable, so they can be passed to remote tasks and actors.\n",
    "In effect, these can be used to operate over infinite sequences of items, with the processing distributed across a cluster.\n",
    "\n",
    "---"
   ]
  },
  {
   "cell_type": "markdown",
   "metadata": {},
   "source": [
    "First, let's start Ray…"
   ]
  },
  {
   "cell_type": "code",
   "execution_count": 1,
   "metadata": {},
   "outputs": [
    {
     "name": "stdout",
     "output_type": "stream",
     "text": [
      "Dashboard URL: http://127.0.0.1:8265\n"
     ]
    }
   ],
   "source": [
    "from icecream import ic\n",
    "import logging\n",
    "import ray\n",
    "\n",
    "ray.init(\n",
    "    ignore_reinit_error=True,\n",
    "    logging_level=logging.ERROR,\n",
    ")\n",
    "\n",
    "print(f\"Dashboard URL: http://{ray.get_dashboard_url()}\")"
   ]
  },
  {
   "cell_type": "markdown",
   "metadata": {},
   "source": [
    "## Parallel Iterators"
   ]
  },
  {
   "cell_type": "markdown",
   "metadata": {},
   "source": [
    "We'll create a parallel iterator from the sequence `items`, using 2 worker actors:"
   ]
  },
  {
   "cell_type": "code",
   "execution_count": 2,
   "metadata": {},
   "outputs": [
    {
     "data": {
      "text/plain": [
       "ParallelIterator[from_items[int, 5, shards=2]]"
      ]
     },
     "execution_count": 2,
     "metadata": {},
     "output_type": "execute_result"
    }
   ],
   "source": [
    "items = [1, 2, 3, 4, 5]\n",
    "\n",
    "iter1 = ray.util.iter.from_items(items, num_shards=2)\n",
    "iter1"
   ]
  },
  {
   "cell_type": "markdown",
   "metadata": {},
   "source": [
    "This `iter1` object can now be passed (i.e., serialized) to remote tasks and remote methods.\n",
    "\n",
    "To read elements from a parallel iterator, it can be converted to a [`LocalIterator`](https://docs.ray.io/en/latest/iter.html#ray.util.iter.LocalIterator) using two approaches.\n",
    "\n",
    "Calling [`gather_sync()`](https://docs.ray.io/en/latest/iter.html#ray.util.iter.ParallelIterator.gather_sync)\n",
    "returns a local iterable for *synchronous* iteration.\n",
    "In other words, next items will be fetched from the shards on-demand as the application steps through the iterator sequence."
   ]
  },
  {
   "cell_type": "code",
   "execution_count": 3,
   "metadata": {},
   "outputs": [
    {
     "data": {
      "text/plain": [
       "LocalIterator[ParallelIterator[from_items[int, 5, shards=2]].gather_sync()]"
      ]
     },
     "execution_count": 3,
     "metadata": {},
     "output_type": "execute_result"
    }
   ],
   "source": [
    "local_iter1 = iter1.gather_sync()\n",
    "local_iter1"
   ]
  },
  {
   "cell_type": "code",
   "execution_count": 4,
   "metadata": {},
   "outputs": [
    {
     "name": "stderr",
     "output_type": "stream",
     "text": [
      "ic"
     ]
    },
    {
     "name": "stderr",
     "output_type": "stream",
     "text": [
      "|"
     ]
    },
    {
     "name": "stderr",
     "output_type": "stream",
     "text": [
      " "
     ]
    },
    {
     "name": "stderr",
     "output_type": "stream",
     "text": [
      "item"
     ]
    },
    {
     "name": "stderr",
     "output_type": "stream",
     "text": [
      ":"
     ]
    },
    {
     "name": "stderr",
     "output_type": "stream",
     "text": [
      " "
     ]
    },
    {
     "name": "stderr",
     "output_type": "stream",
     "text": [
      "1"
     ]
    },
    {
     "name": "stderr",
     "output_type": "stream",
     "text": [
      "\n"
     ]
    },
    {
     "name": "stderr",
     "output_type": "stream",
     "text": [
      "ic"
     ]
    },
    {
     "name": "stderr",
     "output_type": "stream",
     "text": [
      "|"
     ]
    },
    {
     "name": "stderr",
     "output_type": "stream",
     "text": [
      " "
     ]
    },
    {
     "name": "stderr",
     "output_type": "stream",
     "text": [
      "item"
     ]
    },
    {
     "name": "stderr",
     "output_type": "stream",
     "text": [
      ":"
     ]
    },
    {
     "name": "stderr",
     "output_type": "stream",
     "text": [
      " "
     ]
    },
    {
     "name": "stderr",
     "output_type": "stream",
     "text": [
      "2"
     ]
    },
    {
     "name": "stderr",
     "output_type": "stream",
     "text": [
      "\n"
     ]
    },
    {
     "name": "stderr",
     "output_type": "stream",
     "text": [
      "ic"
     ]
    },
    {
     "name": "stderr",
     "output_type": "stream",
     "text": [
      "|"
     ]
    },
    {
     "name": "stderr",
     "output_type": "stream",
     "text": [
      " "
     ]
    },
    {
     "name": "stderr",
     "output_type": "stream",
     "text": [
      "item"
     ]
    },
    {
     "name": "stderr",
     "output_type": "stream",
     "text": [
      ":"
     ]
    },
    {
     "name": "stderr",
     "output_type": "stream",
     "text": [
      " "
     ]
    },
    {
     "name": "stderr",
     "output_type": "stream",
     "text": [
      "3"
     ]
    },
    {
     "name": "stderr",
     "output_type": "stream",
     "text": [
      "\n"
     ]
    },
    {
     "name": "stderr",
     "output_type": "stream",
     "text": [
      "ic"
     ]
    },
    {
     "name": "stderr",
     "output_type": "stream",
     "text": [
      "|"
     ]
    },
    {
     "name": "stderr",
     "output_type": "stream",
     "text": [
      " "
     ]
    },
    {
     "name": "stderr",
     "output_type": "stream",
     "text": [
      "item"
     ]
    },
    {
     "name": "stderr",
     "output_type": "stream",
     "text": [
      ":"
     ]
    },
    {
     "name": "stderr",
     "output_type": "stream",
     "text": [
      " "
     ]
    },
    {
     "name": "stderr",
     "output_type": "stream",
     "text": [
      "4"
     ]
    },
    {
     "name": "stderr",
     "output_type": "stream",
     "text": [
      "\n"
     ]
    },
    {
     "name": "stderr",
     "output_type": "stream",
     "text": [
      "ic"
     ]
    },
    {
     "name": "stderr",
     "output_type": "stream",
     "text": [
      "|"
     ]
    },
    {
     "name": "stderr",
     "output_type": "stream",
     "text": [
      " "
     ]
    },
    {
     "name": "stderr",
     "output_type": "stream",
     "text": [
      "item"
     ]
    },
    {
     "name": "stderr",
     "output_type": "stream",
     "text": [
      ":"
     ]
    },
    {
     "name": "stderr",
     "output_type": "stream",
     "text": [
      " "
     ]
    },
    {
     "name": "stderr",
     "output_type": "stream",
     "text": [
      "5"
     ]
    },
    {
     "name": "stderr",
     "output_type": "stream",
     "text": [
      "\n"
     ]
    }
   ],
   "source": [
    "for item in local_iter1:\n",
    "    ic(item)"
   ]
  },
  {
   "cell_type": "markdown",
   "metadata": {},
   "source": [
    "When applying a function to the sequence (i.e., some kind of transformation) a parallel iterator provides semantic guarantees for *fetch ordering*. In other words, the transformation is guaranteed to get applied to each element of the sequence before the next item is fetched from the source actor.\n",
    "For example, this can be useful if you need to update the source actor between iterator steps.\n",
    "\n",
    "To illustrate a simple case of how to apply a function, first we'll define a class to perform some calculation:"
   ]
  },
  {
   "cell_type": "code",
   "execution_count": 5,
   "metadata": {},
   "outputs": [],
   "source": [
    "class CumulativeSum:\n",
    "    def __init__ (self):\n",
    "        self.total = 0\n",
    "\n",
    "    def __call__ (self, x):\n",
    "        self.total += x\n",
    "        return (self.total, x)"
   ]
  },
  {
   "cell_type": "markdown",
   "metadata": {},
   "source": [
    "Now apply that class to the sequence of items, using the [`for_each()`](https://docs.ray.io/en/latest/iter.html#ray.util.iter.ParallelIterator.for_each) method:"
   ]
  },
  {
   "cell_type": "code",
   "execution_count": 6,
   "metadata": {},
   "outputs": [
    {
     "name": "stdout",
     "output_type": "stream",
     "text": [
      "(1, 1)\n",
      "(2, 2)\n",
      "(4, 3)\n",
      "(6, 4)\n",
      "(9, 5)\n"
     ]
    }
   ],
   "source": [
    "for x in iter1.for_each(CumulativeSum()).gather_sync():\n",
    "    print(x)"
   ]
  },
  {
   "cell_type": "markdown",
   "metadata": {},
   "source": [
    "Alternatively, calling [`gather_async()`](https://docs.ray.io/en/latest/iter.html#ray.util.iter.ParallelIterator.gather_async)\n",
    "returns a local iterable for *asynchronous* iteration.\n",
    "In other words, next items will be fetched from the shards asynchronously as soon as the previous item gets computed.\n",
    "In this case, the fetch ordering only applies per shard."
   ]
  },
  {
   "cell_type": "markdown",
   "metadata": {},
   "source": [
    "Another way to access a parallel iterator is as a collection of its shards:"
   ]
  },
  {
   "cell_type": "code",
   "execution_count": 7,
   "metadata": {},
   "outputs": [
    {
     "data": {
      "text/plain": [
       "[LocalIterator[from_items[int, 5, shards=2].shard[0]],\n",
       " LocalIterator[from_items[int, 5, shards=2].shard[1]]]"
      ]
     },
     "execution_count": 7,
     "metadata": {},
     "output_type": "execute_result"
    }
   ],
   "source": [
    "iter1.shards()"
   ]
  },
  {
   "cell_type": "code",
   "execution_count": 8,
   "metadata": {},
   "outputs": [
    {
     "name": "stderr",
     "output_type": "stream",
     "text": [
      "ic"
     ]
    },
    {
     "name": "stderr",
     "output_type": "stream",
     "text": [
      "|"
     ]
    },
    {
     "name": "stderr",
     "output_type": "stream",
     "text": [
      " "
     ]
    },
    {
     "name": "stderr",
     "output_type": "stream",
     "text": [
      "shard"
     ]
    },
    {
     "name": "stderr",
     "output_type": "stream",
     "text": [
      ":"
     ]
    },
    {
     "name": "stderr",
     "output_type": "stream",
     "text": [
      " "
     ]
    },
    {
     "name": "stderr",
     "output_type": "stream",
     "text": [
      "LocalIterator"
     ]
    },
    {
     "name": "stderr",
     "output_type": "stream",
     "text": [
      "["
     ]
    },
    {
     "name": "stderr",
     "output_type": "stream",
     "text": [
      "from_items"
     ]
    },
    {
     "name": "stderr",
     "output_type": "stream",
     "text": [
      "["
     ]
    },
    {
     "name": "stderr",
     "output_type": "stream",
     "text": [
      "int"
     ]
    },
    {
     "name": "stderr",
     "output_type": "stream",
     "text": [
      ","
     ]
    },
    {
     "name": "stderr",
     "output_type": "stream",
     "text": [
      " "
     ]
    },
    {
     "name": "stderr",
     "output_type": "stream",
     "text": [
      "5"
     ]
    },
    {
     "name": "stderr",
     "output_type": "stream",
     "text": [
      ","
     ]
    },
    {
     "name": "stderr",
     "output_type": "stream",
     "text": [
      " "
     ]
    },
    {
     "name": "stderr",
     "output_type": "stream",
     "text": [
      "shards"
     ]
    },
    {
     "name": "stderr",
     "output_type": "stream",
     "text": [
      "="
     ]
    },
    {
     "name": "stderr",
     "output_type": "stream",
     "text": [
      "2"
     ]
    },
    {
     "name": "stderr",
     "output_type": "stream",
     "text": [
      "]"
     ]
    },
    {
     "name": "stderr",
     "output_type": "stream",
     "text": [
      "."
     ]
    },
    {
     "name": "stderr",
     "output_type": "stream",
     "text": [
      "shard"
     ]
    },
    {
     "name": "stderr",
     "output_type": "stream",
     "text": [
      "["
     ]
    },
    {
     "name": "stderr",
     "output_type": "stream",
     "text": [
      "0"
     ]
    },
    {
     "name": "stderr",
     "output_type": "stream",
     "text": [
      "]"
     ]
    },
    {
     "name": "stderr",
     "output_type": "stream",
     "text": [
      "]"
     ]
    },
    {
     "name": "stderr",
     "output_type": "stream",
     "text": [
      "\n"
     ]
    },
    {
     "name": "stderr",
     "output_type": "stream",
     "text": [
      "ic"
     ]
    },
    {
     "name": "stderr",
     "output_type": "stream",
     "text": [
      "|"
     ]
    },
    {
     "name": "stderr",
     "output_type": "stream",
     "text": [
      " "
     ]
    },
    {
     "name": "stderr",
     "output_type": "stream",
     "text": [
      "item"
     ]
    },
    {
     "name": "stderr",
     "output_type": "stream",
     "text": [
      ":"
     ]
    },
    {
     "name": "stderr",
     "output_type": "stream",
     "text": [
      " "
     ]
    },
    {
     "name": "stderr",
     "output_type": "stream",
     "text": [
      "1"
     ]
    },
    {
     "name": "stderr",
     "output_type": "stream",
     "text": [
      "\n"
     ]
    },
    {
     "name": "stderr",
     "output_type": "stream",
     "text": [
      "ic"
     ]
    },
    {
     "name": "stderr",
     "output_type": "stream",
     "text": [
      "|"
     ]
    },
    {
     "name": "stderr",
     "output_type": "stream",
     "text": [
      " "
     ]
    },
    {
     "name": "stderr",
     "output_type": "stream",
     "text": [
      "item"
     ]
    },
    {
     "name": "stderr",
     "output_type": "stream",
     "text": [
      ":"
     ]
    },
    {
     "name": "stderr",
     "output_type": "stream",
     "text": [
      " "
     ]
    },
    {
     "name": "stderr",
     "output_type": "stream",
     "text": [
      "3"
     ]
    },
    {
     "name": "stderr",
     "output_type": "stream",
     "text": [
      "\n"
     ]
    },
    {
     "name": "stderr",
     "output_type": "stream",
     "text": [
      "ic"
     ]
    },
    {
     "name": "stderr",
     "output_type": "stream",
     "text": [
      "|"
     ]
    },
    {
     "name": "stderr",
     "output_type": "stream",
     "text": [
      " "
     ]
    },
    {
     "name": "stderr",
     "output_type": "stream",
     "text": [
      "item"
     ]
    },
    {
     "name": "stderr",
     "output_type": "stream",
     "text": [
      ":"
     ]
    },
    {
     "name": "stderr",
     "output_type": "stream",
     "text": [
      " "
     ]
    },
    {
     "name": "stderr",
     "output_type": "stream",
     "text": [
      "5"
     ]
    },
    {
     "name": "stderr",
     "output_type": "stream",
     "text": [
      "\n"
     ]
    },
    {
     "name": "stderr",
     "output_type": "stream",
     "text": [
      "ic"
     ]
    },
    {
     "name": "stderr",
     "output_type": "stream",
     "text": [
      "|"
     ]
    },
    {
     "name": "stderr",
     "output_type": "stream",
     "text": [
      " "
     ]
    },
    {
     "name": "stderr",
     "output_type": "stream",
     "text": [
      "shard"
     ]
    },
    {
     "name": "stderr",
     "output_type": "stream",
     "text": [
      ":"
     ]
    },
    {
     "name": "stderr",
     "output_type": "stream",
     "text": [
      " "
     ]
    },
    {
     "name": "stderr",
     "output_type": "stream",
     "text": [
      "LocalIterator"
     ]
    },
    {
     "name": "stderr",
     "output_type": "stream",
     "text": [
      "["
     ]
    },
    {
     "name": "stderr",
     "output_type": "stream",
     "text": [
      "from_items"
     ]
    },
    {
     "name": "stderr",
     "output_type": "stream",
     "text": [
      "["
     ]
    },
    {
     "name": "stderr",
     "output_type": "stream",
     "text": [
      "int"
     ]
    },
    {
     "name": "stderr",
     "output_type": "stream",
     "text": [
      ","
     ]
    },
    {
     "name": "stderr",
     "output_type": "stream",
     "text": [
      " "
     ]
    },
    {
     "name": "stderr",
     "output_type": "stream",
     "text": [
      "5"
     ]
    },
    {
     "name": "stderr",
     "output_type": "stream",
     "text": [
      ","
     ]
    },
    {
     "name": "stderr",
     "output_type": "stream",
     "text": [
      " "
     ]
    },
    {
     "name": "stderr",
     "output_type": "stream",
     "text": [
      "shards"
     ]
    },
    {
     "name": "stderr",
     "output_type": "stream",
     "text": [
      "="
     ]
    },
    {
     "name": "stderr",
     "output_type": "stream",
     "text": [
      "2"
     ]
    },
    {
     "name": "stderr",
     "output_type": "stream",
     "text": [
      "]"
     ]
    },
    {
     "name": "stderr",
     "output_type": "stream",
     "text": [
      "."
     ]
    },
    {
     "name": "stderr",
     "output_type": "stream",
     "text": [
      "shard"
     ]
    },
    {
     "name": "stderr",
     "output_type": "stream",
     "text": [
      "["
     ]
    },
    {
     "name": "stderr",
     "output_type": "stream",
     "text": [
      "1"
     ]
    },
    {
     "name": "stderr",
     "output_type": "stream",
     "text": [
      "]"
     ]
    },
    {
     "name": "stderr",
     "output_type": "stream",
     "text": [
      "]"
     ]
    },
    {
     "name": "stderr",
     "output_type": "stream",
     "text": [
      "\n"
     ]
    },
    {
     "name": "stderr",
     "output_type": "stream",
     "text": [
      "ic"
     ]
    },
    {
     "name": "stderr",
     "output_type": "stream",
     "text": [
      "|"
     ]
    },
    {
     "name": "stderr",
     "output_type": "stream",
     "text": [
      " "
     ]
    },
    {
     "name": "stderr",
     "output_type": "stream",
     "text": [
      "item"
     ]
    },
    {
     "name": "stderr",
     "output_type": "stream",
     "text": [
      ":"
     ]
    },
    {
     "name": "stderr",
     "output_type": "stream",
     "text": [
      " "
     ]
    },
    {
     "name": "stderr",
     "output_type": "stream",
     "text": [
      "2"
     ]
    },
    {
     "name": "stderr",
     "output_type": "stream",
     "text": [
      "\n"
     ]
    },
    {
     "name": "stderr",
     "output_type": "stream",
     "text": [
      "ic"
     ]
    },
    {
     "name": "stderr",
     "output_type": "stream",
     "text": [
      "|"
     ]
    },
    {
     "name": "stderr",
     "output_type": "stream",
     "text": [
      " "
     ]
    },
    {
     "name": "stderr",
     "output_type": "stream",
     "text": [
      "item"
     ]
    },
    {
     "name": "stderr",
     "output_type": "stream",
     "text": [
      ":"
     ]
    },
    {
     "name": "stderr",
     "output_type": "stream",
     "text": [
      " "
     ]
    },
    {
     "name": "stderr",
     "output_type": "stream",
     "text": [
      "4"
     ]
    },
    {
     "name": "stderr",
     "output_type": "stream",
     "text": [
      "\n"
     ]
    }
   ],
   "source": [
    "for shard in iter1.shards():\n",
    "    ic(shard)\n",
    "    \n",
    "    for item in shard:\n",
    "        ic(item)"
   ]
  },
  {
   "cell_type": "markdown",
   "metadata": {},
   "source": [
    "Note that each shard should only be read by one process at a time."
   ]
  },
  {
   "cell_type": "markdown",
   "metadata": {},
   "source": [
    "As an example, let's iterate through the JSON source for the Jupyter notebooks in this repo as if this were a streaming input source.\n",
    "\n",
    "We'll filter to get the text in markdown cells, evaluated in batches – which creates a sliding window across the input stream:"
   ]
  },
  {
   "cell_type": "code",
   "execution_count": 9,
   "metadata": {
    "scrolled": true
   },
   "outputs": [
    {
     "data": {
      "text/plain": [
       "ParallelIterator[from_items[PosixPath, 6, shards=3].for_each().for_each().flatten().for_each().flatten().for_each().batch(20).for_each()]"
      ]
     },
     "execution_count": 9,
     "metadata": {},
     "output_type": "execute_result"
    }
   ],
   "source": [
    "from pathlib import Path\n",
    "import numpy as np\n",
    "import json\n",
    "\n",
    "nb_items = list(Path(\".\").glob(\"ex_*.ipynb\"))\n",
    "window_width = 20\n",
    "\n",
    "iter2 = (\n",
    "    ray.util.iter.from_items(nb_items, num_shards=3)\n",
    "        .for_each(lambda f: json.load(open(f)))\n",
    "        .for_each(lambda nb: nb[\"cells\"])\n",
    "        .flatten()\n",
    "        .for_each(lambda cell: cell[\"source\"] if cell[\"cell_type\"] == \"markdown\" else [])\n",
    "        .flatten()\n",
    "        .for_each(lambda line: 1 if \"Ray\" in line else 0)\n",
    "        .batch(window_width)\n",
    "        .for_each(np.mean)\n",
    ")\n",
    "\n",
    "iter2"
   ]
  },
  {
   "cell_type": "markdown",
   "metadata": {},
   "source": [
    "Now calculate the probability of the term `Ray` occurring within the lines in each batch:"
   ]
  },
  {
   "cell_type": "code",
   "execution_count": 10,
   "metadata": {},
   "outputs": [
    {
     "name": "stderr",
     "output_type": "stream",
     "text": [
      "ic"
     ]
    },
    {
     "name": "stderr",
     "output_type": "stream",
     "text": [
      "|"
     ]
    },
    {
     "name": "stderr",
     "output_type": "stream",
     "text": [
      " "
     ]
    },
    {
     "name": "stderr",
     "output_type": "stream",
     "text": [
      "freq"
     ]
    },
    {
     "name": "stderr",
     "output_type": "stream",
     "text": [
      ":"
     ]
    },
    {
     "name": "stderr",
     "output_type": "stream",
     "text": [
      " "
     ]
    },
    {
     "name": "stderr",
     "output_type": "stream",
     "text": [
      "0.2"
     ]
    },
    {
     "name": "stderr",
     "output_type": "stream",
     "text": [
      "\n"
     ]
    },
    {
     "name": "stderr",
     "output_type": "stream",
     "text": [
      "ic"
     ]
    },
    {
     "name": "stderr",
     "output_type": "stream",
     "text": [
      "|"
     ]
    },
    {
     "name": "stderr",
     "output_type": "stream",
     "text": [
      " "
     ]
    },
    {
     "name": "stderr",
     "output_type": "stream",
     "text": [
      "freq"
     ]
    },
    {
     "name": "stderr",
     "output_type": "stream",
     "text": [
      ":"
     ]
    },
    {
     "name": "stderr",
     "output_type": "stream",
     "text": [
      " "
     ]
    },
    {
     "name": "stderr",
     "output_type": "stream",
     "text": [
      "0.2"
     ]
    },
    {
     "name": "stderr",
     "output_type": "stream",
     "text": [
      "\n"
     ]
    },
    {
     "name": "stderr",
     "output_type": "stream",
     "text": [
      "ic"
     ]
    },
    {
     "name": "stderr",
     "output_type": "stream",
     "text": [
      "|"
     ]
    },
    {
     "name": "stderr",
     "output_type": "stream",
     "text": [
      " "
     ]
    },
    {
     "name": "stderr",
     "output_type": "stream",
     "text": [
      "freq"
     ]
    },
    {
     "name": "stderr",
     "output_type": "stream",
     "text": [
      ":"
     ]
    },
    {
     "name": "stderr",
     "output_type": "stream",
     "text": [
      " "
     ]
    },
    {
     "name": "stderr",
     "output_type": "stream",
     "text": [
      "0.2"
     ]
    },
    {
     "name": "stderr",
     "output_type": "stream",
     "text": [
      "\n"
     ]
    },
    {
     "name": "stderr",
     "output_type": "stream",
     "text": [
      "ic"
     ]
    },
    {
     "name": "stderr",
     "output_type": "stream",
     "text": [
      "|"
     ]
    },
    {
     "name": "stderr",
     "output_type": "stream",
     "text": [
      " "
     ]
    },
    {
     "name": "stderr",
     "output_type": "stream",
     "text": [
      "freq"
     ]
    },
    {
     "name": "stderr",
     "output_type": "stream",
     "text": [
      ":"
     ]
    },
    {
     "name": "stderr",
     "output_type": "stream",
     "text": [
      " "
     ]
    },
    {
     "name": "stderr",
     "output_type": "stream",
     "text": [
      "0.2"
     ]
    },
    {
     "name": "stderr",
     "output_type": "stream",
     "text": [
      "\n"
     ]
    },
    {
     "name": "stderr",
     "output_type": "stream",
     "text": [
      "ic"
     ]
    },
    {
     "name": "stderr",
     "output_type": "stream",
     "text": [
      "|"
     ]
    },
    {
     "name": "stderr",
     "output_type": "stream",
     "text": [
      " "
     ]
    },
    {
     "name": "stderr",
     "output_type": "stream",
     "text": [
      "freq"
     ]
    },
    {
     "name": "stderr",
     "output_type": "stream",
     "text": [
      ":"
     ]
    },
    {
     "name": "stderr",
     "output_type": "stream",
     "text": [
      " "
     ]
    },
    {
     "name": "stderr",
     "output_type": "stream",
     "text": [
      "0.25"
     ]
    },
    {
     "name": "stderr",
     "output_type": "stream",
     "text": [
      "\n"
     ]
    },
    {
     "name": "stderr",
     "output_type": "stream",
     "text": [
      "ic"
     ]
    },
    {
     "name": "stderr",
     "output_type": "stream",
     "text": [
      "|"
     ]
    },
    {
     "name": "stderr",
     "output_type": "stream",
     "text": [
      " "
     ]
    },
    {
     "name": "stderr",
     "output_type": "stream",
     "text": [
      "freq"
     ]
    },
    {
     "name": "stderr",
     "output_type": "stream",
     "text": [
      ":"
     ]
    },
    {
     "name": "stderr",
     "output_type": "stream",
     "text": [
      " "
     ]
    },
    {
     "name": "stderr",
     "output_type": "stream",
     "text": [
      "0.3125"
     ]
    },
    {
     "name": "stderr",
     "output_type": "stream",
     "text": [
      "\n"
     ]
    },
    {
     "name": "stderr",
     "output_type": "stream",
     "text": [
      "ic"
     ]
    },
    {
     "name": "stderr",
     "output_type": "stream",
     "text": [
      "|"
     ]
    },
    {
     "name": "stderr",
     "output_type": "stream",
     "text": [
      " "
     ]
    },
    {
     "name": "stderr",
     "output_type": "stream",
     "text": [
      "freq"
     ]
    },
    {
     "name": "stderr",
     "output_type": "stream",
     "text": [
      ":"
     ]
    },
    {
     "name": "stderr",
     "output_type": "stream",
     "text": [
      " "
     ]
    },
    {
     "name": "stderr",
     "output_type": "stream",
     "text": [
      "0.0"
     ]
    },
    {
     "name": "stderr",
     "output_type": "stream",
     "text": [
      "\n"
     ]
    },
    {
     "name": "stderr",
     "output_type": "stream",
     "text": [
      "ic"
     ]
    },
    {
     "name": "stderr",
     "output_type": "stream",
     "text": [
      "|"
     ]
    },
    {
     "name": "stderr",
     "output_type": "stream",
     "text": [
      " "
     ]
    },
    {
     "name": "stderr",
     "output_type": "stream",
     "text": [
      "freq"
     ]
    },
    {
     "name": "stderr",
     "output_type": "stream",
     "text": [
      ":"
     ]
    },
    {
     "name": "stderr",
     "output_type": "stream",
     "text": [
      " "
     ]
    },
    {
     "name": "stderr",
     "output_type": "stream",
     "text": [
      "0.17647058823529413"
     ]
    },
    {
     "name": "stderr",
     "output_type": "stream",
     "text": [
      "\n"
     ]
    }
   ],
   "source": [
    "for freq in iter2.gather_async():\n",
    "    ic(freq)"
   ]
  },
  {
   "cell_type": "markdown",
   "metadata": {},
   "source": [
    "Let's rework this to show an example of passing iterator shards to remote functions.\n",
    "We'll define a remote function `nb_word_count` to tally *word count* among the markdown cells in each notebook:"
   ]
  },
  {
   "cell_type": "code",
   "execution_count": 11,
   "metadata": {},
   "outputs": [],
   "source": [
    "from collections import defaultdict\n",
    "\n",
    "@ray.remote\n",
    "def nb_word_count (shard):\n",
    "    wc = defaultdict(int)\n",
    "    punct = \"\"\"'`<>[](){}*.,:…-'\"\"\"\n",
    "    \n",
    "    for nb_path in shard:\n",
    "        with open(nb_path) as f:\n",
    "            nb = json.load(f)\n",
    "            for cell in nb[\"cells\"]:\n",
    "                if cell[\"cell_type\"] == \"markdown\":\n",
    "                    for line in cell[\"source\"]:\n",
    "                        for token in line.strip(\"# \").lower().split():\n",
    "                            token = token.strip(punct)\n",
    "                            wc[token] += 1\n",
    "\n",
    "    return wc"
   ]
  },
  {
   "cell_type": "markdown",
   "metadata": {},
   "source": [
    "Now pass each of the shards to a remote function:"
   ]
  },
  {
   "cell_type": "code",
   "execution_count": 12,
   "metadata": {
    "scrolled": true
   },
   "outputs": [],
   "source": [
    "nb_items = list(Path(\".\").glob(\"ex_*.ipynb\"))\n",
    "\n",
    "iter3 = ray.util.iter.from_items(nb_items, num_shards=3)\n",
    "\n",
    "work = [nb_word_count.remote(shard) for shard in iter3.shards()]"
   ]
  },
  {
   "cell_type": "markdown",
   "metadata": {},
   "source": [
    "To show the end results, we'll aggregate the word counts calculated from each shard:"
   ]
  },
  {
   "cell_type": "code",
   "execution_count": 13,
   "metadata": {},
   "outputs": [],
   "source": [
    "wc_sum = defaultdict(int)\n",
    "\n",
    "for wc in ray.get(work):\n",
    "    for token, count in wc.items():\n",
    "        wc_sum[token] += count"
   ]
  },
  {
   "cell_type": "markdown",
   "metadata": {},
   "source": [
    "Then list the tokens ranked in descending order:"
   ]
  },
  {
   "cell_type": "code",
   "execution_count": 14,
   "metadata": {
    "scrolled": true
   },
   "outputs": [
    {
     "name": "stderr",
     "output_type": "stream",
     "text": [
      "ic"
     ]
    },
    {
     "name": "stderr",
     "output_type": "stream",
     "text": [
      "|"
     ]
    },
    {
     "name": "stderr",
     "output_type": "stream",
     "text": [
      " "
     ]
    },
    {
     "name": "stderr",
     "output_type": "stream",
     "text": [
      "token"
     ]
    },
    {
     "name": "stderr",
     "output_type": "stream",
     "text": [
      ":"
     ]
    },
    {
     "name": "stderr",
     "output_type": "stream",
     "text": [
      " "
     ]
    },
    {
     "name": "stderr",
     "output_type": "stream",
     "text": [
      "'"
     ]
    },
    {
     "name": "stderr",
     "output_type": "stream",
     "text": [
      "a"
     ]
    },
    {
     "name": "stderr",
     "output_type": "stream",
     "text": [
      "'"
     ]
    },
    {
     "name": "stderr",
     "output_type": "stream",
     "text": [
      ","
     ]
    },
    {
     "name": "stderr",
     "output_type": "stream",
     "text": [
      " "
     ]
    },
    {
     "name": "stderr",
     "output_type": "stream",
     "text": [
      "count"
     ]
    },
    {
     "name": "stderr",
     "output_type": "stream",
     "text": [
      ":"
     ]
    },
    {
     "name": "stderr",
     "output_type": "stream",
     "text": [
      " "
     ]
    },
    {
     "name": "stderr",
     "output_type": "stream",
     "text": [
      "57"
     ]
    },
    {
     "name": "stderr",
     "output_type": "stream",
     "text": [
      "\n"
     ]
    },
    {
     "name": "stderr",
     "output_type": "stream",
     "text": [
      "ic"
     ]
    },
    {
     "name": "stderr",
     "output_type": "stream",
     "text": [
      "|"
     ]
    },
    {
     "name": "stderr",
     "output_type": "stream",
     "text": [
      " "
     ]
    },
    {
     "name": "stderr",
     "output_type": "stream",
     "text": [
      "token"
     ]
    },
    {
     "name": "stderr",
     "output_type": "stream",
     "text": [
      ":"
     ]
    },
    {
     "name": "stderr",
     "output_type": "stream",
     "text": [
      " "
     ]
    },
    {
     "name": "stderr",
     "output_type": "stream",
     "text": [
      "'"
     ]
    },
    {
     "name": "stderr",
     "output_type": "stream",
     "text": [
      "the"
     ]
    },
    {
     "name": "stderr",
     "output_type": "stream",
     "text": [
      "'"
     ]
    },
    {
     "name": "stderr",
     "output_type": "stream",
     "text": [
      ","
     ]
    },
    {
     "name": "stderr",
     "output_type": "stream",
     "text": [
      " "
     ]
    },
    {
     "name": "stderr",
     "output_type": "stream",
     "text": [
      "count"
     ]
    },
    {
     "name": "stderr",
     "output_type": "stream",
     "text": [
      ":"
     ]
    },
    {
     "name": "stderr",
     "output_type": "stream",
     "text": [
      " "
     ]
    },
    {
     "name": "stderr",
     "output_type": "stream",
     "text": [
      "54"
     ]
    },
    {
     "name": "stderr",
     "output_type": "stream",
     "text": [
      "\n"
     ]
    },
    {
     "name": "stderr",
     "output_type": "stream",
     "text": [
      "ic"
     ]
    },
    {
     "name": "stderr",
     "output_type": "stream",
     "text": [
      "|"
     ]
    },
    {
     "name": "stderr",
     "output_type": "stream",
     "text": [
      " "
     ]
    },
    {
     "name": "stderr",
     "output_type": "stream",
     "text": [
      "token"
     ]
    },
    {
     "name": "stderr",
     "output_type": "stream",
     "text": [
      ":"
     ]
    },
    {
     "name": "stderr",
     "output_type": "stream",
     "text": [
      " "
     ]
    },
    {
     "name": "stderr",
     "output_type": "stream",
     "text": [
      "'"
     ]
    },
    {
     "name": "stderr",
     "output_type": "stream",
     "text": [
      "to"
     ]
    },
    {
     "name": "stderr",
     "output_type": "stream",
     "text": [
      "'"
     ]
    },
    {
     "name": "stderr",
     "output_type": "stream",
     "text": [
      ","
     ]
    },
    {
     "name": "stderr",
     "output_type": "stream",
     "text": [
      " "
     ]
    },
    {
     "name": "stderr",
     "output_type": "stream",
     "text": [
      "count"
     ]
    },
    {
     "name": "stderr",
     "output_type": "stream",
     "text": [
      ":"
     ]
    },
    {
     "name": "stderr",
     "output_type": "stream",
     "text": [
      " "
     ]
    },
    {
     "name": "stderr",
     "output_type": "stream",
     "text": [
      "38"
     ]
    },
    {
     "name": "stderr",
     "output_type": "stream",
     "text": [
      "\n"
     ]
    },
    {
     "name": "stderr",
     "output_type": "stream",
     "text": [
      "ic"
     ]
    },
    {
     "name": "stderr",
     "output_type": "stream",
     "text": [
      "|"
     ]
    },
    {
     "name": "stderr",
     "output_type": "stream",
     "text": [
      " "
     ]
    },
    {
     "name": "stderr",
     "output_type": "stream",
     "text": [
      "token"
     ]
    },
    {
     "name": "stderr",
     "output_type": "stream",
     "text": [
      ":"
     ]
    },
    {
     "name": "stderr",
     "output_type": "stream",
     "text": [
      " "
     ]
    },
    {
     "name": "stderr",
     "output_type": "stream",
     "text": [
      "'"
     ]
    },
    {
     "name": "stderr",
     "output_type": "stream",
     "text": [
      "ray"
     ]
    },
    {
     "name": "stderr",
     "output_type": "stream",
     "text": [
      "'"
     ]
    },
    {
     "name": "stderr",
     "output_type": "stream",
     "text": [
      ","
     ]
    },
    {
     "name": "stderr",
     "output_type": "stream",
     "text": [
      " "
     ]
    },
    {
     "name": "stderr",
     "output_type": "stream",
     "text": [
      "count"
     ]
    },
    {
     "name": "stderr",
     "output_type": "stream",
     "text": [
      ":"
     ]
    },
    {
     "name": "stderr",
     "output_type": "stream",
     "text": [
      " "
     ]
    },
    {
     "name": "stderr",
     "output_type": "stream",
     "text": [
      "27"
     ]
    },
    {
     "name": "stderr",
     "output_type": "stream",
     "text": [
      "\n"
     ]
    },
    {
     "name": "stderr",
     "output_type": "stream",
     "text": [
      "ic"
     ]
    },
    {
     "name": "stderr",
     "output_type": "stream",
     "text": [
      "|"
     ]
    },
    {
     "name": "stderr",
     "output_type": "stream",
     "text": [
      " "
     ]
    },
    {
     "name": "stderr",
     "output_type": "stream",
     "text": [
      "token"
     ]
    },
    {
     "name": "stderr",
     "output_type": "stream",
     "text": [
      ":"
     ]
    },
    {
     "name": "stderr",
     "output_type": "stream",
     "text": [
      " "
     ]
    },
    {
     "name": "stderr",
     "output_type": "stream",
     "text": [
      "'"
     ]
    },
    {
     "name": "stderr",
     "output_type": "stream",
     "text": [
      "of"
     ]
    },
    {
     "name": "stderr",
     "output_type": "stream",
     "text": [
      "'"
     ]
    },
    {
     "name": "stderr",
     "output_type": "stream",
     "text": [
      ","
     ]
    },
    {
     "name": "stderr",
     "output_type": "stream",
     "text": [
      " "
     ]
    },
    {
     "name": "stderr",
     "output_type": "stream",
     "text": [
      "count"
     ]
    },
    {
     "name": "stderr",
     "output_type": "stream",
     "text": [
      ":"
     ]
    },
    {
     "name": "stderr",
     "output_type": "stream",
     "text": [
      " "
     ]
    },
    {
     "name": "stderr",
     "output_type": "stream",
     "text": [
      "24"
     ]
    },
    {
     "name": "stderr",
     "output_type": "stream",
     "text": [
      "\n"
     ]
    },
    {
     "name": "stderr",
     "output_type": "stream",
     "text": [
      "ic"
     ]
    },
    {
     "name": "stderr",
     "output_type": "stream",
     "text": [
      "|"
     ]
    },
    {
     "name": "stderr",
     "output_type": "stream",
     "text": [
      " "
     ]
    },
    {
     "name": "stderr",
     "output_type": "stream",
     "text": [
      "token"
     ]
    },
    {
     "name": "stderr",
     "output_type": "stream",
     "text": [
      ":"
     ]
    },
    {
     "name": "stderr",
     "output_type": "stream",
     "text": [
      " "
     ]
    },
    {
     "name": "stderr",
     "output_type": "stream",
     "text": [
      "'"
     ]
    },
    {
     "name": "stderr",
     "output_type": "stream",
     "text": [
      "remote"
     ]
    },
    {
     "name": "stderr",
     "output_type": "stream",
     "text": [
      "'"
     ]
    },
    {
     "name": "stderr",
     "output_type": "stream",
     "text": [
      ","
     ]
    },
    {
     "name": "stderr",
     "output_type": "stream",
     "text": [
      " "
     ]
    },
    {
     "name": "stderr",
     "output_type": "stream",
     "text": [
      "count"
     ]
    },
    {
     "name": "stderr",
     "output_type": "stream",
     "text": [
      ":"
     ]
    },
    {
     "name": "stderr",
     "output_type": "stream",
     "text": [
      " "
     ]
    },
    {
     "name": "stderr",
     "output_type": "stream",
     "text": [
      "21"
     ]
    },
    {
     "name": "stderr",
     "output_type": "stream",
     "text": [
      "\n"
     ]
    },
    {
     "name": "stderr",
     "output_type": "stream",
     "text": [
      "ic"
     ]
    },
    {
     "name": "stderr",
     "output_type": "stream",
     "text": [
      "|"
     ]
    },
    {
     "name": "stderr",
     "output_type": "stream",
     "text": [
      " "
     ]
    },
    {
     "name": "stderr",
     "output_type": "stream",
     "text": [
      "token"
     ]
    },
    {
     "name": "stderr",
     "output_type": "stream",
     "text": [
      ":"
     ]
    },
    {
     "name": "stderr",
     "output_type": "stream",
     "text": [
      " "
     ]
    },
    {
     "name": "stderr",
     "output_type": "stream",
     "text": [
      "'"
     ]
    },
    {
     "name": "stderr",
     "output_type": "stream",
     "text": [
      "this"
     ]
    },
    {
     "name": "stderr",
     "output_type": "stream",
     "text": [
      "'"
     ]
    },
    {
     "name": "stderr",
     "output_type": "stream",
     "text": [
      ","
     ]
    },
    {
     "name": "stderr",
     "output_type": "stream",
     "text": [
      " "
     ]
    },
    {
     "name": "stderr",
     "output_type": "stream",
     "text": [
      "count"
     ]
    },
    {
     "name": "stderr",
     "output_type": "stream",
     "text": [
      ":"
     ]
    },
    {
     "name": "stderr",
     "output_type": "stream",
     "text": [
      " "
     ]
    },
    {
     "name": "stderr",
     "output_type": "stream",
     "text": [
      "20"
     ]
    },
    {
     "name": "stderr",
     "output_type": "stream",
     "text": [
      "\n"
     ]
    },
    {
     "name": "stderr",
     "output_type": "stream",
     "text": [
      "ic"
     ]
    },
    {
     "name": "stderr",
     "output_type": "stream",
     "text": [
      "|"
     ]
    },
    {
     "name": "stderr",
     "output_type": "stream",
     "text": [
      " "
     ]
    },
    {
     "name": "stderr",
     "output_type": "stream",
     "text": [
      "token"
     ]
    },
    {
     "name": "stderr",
     "output_type": "stream",
     "text": [
      ":"
     ]
    },
    {
     "name": "stderr",
     "output_type": "stream",
     "text": [
      " "
     ]
    },
    {
     "name": "stderr",
     "output_type": "stream",
     "text": [
      "'"
     ]
    },
    {
     "name": "stderr",
     "output_type": "stream",
     "text": [
      "for"
     ]
    },
    {
     "name": "stderr",
     "output_type": "stream",
     "text": [
      "'"
     ]
    },
    {
     "name": "stderr",
     "output_type": "stream",
     "text": [
      ","
     ]
    },
    {
     "name": "stderr",
     "output_type": "stream",
     "text": [
      " "
     ]
    },
    {
     "name": "stderr",
     "output_type": "stream",
     "text": [
      "count"
     ]
    },
    {
     "name": "stderr",
     "output_type": "stream",
     "text": [
      ":"
     ]
    },
    {
     "name": "stderr",
     "output_type": "stream",
     "text": [
      " "
     ]
    },
    {
     "name": "stderr",
     "output_type": "stream",
     "text": [
      "19"
     ]
    },
    {
     "name": "stderr",
     "output_type": "stream",
     "text": [
      "\n"
     ]
    },
    {
     "name": "stderr",
     "output_type": "stream",
     "text": [
      "ic"
     ]
    },
    {
     "name": "stderr",
     "output_type": "stream",
     "text": [
      "|"
     ]
    },
    {
     "name": "stderr",
     "output_type": "stream",
     "text": [
      " "
     ]
    },
    {
     "name": "stderr",
     "output_type": "stream",
     "text": [
      "token"
     ]
    },
    {
     "name": "stderr",
     "output_type": "stream",
     "text": [
      ":"
     ]
    },
    {
     "name": "stderr",
     "output_type": "stream",
     "text": [
      " "
     ]
    },
    {
     "name": "stderr",
     "output_type": "stream",
     "text": [
      "'"
     ]
    },
    {
     "name": "stderr",
     "output_type": "stream",
     "text": [
      "in"
     ]
    },
    {
     "name": "stderr",
     "output_type": "stream",
     "text": [
      "'"
     ]
    },
    {
     "name": "stderr",
     "output_type": "stream",
     "text": [
      ","
     ]
    },
    {
     "name": "stderr",
     "output_type": "stream",
     "text": [
      " "
     ]
    },
    {
     "name": "stderr",
     "output_type": "stream",
     "text": [
      "count"
     ]
    },
    {
     "name": "stderr",
     "output_type": "stream",
     "text": [
      ":"
     ]
    },
    {
     "name": "stderr",
     "output_type": "stream",
     "text": [
      " "
     ]
    },
    {
     "name": "stderr",
     "output_type": "stream",
     "text": [
      "19"
     ]
    },
    {
     "name": "stderr",
     "output_type": "stream",
     "text": [
      "\n"
     ]
    },
    {
     "name": "stderr",
     "output_type": "stream",
     "text": [
      "ic"
     ]
    },
    {
     "name": "stderr",
     "output_type": "stream",
     "text": [
      "|"
     ]
    },
    {
     "name": "stderr",
     "output_type": "stream",
     "text": [
      " "
     ]
    },
    {
     "name": "stderr",
     "output_type": "stream",
     "text": [
      "token"
     ]
    },
    {
     "name": "stderr",
     "output_type": "stream",
     "text": [
      ":"
     ]
    },
    {
     "name": "stderr",
     "output_type": "stream",
     "text": [
      " "
     ]
    },
    {
     "name": "stderr",
     "output_type": "stream",
     "text": [
      "'"
     ]
    },
    {
     "name": "stderr",
     "output_type": "stream",
     "text": [
      "and"
     ]
    },
    {
     "name": "stderr",
     "output_type": "stream",
     "text": [
      "'"
     ]
    },
    {
     "name": "stderr",
     "output_type": "stream",
     "text": [
      ","
     ]
    },
    {
     "name": "stderr",
     "output_type": "stream",
     "text": [
      " "
     ]
    },
    {
     "name": "stderr",
     "output_type": "stream",
     "text": [
      "count"
     ]
    },
    {
     "name": "stderr",
     "output_type": "stream",
     "text": [
      ":"
     ]
    },
    {
     "name": "stderr",
     "output_type": "stream",
     "text": [
      " "
     ]
    },
    {
     "name": "stderr",
     "output_type": "stream",
     "text": [
      "15"
     ]
    },
    {
     "name": "stderr",
     "output_type": "stream",
     "text": [
      "\n"
     ]
    },
    {
     "name": "stderr",
     "output_type": "stream",
     "text": [
      "ic"
     ]
    },
    {
     "name": "stderr",
     "output_type": "stream",
     "text": [
      "|"
     ]
    },
    {
     "name": "stderr",
     "output_type": "stream",
     "text": [
      " "
     ]
    },
    {
     "name": "stderr",
     "output_type": "stream",
     "text": [
      "token"
     ]
    },
    {
     "name": "stderr",
     "output_type": "stream",
     "text": [
      ":"
     ]
    },
    {
     "name": "stderr",
     "output_type": "stream",
     "text": [
      " "
     ]
    },
    {
     "name": "stderr",
     "output_type": "stream",
     "text": [
      "'"
     ]
    },
    {
     "name": "stderr",
     "output_type": "stream",
     "text": [
      "parallel"
     ]
    },
    {
     "name": "stderr",
     "output_type": "stream",
     "text": [
      "'"
     ]
    },
    {
     "name": "stderr",
     "output_type": "stream",
     "text": [
      ","
     ]
    },
    {
     "name": "stderr",
     "output_type": "stream",
     "text": [
      " "
     ]
    },
    {
     "name": "stderr",
     "output_type": "stream",
     "text": [
      "count"
     ]
    },
    {
     "name": "stderr",
     "output_type": "stream",
     "text": [
      ":"
     ]
    },
    {
     "name": "stderr",
     "output_type": "stream",
     "text": [
      " "
     ]
    },
    {
     "name": "stderr",
     "output_type": "stream",
     "text": [
      "13"
     ]
    },
    {
     "name": "stderr",
     "output_type": "stream",
     "text": [
      "\n"
     ]
    },
    {
     "name": "stderr",
     "output_type": "stream",
     "text": [
      "ic"
     ]
    },
    {
     "name": "stderr",
     "output_type": "stream",
     "text": [
      "|"
     ]
    },
    {
     "name": "stderr",
     "output_type": "stream",
     "text": [
      " "
     ]
    },
    {
     "name": "stderr",
     "output_type": "stream",
     "text": [
      "token"
     ]
    },
    {
     "name": "stderr",
     "output_type": "stream",
     "text": [
      ":"
     ]
    },
    {
     "name": "stderr",
     "output_type": "stream",
     "text": [
      " "
     ]
    },
    {
     "name": "stderr",
     "output_type": "stream",
     "text": [
      "'"
     ]
    },
    {
     "name": "stderr",
     "output_type": "stream",
     "text": [
      "'"
     ]
    },
    {
     "name": "stderr",
     "output_type": "stream",
     "text": [
      ","
     ]
    },
    {
     "name": "stderr",
     "output_type": "stream",
     "text": [
      " "
     ]
    },
    {
     "name": "stderr",
     "output_type": "stream",
     "text": [
      "count"
     ]
    },
    {
     "name": "stderr",
     "output_type": "stream",
     "text": [
      ":"
     ]
    },
    {
     "name": "stderr",
     "output_type": "stream",
     "text": [
      " "
     ]
    },
    {
     "name": "stderr",
     "output_type": "stream",
     "text": [
      "12"
     ]
    },
    {
     "name": "stderr",
     "output_type": "stream",
     "text": [
      "\n"
     ]
    },
    {
     "name": "stderr",
     "output_type": "stream",
     "text": [
      "ic"
     ]
    },
    {
     "name": "stderr",
     "output_type": "stream",
     "text": [
      "|"
     ]
    },
    {
     "name": "stderr",
     "output_type": "stream",
     "text": [
      " "
     ]
    },
    {
     "name": "stderr",
     "output_type": "stream",
     "text": [
      "token"
     ]
    },
    {
     "name": "stderr",
     "output_type": "stream",
     "text": [
      ":"
     ]
    },
    {
     "name": "stderr",
     "output_type": "stream",
     "text": [
      " "
     ]
    },
    {
     "name": "stderr",
     "output_type": "stream",
     "text": [
      "'"
     ]
    },
    {
     "name": "stderr",
     "output_type": "stream",
     "text": [
      "example"
     ]
    },
    {
     "name": "stderr",
     "output_type": "stream",
     "text": [
      "'"
     ]
    },
    {
     "name": "stderr",
     "output_type": "stream",
     "text": [
      ","
     ]
    },
    {
     "name": "stderr",
     "output_type": "stream",
     "text": [
      " "
     ]
    },
    {
     "name": "stderr",
     "output_type": "stream",
     "text": [
      "count"
     ]
    },
    {
     "name": "stderr",
     "output_type": "stream",
     "text": [
      ":"
     ]
    },
    {
     "name": "stderr",
     "output_type": "stream",
     "text": [
      " "
     ]
    },
    {
     "name": "stderr",
     "output_type": "stream",
     "text": [
      "12"
     ]
    },
    {
     "name": "stderr",
     "output_type": "stream",
     "text": [
      "\n"
     ]
    },
    {
     "name": "stderr",
     "output_type": "stream",
     "text": [
      "ic"
     ]
    },
    {
     "name": "stderr",
     "output_type": "stream",
     "text": [
      "|"
     ]
    },
    {
     "name": "stderr",
     "output_type": "stream",
     "text": [
      " "
     ]
    },
    {
     "name": "stderr",
     "output_type": "stream",
     "text": [
      "token"
     ]
    },
    {
     "name": "stderr",
     "output_type": "stream",
     "text": [
      ":"
     ]
    },
    {
     "name": "stderr",
     "output_type": "stream",
     "text": [
      " "
     ]
    },
    {
     "name": "stderr",
     "output_type": "stream",
     "text": [
      "'"
     ]
    },
    {
     "name": "stderr",
     "output_type": "stream",
     "text": [
      "be"
     ]
    },
    {
     "name": "stderr",
     "output_type": "stream",
     "text": [
      "'"
     ]
    },
    {
     "name": "stderr",
     "output_type": "stream",
     "text": [
      ","
     ]
    },
    {
     "name": "stderr",
     "output_type": "stream",
     "text": [
      " "
     ]
    },
    {
     "name": "stderr",
     "output_type": "stream",
     "text": [
      "count"
     ]
    },
    {
     "name": "stderr",
     "output_type": "stream",
     "text": [
      ":"
     ]
    },
    {
     "name": "stderr",
     "output_type": "stream",
     "text": [
      " "
     ]
    },
    {
     "name": "stderr",
     "output_type": "stream",
     "text": [
      "12"
     ]
    },
    {
     "name": "stderr",
     "output_type": "stream",
     "text": [
      "\n"
     ]
    },
    {
     "name": "stderr",
     "output_type": "stream",
     "text": [
      "ic"
     ]
    },
    {
     "name": "stderr",
     "output_type": "stream",
     "text": [
      "|"
     ]
    },
    {
     "name": "stderr",
     "output_type": "stream",
     "text": [
      " "
     ]
    },
    {
     "name": "stderr",
     "output_type": "stream",
     "text": [
      "token"
     ]
    },
    {
     "name": "stderr",
     "output_type": "stream",
     "text": [
      ":"
     ]
    },
    {
     "name": "stderr",
     "output_type": "stream",
     "text": [
      " "
     ]
    },
    {
     "name": "stderr",
     "output_type": "stream",
     "text": [
      "'"
     ]
    },
    {
     "name": "stderr",
     "output_type": "stream",
     "text": [
      "function"
     ]
    },
    {
     "name": "stderr",
     "output_type": "stream",
     "text": [
      "'"
     ]
    },
    {
     "name": "stderr",
     "output_type": "stream",
     "text": [
      ","
     ]
    },
    {
     "name": "stderr",
     "output_type": "stream",
     "text": [
      " "
     ]
    },
    {
     "name": "stderr",
     "output_type": "stream",
     "text": [
      "count"
     ]
    },
    {
     "name": "stderr",
     "output_type": "stream",
     "text": [
      ":"
     ]
    },
    {
     "name": "stderr",
     "output_type": "stream",
     "text": [
      " "
     ]
    },
    {
     "name": "stderr",
     "output_type": "stream",
     "text": [
      "12"
     ]
    },
    {
     "name": "stderr",
     "output_type": "stream",
     "text": [
      "\n"
     ]
    },
    {
     "name": "stderr",
     "output_type": "stream",
     "text": [
      "ic"
     ]
    },
    {
     "name": "stderr",
     "output_type": "stream",
     "text": [
      "|"
     ]
    },
    {
     "name": "stderr",
     "output_type": "stream",
     "text": [
      " "
     ]
    },
    {
     "name": "stderr",
     "output_type": "stream",
     "text": [
      "token"
     ]
    },
    {
     "name": "stderr",
     "output_type": "stream",
     "text": [
      ":"
     ]
    },
    {
     "name": "stderr",
     "output_type": "stream",
     "text": [
      " "
     ]
    },
    {
     "name": "stderr",
     "output_type": "stream",
     "text": [
      "\""
     ]
    },
    {
     "name": "stderr",
     "output_type": "stream",
     "text": [
      "let"
     ]
    },
    {
     "name": "stderr",
     "output_type": "stream",
     "text": [
      "'"
     ]
    },
    {
     "name": "stderr",
     "output_type": "stream",
     "text": [
      "s"
     ]
    },
    {
     "name": "stderr",
     "output_type": "stream",
     "text": [
      "\""
     ]
    },
    {
     "name": "stderr",
     "output_type": "stream",
     "text": [
      ","
     ]
    },
    {
     "name": "stderr",
     "output_type": "stream",
     "text": [
      " "
     ]
    },
    {
     "name": "stderr",
     "output_type": "stream",
     "text": [
      "count"
     ]
    },
    {
     "name": "stderr",
     "output_type": "stream",
     "text": [
      ":"
     ]
    },
    {
     "name": "stderr",
     "output_type": "stream",
     "text": [
      " "
     ]
    },
    {
     "name": "stderr",
     "output_type": "stream",
     "text": [
      "11"
     ]
    },
    {
     "name": "stderr",
     "output_type": "stream",
     "text": [
      "\n"
     ]
    },
    {
     "name": "stderr",
     "output_type": "stream",
     "text": [
      "ic"
     ]
    },
    {
     "name": "stderr",
     "output_type": "stream",
     "text": [
      "|"
     ]
    },
    {
     "name": "stderr",
     "output_type": "stream",
     "text": [
      " "
     ]
    },
    {
     "name": "stderr",
     "output_type": "stream",
     "text": [
      "token"
     ]
    },
    {
     "name": "stderr",
     "output_type": "stream",
     "text": [
      ":"
     ]
    },
    {
     "name": "stderr",
     "output_type": "stream",
     "text": [
      " "
     ]
    },
    {
     "name": "stderr",
     "output_type": "stream",
     "text": [
      "\""
     ]
    },
    {
     "name": "stderr",
     "output_type": "stream",
     "text": [
      "we"
     ]
    },
    {
     "name": "stderr",
     "output_type": "stream",
     "text": [
      "'"
     ]
    },
    {
     "name": "stderr",
     "output_type": "stream",
     "text": [
      "ll"
     ]
    },
    {
     "name": "stderr",
     "output_type": "stream",
     "text": [
      "\""
     ]
    },
    {
     "name": "stderr",
     "output_type": "stream",
     "text": [
      ","
     ]
    },
    {
     "name": "stderr",
     "output_type": "stream",
     "text": [
      " "
     ]
    },
    {
     "name": "stderr",
     "output_type": "stream",
     "text": [
      "count"
     ]
    },
    {
     "name": "stderr",
     "output_type": "stream",
     "text": [
      ":"
     ]
    },
    {
     "name": "stderr",
     "output_type": "stream",
     "text": [
      " "
     ]
    },
    {
     "name": "stderr",
     "output_type": "stream",
     "text": [
      "10"
     ]
    },
    {
     "name": "stderr",
     "output_type": "stream",
     "text": [
      "\n"
     ]
    },
    {
     "name": "stderr",
     "output_type": "stream",
     "text": [
      "ic"
     ]
    },
    {
     "name": "stderr",
     "output_type": "stream",
     "text": [
      "|"
     ]
    },
    {
     "name": "stderr",
     "output_type": "stream",
     "text": [
      " "
     ]
    },
    {
     "name": "stderr",
     "output_type": "stream",
     "text": [
      "token"
     ]
    },
    {
     "name": "stderr",
     "output_type": "stream",
     "text": [
      ":"
     ]
    },
    {
     "name": "stderr",
     "output_type": "stream",
     "text": [
      " "
     ]
    },
    {
     "name": "stderr",
     "output_type": "stream",
     "text": [
      "'"
     ]
    },
    {
     "name": "stderr",
     "output_type": "stream",
     "text": [
      "first"
     ]
    },
    {
     "name": "stderr",
     "output_type": "stream",
     "text": [
      "'"
     ]
    },
    {
     "name": "stderr",
     "output_type": "stream",
     "text": [
      ","
     ]
    },
    {
     "name": "stderr",
     "output_type": "stream",
     "text": [
      " "
     ]
    },
    {
     "name": "stderr",
     "output_type": "stream",
     "text": [
      "count"
     ]
    },
    {
     "name": "stderr",
     "output_type": "stream",
     "text": [
      ":"
     ]
    },
    {
     "name": "stderr",
     "output_type": "stream",
     "text": [
      " "
     ]
    },
    {
     "name": "stderr",
     "output_type": "stream",
     "text": [
      "9"
     ]
    },
    {
     "name": "stderr",
     "output_type": "stream",
     "text": [
      "\n"
     ]
    },
    {
     "name": "stderr",
     "output_type": "stream",
     "text": [
      "ic"
     ]
    },
    {
     "name": "stderr",
     "output_type": "stream",
     "text": [
      "|"
     ]
    },
    {
     "name": "stderr",
     "output_type": "stream",
     "text": [
      " "
     ]
    },
    {
     "name": "stderr",
     "output_type": "stream",
     "text": [
      "token"
     ]
    },
    {
     "name": "stderr",
     "output_type": "stream",
     "text": [
      ":"
     ]
    },
    {
     "name": "stderr",
     "output_type": "stream",
     "text": [
      " "
     ]
    },
    {
     "name": "stderr",
     "output_type": "stream",
     "text": [
      "'"
     ]
    },
    {
     "name": "stderr",
     "output_type": "stream",
     "text": [
      "on"
     ]
    },
    {
     "name": "stderr",
     "output_type": "stream",
     "text": [
      "'"
     ]
    },
    {
     "name": "stderr",
     "output_type": "stream",
     "text": [
      ","
     ]
    },
    {
     "name": "stderr",
     "output_type": "stream",
     "text": [
      " "
     ]
    },
    {
     "name": "stderr",
     "output_type": "stream",
     "text": [
      "count"
     ]
    },
    {
     "name": "stderr",
     "output_type": "stream",
     "text": [
      ":"
     ]
    },
    {
     "name": "stderr",
     "output_type": "stream",
     "text": [
      " "
     ]
    },
    {
     "name": "stderr",
     "output_type": "stream",
     "text": [
      "9"
     ]
    },
    {
     "name": "stderr",
     "output_type": "stream",
     "text": [
      "\n"
     ]
    },
    {
     "name": "stderr",
     "output_type": "stream",
     "text": [
      "ic"
     ]
    },
    {
     "name": "stderr",
     "output_type": "stream",
     "text": [
      "|"
     ]
    },
    {
     "name": "stderr",
     "output_type": "stream",
     "text": [
      " "
     ]
    },
    {
     "name": "stderr",
     "output_type": "stream",
     "text": [
      "token"
     ]
    },
    {
     "name": "stderr",
     "output_type": "stream",
     "text": [
      ":"
     ]
    },
    {
     "name": "stderr",
     "output_type": "stream",
     "text": [
      " "
     ]
    },
    {
     "name": "stderr",
     "output_type": "stream",
     "text": [
      "'"
     ]
    },
    {
     "name": "stderr",
     "output_type": "stream",
     "text": [
      "is"
     ]
    },
    {
     "name": "stderr",
     "output_type": "stream",
     "text": [
      "'"
     ]
    },
    {
     "name": "stderr",
     "output_type": "stream",
     "text": [
      ","
     ]
    },
    {
     "name": "stderr",
     "output_type": "stream",
     "text": [
      " "
     ]
    },
    {
     "name": "stderr",
     "output_type": "stream",
     "text": [
      "count"
     ]
    },
    {
     "name": "stderr",
     "output_type": "stream",
     "text": [
      ":"
     ]
    },
    {
     "name": "stderr",
     "output_type": "stream",
     "text": [
      " "
     ]
    },
    {
     "name": "stderr",
     "output_type": "stream",
     "text": [
      "9"
     ]
    },
    {
     "name": "stderr",
     "output_type": "stream",
     "text": [
      "\n"
     ]
    },
    {
     "name": "stderr",
     "output_type": "stream",
     "text": [
      "ic"
     ]
    },
    {
     "name": "stderr",
     "output_type": "stream",
     "text": [
      "|"
     ]
    },
    {
     "name": "stderr",
     "output_type": "stream",
     "text": [
      " "
     ]
    },
    {
     "name": "stderr",
     "output_type": "stream",
     "text": [
      "token"
     ]
    },
    {
     "name": "stderr",
     "output_type": "stream",
     "text": [
      ":"
     ]
    },
    {
     "name": "stderr",
     "output_type": "stream",
     "text": [
      " "
     ]
    },
    {
     "name": "stderr",
     "output_type": "stream",
     "text": [
      "'"
     ]
    },
    {
     "name": "stderr",
     "output_type": "stream",
     "text": [
      "start"
     ]
    },
    {
     "name": "stderr",
     "output_type": "stream",
     "text": [
      "'"
     ]
    },
    {
     "name": "stderr",
     "output_type": "stream",
     "text": [
      ","
     ]
    },
    {
     "name": "stderr",
     "output_type": "stream",
     "text": [
      " "
     ]
    },
    {
     "name": "stderr",
     "output_type": "stream",
     "text": [
      "count"
     ]
    },
    {
     "name": "stderr",
     "output_type": "stream",
     "text": [
      ":"
     ]
    },
    {
     "name": "stderr",
     "output_type": "stream",
     "text": [
      " "
     ]
    },
    {
     "name": "stderr",
     "output_type": "stream",
     "text": [
      "8"
     ]
    },
    {
     "name": "stderr",
     "output_type": "stream",
     "text": [
      "\n"
     ]
    },
    {
     "name": "stderr",
     "output_type": "stream",
     "text": [
      "ic"
     ]
    },
    {
     "name": "stderr",
     "output_type": "stream",
     "text": [
      "|"
     ]
    },
    {
     "name": "stderr",
     "output_type": "stream",
     "text": [
      " "
     ]
    },
    {
     "name": "stderr",
     "output_type": "stream",
     "text": [
      "token"
     ]
    },
    {
     "name": "stderr",
     "output_type": "stream",
     "text": [
      ":"
     ]
    },
    {
     "name": "stderr",
     "output_type": "stream",
     "text": [
      " "
     ]
    },
    {
     "name": "stderr",
     "output_type": "stream",
     "text": [
      "'"
     ]
    },
    {
     "name": "stderr",
     "output_type": "stream",
     "text": [
      "as"
     ]
    },
    {
     "name": "stderr",
     "output_type": "stream",
     "text": [
      "'"
     ]
    },
    {
     "name": "stderr",
     "output_type": "stream",
     "text": [
      ","
     ]
    },
    {
     "name": "stderr",
     "output_type": "stream",
     "text": [
      " "
     ]
    },
    {
     "name": "stderr",
     "output_type": "stream",
     "text": [
      "count"
     ]
    },
    {
     "name": "stderr",
     "output_type": "stream",
     "text": [
      ":"
     ]
    },
    {
     "name": "stderr",
     "output_type": "stream",
     "text": [
      " "
     ]
    },
    {
     "name": "stderr",
     "output_type": "stream",
     "text": [
      "8"
     ]
    },
    {
     "name": "stderr",
     "output_type": "stream",
     "text": [
      "\n"
     ]
    },
    {
     "name": "stderr",
     "output_type": "stream",
     "text": [
      "ic"
     ]
    },
    {
     "name": "stderr",
     "output_type": "stream",
     "text": [
      "|"
     ]
    },
    {
     "name": "stderr",
     "output_type": "stream",
     "text": [
      " "
     ]
    },
    {
     "name": "stderr",
     "output_type": "stream",
     "text": [
      "token"
     ]
    },
    {
     "name": "stderr",
     "output_type": "stream",
     "text": [
      ":"
     ]
    },
    {
     "name": "stderr",
     "output_type": "stream",
     "text": [
      " "
     ]
    },
    {
     "name": "stderr",
     "output_type": "stream",
     "text": [
      "'"
     ]
    },
    {
     "name": "stderr",
     "output_type": "stream",
     "text": [
      "using"
     ]
    },
    {
     "name": "stderr",
     "output_type": "stream",
     "text": [
      "'"
     ]
    },
    {
     "name": "stderr",
     "output_type": "stream",
     "text": [
      ","
     ]
    },
    {
     "name": "stderr",
     "output_type": "stream",
     "text": [
      " "
     ]
    },
    {
     "name": "stderr",
     "output_type": "stream",
     "text": [
      "count"
     ]
    },
    {
     "name": "stderr",
     "output_type": "stream",
     "text": [
      ":"
     ]
    },
    {
     "name": "stderr",
     "output_type": "stream",
     "text": [
      " "
     ]
    },
    {
     "name": "stderr",
     "output_type": "stream",
     "text": [
      "8"
     ]
    },
    {
     "name": "stderr",
     "output_type": "stream",
     "text": [
      "\n"
     ]
    },
    {
     "name": "stderr",
     "output_type": "stream",
     "text": [
      "ic"
     ]
    },
    {
     "name": "stderr",
     "output_type": "stream",
     "text": [
      "|"
     ]
    },
    {
     "name": "stderr",
     "output_type": "stream",
     "text": [
      " "
     ]
    },
    {
     "name": "stderr",
     "output_type": "stream",
     "text": [
      "token"
     ]
    },
    {
     "name": "stderr",
     "output_type": "stream",
     "text": [
      ":"
     ]
    },
    {
     "name": "stderr",
     "output_type": "stream",
     "text": [
      " "
     ]
    },
    {
     "name": "stderr",
     "output_type": "stream",
     "text": [
      "'"
     ]
    },
    {
     "name": "stderr",
     "output_type": "stream",
     "text": [
      "can"
     ]
    },
    {
     "name": "stderr",
     "output_type": "stream",
     "text": [
      "'"
     ]
    },
    {
     "name": "stderr",
     "output_type": "stream",
     "text": [
      ","
     ]
    },
    {
     "name": "stderr",
     "output_type": "stream",
     "text": [
      " "
     ]
    },
    {
     "name": "stderr",
     "output_type": "stream",
     "text": [
      "count"
     ]
    },
    {
     "name": "stderr",
     "output_type": "stream",
     "text": [
      ":"
     ]
    },
    {
     "name": "stderr",
     "output_type": "stream",
     "text": [
      " "
     ]
    },
    {
     "name": "stderr",
     "output_type": "stream",
     "text": [
      "8"
     ]
    },
    {
     "name": "stderr",
     "output_type": "stream",
     "text": [
      "\n"
     ]
    },
    {
     "name": "stderr",
     "output_type": "stream",
     "text": [
      "ic"
     ]
    },
    {
     "name": "stderr",
     "output_type": "stream",
     "text": [
      "|"
     ]
    },
    {
     "name": "stderr",
     "output_type": "stream",
     "text": [
      " "
     ]
    },
    {
     "name": "stderr",
     "output_type": "stream",
     "text": [
      "token"
     ]
    },
    {
     "name": "stderr",
     "output_type": "stream",
     "text": [
      ":"
     ]
    },
    {
     "name": "stderr",
     "output_type": "stream",
     "text": [
      " "
     ]
    },
    {
     "name": "stderr",
     "output_type": "stream",
     "text": [
      "'"
     ]
    },
    {
     "name": "stderr",
     "output_type": "stream",
     "text": [
      "from"
     ]
    },
    {
     "name": "stderr",
     "output_type": "stream",
     "text": [
      "'"
     ]
    },
    {
     "name": "stderr",
     "output_type": "stream",
     "text": [
      ","
     ]
    },
    {
     "name": "stderr",
     "output_type": "stream",
     "text": [
      " "
     ]
    },
    {
     "name": "stderr",
     "output_type": "stream",
     "text": [
      "count"
     ]
    },
    {
     "name": "stderr",
     "output_type": "stream",
     "text": [
      ":"
     ]
    },
    {
     "name": "stderr",
     "output_type": "stream",
     "text": [
      " "
     ]
    },
    {
     "name": "stderr",
     "output_type": "stream",
     "text": [
      "8"
     ]
    },
    {
     "name": "stderr",
     "output_type": "stream",
     "text": [
      "\n"
     ]
    },
    {
     "name": "stderr",
     "output_type": "stream",
     "text": [
      "ic"
     ]
    },
    {
     "name": "stderr",
     "output_type": "stream",
     "text": [
      "|"
     ]
    },
    {
     "name": "stderr",
     "output_type": "stream",
     "text": [
      " "
     ]
    },
    {
     "name": "stderr",
     "output_type": "stream",
     "text": [
      "token"
     ]
    },
    {
     "name": "stderr",
     "output_type": "stream",
     "text": [
      ":"
     ]
    },
    {
     "name": "stderr",
     "output_type": "stream",
     "text": [
      " "
     ]
    },
    {
     "name": "stderr",
     "output_type": "stream",
     "text": [
      "'"
     ]
    },
    {
     "name": "stderr",
     "output_type": "stream",
     "text": [
      "an"
     ]
    },
    {
     "name": "stderr",
     "output_type": "stream",
     "text": [
      "'"
     ]
    },
    {
     "name": "stderr",
     "output_type": "stream",
     "text": [
      ","
     ]
    },
    {
     "name": "stderr",
     "output_type": "stream",
     "text": [
      " "
     ]
    },
    {
     "name": "stderr",
     "output_type": "stream",
     "text": [
      "count"
     ]
    },
    {
     "name": "stderr",
     "output_type": "stream",
     "text": [
      ":"
     ]
    },
    {
     "name": "stderr",
     "output_type": "stream",
     "text": [
      " "
     ]
    },
    {
     "name": "stderr",
     "output_type": "stream",
     "text": [
      "8"
     ]
    },
    {
     "name": "stderr",
     "output_type": "stream",
     "text": [
      "\n"
     ]
    },
    {
     "name": "stderr",
     "output_type": "stream",
     "text": [
      "ic"
     ]
    },
    {
     "name": "stderr",
     "output_type": "stream",
     "text": [
      "|"
     ]
    },
    {
     "name": "stderr",
     "output_type": "stream",
     "text": [
      " "
     ]
    },
    {
     "name": "stderr",
     "output_type": "stream",
     "text": [
      "token"
     ]
    },
    {
     "name": "stderr",
     "output_type": "stream",
     "text": [
      ":"
     ]
    },
    {
     "name": "stderr",
     "output_type": "stream",
     "text": [
      " "
     ]
    },
    {
     "name": "stderr",
     "output_type": "stream",
     "text": [
      "'"
     ]
    },
    {
     "name": "stderr",
     "output_type": "stream",
     "text": [
      "shards"
     ]
    },
    {
     "name": "stderr",
     "output_type": "stream",
     "text": [
      "'"
     ]
    },
    {
     "name": "stderr",
     "output_type": "stream",
     "text": [
      ","
     ]
    },
    {
     "name": "stderr",
     "output_type": "stream",
     "text": [
      " "
     ]
    },
    {
     "name": "stderr",
     "output_type": "stream",
     "text": [
      "count"
     ]
    },
    {
     "name": "stderr",
     "output_type": "stream",
     "text": [
      ":"
     ]
    },
    {
     "name": "stderr",
     "output_type": "stream",
     "text": [
      " "
     ]
    },
    {
     "name": "stderr",
     "output_type": "stream",
     "text": [
      "8"
     ]
    },
    {
     "name": "stderr",
     "output_type": "stream",
     "text": [
      "\n"
     ]
    },
    {
     "name": "stderr",
     "output_type": "stream",
     "text": [
      "ic"
     ]
    },
    {
     "name": "stderr",
     "output_type": "stream",
     "text": [
      "|"
     ]
    },
    {
     "name": "stderr",
     "output_type": "stream",
     "text": [
      " "
     ]
    },
    {
     "name": "stderr",
     "output_type": "stream",
     "text": [
      "token"
     ]
    },
    {
     "name": "stderr",
     "output_type": "stream",
     "text": [
      ":"
     ]
    },
    {
     "name": "stderr",
     "output_type": "stream",
     "text": [
      " "
     ]
    },
    {
     "name": "stderr",
     "output_type": "stream",
     "text": [
      "'"
     ]
    },
    {
     "name": "stderr",
     "output_type": "stream",
     "text": [
      "data"
     ]
    },
    {
     "name": "stderr",
     "output_type": "stream",
     "text": [
      "'"
     ]
    },
    {
     "name": "stderr",
     "output_type": "stream",
     "text": [
      ","
     ]
    },
    {
     "name": "stderr",
     "output_type": "stream",
     "text": [
      " "
     ]
    },
    {
     "name": "stderr",
     "output_type": "stream",
     "text": [
      "count"
     ]
    },
    {
     "name": "stderr",
     "output_type": "stream",
     "text": [
      ":"
     ]
    },
    {
     "name": "stderr",
     "output_type": "stream",
     "text": [
      " "
     ]
    },
    {
     "name": "stderr",
     "output_type": "stream",
     "text": [
      "7"
     ]
    },
    {
     "name": "stderr",
     "output_type": "stream",
     "text": [
      "\n"
     ]
    },
    {
     "name": "stderr",
     "output_type": "stream",
     "text": [
      "ic"
     ]
    },
    {
     "name": "stderr",
     "output_type": "stream",
     "text": [
      "|"
     ]
    },
    {
     "name": "stderr",
     "output_type": "stream",
     "text": [
      " "
     ]
    },
    {
     "name": "stderr",
     "output_type": "stream",
     "text": [
      "token"
     ]
    },
    {
     "name": "stderr",
     "output_type": "stream",
     "text": [
      ":"
     ]
    },
    {
     "name": "stderr",
     "output_type": "stream",
     "text": [
      " "
     ]
    },
    {
     "name": "stderr",
     "output_type": "stream",
     "text": [
      "'"
     ]
    },
    {
     "name": "stderr",
     "output_type": "stream",
     "text": [
      "use"
     ]
    },
    {
     "name": "stderr",
     "output_type": "stream",
     "text": [
      "'"
     ]
    },
    {
     "name": "stderr",
     "output_type": "stream",
     "text": [
      ","
     ]
    },
    {
     "name": "stderr",
     "output_type": "stream",
     "text": [
      " "
     ]
    },
    {
     "name": "stderr",
     "output_type": "stream",
     "text": [
      "count"
     ]
    },
    {
     "name": "stderr",
     "output_type": "stream",
     "text": [
      ":"
     ]
    },
    {
     "name": "stderr",
     "output_type": "stream",
     "text": [
      " "
     ]
    },
    {
     "name": "stderr",
     "output_type": "stream",
     "text": [
      "7"
     ]
    },
    {
     "name": "stderr",
     "output_type": "stream",
     "text": [
      "\n"
     ]
    },
    {
     "name": "stderr",
     "output_type": "stream",
     "text": [
      "ic"
     ]
    },
    {
     "name": "stderr",
     "output_type": "stream",
     "text": [
      "|"
     ]
    },
    {
     "name": "stderr",
     "output_type": "stream",
     "text": [
      " "
     ]
    },
    {
     "name": "stderr",
     "output_type": "stream",
     "text": [
      "token"
     ]
    },
    {
     "name": "stderr",
     "output_type": "stream",
     "text": [
      ":"
     ]
    },
    {
     "name": "stderr",
     "output_type": "stream",
     "text": [
      " "
     ]
    },
    {
     "name": "stderr",
     "output_type": "stream",
     "text": [
      "'"
     ]
    },
    {
     "name": "stderr",
     "output_type": "stream",
     "text": [
      "object"
     ]
    },
    {
     "name": "stderr",
     "output_type": "stream",
     "text": [
      "'"
     ]
    },
    {
     "name": "stderr",
     "output_type": "stream",
     "text": [
      ","
     ]
    },
    {
     "name": "stderr",
     "output_type": "stream",
     "text": [
      " "
     ]
    },
    {
     "name": "stderr",
     "output_type": "stream",
     "text": [
      "count"
     ]
    },
    {
     "name": "stderr",
     "output_type": "stream",
     "text": [
      ":"
     ]
    },
    {
     "name": "stderr",
     "output_type": "stream",
     "text": [
      " "
     ]
    },
    {
     "name": "stderr",
     "output_type": "stream",
     "text": [
      "7"
     ]
    },
    {
     "name": "stderr",
     "output_type": "stream",
     "text": [
      "\n"
     ]
    },
    {
     "name": "stderr",
     "output_type": "stream",
     "text": [
      "ic"
     ]
    },
    {
     "name": "stderr",
     "output_type": "stream",
     "text": [
      "|"
     ]
    },
    {
     "name": "stderr",
     "output_type": "stream",
     "text": [
      " "
     ]
    },
    {
     "name": "stderr",
     "output_type": "stream",
     "text": [
      "token"
     ]
    },
    {
     "name": "stderr",
     "output_type": "stream",
     "text": [
      ":"
     ]
    },
    {
     "name": "stderr",
     "output_type": "stream",
     "text": [
      " "
     ]
    },
    {
     "name": "stderr",
     "output_type": "stream",
     "text": [
      "'"
     ]
    },
    {
     "name": "stderr",
     "output_type": "stream",
     "text": [
      "now"
     ]
    },
    {
     "name": "stderr",
     "output_type": "stream",
     "text": [
      "'"
     ]
    },
    {
     "name": "stderr",
     "output_type": "stream",
     "text": [
      ","
     ]
    },
    {
     "name": "stderr",
     "output_type": "stream",
     "text": [
      " "
     ]
    },
    {
     "name": "stderr",
     "output_type": "stream",
     "text": [
      "count"
     ]
    },
    {
     "name": "stderr",
     "output_type": "stream",
     "text": [
      ":"
     ]
    },
    {
     "name": "stderr",
     "output_type": "stream",
     "text": [
      " "
     ]
    },
    {
     "name": "stderr",
     "output_type": "stream",
     "text": [
      "7"
     ]
    },
    {
     "name": "stderr",
     "output_type": "stream",
     "text": [
      "\n"
     ]
    },
    {
     "name": "stderr",
     "output_type": "stream",
     "text": [
      "ic"
     ]
    },
    {
     "name": "stderr",
     "output_type": "stream",
     "text": [
      "|"
     ]
    },
    {
     "name": "stderr",
     "output_type": "stream",
     "text": [
      " "
     ]
    },
    {
     "name": "stderr",
     "output_type": "stream",
     "text": [
      "token"
     ]
    },
    {
     "name": "stderr",
     "output_type": "stream",
     "text": [
      ":"
     ]
    },
    {
     "name": "stderr",
     "output_type": "stream",
     "text": [
      " "
     ]
    },
    {
     "name": "stderr",
     "output_type": "stream",
     "text": [
      "'"
     ]
    },
    {
     "name": "stderr",
     "output_type": "stream",
     "text": [
      "that"
     ]
    },
    {
     "name": "stderr",
     "output_type": "stream",
     "text": [
      "'"
     ]
    },
    {
     "name": "stderr",
     "output_type": "stream",
     "text": [
      ","
     ]
    },
    {
     "name": "stderr",
     "output_type": "stream",
     "text": [
      " "
     ]
    },
    {
     "name": "stderr",
     "output_type": "stream",
     "text": [
      "count"
     ]
    },
    {
     "name": "stderr",
     "output_type": "stream",
     "text": [
      ":"
     ]
    },
    {
     "name": "stderr",
     "output_type": "stream",
     "text": [
      " "
     ]
    },
    {
     "name": "stderr",
     "output_type": "stream",
     "text": [
      "7"
     ]
    },
    {
     "name": "stderr",
     "output_type": "stream",
     "text": [
      "\n"
     ]
    },
    {
     "name": "stderr",
     "output_type": "stream",
     "text": [
      "ic"
     ]
    },
    {
     "name": "stderr",
     "output_type": "stream",
     "text": [
      "|"
     ]
    },
    {
     "name": "stderr",
     "output_type": "stream",
     "text": [
      " "
     ]
    },
    {
     "name": "stderr",
     "output_type": "stream",
     "text": [
      "token"
     ]
    },
    {
     "name": "stderr",
     "output_type": "stream",
     "text": [
      ":"
     ]
    },
    {
     "name": "stderr",
     "output_type": "stream",
     "text": [
      " "
     ]
    },
    {
     "name": "stderr",
     "output_type": "stream",
     "text": [
      "'"
     ]
    },
    {
     "name": "stderr",
     "output_type": "stream",
     "text": [
      "sequence"
     ]
    },
    {
     "name": "stderr",
     "output_type": "stream",
     "text": [
      "'"
     ]
    },
    {
     "name": "stderr",
     "output_type": "stream",
     "text": [
      ","
     ]
    },
    {
     "name": "stderr",
     "output_type": "stream",
     "text": [
      " "
     ]
    },
    {
     "name": "stderr",
     "output_type": "stream",
     "text": [
      "count"
     ]
    },
    {
     "name": "stderr",
     "output_type": "stream",
     "text": [
      ":"
     ]
    },
    {
     "name": "stderr",
     "output_type": "stream",
     "text": [
      " "
     ]
    },
    {
     "name": "stderr",
     "output_type": "stream",
     "text": [
      "7"
     ]
    },
    {
     "name": "stderr",
     "output_type": "stream",
     "text": [
      "\n"
     ]
    },
    {
     "name": "stderr",
     "output_type": "stream",
     "text": [
      "ic"
     ]
    },
    {
     "name": "stderr",
     "output_type": "stream",
     "text": [
      "|"
     ]
    },
    {
     "name": "stderr",
     "output_type": "stream",
     "text": [
      " "
     ]
    },
    {
     "name": "stderr",
     "output_type": "stream",
     "text": [
      "token"
     ]
    },
    {
     "name": "stderr",
     "output_type": "stream",
     "text": [
      ":"
     ]
    },
    {
     "name": "stderr",
     "output_type": "stream",
     "text": [
      " "
     ]
    },
    {
     "name": "stderr",
     "output_type": "stream",
     "text": [
      "'"
     ]
    },
    {
     "name": "stderr",
     "output_type": "stream",
     "text": [
      "by"
     ]
    },
    {
     "name": "stderr",
     "output_type": "stream",
     "text": [
      "'"
     ]
    },
    {
     "name": "stderr",
     "output_type": "stream",
     "text": [
      ","
     ]
    },
    {
     "name": "stderr",
     "output_type": "stream",
     "text": [
      " "
     ]
    },
    {
     "name": "stderr",
     "output_type": "stream",
     "text": [
      "count"
     ]
    },
    {
     "name": "stderr",
     "output_type": "stream",
     "text": [
      ":"
     ]
    },
    {
     "name": "stderr",
     "output_type": "stream",
     "text": [
      " "
     ]
    },
    {
     "name": "stderr",
     "output_type": "stream",
     "text": [
      "7"
     ]
    },
    {
     "name": "stderr",
     "output_type": "stream",
     "text": [
      "\n"
     ]
    },
    {
     "name": "stderr",
     "output_type": "stream",
     "text": [
      "ic"
     ]
    },
    {
     "name": "stderr",
     "output_type": "stream",
     "text": [
      "|"
     ]
    },
    {
     "name": "stderr",
     "output_type": "stream",
     "text": [
      " "
     ]
    },
    {
     "name": "stderr",
     "output_type": "stream",
     "text": [
      "token"
     ]
    },
    {
     "name": "stderr",
     "output_type": "stream",
     "text": [
      ":"
     ]
    },
    {
     "name": "stderr",
     "output_type": "stream",
     "text": [
      " "
     ]
    },
    {
     "name": "stderr",
     "output_type": "stream",
     "text": [
      "'"
     ]
    },
    {
     "name": "stderr",
     "output_type": "stream",
     "text": [
      "each"
     ]
    },
    {
     "name": "stderr",
     "output_type": "stream",
     "text": [
      "'"
     ]
    },
    {
     "name": "stderr",
     "output_type": "stream",
     "text": [
      ","
     ]
    },
    {
     "name": "stderr",
     "output_type": "stream",
     "text": [
      " "
     ]
    },
    {
     "name": "stderr",
     "output_type": "stream",
     "text": [
      "count"
     ]
    },
    {
     "name": "stderr",
     "output_type": "stream",
     "text": [
      ":"
     ]
    },
    {
     "name": "stderr",
     "output_type": "stream",
     "text": [
      " "
     ]
    },
    {
     "name": "stderr",
     "output_type": "stream",
     "text": [
      "7"
     ]
    },
    {
     "name": "stderr",
     "output_type": "stream",
     "text": [
      "\n"
     ]
    },
    {
     "name": "stderr",
     "output_type": "stream",
     "text": [
      "ic"
     ]
    },
    {
     "name": "stderr",
     "output_type": "stream",
     "text": [
      "|"
     ]
    },
    {
     "name": "stderr",
     "output_type": "stream",
     "text": [
      " "
     ]
    },
    {
     "name": "stderr",
     "output_type": "stream",
     "text": [
      "token"
     ]
    },
    {
     "name": "stderr",
     "output_type": "stream",
     "text": [
      ":"
     ]
    },
    {
     "name": "stderr",
     "output_type": "stream",
     "text": [
      " "
     ]
    },
    {
     "name": "stderr",
     "output_type": "stream",
     "text": [
      "'"
     ]
    },
    {
     "name": "stderr",
     "output_type": "stream",
     "text": [
      "items"
     ]
    },
    {
     "name": "stderr",
     "output_type": "stream",
     "text": [
      "'"
     ]
    },
    {
     "name": "stderr",
     "output_type": "stream",
     "text": [
      ","
     ]
    },
    {
     "name": "stderr",
     "output_type": "stream",
     "text": [
      " "
     ]
    },
    {
     "name": "stderr",
     "output_type": "stream",
     "text": [
      "count"
     ]
    },
    {
     "name": "stderr",
     "output_type": "stream",
     "text": [
      ":"
     ]
    },
    {
     "name": "stderr",
     "output_type": "stream",
     "text": [
      " "
     ]
    },
    {
     "name": "stderr",
     "output_type": "stream",
     "text": [
      "7"
     ]
    },
    {
     "name": "stderr",
     "output_type": "stream",
     "text": [
      "\n"
     ]
    },
    {
     "name": "stderr",
     "output_type": "stream",
     "text": [
      "ic"
     ]
    },
    {
     "name": "stderr",
     "output_type": "stream",
     "text": [
      "|"
     ]
    },
    {
     "name": "stderr",
     "output_type": "stream",
     "text": [
      " "
     ]
    },
    {
     "name": "stderr",
     "output_type": "stream",
     "text": [
      "token"
     ]
    },
    {
     "name": "stderr",
     "output_type": "stream",
     "text": [
      ":"
     ]
    },
    {
     "name": "stderr",
     "output_type": "stream",
     "text": [
      " "
     ]
    },
    {
     "name": "stderr",
     "output_type": "stream",
     "text": [
      "'"
     ]
    },
    {
     "name": "stderr",
     "output_type": "stream",
     "text": [
      "iterator"
     ]
    },
    {
     "name": "stderr",
     "output_type": "stream",
     "text": [
      "'"
     ]
    },
    {
     "name": "stderr",
     "output_type": "stream",
     "text": [
      ","
     ]
    },
    {
     "name": "stderr",
     "output_type": "stream",
     "text": [
      " "
     ]
    },
    {
     "name": "stderr",
     "output_type": "stream",
     "text": [
      "count"
     ]
    },
    {
     "name": "stderr",
     "output_type": "stream",
     "text": [
      ":"
     ]
    },
    {
     "name": "stderr",
     "output_type": "stream",
     "text": [
      " "
     ]
    },
    {
     "name": "stderr",
     "output_type": "stream",
     "text": [
      "7"
     ]
    },
    {
     "name": "stderr",
     "output_type": "stream",
     "text": [
      "\n"
     ]
    },
    {
     "name": "stderr",
     "output_type": "stream",
     "text": [
      "ic"
     ]
    },
    {
     "name": "stderr",
     "output_type": "stream",
     "text": [
      "|"
     ]
    },
    {
     "name": "stderr",
     "output_type": "stream",
     "text": [
      " "
     ]
    },
    {
     "name": "stderr",
     "output_type": "stream",
     "text": [
      "token"
     ]
    },
    {
     "name": "stderr",
     "output_type": "stream",
     "text": [
      ":"
     ]
    },
    {
     "name": "stderr",
     "output_type": "stream",
     "text": [
      " "
     ]
    },
    {
     "name": "stderr",
     "output_type": "stream",
     "text": [
      "'"
     ]
    },
    {
     "name": "stderr",
     "output_type": "stream",
     "text": [
      "guided"
     ]
    },
    {
     "name": "stderr",
     "output_type": "stream",
     "text": [
      "'"
     ]
    },
    {
     "name": "stderr",
     "output_type": "stream",
     "text": [
      ","
     ]
    },
    {
     "name": "stderr",
     "output_type": "stream",
     "text": [
      " "
     ]
    },
    {
     "name": "stderr",
     "output_type": "stream",
     "text": [
      "count"
     ]
    },
    {
     "name": "stderr",
     "output_type": "stream",
     "text": [
      ":"
     ]
    },
    {
     "name": "stderr",
     "output_type": "stream",
     "text": [
      " "
     ]
    },
    {
     "name": "stderr",
     "output_type": "stream",
     "text": [
      "6"
     ]
    },
    {
     "name": "stderr",
     "output_type": "stream",
     "text": [
      "\n"
     ]
    },
    {
     "name": "stderr",
     "output_type": "stream",
     "text": [
      "ic"
     ]
    },
    {
     "name": "stderr",
     "output_type": "stream",
     "text": [
      "|"
     ]
    },
    {
     "name": "stderr",
     "output_type": "stream",
     "text": [
      " "
     ]
    },
    {
     "name": "stderr",
     "output_type": "stream",
     "text": [
      "token"
     ]
    },
    {
     "name": "stderr",
     "output_type": "stream",
     "text": [
      ":"
     ]
    },
    {
     "name": "stderr",
     "output_type": "stream",
     "text": [
      " "
     ]
    },
    {
     "name": "stderr",
     "output_type": "stream",
     "text": [
      "'"
     ]
    },
    {
     "name": "stderr",
     "output_type": "stream",
     "text": [
      "tour"
     ]
    },
    {
     "name": "stderr",
     "output_type": "stream",
     "text": [
      "'"
     ]
    },
    {
     "name": "stderr",
     "output_type": "stream",
     "text": [
      ","
     ]
    },
    {
     "name": "stderr",
     "output_type": "stream",
     "text": [
      " "
     ]
    },
    {
     "name": "stderr",
     "output_type": "stream",
     "text": [
      "count"
     ]
    },
    {
     "name": "stderr",
     "output_type": "stream",
     "text": [
      ":"
     ]
    },
    {
     "name": "stderr",
     "output_type": "stream",
     "text": [
      " "
     ]
    },
    {
     "name": "stderr",
     "output_type": "stream",
     "text": [
      "6"
     ]
    },
    {
     "name": "stderr",
     "output_type": "stream",
     "text": [
      "\n"
     ]
    },
    {
     "name": "stderr",
     "output_type": "stream",
     "text": [
      "ic"
     ]
    },
    {
     "name": "stderr",
     "output_type": "stream",
     "text": [
      "|"
     ]
    },
    {
     "name": "stderr",
     "output_type": "stream",
     "text": [
      " "
     ]
    },
    {
     "name": "stderr",
     "output_type": "stream",
     "text": [
      "token"
     ]
    },
    {
     "name": "stderr",
     "output_type": "stream",
     "text": [
      ":"
     ]
    },
    {
     "name": "stderr",
     "output_type": "stream",
     "text": [
      " "
     ]
    },
    {
     "name": "stderr",
     "output_type": "stream",
     "text": [
      "'"
     ]
    },
    {
     "name": "stderr",
     "output_type": "stream",
     "text": [
      "core"
     ]
    },
    {
     "name": "stderr",
     "output_type": "stream",
     "text": [
      "'"
     ]
    },
    {
     "name": "stderr",
     "output_type": "stream",
     "text": [
      ","
     ]
    },
    {
     "name": "stderr",
     "output_type": "stream",
     "text": [
      " "
     ]
    },
    {
     "name": "stderr",
     "output_type": "stream",
     "text": [
      "count"
     ]
    },
    {
     "name": "stderr",
     "output_type": "stream",
     "text": [
      ":"
     ]
    },
    {
     "name": "stderr",
     "output_type": "stream",
     "text": [
      " "
     ]
    },
    {
     "name": "stderr",
     "output_type": "stream",
     "text": [
      "6"
     ]
    },
    {
     "name": "stderr",
     "output_type": "stream",
     "text": [
      "\n"
     ]
    },
    {
     "name": "stderr",
     "output_type": "stream",
     "text": [
      "ic"
     ]
    },
    {
     "name": "stderr",
     "output_type": "stream",
     "text": [
      "|"
     ]
    },
    {
     "name": "stderr",
     "output_type": "stream",
     "text": [
      " "
     ]
    },
    {
     "name": "stderr",
     "output_type": "stream",
     "text": [
      "token"
     ]
    },
    {
     "name": "stderr",
     "output_type": "stream",
     "text": [
      ":"
     ]
    },
    {
     "name": "stderr",
     "output_type": "stream",
     "text": [
      " "
     ]
    },
    {
     "name": "stderr",
     "output_type": "stream",
     "text": [
      "'"
     ]
    },
    {
     "name": "stderr",
     "output_type": "stream",
     "text": [
      "set"
     ]
    },
    {
     "name": "stderr",
     "output_type": "stream",
     "text": [
      "'"
     ]
    },
    {
     "name": "stderr",
     "output_type": "stream",
     "text": [
      ","
     ]
    },
    {
     "name": "stderr",
     "output_type": "stream",
     "text": [
      " "
     ]
    },
    {
     "name": "stderr",
     "output_type": "stream",
     "text": [
      "count"
     ]
    },
    {
     "name": "stderr",
     "output_type": "stream",
     "text": [
      ":"
     ]
    },
    {
     "name": "stderr",
     "output_type": "stream",
     "text": [
      " "
     ]
    },
    {
     "name": "stderr",
     "output_type": "stream",
     "text": [
      "6"
     ]
    },
    {
     "name": "stderr",
     "output_type": "stream",
     "text": [
      "\n"
     ]
    },
    {
     "name": "stderr",
     "output_type": "stream",
     "text": [
      "ic"
     ]
    },
    {
     "name": "stderr",
     "output_type": "stream",
     "text": [
      "|"
     ]
    },
    {
     "name": "stderr",
     "output_type": "stream",
     "text": [
      " "
     ]
    },
    {
     "name": "stderr",
     "output_type": "stream",
     "text": [
      "token"
     ]
    },
    {
     "name": "stderr",
     "output_type": "stream",
     "text": [
      ":"
     ]
    },
    {
     "name": "stderr",
     "output_type": "stream",
     "text": [
      " "
     ]
    },
    {
     "name": "stderr",
     "output_type": "stream",
     "text": [
      "'"
     ]
    },
    {
     "name": "stderr",
     "output_type": "stream",
     "text": [
      "next"
     ]
    },
    {
     "name": "stderr",
     "output_type": "stream",
     "text": [
      "'"
     ]
    },
    {
     "name": "stderr",
     "output_type": "stream",
     "text": [
      ","
     ]
    },
    {
     "name": "stderr",
     "output_type": "stream",
     "text": [
      " "
     ]
    },
    {
     "name": "stderr",
     "output_type": "stream",
     "text": [
      "count"
     ]
    },
    {
     "name": "stderr",
     "output_type": "stream",
     "text": [
      ":"
     ]
    },
    {
     "name": "stderr",
     "output_type": "stream",
     "text": [
      " "
     ]
    },
    {
     "name": "stderr",
     "output_type": "stream",
     "text": [
      "6"
     ]
    },
    {
     "name": "stderr",
     "output_type": "stream",
     "text": [
      "\n"
     ]
    },
    {
     "name": "stderr",
     "output_type": "stream",
     "text": [
      "ic"
     ]
    },
    {
     "name": "stderr",
     "output_type": "stream",
     "text": [
      "|"
     ]
    },
    {
     "name": "stderr",
     "output_type": "stream",
     "text": [
      " "
     ]
    },
    {
     "name": "stderr",
     "output_type": "stream",
     "text": [
      "token"
     ]
    },
    {
     "name": "stderr",
     "output_type": "stream",
     "text": [
      ":"
     ]
    },
    {
     "name": "stderr",
     "output_type": "stream",
     "text": [
      " "
     ]
    },
    {
     "name": "stderr",
     "output_type": "stream",
     "text": [
      "'"
     ]
    },
    {
     "name": "stderr",
     "output_type": "stream",
     "text": [
      "then"
     ]
    },
    {
     "name": "stderr",
     "output_type": "stream",
     "text": [
      "'"
     ]
    },
    {
     "name": "stderr",
     "output_type": "stream",
     "text": [
      ","
     ]
    },
    {
     "name": "stderr",
     "output_type": "stream",
     "text": [
      " "
     ]
    },
    {
     "name": "stderr",
     "output_type": "stream",
     "text": [
      "count"
     ]
    },
    {
     "name": "stderr",
     "output_type": "stream",
     "text": [
      ":"
     ]
    },
    {
     "name": "stderr",
     "output_type": "stream",
     "text": [
      " "
     ]
    },
    {
     "name": "stderr",
     "output_type": "stream",
     "text": [
      "6"
     ]
    },
    {
     "name": "stderr",
     "output_type": "stream",
     "text": [
      "\n"
     ]
    },
    {
     "name": "stderr",
     "output_type": "stream",
     "text": [
      "ic"
     ]
    },
    {
     "name": "stderr",
     "output_type": "stream",
     "text": [
      "|"
     ]
    },
    {
     "name": "stderr",
     "output_type": "stream",
     "text": [
      " "
     ]
    },
    {
     "name": "stderr",
     "output_type": "stream",
     "text": [
      "token"
     ]
    },
    {
     "name": "stderr",
     "output_type": "stream",
     "text": [
      ":"
     ]
    },
    {
     "name": "stderr",
     "output_type": "stream",
     "text": [
      " "
     ]
    },
    {
     "name": "stderr",
     "output_type": "stream",
     "text": [
      "'"
     ]
    },
    {
     "name": "stderr",
     "output_type": "stream",
     "text": [
      "shutdown"
     ]
    },
    {
     "name": "stderr",
     "output_type": "stream",
     "text": [
      "'"
     ]
    },
    {
     "name": "stderr",
     "output_type": "stream",
     "text": [
      ","
     ]
    },
    {
     "name": "stderr",
     "output_type": "stream",
     "text": [
      " "
     ]
    },
    {
     "name": "stderr",
     "output_type": "stream",
     "text": [
      "count"
     ]
    },
    {
     "name": "stderr",
     "output_type": "stream",
     "text": [
      ":"
     ]
    },
    {
     "name": "stderr",
     "output_type": "stream",
     "text": [
      " "
     ]
    },
    {
     "name": "stderr",
     "output_type": "stream",
     "text": [
      "6"
     ]
    },
    {
     "name": "stderr",
     "output_type": "stream",
     "text": [
      "\n"
     ]
    },
    {
     "name": "stderr",
     "output_type": "stream",
     "text": [
      "ic"
     ]
    },
    {
     "name": "stderr",
     "output_type": "stream",
     "text": [
      "|"
     ]
    },
    {
     "name": "stderr",
     "output_type": "stream",
     "text": [
      " "
     ]
    },
    {
     "name": "stderr",
     "output_type": "stream",
     "text": [
      "token"
     ]
    },
    {
     "name": "stderr",
     "output_type": "stream",
     "text": [
      ":"
     ]
    },
    {
     "name": "stderr",
     "output_type": "stream",
     "text": [
      " "
     ]
    },
    {
     "name": "stderr",
     "output_type": "stream",
     "text": [
      "'"
     ]
    },
    {
     "name": "stderr",
     "output_type": "stream",
     "text": [
      "python"
     ]
    },
    {
     "name": "stderr",
     "output_type": "stream",
     "text": [
      "'"
     ]
    },
    {
     "name": "stderr",
     "output_type": "stream",
     "text": [
      ","
     ]
    },
    {
     "name": "stderr",
     "output_type": "stream",
     "text": [
      " "
     ]
    },
    {
     "name": "stderr",
     "output_type": "stream",
     "text": [
      "count"
     ]
    },
    {
     "name": "stderr",
     "output_type": "stream",
     "text": [
      ":"
     ]
    },
    {
     "name": "stderr",
     "output_type": "stream",
     "text": [
      " "
     ]
    },
    {
     "name": "stderr",
     "output_type": "stream",
     "text": [
      "6"
     ]
    },
    {
     "name": "stderr",
     "output_type": "stream",
     "text": [
      "\n"
     ]
    },
    {
     "name": "stderr",
     "output_type": "stream",
     "text": [
      "ic"
     ]
    },
    {
     "name": "stderr",
     "output_type": "stream",
     "text": [
      "|"
     ]
    },
    {
     "name": "stderr",
     "output_type": "stream",
     "text": [
      " "
     ]
    },
    {
     "name": "stderr",
     "output_type": "stream",
     "text": [
      "token"
     ]
    },
    {
     "name": "stderr",
     "output_type": "stream",
     "text": [
      ":"
     ]
    },
    {
     "name": "stderr",
     "output_type": "stream",
     "text": [
      " "
     ]
    },
    {
     "name": "stderr",
     "output_type": "stream",
     "text": [
      "'"
     ]
    },
    {
     "name": "stderr",
     "output_type": "stream",
     "text": [
      "actor"
     ]
    },
    {
     "name": "stderr",
     "output_type": "stream",
     "text": [
      "'"
     ]
    },
    {
     "name": "stderr",
     "output_type": "stream",
     "text": [
      ","
     ]
    },
    {
     "name": "stderr",
     "output_type": "stream",
     "text": [
      " "
     ]
    },
    {
     "name": "stderr",
     "output_type": "stream",
     "text": [
      "count"
     ]
    },
    {
     "name": "stderr",
     "output_type": "stream",
     "text": [
      ":"
     ]
    },
    {
     "name": "stderr",
     "output_type": "stream",
     "text": [
      " "
     ]
    },
    {
     "name": "stderr",
     "output_type": "stream",
     "text": [
      "6"
     ]
    },
    {
     "name": "stderr",
     "output_type": "stream",
     "text": [
      "\n"
     ]
    },
    {
     "name": "stderr",
     "output_type": "stream",
     "text": [
      "ic"
     ]
    },
    {
     "name": "stderr",
     "output_type": "stream",
     "text": [
      "|"
     ]
    },
    {
     "name": "stderr",
     "output_type": "stream",
     "text": [
      " "
     ]
    },
    {
     "name": "stderr",
     "output_type": "stream",
     "text": [
      "token"
     ]
    },
    {
     "name": "stderr",
     "output_type": "stream",
     "text": [
      ":"
     ]
    },
    {
     "name": "stderr",
     "output_type": "stream",
     "text": [
      " "
     ]
    },
    {
     "name": "stderr",
     "output_type": "stream",
     "text": [
      "'"
     ]
    },
    {
     "name": "stderr",
     "output_type": "stream",
     "text": [
      "actors"
     ]
    },
    {
     "name": "stderr",
     "output_type": "stream",
     "text": [
      "'"
     ]
    },
    {
     "name": "stderr",
     "output_type": "stream",
     "text": [
      ","
     ]
    },
    {
     "name": "stderr",
     "output_type": "stream",
     "text": [
      " "
     ]
    },
    {
     "name": "stderr",
     "output_type": "stream",
     "text": [
      "count"
     ]
    },
    {
     "name": "stderr",
     "output_type": "stream",
     "text": [
      ":"
     ]
    },
    {
     "name": "stderr",
     "output_type": "stream",
     "text": [
      " "
     ]
    },
    {
     "name": "stderr",
     "output_type": "stream",
     "text": [
      "5"
     ]
    },
    {
     "name": "stderr",
     "output_type": "stream",
     "text": [
      "\n"
     ]
    },
    {
     "name": "stderr",
     "output_type": "stream",
     "text": [
      "ic"
     ]
    },
    {
     "name": "stderr",
     "output_type": "stream",
     "text": [
      "|"
     ]
    },
    {
     "name": "stderr",
     "output_type": "stream",
     "text": [
      " "
     ]
    },
    {
     "name": "stderr",
     "output_type": "stream",
     "text": [
      "token"
     ]
    },
    {
     "name": "stderr",
     "output_type": "stream",
     "text": [
      ":"
     ]
    },
    {
     "name": "stderr",
     "output_type": "stream",
     "text": [
      " "
     ]
    },
    {
     "name": "stderr",
     "output_type": "stream",
     "text": [
      "'"
     ]
    },
    {
     "name": "stderr",
     "output_type": "stream",
     "text": [
      "it"
     ]
    },
    {
     "name": "stderr",
     "output_type": "stream",
     "text": [
      "'"
     ]
    },
    {
     "name": "stderr",
     "output_type": "stream",
     "text": [
      ","
     ]
    },
    {
     "name": "stderr",
     "output_type": "stream",
     "text": [
      " "
     ]
    },
    {
     "name": "stderr",
     "output_type": "stream",
     "text": [
      "count"
     ]
    },
    {
     "name": "stderr",
     "output_type": "stream",
     "text": [
      ":"
     ]
    },
    {
     "name": "stderr",
     "output_type": "stream",
     "text": [
      " "
     ]
    },
    {
     "name": "stderr",
     "output_type": "stream",
     "text": [
      "5"
     ]
    },
    {
     "name": "stderr",
     "output_type": "stream",
     "text": [
      "\n"
     ]
    },
    {
     "name": "stderr",
     "output_type": "stream",
     "text": [
      "ic"
     ]
    },
    {
     "name": "stderr",
     "output_type": "stream",
     "text": [
      "|"
     ]
    },
    {
     "name": "stderr",
     "output_type": "stream",
     "text": [
      " "
     ]
    },
    {
     "name": "stderr",
     "output_type": "stream",
     "text": [
      "token"
     ]
    },
    {
     "name": "stderr",
     "output_type": "stream",
     "text": [
      ":"
     ]
    },
    {
     "name": "stderr",
     "output_type": "stream",
     "text": [
      " "
     ]
    },
    {
     "name": "stderr",
     "output_type": "stream",
     "text": [
      "'"
     ]
    },
    {
     "name": "stderr",
     "output_type": "stream",
     "text": [
      "define"
     ]
    },
    {
     "name": "stderr",
     "output_type": "stream",
     "text": [
      "'"
     ]
    },
    {
     "name": "stderr",
     "output_type": "stream",
     "text": [
      ","
     ]
    },
    {
     "name": "stderr",
     "output_type": "stream",
     "text": [
      " "
     ]
    },
    {
     "name": "stderr",
     "output_type": "stream",
     "text": [
      "count"
     ]
    },
    {
     "name": "stderr",
     "output_type": "stream",
     "text": [
      ":"
     ]
    },
    {
     "name": "stderr",
     "output_type": "stream",
     "text": [
      " "
     ]
    },
    {
     "name": "stderr",
     "output_type": "stream",
     "text": [
      "5"
     ]
    },
    {
     "name": "stderr",
     "output_type": "stream",
     "text": [
      "\n"
     ]
    },
    {
     "name": "stderr",
     "output_type": "stream",
     "text": [
      "ic"
     ]
    },
    {
     "name": "stderr",
     "output_type": "stream",
     "text": [
      "|"
     ]
    },
    {
     "name": "stderr",
     "output_type": "stream",
     "text": [
      " "
     ]
    },
    {
     "name": "stderr",
     "output_type": "stream",
     "text": [
      "token"
     ]
    },
    {
     "name": "stderr",
     "output_type": "stream",
     "text": [
      ":"
     ]
    },
    {
     "name": "stderr",
     "output_type": "stream",
     "text": [
      " "
     ]
    },
    {
     "name": "stderr",
     "output_type": "stream",
     "text": [
      "'"
     ]
    },
    {
     "name": "stderr",
     "output_type": "stream",
     "text": [
      "will"
     ]
    },
    {
     "name": "stderr",
     "output_type": "stream",
     "text": [
      "'"
     ]
    },
    {
     "name": "stderr",
     "output_type": "stream",
     "text": [
      ","
     ]
    },
    {
     "name": "stderr",
     "output_type": "stream",
     "text": [
      " "
     ]
    },
    {
     "name": "stderr",
     "output_type": "stream",
     "text": [
      "count"
     ]
    },
    {
     "name": "stderr",
     "output_type": "stream",
     "text": [
      ":"
     ]
    },
    {
     "name": "stderr",
     "output_type": "stream",
     "text": [
      " "
     ]
    },
    {
     "name": "stderr",
     "output_type": "stream",
     "text": [
      "5"
     ]
    },
    {
     "name": "stderr",
     "output_type": "stream",
     "text": [
      "\n"
     ]
    },
    {
     "name": "stderr",
     "output_type": "stream",
     "text": [
      "ic"
     ]
    },
    {
     "name": "stderr",
     "output_type": "stream",
     "text": [
      "|"
     ]
    },
    {
     "name": "stderr",
     "output_type": "stream",
     "text": [
      " "
     ]
    },
    {
     "name": "stderr",
     "output_type": "stream",
     "text": [
      "token"
     ]
    },
    {
     "name": "stderr",
     "output_type": "stream",
     "text": [
      ":"
     ]
    },
    {
     "name": "stderr",
     "output_type": "stream",
     "text": [
      " "
     ]
    },
    {
     "name": "stderr",
     "output_type": "stream",
     "text": [
      "'"
     ]
    },
    {
     "name": "stderr",
     "output_type": "stream",
     "text": [
      "finally"
     ]
    },
    {
     "name": "stderr",
     "output_type": "stream",
     "text": [
      "'"
     ]
    },
    {
     "name": "stderr",
     "output_type": "stream",
     "text": [
      ","
     ]
    },
    {
     "name": "stderr",
     "output_type": "stream",
     "text": [
      " "
     ]
    },
    {
     "name": "stderr",
     "output_type": "stream",
     "text": [
      "count"
     ]
    },
    {
     "name": "stderr",
     "output_type": "stream",
     "text": [
      ":"
     ]
    },
    {
     "name": "stderr",
     "output_type": "stream",
     "text": [
      " "
     ]
    },
    {
     "name": "stderr",
     "output_type": "stream",
     "text": [
      "5"
     ]
    },
    {
     "name": "stderr",
     "output_type": "stream",
     "text": [
      "\n"
     ]
    },
    {
     "name": "stderr",
     "output_type": "stream",
     "text": [
      "ic"
     ]
    },
    {
     "name": "stderr",
     "output_type": "stream",
     "text": [
      "|"
     ]
    },
    {
     "name": "stderr",
     "output_type": "stream",
     "text": [
      " "
     ]
    },
    {
     "name": "stderr",
     "output_type": "stream",
     "text": [
      "token"
     ]
    },
    {
     "name": "stderr",
     "output_type": "stream",
     "text": [
      ":"
     ]
    },
    {
     "name": "stderr",
     "output_type": "stream",
     "text": [
      " "
     ]
    },
    {
     "name": "stderr",
     "output_type": "stream",
     "text": [
      "'"
     ]
    },
    {
     "name": "stderr",
     "output_type": "stream",
     "text": [
      "get"
     ]
    },
    {
     "name": "stderr",
     "output_type": "stream",
     "text": [
      "'"
     ]
    },
    {
     "name": "stderr",
     "output_type": "stream",
     "text": [
      ","
     ]
    },
    {
     "name": "stderr",
     "output_type": "stream",
     "text": [
      " "
     ]
    },
    {
     "name": "stderr",
     "output_type": "stream",
     "text": [
      "count"
     ]
    },
    {
     "name": "stderr",
     "output_type": "stream",
     "text": [
      ":"
     ]
    },
    {
     "name": "stderr",
     "output_type": "stream",
     "text": [
      " "
     ]
    },
    {
     "name": "stderr",
     "output_type": "stream",
     "text": [
      "5"
     ]
    },
    {
     "name": "stderr",
     "output_type": "stream",
     "text": [
      "\n"
     ]
    },
    {
     "name": "stderr",
     "output_type": "stream",
     "text": [
      "ic"
     ]
    },
    {
     "name": "stderr",
     "output_type": "stream",
     "text": [
      "|"
     ]
    },
    {
     "name": "stderr",
     "output_type": "stream",
     "text": [
      " "
     ]
    },
    {
     "name": "stderr",
     "output_type": "stream",
     "text": [
      "token"
     ]
    },
    {
     "name": "stderr",
     "output_type": "stream",
     "text": [
      ":"
     ]
    },
    {
     "name": "stderr",
     "output_type": "stream",
     "text": [
      " "
     ]
    },
    {
     "name": "stderr",
     "output_type": "stream",
     "text": [
      "'"
     ]
    },
    {
     "name": "stderr",
     "output_type": "stream",
     "text": [
      "functions"
     ]
    },
    {
     "name": "stderr",
     "output_type": "stream",
     "text": [
      "'"
     ]
    },
    {
     "name": "stderr",
     "output_type": "stream",
     "text": [
      ","
     ]
    },
    {
     "name": "stderr",
     "output_type": "stream",
     "text": [
      " "
     ]
    },
    {
     "name": "stderr",
     "output_type": "stream",
     "text": [
      "count"
     ]
    },
    {
     "name": "stderr",
     "output_type": "stream",
     "text": [
      ":"
     ]
    },
    {
     "name": "stderr",
     "output_type": "stream",
     "text": [
      " "
     ]
    },
    {
     "name": "stderr",
     "output_type": "stream",
     "text": [
      "5"
     ]
    },
    {
     "name": "stderr",
     "output_type": "stream",
     "text": [
      "\n"
     ]
    },
    {
     "name": "stderr",
     "output_type": "stream",
     "text": [
      "ic"
     ]
    },
    {
     "name": "stderr",
     "output_type": "stream",
     "text": [
      "|"
     ]
    },
    {
     "name": "stderr",
     "output_type": "stream",
     "text": [
      " "
     ]
    },
    {
     "name": "stderr",
     "output_type": "stream",
     "text": [
      "token"
     ]
    },
    {
     "name": "stderr",
     "output_type": "stream",
     "text": [
      ":"
     ]
    },
    {
     "name": "stderr",
     "output_type": "stream",
     "text": [
      " "
     ]
    },
    {
     "name": "stderr",
     "output_type": "stream",
     "text": [
      "'"
     ]
    },
    {
     "name": "stderr",
     "output_type": "stream",
     "text": [
      "iterators"
     ]
    },
    {
     "name": "stderr",
     "output_type": "stream",
     "text": [
      "'"
     ]
    },
    {
     "name": "stderr",
     "output_type": "stream",
     "text": [
      ","
     ]
    },
    {
     "name": "stderr",
     "output_type": "stream",
     "text": [
      " "
     ]
    },
    {
     "name": "stderr",
     "output_type": "stream",
     "text": [
      "count"
     ]
    },
    {
     "name": "stderr",
     "output_type": "stream",
     "text": [
      ":"
     ]
    },
    {
     "name": "stderr",
     "output_type": "stream",
     "text": [
      " "
     ]
    },
    {
     "name": "stderr",
     "output_type": "stream",
     "text": [
      "5"
     ]
    },
    {
     "name": "stderr",
     "output_type": "stream",
     "text": [
      "\n"
     ]
    },
    {
     "name": "stderr",
     "output_type": "stream",
     "text": [
      "ic"
     ]
    },
    {
     "name": "stderr",
     "output_type": "stream",
     "text": [
      "|"
     ]
    },
    {
     "name": "stderr",
     "output_type": "stream",
     "text": [
      " "
     ]
    },
    {
     "name": "stderr",
     "output_type": "stream",
     "text": [
      "token"
     ]
    },
    {
     "name": "stderr",
     "output_type": "stream",
     "text": [
      ":"
     ]
    },
    {
     "name": "stderr",
     "output_type": "stream",
     "text": [
      " "
     ]
    },
    {
     "name": "stderr",
     "output_type": "stream",
     "text": [
      "'"
     ]
    },
    {
     "name": "stderr",
     "output_type": "stream",
     "text": [
      "class"
     ]
    },
    {
     "name": "stderr",
     "output_type": "stream",
     "text": [
      "'"
     ]
    },
    {
     "name": "stderr",
     "output_type": "stream",
     "text": [
      ","
     ]
    },
    {
     "name": "stderr",
     "output_type": "stream",
     "text": [
      " "
     ]
    },
    {
     "name": "stderr",
     "output_type": "stream",
     "text": [
      "count"
     ]
    },
    {
     "name": "stderr",
     "output_type": "stream",
     "text": [
      ":"
     ]
    },
    {
     "name": "stderr",
     "output_type": "stream",
     "text": [
      " "
     ]
    },
    {
     "name": "stderr",
     "output_type": "stream",
     "text": [
      "5"
     ]
    },
    {
     "name": "stderr",
     "output_type": "stream",
     "text": [
      "\n"
     ]
    },
    {
     "name": "stderr",
     "output_type": "stream",
     "text": [
      "ic"
     ]
    },
    {
     "name": "stderr",
     "output_type": "stream",
     "text": [
      "|"
     ]
    },
    {
     "name": "stderr",
     "output_type": "stream",
     "text": [
      " "
     ]
    },
    {
     "name": "stderr",
     "output_type": "stream",
     "text": [
      "token"
     ]
    },
    {
     "name": "stderr",
     "output_type": "stream",
     "text": [
      ":"
     ]
    },
    {
     "name": "stderr",
     "output_type": "stream",
     "text": [
      " "
     ]
    },
    {
     "name": "stderr",
     "output_type": "stream",
     "text": [
      "'"
     ]
    },
    {
     "name": "stderr",
     "output_type": "stream",
     "text": [
      "up"
     ]
    },
    {
     "name": "stderr",
     "output_type": "stream",
     "text": [
      "'"
     ]
    },
    {
     "name": "stderr",
     "output_type": "stream",
     "text": [
      ","
     ]
    },
    {
     "name": "stderr",
     "output_type": "stream",
     "text": [
      " "
     ]
    },
    {
     "name": "stderr",
     "output_type": "stream",
     "text": [
      "count"
     ]
    },
    {
     "name": "stderr",
     "output_type": "stream",
     "text": [
      ":"
     ]
    },
    {
     "name": "stderr",
     "output_type": "stream",
     "text": [
      " "
     ]
    },
    {
     "name": "stderr",
     "output_type": "stream",
     "text": [
      "4"
     ]
    },
    {
     "name": "stderr",
     "output_type": "stream",
     "text": [
      "\n"
     ]
    },
    {
     "name": "stderr",
     "output_type": "stream",
     "text": [
      "ic"
     ]
    },
    {
     "name": "stderr",
     "output_type": "stream",
     "text": [
      "|"
     ]
    },
    {
     "name": "stderr",
     "output_type": "stream",
     "text": [
      " "
     ]
    },
    {
     "name": "stderr",
     "output_type": "stream",
     "text": [
      "token"
     ]
    },
    {
     "name": "stderr",
     "output_type": "stream",
     "text": [
      ":"
     ]
    },
    {
     "name": "stderr",
     "output_type": "stream",
     "text": [
      " "
     ]
    },
    {
     "name": "stderr",
     "output_type": "stream",
     "text": [
      "'"
     ]
    },
    {
     "name": "stderr",
     "output_type": "stream",
     "text": [
      "i.e"
     ]
    },
    {
     "name": "stderr",
     "output_type": "stream",
     "text": [
      "'"
     ]
    },
    {
     "name": "stderr",
     "output_type": "stream",
     "text": [
      ","
     ]
    },
    {
     "name": "stderr",
     "output_type": "stream",
     "text": [
      " "
     ]
    },
    {
     "name": "stderr",
     "output_type": "stream",
     "text": [
      "count"
     ]
    },
    {
     "name": "stderr",
     "output_type": "stream",
     "text": [
      ":"
     ]
    },
    {
     "name": "stderr",
     "output_type": "stream",
     "text": [
      " "
     ]
    },
    {
     "name": "stderr",
     "output_type": "stream",
     "text": [
      "4"
     ]
    },
    {
     "name": "stderr",
     "output_type": "stream",
     "text": [
      "\n"
     ]
    },
    {
     "name": "stderr",
     "output_type": "stream",
     "text": [
      "ic"
     ]
    },
    {
     "name": "stderr",
     "output_type": "stream",
     "text": [
      "|"
     ]
    },
    {
     "name": "stderr",
     "output_type": "stream",
     "text": [
      " "
     ]
    },
    {
     "name": "stderr",
     "output_type": "stream",
     "text": [
      "token"
     ]
    },
    {
     "name": "stderr",
     "output_type": "stream",
     "text": [
      ":"
     ]
    },
    {
     "name": "stderr",
     "output_type": "stream",
     "text": [
      " "
     ]
    },
    {
     "name": "stderr",
     "output_type": "stream",
     "text": [
      "'"
     ]
    },
    {
     "name": "stderr",
     "output_type": "stream",
     "text": [
      "are"
     ]
    },
    {
     "name": "stderr",
     "output_type": "stream",
     "text": [
      "'"
     ]
    },
    {
     "name": "stderr",
     "output_type": "stream",
     "text": [
      ","
     ]
    },
    {
     "name": "stderr",
     "output_type": "stream",
     "text": [
      " "
     ]
    },
    {
     "name": "stderr",
     "output_type": "stream",
     "text": [
      "count"
     ]
    },
    {
     "name": "stderr",
     "output_type": "stream",
     "text": [
      ":"
     ]
    },
    {
     "name": "stderr",
     "output_type": "stream",
     "text": [
      " "
     ]
    },
    {
     "name": "stderr",
     "output_type": "stream",
     "text": [
      "4"
     ]
    },
    {
     "name": "stderr",
     "output_type": "stream",
     "text": [
      "\n"
     ]
    },
    {
     "name": "stderr",
     "output_type": "stream",
     "text": [
      "ic"
     ]
    },
    {
     "name": "stderr",
     "output_type": "stream",
     "text": [
      "|"
     ]
    },
    {
     "name": "stderr",
     "output_type": "stream",
     "text": [
      " "
     ]
    },
    {
     "name": "stderr",
     "output_type": "stream",
     "text": [
      "token"
     ]
    },
    {
     "name": "stderr",
     "output_type": "stream",
     "text": [
      ":"
     ]
    },
    {
     "name": "stderr",
     "output_type": "stream",
     "text": [
      " "
     ]
    },
    {
     "name": "stderr",
     "output_type": "stream",
     "text": [
      "'"
     ]
    },
    {
     "name": "stderr",
     "output_type": "stream",
     "text": [
      "into"
     ]
    },
    {
     "name": "stderr",
     "output_type": "stream",
     "text": [
      "'"
     ]
    },
    {
     "name": "stderr",
     "output_type": "stream",
     "text": [
      ","
     ]
    },
    {
     "name": "stderr",
     "output_type": "stream",
     "text": [
      " "
     ]
    },
    {
     "name": "stderr",
     "output_type": "stream",
     "text": [
      "count"
     ]
    },
    {
     "name": "stderr",
     "output_type": "stream",
     "text": [
      ":"
     ]
    },
    {
     "name": "stderr",
     "output_type": "stream",
     "text": [
      " "
     ]
    },
    {
     "name": "stderr",
     "output_type": "stream",
     "text": [
      "4"
     ]
    },
    {
     "name": "stderr",
     "output_type": "stream",
     "text": [
      "\n"
     ]
    },
    {
     "name": "stderr",
     "output_type": "stream",
     "text": [
      "ic"
     ]
    },
    {
     "name": "stderr",
     "output_type": "stream",
     "text": [
      "|"
     ]
    },
    {
     "name": "stderr",
     "output_type": "stream",
     "text": [
      " "
     ]
    },
    {
     "name": "stderr",
     "output_type": "stream",
     "text": [
      "token"
     ]
    },
    {
     "name": "stderr",
     "output_type": "stream",
     "text": [
      ":"
     ]
    },
    {
     "name": "stderr",
     "output_type": "stream",
     "text": [
      " "
     ]
    },
    {
     "name": "stderr",
     "output_type": "stream",
     "text": [
      "'"
     ]
    },
    {
     "name": "stderr",
     "output_type": "stream",
     "text": [
      "decorator"
     ]
    },
    {
     "name": "stderr",
     "output_type": "stream",
     "text": [
      "'"
     ]
    },
    {
     "name": "stderr",
     "output_type": "stream",
     "text": [
      ","
     ]
    },
    {
     "name": "stderr",
     "output_type": "stream",
     "text": [
      " "
     ]
    },
    {
     "name": "stderr",
     "output_type": "stream",
     "text": [
      "count"
     ]
    },
    {
     "name": "stderr",
     "output_type": "stream",
     "text": [
      ":"
     ]
    },
    {
     "name": "stderr",
     "output_type": "stream",
     "text": [
      " "
     ]
    },
    {
     "name": "stderr",
     "output_type": "stream",
     "text": [
      "4"
     ]
    },
    {
     "name": "stderr",
     "output_type": "stream",
     "text": [
      "\n"
     ]
    },
    {
     "name": "stderr",
     "output_type": "stream",
     "text": [
      "ic"
     ]
    },
    {
     "name": "stderr",
     "output_type": "stream",
     "text": [
      "|"
     ]
    },
    {
     "name": "stderr",
     "output_type": "stream",
     "text": [
      " "
     ]
    },
    {
     "name": "stderr",
     "output_type": "stream",
     "text": [
      "token"
     ]
    },
    {
     "name": "stderr",
     "output_type": "stream",
     "text": [
      ":"
     ]
    },
    {
     "name": "stderr",
     "output_type": "stream",
     "text": [
      " "
     ]
    },
    {
     "name": "stderr",
     "output_type": "stream",
     "text": [
      "'"
     ]
    },
    {
     "name": "stderr",
     "output_type": "stream",
     "text": [
      "with"
     ]
    },
    {
     "name": "stderr",
     "output_type": "stream",
     "text": [
      "'"
     ]
    },
    {
     "name": "stderr",
     "output_type": "stream",
     "text": [
      ","
     ]
    },
    {
     "name": "stderr",
     "output_type": "stream",
     "text": [
      " "
     ]
    },
    {
     "name": "stderr",
     "output_type": "stream",
     "text": [
      "count"
     ]
    },
    {
     "name": "stderr",
     "output_type": "stream",
     "text": [
      ":"
     ]
    },
    {
     "name": "stderr",
     "output_type": "stream",
     "text": [
      " "
     ]
    },
    {
     "name": "stderr",
     "output_type": "stream",
     "text": [
      "4"
     ]
    },
    {
     "name": "stderr",
     "output_type": "stream",
     "text": [
      "\n"
     ]
    },
    {
     "name": "stderr",
     "output_type": "stream",
     "text": [
      "ic"
     ]
    },
    {
     "name": "stderr",
     "output_type": "stream",
     "text": [
      "|"
     ]
    },
    {
     "name": "stderr",
     "output_type": "stream",
     "text": [
      " "
     ]
    },
    {
     "name": "stderr",
     "output_type": "stream",
     "text": [
      "token"
     ]
    },
    {
     "name": "stderr",
     "output_type": "stream",
     "text": [
      ":"
     ]
    },
    {
     "name": "stderr",
     "output_type": "stream",
     "text": [
      " "
     ]
    },
    {
     "name": "stderr",
     "output_type": "stream",
     "text": [
      "'"
     ]
    },
    {
     "name": "stderr",
     "output_type": "stream",
     "text": [
      "through"
     ]
    },
    {
     "name": "stderr",
     "output_type": "stream",
     "text": [
      "'"
     ]
    },
    {
     "name": "stderr",
     "output_type": "stream",
     "text": [
      ","
     ]
    },
    {
     "name": "stderr",
     "output_type": "stream",
     "text": [
      " "
     ]
    },
    {
     "name": "stderr",
     "output_type": "stream",
     "text": [
      "count"
     ]
    },
    {
     "name": "stderr",
     "output_type": "stream",
     "text": [
      ":"
     ]
    },
    {
     "name": "stderr",
     "output_type": "stream",
     "text": [
      " "
     ]
    },
    {
     "name": "stderr",
     "output_type": "stream",
     "text": [
      "4"
     ]
    },
    {
     "name": "stderr",
     "output_type": "stream",
     "text": [
      "\n"
     ]
    },
    {
     "name": "stderr",
     "output_type": "stream",
     "text": [
      "ic"
     ]
    },
    {
     "name": "stderr",
     "output_type": "stream",
     "text": [
      "|"
     ]
    },
    {
     "name": "stderr",
     "output_type": "stream",
     "text": [
      " "
     ]
    },
    {
     "name": "stderr",
     "output_type": "stream",
     "text": [
      "token"
     ]
    },
    {
     "name": "stderr",
     "output_type": "stream",
     "text": [
      ":"
     ]
    },
    {
     "name": "stderr",
     "output_type": "stream",
     "text": [
      " "
     ]
    },
    {
     "name": "stderr",
     "output_type": "stream",
     "text": [
      "'"
     ]
    },
    {
     "name": "stderr",
     "output_type": "stream",
     "text": [
      "calls"
     ]
    },
    {
     "name": "stderr",
     "output_type": "stream",
     "text": [
      "'"
     ]
    },
    {
     "name": "stderr",
     "output_type": "stream",
     "text": [
      ","
     ]
    },
    {
     "name": "stderr",
     "output_type": "stream",
     "text": [
      " "
     ]
    },
    {
     "name": "stderr",
     "output_type": "stream",
     "text": [
      "count"
     ]
    },
    {
     "name": "stderr",
     "output_type": "stream",
     "text": [
      ":"
     ]
    },
    {
     "name": "stderr",
     "output_type": "stream",
     "text": [
      " "
     ]
    },
    {
     "name": "stderr",
     "output_type": "stream",
     "text": [
      "4"
     ]
    },
    {
     "name": "stderr",
     "output_type": "stream",
     "text": [
      "\n"
     ]
    },
    {
     "name": "stderr",
     "output_type": "stream",
     "text": [
      "ic"
     ]
    },
    {
     "name": "stderr",
     "output_type": "stream",
     "text": [
      "|"
     ]
    },
    {
     "name": "stderr",
     "output_type": "stream",
     "text": [
      " "
     ]
    },
    {
     "name": "stderr",
     "output_type": "stream",
     "text": [
      "token"
     ]
    },
    {
     "name": "stderr",
     "output_type": "stream",
     "text": [
      ":"
     ]
    },
    {
     "name": "stderr",
     "output_type": "stream",
     "text": [
      " "
     ]
    },
    {
     "name": "stderr",
     "output_type": "stream",
     "text": [
      "'"
     ]
    },
    {
     "name": "stderr",
     "output_type": "stream",
     "text": [
      "create"
     ]
    },
    {
     "name": "stderr",
     "output_type": "stream",
     "text": [
      "'"
     ]
    },
    {
     "name": "stderr",
     "output_type": "stream",
     "text": [
      ","
     ]
    },
    {
     "name": "stderr",
     "output_type": "stream",
     "text": [
      " "
     ]
    },
    {
     "name": "stderr",
     "output_type": "stream",
     "text": [
      "count"
     ]
    },
    {
     "name": "stderr",
     "output_type": "stream",
     "text": [
      ":"
     ]
    },
    {
     "name": "stderr",
     "output_type": "stream",
     "text": [
      " "
     ]
    },
    {
     "name": "stderr",
     "output_type": "stream",
     "text": [
      "4"
     ]
    },
    {
     "name": "stderr",
     "output_type": "stream",
     "text": [
      "\n"
     ]
    },
    {
     "name": "stderr",
     "output_type": "stream",
     "text": [
      "ic"
     ]
    },
    {
     "name": "stderr",
     "output_type": "stream",
     "text": [
      "|"
     ]
    },
    {
     "name": "stderr",
     "output_type": "stream",
     "text": [
      " "
     ]
    },
    {
     "name": "stderr",
     "output_type": "stream",
     "text": [
      "token"
     ]
    },
    {
     "name": "stderr",
     "output_type": "stream",
     "text": [
      ":"
     ]
    },
    {
     "name": "stderr",
     "output_type": "stream",
     "text": [
      " "
     ]
    },
    {
     "name": "stderr",
     "output_type": "stream",
     "text": [
      "'"
     ]
    },
    {
     "name": "stderr",
     "output_type": "stream",
     "text": [
      "shard"
     ]
    },
    {
     "name": "stderr",
     "output_type": "stream",
     "text": [
      "'"
     ]
    },
    {
     "name": "stderr",
     "output_type": "stream",
     "text": [
      ","
     ]
    },
    {
     "name": "stderr",
     "output_type": "stream",
     "text": [
      " "
     ]
    },
    {
     "name": "stderr",
     "output_type": "stream",
     "text": [
      "count"
     ]
    },
    {
     "name": "stderr",
     "output_type": "stream",
     "text": [
      ":"
     ]
    },
    {
     "name": "stderr",
     "output_type": "stream",
     "text": [
      " "
     ]
    },
    {
     "name": "stderr",
     "output_type": "stream",
     "text": [
      "4"
     ]
    },
    {
     "name": "stderr",
     "output_type": "stream",
     "text": [
      "\n"
     ]
    },
    {
     "name": "stderr",
     "output_type": "stream",
     "text": [
      "ic"
     ]
    },
    {
     "name": "stderr",
     "output_type": "stream",
     "text": [
      "|"
     ]
    },
    {
     "name": "stderr",
     "output_type": "stream",
     "text": [
      " "
     ]
    },
    {
     "name": "stderr",
     "output_type": "stream",
     "text": [
      "token"
     ]
    },
    {
     "name": "stderr",
     "output_type": "stream",
     "text": [
      ":"
     ]
    },
    {
     "name": "stderr",
     "output_type": "stream",
     "text": [
      " "
     ]
    },
    {
     "name": "stderr",
     "output_type": "stream",
     "text": [
      "'"
     ]
    },
    {
     "name": "stderr",
     "output_type": "stream",
     "text": [
      "fetch"
     ]
    },
    {
     "name": "stderr",
     "output_type": "stream",
     "text": [
      "'"
     ]
    },
    {
     "name": "stderr",
     "output_type": "stream",
     "text": [
      ","
     ]
    },
    {
     "name": "stderr",
     "output_type": "stream",
     "text": [
      " "
     ]
    },
    {
     "name": "stderr",
     "output_type": "stream",
     "text": [
      "count"
     ]
    },
    {
     "name": "stderr",
     "output_type": "stream",
     "text": [
      ":"
     ]
    },
    {
     "name": "stderr",
     "output_type": "stream",
     "text": [
      " "
     ]
    },
    {
     "name": "stderr",
     "output_type": "stream",
     "text": [
      "4"
     ]
    },
    {
     "name": "stderr",
     "output_type": "stream",
     "text": [
      "\n"
     ]
    },
    {
     "name": "stderr",
     "output_type": "stream",
     "text": [
      "ic"
     ]
    },
    {
     "name": "stderr",
     "output_type": "stream",
     "text": [
      "|"
     ]
    },
    {
     "name": "stderr",
     "output_type": "stream",
     "text": [
      " "
     ]
    },
    {
     "name": "stderr",
     "output_type": "stream",
     "text": [
      "token"
     ]
    },
    {
     "name": "stderr",
     "output_type": "stream",
     "text": [
      ":"
     ]
    },
    {
     "name": "stderr",
     "output_type": "stream",
     "text": [
      " "
     ]
    },
    {
     "name": "stderr",
     "output_type": "stream",
     "text": [
      "'"
     ]
    },
    {
     "name": "stderr",
     "output_type": "stream",
     "text": [
      "source"
     ]
    },
    {
     "name": "stderr",
     "output_type": "stream",
     "text": [
      "'"
     ]
    },
    {
     "name": "stderr",
     "output_type": "stream",
     "text": [
      ","
     ]
    },
    {
     "name": "stderr",
     "output_type": "stream",
     "text": [
      " "
     ]
    },
    {
     "name": "stderr",
     "output_type": "stream",
     "text": [
      "count"
     ]
    },
    {
     "name": "stderr",
     "output_type": "stream",
     "text": [
      ":"
     ]
    },
    {
     "name": "stderr",
     "output_type": "stream",
     "text": [
      " "
     ]
    },
    {
     "name": "stderr",
     "output_type": "stream",
     "text": [
      "4"
     ]
    },
    {
     "name": "stderr",
     "output_type": "stream",
     "text": [
      "\n"
     ]
    },
    {
     "name": "stderr",
     "output_type": "stream",
     "text": [
      "ic"
     ]
    },
    {
     "name": "stderr",
     "output_type": "stream",
     "text": [
      "|"
     ]
    },
    {
     "name": "stderr",
     "output_type": "stream",
     "text": [
      " "
     ]
    },
    {
     "name": "stderr",
     "output_type": "stream",
     "text": [
      "token"
     ]
    },
    {
     "name": "stderr",
     "output_type": "stream",
     "text": [
      ":"
     ]
    },
    {
     "name": "stderr",
     "output_type": "stream",
     "text": [
      " "
     ]
    },
    {
     "name": "stderr",
     "output_type": "stream",
     "text": [
      "'"
     ]
    },
    {
     "name": "stderr",
     "output_type": "stream",
     "text": [
      "joblib"
     ]
    },
    {
     "name": "stderr",
     "output_type": "stream",
     "text": [
      "'"
     ]
    },
    {
     "name": "stderr",
     "output_type": "stream",
     "text": [
      ","
     ]
    },
    {
     "name": "stderr",
     "output_type": "stream",
     "text": [
      " "
     ]
    },
    {
     "name": "stderr",
     "output_type": "stream",
     "text": [
      "count"
     ]
    },
    {
     "name": "stderr",
     "output_type": "stream",
     "text": [
      ":"
     ]
    },
    {
     "name": "stderr",
     "output_type": "stream",
     "text": [
      " "
     ]
    },
    {
     "name": "stderr",
     "output_type": "stream",
     "text": [
      "3"
     ]
    },
    {
     "name": "stderr",
     "output_type": "stream",
     "text": [
      "\n"
     ]
    },
    {
     "name": "stderr",
     "output_type": "stream",
     "text": [
      "ic"
     ]
    },
    {
     "name": "stderr",
     "output_type": "stream",
     "text": [
      "|"
     ]
    },
    {
     "name": "stderr",
     "output_type": "stream",
     "text": [
      " "
     ]
    },
    {
     "name": "stderr",
     "output_type": "stream",
     "text": [
      "token"
     ]
    },
    {
     "name": "stderr",
     "output_type": "stream",
     "text": [
      ":"
     ]
    },
    {
     "name": "stderr",
     "output_type": "stream",
     "text": [
      " "
     ]
    },
    {
     "name": "stderr",
     "output_type": "stream",
     "text": [
      "'"
     ]
    },
    {
     "name": "stderr",
     "output_type": "stream",
     "text": [
      "distributed"
     ]
    },
    {
     "name": "stderr",
     "output_type": "stream",
     "text": [
      "'"
     ]
    },
    {
     "name": "stderr",
     "output_type": "stream",
     "text": [
      ","
     ]
    },
    {
     "name": "stderr",
     "output_type": "stream",
     "text": [
      " "
     ]
    },
    {
     "name": "stderr",
     "output_type": "stream",
     "text": [
      "count"
     ]
    },
    {
     "name": "stderr",
     "output_type": "stream",
     "text": [
      ":"
     ]
    },
    {
     "name": "stderr",
     "output_type": "stream",
     "text": [
      " "
     ]
    },
    {
     "name": "stderr",
     "output_type": "stream",
     "text": [
      "3"
     ]
    },
    {
     "name": "stderr",
     "output_type": "stream",
     "text": [
      "\n"
     ]
    },
    {
     "name": "stderr",
     "output_type": "stream",
     "text": [
      "ic"
     ]
    },
    {
     "name": "stderr",
     "output_type": "stream",
     "text": [
      "|"
     ]
    },
    {
     "name": "stderr",
     "output_type": "stream",
     "text": [
      " "
     ]
    },
    {
     "name": "stderr",
     "output_type": "stream",
     "text": [
      "token"
     ]
    },
    {
     "name": "stderr",
     "output_type": "stream",
     "text": [
      ":"
     ]
    },
    {
     "name": "stderr",
     "output_type": "stream",
     "text": [
      " "
     ]
    },
    {
     "name": "stderr",
     "output_type": "stream",
     "text": [
      "'"
     ]
    },
    {
     "name": "stderr",
     "output_type": "stream",
     "text": [
      "backend"
     ]
    },
    {
     "name": "stderr",
     "output_type": "stream",
     "text": [
      "'"
     ]
    },
    {
     "name": "stderr",
     "output_type": "stream",
     "text": [
      ","
     ]
    },
    {
     "name": "stderr",
     "output_type": "stream",
     "text": [
      " "
     ]
    },
    {
     "name": "stderr",
     "output_type": "stream",
     "text": [
      "count"
     ]
    },
    {
     "name": "stderr",
     "output_type": "stream",
     "text": [
      ":"
     ]
    },
    {
     "name": "stderr",
     "output_type": "stream",
     "text": [
      " "
     ]
    },
    {
     "name": "stderr",
     "output_type": "stream",
     "text": [
      "3"
     ]
    },
    {
     "name": "stderr",
     "output_type": "stream",
     "text": [
      "\n"
     ]
    },
    {
     "name": "stderr",
     "output_type": "stream",
     "text": [
      "ic"
     ]
    },
    {
     "name": "stderr",
     "output_type": "stream",
     "text": [
      "|"
     ]
    },
    {
     "name": "stderr",
     "output_type": "stream",
     "text": [
      " "
     ]
    },
    {
     "name": "stderr",
     "output_type": "stream",
     "text": [
      "token"
     ]
    },
    {
     "name": "stderr",
     "output_type": "stream",
     "text": [
      ":"
     ]
    },
    {
     "name": "stderr",
     "output_type": "stream",
     "text": [
      " "
     ]
    },
    {
     "name": "stderr",
     "output_type": "stream",
     "text": [
      "'"
     ]
    },
    {
     "name": "stderr",
     "output_type": "stream",
     "text": [
      "local"
     ]
    },
    {
     "name": "stderr",
     "output_type": "stream",
     "text": [
      "'"
     ]
    },
    {
     "name": "stderr",
     "output_type": "stream",
     "text": [
      ","
     ]
    },
    {
     "name": "stderr",
     "output_type": "stream",
     "text": [
      " "
     ]
    },
    {
     "name": "stderr",
     "output_type": "stream",
     "text": [
      "count"
     ]
    },
    {
     "name": "stderr",
     "output_type": "stream",
     "text": [
      ":"
     ]
    },
    {
     "name": "stderr",
     "output_type": "stream",
     "text": [
      " "
     ]
    },
    {
     "name": "stderr",
     "output_type": "stream",
     "text": [
      "3"
     ]
    },
    {
     "name": "stderr",
     "output_type": "stream",
     "text": [
      "\n"
     ]
    },
    {
     "name": "stderr",
     "output_type": "stream",
     "text": [
      "ic"
     ]
    },
    {
     "name": "stderr",
     "output_type": "stream",
     "text": [
      "|"
     ]
    },
    {
     "name": "stderr",
     "output_type": "stream",
     "text": [
      " "
     ]
    },
    {
     "name": "stderr",
     "output_type": "stream",
     "text": [
      "token"
     ]
    },
    {
     "name": "stderr",
     "output_type": "stream",
     "text": [
      ":"
     ]
    },
    {
     "name": "stderr",
     "output_type": "stream",
     "text": [
      " "
     ]
    },
    {
     "name": "stderr",
     "output_type": "stream",
     "text": [
      "'"
     ]
    },
    {
     "name": "stderr",
     "output_type": "stream",
     "text": [
      "cluster"
     ]
    },
    {
     "name": "stderr",
     "output_type": "stream",
     "text": [
      "'"
     ]
    },
    {
     "name": "stderr",
     "output_type": "stream",
     "text": [
      ","
     ]
    },
    {
     "name": "stderr",
     "output_type": "stream",
     "text": [
      " "
     ]
    },
    {
     "name": "stderr",
     "output_type": "stream",
     "text": [
      "count"
     ]
    },
    {
     "name": "stderr",
     "output_type": "stream",
     "text": [
      ":"
     ]
    },
    {
     "name": "stderr",
     "output_type": "stream",
     "text": [
      " "
     ]
    },
    {
     "name": "stderr",
     "output_type": "stream",
     "text": [
      "3"
     ]
    },
    {
     "name": "stderr",
     "output_type": "stream",
     "text": [
      "\n"
     ]
    },
    {
     "name": "stderr",
     "output_type": "stream",
     "text": [
      "ic"
     ]
    },
    {
     "name": "stderr",
     "output_type": "stream",
     "text": [
      "|"
     ]
    },
    {
     "name": "stderr",
     "output_type": "stream",
     "text": [
      " "
     ]
    },
    {
     "name": "stderr",
     "output_type": "stream",
     "text": [
      "token"
     ]
    },
    {
     "name": "stderr",
     "output_type": "stream",
     "text": [
      ":"
     ]
    },
    {
     "name": "stderr",
     "output_type": "stream",
     "text": [
      " "
     ]
    },
    {
     "name": "stderr",
     "output_type": "stream",
     "text": [
      "'"
     ]
    },
    {
     "name": "stderr",
     "output_type": "stream",
     "text": [
      "see"
     ]
    },
    {
     "name": "stderr",
     "output_type": "stream",
     "text": [
      "'"
     ]
    },
    {
     "name": "stderr",
     "output_type": "stream",
     "text": [
      ","
     ]
    },
    {
     "name": "stderr",
     "output_type": "stream",
     "text": [
      " "
     ]
    },
    {
     "name": "stderr",
     "output_type": "stream",
     "text": [
      "count"
     ]
    },
    {
     "name": "stderr",
     "output_type": "stream",
     "text": [
      ":"
     ]
    },
    {
     "name": "stderr",
     "output_type": "stream",
     "text": [
      " "
     ]
    },
    {
     "name": "stderr",
     "output_type": "stream",
     "text": [
      "3"
     ]
    },
    {
     "name": "stderr",
     "output_type": "stream",
     "text": [
      "\n"
     ]
    },
    {
     "name": "stderr",
     "output_type": "stream",
     "text": [
      "ic"
     ]
    },
    {
     "name": "stderr",
     "output_type": "stream",
     "text": [
      "|"
     ]
    },
    {
     "name": "stderr",
     "output_type": "stream",
     "text": [
      " "
     ]
    },
    {
     "name": "stderr",
     "output_type": "stream",
     "text": [
      "token"
     ]
    },
    {
     "name": "stderr",
     "output_type": "stream",
     "text": [
      ":"
     ]
    },
    {
     "name": "stderr",
     "output_type": "stream",
     "text": [
      " "
     ]
    },
    {
     "name": "stderr",
     "output_type": "stream",
     "text": [
      "'"
     ]
    },
    {
     "name": "stderr",
     "output_type": "stream",
     "text": [
      "these"
     ]
    },
    {
     "name": "stderr",
     "output_type": "stream",
     "text": [
      "'"
     ]
    },
    {
     "name": "stderr",
     "output_type": "stream",
     "text": [
      ","
     ]
    },
    {
     "name": "stderr",
     "output_type": "stream",
     "text": [
      " "
     ]
    },
    {
     "name": "stderr",
     "output_type": "stream",
     "text": [
      "count"
     ]
    },
    {
     "name": "stderr",
     "output_type": "stream",
     "text": [
      ":"
     ]
    },
    {
     "name": "stderr",
     "output_type": "stream",
     "text": [
      " "
     ]
    },
    {
     "name": "stderr",
     "output_type": "stream",
     "text": [
      "3"
     ]
    },
    {
     "name": "stderr",
     "output_type": "stream",
     "text": [
      "\n"
     ]
    },
    {
     "name": "stderr",
     "output_type": "stream",
     "text": [
      "ic"
     ]
    },
    {
     "name": "stderr",
     "output_type": "stream",
     "text": [
      "|"
     ]
    },
    {
     "name": "stderr",
     "output_type": "stream",
     "text": [
      " "
     ]
    },
    {
     "name": "stderr",
     "output_type": "stream",
     "text": [
      "token"
     ]
    },
    {
     "name": "stderr",
     "output_type": "stream",
     "text": [
      ":"
     ]
    },
    {
     "name": "stderr",
     "output_type": "stream",
     "text": [
      " "
     ]
    },
    {
     "name": "stderr",
     "output_type": "stream",
     "text": [
      "'"
     ]
    },
    {
     "name": "stderr",
     "output_type": "stream",
     "text": [
      "which"
     ]
    },
    {
     "name": "stderr",
     "output_type": "stream",
     "text": [
      "'"
     ]
    },
    {
     "name": "stderr",
     "output_type": "stream",
     "text": [
      ","
     ]
    },
    {
     "name": "stderr",
     "output_type": "stream",
     "text": [
      " "
     ]
    },
    {
     "name": "stderr",
     "output_type": "stream",
     "text": [
      "count"
     ]
    },
    {
     "name": "stderr",
     "output_type": "stream",
     "text": [
      ":"
     ]
    },
    {
     "name": "stderr",
     "output_type": "stream",
     "text": [
      " "
     ]
    },
    {
     "name": "stderr",
     "output_type": "stream",
     "text": [
      "3"
     ]
    },
    {
     "name": "stderr",
     "output_type": "stream",
     "text": [
      "\n"
     ]
    },
    {
     "name": "stderr",
     "output_type": "stream",
     "text": [
      "ic"
     ]
    },
    {
     "name": "stderr",
     "output_type": "stream",
     "text": [
      "|"
     ]
    },
    {
     "name": "stderr",
     "output_type": "stream",
     "text": [
      " "
     ]
    },
    {
     "name": "stderr",
     "output_type": "stream",
     "text": [
      "token"
     ]
    },
    {
     "name": "stderr",
     "output_type": "stream",
     "text": [
      ":"
     ]
    },
    {
     "name": "stderr",
     "output_type": "stream",
     "text": [
      " "
     ]
    },
    {
     "name": "stderr",
     "output_type": "stream",
     "text": [
      "'"
     ]
    },
    {
     "name": "stderr",
     "output_type": "stream",
     "text": [
      "illustrate"
     ]
    },
    {
     "name": "stderr",
     "output_type": "stream",
     "text": [
      "'"
     ]
    },
    {
     "name": "stderr",
     "output_type": "stream",
     "text": [
      ","
     ]
    },
    {
     "name": "stderr",
     "output_type": "stream",
     "text": [
      " "
     ]
    },
    {
     "name": "stderr",
     "output_type": "stream",
     "text": [
      "count"
     ]
    },
    {
     "name": "stderr",
     "output_type": "stream",
     "text": [
      ":"
     ]
    },
    {
     "name": "stderr",
     "output_type": "stream",
     "text": [
      " "
     ]
    },
    {
     "name": "stderr",
     "output_type": "stream",
     "text": [
      "3"
     ]
    },
    {
     "name": "stderr",
     "output_type": "stream",
     "text": [
      "\n"
     ]
    },
    {
     "name": "stderr",
     "output_type": "stream",
     "text": [
      "ic"
     ]
    },
    {
     "name": "stderr",
     "output_type": "stream",
     "text": [
      "|"
     ]
    },
    {
     "name": "stderr",
     "output_type": "stream",
     "text": [
      " "
     ]
    },
    {
     "name": "stderr",
     "output_type": "stream",
     "text": [
      "token"
     ]
    },
    {
     "name": "stderr",
     "output_type": "stream",
     "text": [
      ":"
     ]
    },
    {
     "name": "stderr",
     "output_type": "stream",
     "text": [
      " "
     ]
    },
    {
     "name": "stderr",
     "output_type": "stream",
     "text": [
      "'"
     ]
    },
    {
     "name": "stderr",
     "output_type": "stream",
     "text": [
      "objects"
     ]
    },
    {
     "name": "stderr",
     "output_type": "stream",
     "text": [
      "'"
     ]
    },
    {
     "name": "stderr",
     "output_type": "stream",
     "text": [
      ","
     ]
    },
    {
     "name": "stderr",
     "output_type": "stream",
     "text": [
      " "
     ]
    },
    {
     "name": "stderr",
     "output_type": "stream",
     "text": [
      "count"
     ]
    },
    {
     "name": "stderr",
     "output_type": "stream",
     "text": [
      ":"
     ]
    },
    {
     "name": "stderr",
     "output_type": "stream",
     "text": [
      " "
     ]
    },
    {
     "name": "stderr",
     "output_type": "stream",
     "text": [
      "3"
     ]
    },
    {
     "name": "stderr",
     "output_type": "stream",
     "text": [
      "\n"
     ]
    },
    {
     "name": "stderr",
     "output_type": "stream",
     "text": [
      "ic"
     ]
    },
    {
     "name": "stderr",
     "output_type": "stream",
     "text": [
      "|"
     ]
    },
    {
     "name": "stderr",
     "output_type": "stream",
     "text": [
      " "
     ]
    },
    {
     "name": "stderr",
     "output_type": "stream",
     "text": [
      "token"
     ]
    },
    {
     "name": "stderr",
     "output_type": "stream",
     "text": [
      ":"
     ]
    },
    {
     "name": "stderr",
     "output_type": "stream",
     "text": [
      " "
     ]
    },
    {
     "name": "stderr",
     "output_type": "stream",
     "text": [
      "'"
     ]
    },
    {
     "name": "stderr",
     "output_type": "stream",
     "text": [
      "pattern"
     ]
    },
    {
     "name": "stderr",
     "output_type": "stream",
     "text": [
      "'"
     ]
    },
    {
     "name": "stderr",
     "output_type": "stream",
     "text": [
      ","
     ]
    },
    {
     "name": "stderr",
     "output_type": "stream",
     "text": [
      " "
     ]
    },
    {
     "name": "stderr",
     "output_type": "stream",
     "text": [
      "count"
     ]
    },
    {
     "name": "stderr",
     "output_type": "stream",
     "text": [
      ":"
     ]
    },
    {
     "name": "stderr",
     "output_type": "stream",
     "text": [
      " "
     ]
    },
    {
     "name": "stderr",
     "output_type": "stream",
     "text": [
      "3"
     ]
    },
    {
     "name": "stderr",
     "output_type": "stream",
     "text": [
      "\n"
     ]
    },
    {
     "name": "stderr",
     "output_type": "stream",
     "text": [
      "ic"
     ]
    },
    {
     "name": "stderr",
     "output_type": "stream",
     "text": [
      "|"
     ]
    },
    {
     "name": "stderr",
     "output_type": "stream",
     "text": [
      " "
     ]
    },
    {
     "name": "stderr",
     "output_type": "stream",
     "text": [
      "token"
     ]
    },
    {
     "name": "stderr",
     "output_type": "stream",
     "text": [
      ":"
     ]
    },
    {
     "name": "stderr",
     "output_type": "stream",
     "text": [
      " "
     ]
    },
    {
     "name": "stderr",
     "output_type": "stream",
     "text": [
      "'"
     ]
    },
    {
     "name": "stderr",
     "output_type": "stream",
     "text": [
      "you"
     ]
    },
    {
     "name": "stderr",
     "output_type": "stream",
     "text": [
      "'"
     ]
    },
    {
     "name": "stderr",
     "output_type": "stream",
     "text": [
      ","
     ]
    },
    {
     "name": "stderr",
     "output_type": "stream",
     "text": [
      " "
     ]
    },
    {
     "name": "stderr",
     "output_type": "stream",
     "text": [
      "count"
     ]
    },
    {
     "name": "stderr",
     "output_type": "stream",
     "text": [
      ":"
     ]
    },
    {
     "name": "stderr",
     "output_type": "stream",
     "text": [
      " "
     ]
    },
    {
     "name": "stderr",
     "output_type": "stream",
     "text": [
      "3"
     ]
    },
    {
     "name": "stderr",
     "output_type": "stream",
     "text": [
      "\n"
     ]
    },
    {
     "name": "stderr",
     "output_type": "stream",
     "text": [
      "ic"
     ]
    },
    {
     "name": "stderr",
     "output_type": "stream",
     "text": [
      "|"
     ]
    },
    {
     "name": "stderr",
     "output_type": "stream",
     "text": [
      " "
     ]
    },
    {
     "name": "stderr",
     "output_type": "stream",
     "text": [
      "token"
     ]
    },
    {
     "name": "stderr",
     "output_type": "stream",
     "text": [
      ":"
     ]
    },
    {
     "name": "stderr",
     "output_type": "stream",
     "text": [
      " "
     ]
    },
    {
     "name": "stderr",
     "output_type": "stream",
     "text": [
      "'"
     ]
    },
    {
     "name": "stderr",
     "output_type": "stream",
     "text": [
      "multiple"
     ]
    },
    {
     "name": "stderr",
     "output_type": "stream",
     "text": [
      "'"
     ]
    },
    {
     "name": "stderr",
     "output_type": "stream",
     "text": [
      ","
     ]
    },
    {
     "name": "stderr",
     "output_type": "stream",
     "text": [
      " "
     ]
    },
    {
     "name": "stderr",
     "output_type": "stream",
     "text": [
      "count"
     ]
    },
    {
     "name": "stderr",
     "output_type": "stream",
     "text": [
      ":"
     ]
    },
    {
     "name": "stderr",
     "output_type": "stream",
     "text": [
      " "
     ]
    },
    {
     "name": "stderr",
     "output_type": "stream",
     "text": [
      "3"
     ]
    },
    {
     "name": "stderr",
     "output_type": "stream",
     "text": [
      "\n"
     ]
    },
    {
     "name": "stderr",
     "output_type": "stream",
     "text": [
      "ic"
     ]
    },
    {
     "name": "stderr",
     "output_type": "stream",
     "text": [
      "|"
     ]
    },
    {
     "name": "stderr",
     "output_type": "stream",
     "text": [
      " "
     ]
    },
    {
     "name": "stderr",
     "output_type": "stream",
     "text": [
      "token"
     ]
    },
    {
     "name": "stderr",
     "output_type": "stream",
     "text": [
      ":"
     ]
    },
    {
     "name": "stderr",
     "output_type": "stream",
     "text": [
      " "
     ]
    },
    {
     "name": "stderr",
     "output_type": "stream",
     "text": [
      "'"
     ]
    },
    {
     "name": "stderr",
     "output_type": "stream",
     "text": [
      "references"
     ]
    },
    {
     "name": "stderr",
     "output_type": "stream",
     "text": [
      "'"
     ]
    },
    {
     "name": "stderr",
     "output_type": "stream",
     "text": [
      ","
     ]
    },
    {
     "name": "stderr",
     "output_type": "stream",
     "text": [
      " "
     ]
    },
    {
     "name": "stderr",
     "output_type": "stream",
     "text": [
      "count"
     ]
    },
    {
     "name": "stderr",
     "output_type": "stream",
     "text": [
      ":"
     ]
    },
    {
     "name": "stderr",
     "output_type": "stream",
     "text": [
      " "
     ]
    },
    {
     "name": "stderr",
     "output_type": "stream",
     "text": [
      "3"
     ]
    },
    {
     "name": "stderr",
     "output_type": "stream",
     "text": [
      "\n"
     ]
    },
    {
     "name": "stderr",
     "output_type": "stream",
     "text": [
      "ic"
     ]
    },
    {
     "name": "stderr",
     "output_type": "stream",
     "text": [
      "|"
     ]
    },
    {
     "name": "stderr",
     "output_type": "stream",
     "text": [
      " "
     ]
    },
    {
     "name": "stderr",
     "output_type": "stream",
     "text": [
      "token"
     ]
    },
    {
     "name": "stderr",
     "output_type": "stream",
     "text": [
      ":"
     ]
    },
    {
     "name": "stderr",
     "output_type": "stream",
     "text": [
      " "
     ]
    },
    {
     "name": "stderr",
     "output_type": "stream",
     "text": [
      "'"
     ]
    },
    {
     "name": "stderr",
     "output_type": "stream",
     "text": [
      "@ray.remote"
     ]
    },
    {
     "name": "stderr",
     "output_type": "stream",
     "text": [
      "'"
     ]
    },
    {
     "name": "stderr",
     "output_type": "stream",
     "text": [
      ","
     ]
    },
    {
     "name": "stderr",
     "output_type": "stream",
     "text": [
      " "
     ]
    },
    {
     "name": "stderr",
     "output_type": "stream",
     "text": [
      "count"
     ]
    },
    {
     "name": "stderr",
     "output_type": "stream",
     "text": [
      ":"
     ]
    },
    {
     "name": "stderr",
     "output_type": "stream",
     "text": [
      " "
     ]
    },
    {
     "name": "stderr",
     "output_type": "stream",
     "text": [
      "3"
     ]
    },
    {
     "name": "stderr",
     "output_type": "stream",
     "text": [
      "\n"
     ]
    },
    {
     "name": "stderr",
     "output_type": "stream",
     "text": [
      "ic"
     ]
    },
    {
     "name": "stderr",
     "output_type": "stream",
     "text": [
      "|"
     ]
    },
    {
     "name": "stderr",
     "output_type": "stream",
     "text": [
      " "
     ]
    },
    {
     "name": "stderr",
     "output_type": "stream",
     "text": [
      "token"
     ]
    },
    {
     "name": "stderr",
     "output_type": "stream",
     "text": [
      ":"
     ]
    },
    {
     "name": "stderr",
     "output_type": "stream",
     "text": [
      " "
     ]
    },
    {
     "name": "stderr",
     "output_type": "stream",
     "text": [
      "'"
     ]
    },
    {
     "name": "stderr",
     "output_type": "stream",
     "text": [
      "regular"
     ]
    },
    {
     "name": "stderr",
     "output_type": "stream",
     "text": [
      "'"
     ]
    },
    {
     "name": "stderr",
     "output_type": "stream",
     "text": [
      ","
     ]
    },
    {
     "name": "stderr",
     "output_type": "stream",
     "text": [
      " "
     ]
    },
    {
     "name": "stderr",
     "output_type": "stream",
     "text": [
      "count"
     ]
    },
    {
     "name": "stderr",
     "output_type": "stream",
     "text": [
      ":"
     ]
    },
    {
     "name": "stderr",
     "output_type": "stream",
     "text": [
      " "
     ]
    },
    {
     "name": "stderr",
     "output_type": "stream",
     "text": [
      "3"
     ]
    },
    {
     "name": "stderr",
     "output_type": "stream",
     "text": [
      "\n"
     ]
    },
    {
     "name": "stderr",
     "output_type": "stream",
     "text": [
      "ic"
     ]
    },
    {
     "name": "stderr",
     "output_type": "stream",
     "text": [
      "|"
     ]
    },
    {
     "name": "stderr",
     "output_type": "stream",
     "text": [
      " "
     ]
    },
    {
     "name": "stderr",
     "output_type": "stream",
     "text": [
      "token"
     ]
    },
    {
     "name": "stderr",
     "output_type": "stream",
     "text": [
      ":"
     ]
    },
    {
     "name": "stderr",
     "output_type": "stream",
     "text": [
      " "
     ]
    },
    {
     "name": "stderr",
     "output_type": "stream",
     "text": [
      "'"
     ]
    },
    {
     "name": "stderr",
     "output_type": "stream",
     "text": [
      "when"
     ]
    },
    {
     "name": "stderr",
     "output_type": "stream",
     "text": [
      "'"
     ]
    },
    {
     "name": "stderr",
     "output_type": "stream",
     "text": [
      ","
     ]
    },
    {
     "name": "stderr",
     "output_type": "stream",
     "text": [
      " "
     ]
    },
    {
     "name": "stderr",
     "output_type": "stream",
     "text": [
      "count"
     ]
    },
    {
     "name": "stderr",
     "output_type": "stream",
     "text": [
      ":"
     ]
    },
    {
     "name": "stderr",
     "output_type": "stream",
     "text": [
      " "
     ]
    },
    {
     "name": "stderr",
     "output_type": "stream",
     "text": [
      "3"
     ]
    },
    {
     "name": "stderr",
     "output_type": "stream",
     "text": [
      "\n"
     ]
    },
    {
     "name": "stderr",
     "output_type": "stream",
     "text": [
      "ic"
     ]
    },
    {
     "name": "stderr",
     "output_type": "stream",
     "text": [
      "|"
     ]
    },
    {
     "name": "stderr",
     "output_type": "stream",
     "text": [
      " "
     ]
    },
    {
     "name": "stderr",
     "output_type": "stream",
     "text": [
      "token"
     ]
    },
    {
     "name": "stderr",
     "output_type": "stream",
     "text": [
      ":"
     ]
    },
    {
     "name": "stderr",
     "output_type": "stream",
     "text": [
      " "
     ]
    },
    {
     "name": "stderr",
     "output_type": "stream",
     "text": [
      "'"
     ]
    },
    {
     "name": "stderr",
     "output_type": "stream",
     "text": [
      "returns"
     ]
    },
    {
     "name": "stderr",
     "output_type": "stream",
     "text": [
      "'"
     ]
    },
    {
     "name": "stderr",
     "output_type": "stream",
     "text": [
      ","
     ]
    },
    {
     "name": "stderr",
     "output_type": "stream",
     "text": [
      " "
     ]
    },
    {
     "name": "stderr",
     "output_type": "stream",
     "text": [
      "count"
     ]
    },
    {
     "name": "stderr",
     "output_type": "stream",
     "text": [
      ":"
     ]
    },
    {
     "name": "stderr",
     "output_type": "stream",
     "text": [
      " "
     ]
    },
    {
     "name": "stderr",
     "output_type": "stream",
     "text": [
      "3"
     ]
    },
    {
     "name": "stderr",
     "output_type": "stream",
     "text": [
      "\n"
     ]
    },
    {
     "name": "stderr",
     "output_type": "stream",
     "text": [
      "ic"
     ]
    },
    {
     "name": "stderr",
     "output_type": "stream",
     "text": [
      "|"
     ]
    },
    {
     "name": "stderr",
     "output_type": "stream",
     "text": [
      " "
     ]
    },
    {
     "name": "stderr",
     "output_type": "stream",
     "text": [
      "token"
     ]
    },
    {
     "name": "stderr",
     "output_type": "stream",
     "text": [
      ":"
     ]
    },
    {
     "name": "stderr",
     "output_type": "stream",
     "text": [
      " "
     ]
    },
    {
     "name": "stderr",
     "output_type": "stream",
     "text": [
      "'"
     ]
    },
    {
     "name": "stderr",
     "output_type": "stream",
     "text": [
      "if"
     ]
    },
    {
     "name": "stderr",
     "output_type": "stream",
     "text": [
      "'"
     ]
    },
    {
     "name": "stderr",
     "output_type": "stream",
     "text": [
      ","
     ]
    },
    {
     "name": "stderr",
     "output_type": "stream",
     "text": [
      " "
     ]
    },
    {
     "name": "stderr",
     "output_type": "stream",
     "text": [
      "count"
     ]
    },
    {
     "name": "stderr",
     "output_type": "stream",
     "text": [
      ":"
     ]
    },
    {
     "name": "stderr",
     "output_type": "stream",
     "text": [
      " "
     ]
    },
    {
     "name": "stderr",
     "output_type": "stream",
     "text": [
      "3"
     ]
    },
    {
     "name": "stderr",
     "output_type": "stream",
     "text": [
      "\n"
     ]
    },
    {
     "name": "stderr",
     "output_type": "stream",
     "text": [
      "ic"
     ]
    },
    {
     "name": "stderr",
     "output_type": "stream",
     "text": [
      "|"
     ]
    },
    {
     "name": "stderr",
     "output_type": "stream",
     "text": [
      " "
     ]
    },
    {
     "name": "stderr",
     "output_type": "stream",
     "text": [
      "token"
     ]
    },
    {
     "name": "stderr",
     "output_type": "stream",
     "text": [
      ":"
     ]
    },
    {
     "name": "stderr",
     "output_type": "stream",
     "text": [
      " "
     ]
    },
    {
     "name": "stderr",
     "output_type": "stream",
     "text": [
      "'"
     ]
    },
    {
     "name": "stderr",
     "output_type": "stream",
     "text": [
      "iterate"
     ]
    },
    {
     "name": "stderr",
     "output_type": "stream",
     "text": [
      "'"
     ]
    },
    {
     "name": "stderr",
     "output_type": "stream",
     "text": [
      ","
     ]
    },
    {
     "name": "stderr",
     "output_type": "stream",
     "text": [
      " "
     ]
    },
    {
     "name": "stderr",
     "output_type": "stream",
     "text": [
      "count"
     ]
    },
    {
     "name": "stderr",
     "output_type": "stream",
     "text": [
      ":"
     ]
    },
    {
     "name": "stderr",
     "output_type": "stream",
     "text": [
      " "
     ]
    },
    {
     "name": "stderr",
     "output_type": "stream",
     "text": [
      "3"
     ]
    },
    {
     "name": "stderr",
     "output_type": "stream",
     "text": [
      "\n"
     ]
    },
    {
     "name": "stderr",
     "output_type": "stream",
     "text": [
      "ic"
     ]
    },
    {
     "name": "stderr",
     "output_type": "stream",
     "text": [
      "|"
     ]
    },
    {
     "name": "stderr",
     "output_type": "stream",
     "text": [
      " "
     ]
    },
    {
     "name": "stderr",
     "output_type": "stream",
     "text": [
      "token"
     ]
    },
    {
     "name": "stderr",
     "output_type": "stream",
     "text": [
      ":"
     ]
    },
    {
     "name": "stderr",
     "output_type": "stream",
     "text": [
      " "
     ]
    },
    {
     "name": "stderr",
     "output_type": "stream",
     "text": [
      "'"
     ]
    },
    {
     "name": "stderr",
     "output_type": "stream",
     "text": [
      "method"
     ]
    },
    {
     "name": "stderr",
     "output_type": "stream",
     "text": [
      "'"
     ]
    },
    {
     "name": "stderr",
     "output_type": "stream",
     "text": [
      ","
     ]
    },
    {
     "name": "stderr",
     "output_type": "stream",
     "text": [
      " "
     ]
    },
    {
     "name": "stderr",
     "output_type": "stream",
     "text": [
      "count"
     ]
    },
    {
     "name": "stderr",
     "output_type": "stream",
     "text": [
      ":"
     ]
    },
    {
     "name": "stderr",
     "output_type": "stream",
     "text": [
      " "
     ]
    },
    {
     "name": "stderr",
     "output_type": "stream",
     "text": [
      "3"
     ]
    },
    {
     "name": "stderr",
     "output_type": "stream",
     "text": [
      "\n"
     ]
    },
    {
     "name": "stderr",
     "output_type": "stream",
     "text": [
      "ic"
     ]
    },
    {
     "name": "stderr",
     "output_type": "stream",
     "text": [
      "|"
     ]
    },
    {
     "name": "stderr",
     "output_type": "stream",
     "text": [
      " "
     ]
    },
    {
     "name": "stderr",
     "output_type": "stream",
     "text": [
      "token"
     ]
    },
    {
     "name": "stderr",
     "output_type": "stream",
     "text": [
      ":"
     ]
    },
    {
     "name": "stderr",
     "output_type": "stream",
     "text": [
      " "
     ]
    },
    {
     "name": "stderr",
     "output_type": "stream",
     "text": [
      "'"
     ]
    },
    {
     "name": "stderr",
     "output_type": "stream",
     "text": [
      "worker"
     ]
    },
    {
     "name": "stderr",
     "output_type": "stream",
     "text": [
      "'"
     ]
    },
    {
     "name": "stderr",
     "output_type": "stream",
     "text": [
      ","
     ]
    },
    {
     "name": "stderr",
     "output_type": "stream",
     "text": [
      " "
     ]
    },
    {
     "name": "stderr",
     "output_type": "stream",
     "text": [
      "count"
     ]
    },
    {
     "name": "stderr",
     "output_type": "stream",
     "text": [
      ":"
     ]
    },
    {
     "name": "stderr",
     "output_type": "stream",
     "text": [
      " "
     ]
    },
    {
     "name": "stderr",
     "output_type": "stream",
     "text": [
      "3"
     ]
    },
    {
     "name": "stderr",
     "output_type": "stream",
     "text": [
      "\n"
     ]
    },
    {
     "name": "stderr",
     "output_type": "stream",
     "text": [
      "ic"
     ]
    },
    {
     "name": "stderr",
     "output_type": "stream",
     "text": [
      "|"
     ]
    },
    {
     "name": "stderr",
     "output_type": "stream",
     "text": [
      " "
     ]
    },
    {
     "name": "stderr",
     "output_type": "stream",
     "text": [
      "token"
     ]
    },
    {
     "name": "stderr",
     "output_type": "stream",
     "text": [
      ":"
     ]
    },
    {
     "name": "stderr",
     "output_type": "stream",
     "text": [
      " "
     ]
    },
    {
     "name": "stderr",
     "output_type": "stream",
     "text": [
      "'"
     ]
    },
    {
     "name": "stderr",
     "output_type": "stream",
     "text": [
      "only"
     ]
    },
    {
     "name": "stderr",
     "output_type": "stream",
     "text": [
      "'"
     ]
    },
    {
     "name": "stderr",
     "output_type": "stream",
     "text": [
      ","
     ]
    },
    {
     "name": "stderr",
     "output_type": "stream",
     "text": [
      " "
     ]
    },
    {
     "name": "stderr",
     "output_type": "stream",
     "text": [
      "count"
     ]
    },
    {
     "name": "stderr",
     "output_type": "stream",
     "text": [
      ":"
     ]
    },
    {
     "name": "stderr",
     "output_type": "stream",
     "text": [
      " "
     ]
    },
    {
     "name": "stderr",
     "output_type": "stream",
     "text": [
      "3"
     ]
    },
    {
     "name": "stderr",
     "output_type": "stream",
     "text": [
      "\n"
     ]
    },
    {
     "name": "stderr",
     "output_type": "stream",
     "text": [
      "ic"
     ]
    },
    {
     "name": "stderr",
     "output_type": "stream",
     "text": [
      "|"
     ]
    },
    {
     "name": "stderr",
     "output_type": "stream",
     "text": [
      " "
     ]
    },
    {
     "name": "stderr",
     "output_type": "stream",
     "text": [
      "token"
     ]
    },
    {
     "name": "stderr",
     "output_type": "stream",
     "text": [
      ":"
     ]
    },
    {
     "name": "stderr",
     "output_type": "stream",
     "text": [
      " "
     ]
    },
    {
     "name": "stderr",
     "output_type": "stream",
     "text": [
      "'"
     ]
    },
    {
     "name": "stderr",
     "output_type": "stream",
     "text": [
      "item"
     ]
    },
    {
     "name": "stderr",
     "output_type": "stream",
     "text": [
      "'"
     ]
    },
    {
     "name": "stderr",
     "output_type": "stream",
     "text": [
      ","
     ]
    },
    {
     "name": "stderr",
     "output_type": "stream",
     "text": [
      " "
     ]
    },
    {
     "name": "stderr",
     "output_type": "stream",
     "text": [
      "count"
     ]
    },
    {
     "name": "stderr",
     "output_type": "stream",
     "text": [
      ":"
     ]
    },
    {
     "name": "stderr",
     "output_type": "stream",
     "text": [
      " "
     ]
    },
    {
     "name": "stderr",
     "output_type": "stream",
     "text": [
      "3"
     ]
    },
    {
     "name": "stderr",
     "output_type": "stream",
     "text": [
      "\n"
     ]
    },
    {
     "name": "stderr",
     "output_type": "stream",
     "text": [
      "ic"
     ]
    },
    {
     "name": "stderr",
     "output_type": "stream",
     "text": [
      "|"
     ]
    },
    {
     "name": "stderr",
     "output_type": "stream",
     "text": [
      " "
     ]
    },
    {
     "name": "stderr",
     "output_type": "stream",
     "text": [
      "token"
     ]
    },
    {
     "name": "stderr",
     "output_type": "stream",
     "text": [
      ":"
     ]
    },
    {
     "name": "stderr",
     "output_type": "stream",
     "text": [
      " "
     ]
    },
    {
     "name": "stderr",
     "output_type": "stream",
     "text": [
      "'"
     ]
    },
    {
     "name": "stderr",
     "output_type": "stream",
     "text": [
      "tasks"
     ]
    },
    {
     "name": "stderr",
     "output_type": "stream",
     "text": [
      "'"
     ]
    },
    {
     "name": "stderr",
     "output_type": "stream",
     "text": [
      ","
     ]
    },
    {
     "name": "stderr",
     "output_type": "stream",
     "text": [
      " "
     ]
    },
    {
     "name": "stderr",
     "output_type": "stream",
     "text": [
      "count"
     ]
    },
    {
     "name": "stderr",
     "output_type": "stream",
     "text": [
      ":"
     ]
    },
    {
     "name": "stderr",
     "output_type": "stream",
     "text": [
      " "
     ]
    },
    {
     "name": "stderr",
     "output_type": "stream",
     "text": [
      "3"
     ]
    },
    {
     "name": "stderr",
     "output_type": "stream",
     "text": [
      "\n"
     ]
    },
    {
     "name": "stderr",
     "output_type": "stream",
     "text": [
      "ic"
     ]
    },
    {
     "name": "stderr",
     "output_type": "stream",
     "text": [
      "|"
     ]
    },
    {
     "name": "stderr",
     "output_type": "stream",
     "text": [
      " "
     ]
    },
    {
     "name": "stderr",
     "output_type": "stream",
     "text": [
      "token"
     ]
    },
    {
     "name": "stderr",
     "output_type": "stream",
     "text": [
      ":"
     ]
    },
    {
     "name": "stderr",
     "output_type": "stream",
     "text": [
      " "
     ]
    },
    {
     "name": "stderr",
     "output_type": "stream",
     "text": [
      "'"
     ]
    },
    {
     "name": "stderr",
     "output_type": "stream",
     "text": [
      "across"
     ]
    },
    {
     "name": "stderr",
     "output_type": "stream",
     "text": [
      "'"
     ]
    },
    {
     "name": "stderr",
     "output_type": "stream",
     "text": [
      ","
     ]
    },
    {
     "name": "stderr",
     "output_type": "stream",
     "text": [
      " "
     ]
    },
    {
     "name": "stderr",
     "output_type": "stream",
     "text": [
      "count"
     ]
    },
    {
     "name": "stderr",
     "output_type": "stream",
     "text": [
      ":"
     ]
    },
    {
     "name": "stderr",
     "output_type": "stream",
     "text": [
      " "
     ]
    },
    {
     "name": "stderr",
     "output_type": "stream",
     "text": [
      "3"
     ]
    },
    {
     "name": "stderr",
     "output_type": "stream",
     "text": [
      "\n"
     ]
    },
    {
     "name": "stderr",
     "output_type": "stream",
     "text": [
      "ic"
     ]
    },
    {
     "name": "stderr",
     "output_type": "stream",
     "text": [
      "|"
     ]
    },
    {
     "name": "stderr",
     "output_type": "stream",
     "text": [
      " "
     ]
    },
    {
     "name": "stderr",
     "output_type": "stream",
     "text": [
      "token"
     ]
    },
    {
     "name": "stderr",
     "output_type": "stream",
     "text": [
      ":"
     ]
    },
    {
     "name": "stderr",
     "output_type": "stream",
     "text": [
      " "
     ]
    },
    {
     "name": "stderr",
     "output_type": "stream",
     "text": [
      "'"
     ]
    },
    {
     "name": "stderr",
     "output_type": "stream",
     "text": [
      "iteration"
     ]
    },
    {
     "name": "stderr",
     "output_type": "stream",
     "text": [
      "'"
     ]
    },
    {
     "name": "stderr",
     "output_type": "stream",
     "text": [
      ","
     ]
    },
    {
     "name": "stderr",
     "output_type": "stream",
     "text": [
      " "
     ]
    },
    {
     "name": "stderr",
     "output_type": "stream",
     "text": [
      "count"
     ]
    },
    {
     "name": "stderr",
     "output_type": "stream",
     "text": [
      ":"
     ]
    },
    {
     "name": "stderr",
     "output_type": "stream",
     "text": [
      " "
     ]
    },
    {
     "name": "stderr",
     "output_type": "stream",
     "text": [
      "3"
     ]
    },
    {
     "name": "stderr",
     "output_type": "stream",
     "text": [
      "\n"
     ]
    },
    {
     "name": "stderr",
     "output_type": "stream",
     "text": [
      "ic"
     ]
    },
    {
     "name": "stderr",
     "output_type": "stream",
     "text": [
      "|"
     ]
    },
    {
     "name": "stderr",
     "output_type": "stream",
     "text": [
      " "
     ]
    },
    {
     "name": "stderr",
     "output_type": "stream",
     "text": [
      "token"
     ]
    },
    {
     "name": "stderr",
     "output_type": "stream",
     "text": [
      ":"
     ]
    },
    {
     "name": "stderr",
     "output_type": "stream",
     "text": [
      " "
     ]
    },
    {
     "name": "stderr",
     "output_type": "stream",
     "text": [
      "'"
     ]
    },
    {
     "name": "stderr",
     "output_type": "stream",
     "text": [
      "other"
     ]
    },
    {
     "name": "stderr",
     "output_type": "stream",
     "text": [
      "'"
     ]
    },
    {
     "name": "stderr",
     "output_type": "stream",
     "text": [
      ","
     ]
    },
    {
     "name": "stderr",
     "output_type": "stream",
     "text": [
      " "
     ]
    },
    {
     "name": "stderr",
     "output_type": "stream",
     "text": [
      "count"
     ]
    },
    {
     "name": "stderr",
     "output_type": "stream",
     "text": [
      ":"
     ]
    },
    {
     "name": "stderr",
     "output_type": "stream",
     "text": [
      " "
     ]
    },
    {
     "name": "stderr",
     "output_type": "stream",
     "text": [
      "3"
     ]
    },
    {
     "name": "stderr",
     "output_type": "stream",
     "text": [
      "\n"
     ]
    },
    {
     "name": "stderr",
     "output_type": "stream",
     "text": [
      "ic"
     ]
    },
    {
     "name": "stderr",
     "output_type": "stream",
     "text": [
      "|"
     ]
    },
    {
     "name": "stderr",
     "output_type": "stream",
     "text": [
      " "
     ]
    },
    {
     "name": "stderr",
     "output_type": "stream",
     "text": [
      "token"
     ]
    },
    {
     "name": "stderr",
     "output_type": "stream",
     "text": [
      ":"
     ]
    },
    {
     "name": "stderr",
     "output_type": "stream",
     "text": [
      " "
     ]
    },
    {
     "name": "stderr",
     "output_type": "stream",
     "text": [
      "'"
     ]
    },
    {
     "name": "stderr",
     "output_type": "stream",
     "text": [
      "words"
     ]
    },
    {
     "name": "stderr",
     "output_type": "stream",
     "text": [
      "'"
     ]
    },
    {
     "name": "stderr",
     "output_type": "stream",
     "text": [
      ","
     ]
    },
    {
     "name": "stderr",
     "output_type": "stream",
     "text": [
      " "
     ]
    },
    {
     "name": "stderr",
     "output_type": "stream",
     "text": [
      "count"
     ]
    },
    {
     "name": "stderr",
     "output_type": "stream",
     "text": [
      ":"
     ]
    },
    {
     "name": "stderr",
     "output_type": "stream",
     "text": [
      " "
     ]
    },
    {
     "name": "stderr",
     "output_type": "stream",
     "text": [
      "3"
     ]
    },
    {
     "name": "stderr",
     "output_type": "stream",
     "text": [
      "\n"
     ]
    },
    {
     "name": "stderr",
     "output_type": "stream",
     "text": [
      "ic"
     ]
    },
    {
     "name": "stderr",
     "output_type": "stream",
     "text": [
      "|"
     ]
    },
    {
     "name": "stderr",
     "output_type": "stream",
     "text": [
      " "
     ]
    },
    {
     "name": "stderr",
     "output_type": "stream",
     "text": [
      "token"
     ]
    },
    {
     "name": "stderr",
     "output_type": "stream",
     "text": [
      ":"
     ]
    },
    {
     "name": "stderr",
     "output_type": "stream",
     "text": [
      " "
     ]
    },
    {
     "name": "stderr",
     "output_type": "stream",
     "text": [
      "'"
     ]
    },
    {
     "name": "stderr",
     "output_type": "stream",
     "text": [
      "fetched"
     ]
    },
    {
     "name": "stderr",
     "output_type": "stream",
     "text": [
      "'"
     ]
    },
    {
     "name": "stderr",
     "output_type": "stream",
     "text": [
      ","
     ]
    },
    {
     "name": "stderr",
     "output_type": "stream",
     "text": [
      " "
     ]
    },
    {
     "name": "stderr",
     "output_type": "stream",
     "text": [
      "count"
     ]
    },
    {
     "name": "stderr",
     "output_type": "stream",
     "text": [
      ":"
     ]
    },
    {
     "name": "stderr",
     "output_type": "stream",
     "text": [
      " "
     ]
    },
    {
     "name": "stderr",
     "output_type": "stream",
     "text": [
      "3"
     ]
    },
    {
     "name": "stderr",
     "output_type": "stream",
     "text": [
      "\n"
     ]
    },
    {
     "name": "stderr",
     "output_type": "stream",
     "text": [
      "ic"
     ]
    },
    {
     "name": "stderr",
     "output_type": "stream",
     "text": [
      "|"
     ]
    },
    {
     "name": "stderr",
     "output_type": "stream",
     "text": [
      " "
     ]
    },
    {
     "name": "stderr",
     "output_type": "stream",
     "text": [
      "token"
     ]
    },
    {
     "name": "stderr",
     "output_type": "stream",
     "text": [
      ":"
     ]
    },
    {
     "name": "stderr",
     "output_type": "stream",
     "text": [
      " "
     ]
    },
    {
     "name": "stderr",
     "output_type": "stream",
     "text": [
      "'"
     ]
    },
    {
     "name": "stderr",
     "output_type": "stream",
     "text": [
      "ordering"
     ]
    },
    {
     "name": "stderr",
     "output_type": "stream",
     "text": [
      "'"
     ]
    },
    {
     "name": "stderr",
     "output_type": "stream",
     "text": [
      ","
     ]
    },
    {
     "name": "stderr",
     "output_type": "stream",
     "text": [
      " "
     ]
    },
    {
     "name": "stderr",
     "output_type": "stream",
     "text": [
      "count"
     ]
    },
    {
     "name": "stderr",
     "output_type": "stream",
     "text": [
      ":"
     ]
    },
    {
     "name": "stderr",
     "output_type": "stream",
     "text": [
      " "
     ]
    },
    {
     "name": "stderr",
     "output_type": "stream",
     "text": [
      "3"
     ]
    },
    {
     "name": "stderr",
     "output_type": "stream",
     "text": [
      "\n"
     ]
    },
    {
     "name": "stderr",
     "output_type": "stream",
     "text": [
      "ic"
     ]
    },
    {
     "name": "stderr",
     "output_type": "stream",
     "text": [
      "|"
     ]
    },
    {
     "name": "stderr",
     "output_type": "stream",
     "text": [
      " "
     ]
    },
    {
     "name": "stderr",
     "output_type": "stream",
     "text": [
      "token"
     ]
    },
    {
     "name": "stderr",
     "output_type": "stream",
     "text": [
      ":"
     ]
    },
    {
     "name": "stderr",
     "output_type": "stream",
     "text": [
      " "
     ]
    },
    {
     "name": "stderr",
     "output_type": "stream",
     "text": [
      "'"
     ]
    },
    {
     "name": "stderr",
     "output_type": "stream",
     "text": [
      "trade-off"
     ]
    },
    {
     "name": "stderr",
     "output_type": "stream",
     "text": [
      "'"
     ]
    },
    {
     "name": "stderr",
     "output_type": "stream",
     "text": [
      ","
     ]
    },
    {
     "name": "stderr",
     "output_type": "stream",
     "text": [
      " "
     ]
    },
    {
     "name": "stderr",
     "output_type": "stream",
     "text": [
      "count"
     ]
    },
    {
     "name": "stderr",
     "output_type": "stream",
     "text": [
      ":"
     ]
    },
    {
     "name": "stderr",
     "output_type": "stream",
     "text": [
      " "
     ]
    },
    {
     "name": "stderr",
     "output_type": "stream",
     "text": [
      "3"
     ]
    },
    {
     "name": "stderr",
     "output_type": "stream",
     "text": [
      "\n"
     ]
    },
    {
     "name": "stderr",
     "output_type": "stream",
     "text": [
      "ic"
     ]
    },
    {
     "name": "stderr",
     "output_type": "stream",
     "text": [
      "|"
     ]
    },
    {
     "name": "stderr",
     "output_type": "stream",
     "text": [
      " "
     ]
    },
    {
     "name": "stderr",
     "output_type": "stream",
     "text": [
      "token"
     ]
    },
    {
     "name": "stderr",
     "output_type": "stream",
     "text": [
      ":"
     ]
    },
    {
     "name": "stderr",
     "output_type": "stream",
     "text": [
      " "
     ]
    },
    {
     "name": "stderr",
     "output_type": "stream",
     "text": [
      "'"
     ]
    },
    {
     "name": "stderr",
     "output_type": "stream",
     "text": [
      "pool"
     ]
    },
    {
     "name": "stderr",
     "output_type": "stream",
     "text": [
      "'"
     ]
    },
    {
     "name": "stderr",
     "output_type": "stream",
     "text": [
      ","
     ]
    },
    {
     "name": "stderr",
     "output_type": "stream",
     "text": [
      " "
     ]
    },
    {
     "name": "stderr",
     "output_type": "stream",
     "text": [
      "count"
     ]
    },
    {
     "name": "stderr",
     "output_type": "stream",
     "text": [
      ":"
     ]
    },
    {
     "name": "stderr",
     "output_type": "stream",
     "text": [
      " "
     ]
    },
    {
     "name": "stderr",
     "output_type": "stream",
     "text": [
      "3"
     ]
    },
    {
     "name": "stderr",
     "output_type": "stream",
     "text": [
      "\n"
     ]
    },
    {
     "name": "stderr",
     "output_type": "stream",
     "text": [
      "ic"
     ]
    },
    {
     "name": "stderr",
     "output_type": "stream",
     "text": [
      "|"
     ]
    },
    {
     "name": "stderr",
     "output_type": "stream",
     "text": [
      " "
     ]
    },
    {
     "name": "stderr",
     "output_type": "stream",
     "text": [
      "token"
     ]
    },
    {
     "name": "stderr",
     "output_type": "stream",
     "text": [
      ":"
     ]
    },
    {
     "name": "stderr",
     "output_type": "stream",
     "text": [
      " "
     ]
    },
    {
     "name": "stderr",
     "output_type": "stream",
     "text": [
      "'"
     ]
    },
    {
     "name": "stderr",
     "output_type": "stream",
     "text": [
      "provides"
     ]
    },
    {
     "name": "stderr",
     "output_type": "stream",
     "text": [
      "'"
     ]
    },
    {
     "name": "stderr",
     "output_type": "stream",
     "text": [
      ","
     ]
    },
    {
     "name": "stderr",
     "output_type": "stream",
     "text": [
      " "
     ]
    },
    {
     "name": "stderr",
     "output_type": "stream",
     "text": [
      "count"
     ]
    },
    {
     "name": "stderr",
     "output_type": "stream",
     "text": [
      ":"
     ]
    },
    {
     "name": "stderr",
     "output_type": "stream",
     "text": [
      " "
     ]
    },
    {
     "name": "stderr",
     "output_type": "stream",
     "text": [
      "2"
     ]
    },
    {
     "name": "stderr",
     "output_type": "stream",
     "text": [
      "\n"
     ]
    },
    {
     "name": "stderr",
     "output_type": "stream",
     "text": [
      "ic"
     ]
    },
    {
     "name": "stderr",
     "output_type": "stream",
     "text": [
      "|"
     ]
    },
    {
     "name": "stderr",
     "output_type": "stream",
     "text": [
      " "
     ]
    },
    {
     "name": "stderr",
     "output_type": "stream",
     "text": [
      "token"
     ]
    },
    {
     "name": "stderr",
     "output_type": "stream",
     "text": [
      ":"
     ]
    },
    {
     "name": "stderr",
     "output_type": "stream",
     "text": [
      " "
     ]
    },
    {
     "name": "stderr",
     "output_type": "stream",
     "text": [
      "'"
     ]
    },
    {
     "name": "stderr",
     "output_type": "stream",
     "text": [
      "parallelize"
     ]
    },
    {
     "name": "stderr",
     "output_type": "stream",
     "text": [
      "'"
     ]
    },
    {
     "name": "stderr",
     "output_type": "stream",
     "text": [
      ","
     ]
    },
    {
     "name": "stderr",
     "output_type": "stream",
     "text": [
      " "
     ]
    },
    {
     "name": "stderr",
     "output_type": "stream",
     "text": [
      "count"
     ]
    },
    {
     "name": "stderr",
     "output_type": "stream",
     "text": [
      ":"
     ]
    },
    {
     "name": "stderr",
     "output_type": "stream",
     "text": [
      " "
     ]
    },
    {
     "name": "stderr",
     "output_type": "stream",
     "text": [
      "2"
     ]
    },
    {
     "name": "stderr",
     "output_type": "stream",
     "text": [
      "\n"
     ]
    },
    {
     "name": "stderr",
     "output_type": "stream",
     "text": [
      "ic"
     ]
    },
    {
     "name": "stderr",
     "output_type": "stream",
     "text": [
      "|"
     ]
    },
    {
     "name": "stderr",
     "output_type": "stream",
     "text": [
      " "
     ]
    },
    {
     "name": "stderr",
     "output_type": "stream",
     "text": [
      "token"
     ]
    },
    {
     "name": "stderr",
     "output_type": "stream",
     "text": [
      ":"
     ]
    },
    {
     "name": "stderr",
     "output_type": "stream",
     "text": [
      " "
     ]
    },
    {
     "name": "stderr",
     "output_type": "stream",
     "text": [
      "'"
     ]
    },
    {
     "name": "stderr",
     "output_type": "stream",
     "text": [
      "parallelized"
     ]
    },
    {
     "name": "stderr",
     "output_type": "stream",
     "text": [
      "'"
     ]
    },
    {
     "name": "stderr",
     "output_type": "stream",
     "text": [
      ","
     ]
    },
    {
     "name": "stderr",
     "output_type": "stream",
     "text": [
      " "
     ]
    },
    {
     "name": "stderr",
     "output_type": "stream",
     "text": [
      "count"
     ]
    },
    {
     "name": "stderr",
     "output_type": "stream",
     "text": [
      ":"
     ]
    },
    {
     "name": "stderr",
     "output_type": "stream",
     "text": [
      " "
     ]
    },
    {
     "name": "stderr",
     "output_type": "stream",
     "text": [
      "2"
     ]
    },
    {
     "name": "stderr",
     "output_type": "stream",
     "text": [
      "\n"
     ]
    },
    {
     "name": "stderr",
     "output_type": "stream",
     "text": [
      "ic"
     ]
    },
    {
     "name": "stderr",
     "output_type": "stream",
     "text": [
      "|"
     ]
    },
    {
     "name": "stderr",
     "output_type": "stream",
     "text": [
      " "
     ]
    },
    {
     "name": "stderr",
     "output_type": "stream",
     "text": [
      "token"
     ]
    },
    {
     "name": "stderr",
     "output_type": "stream",
     "text": [
      ":"
     ]
    },
    {
     "name": "stderr",
     "output_type": "stream",
     "text": [
      " "
     ]
    },
    {
     "name": "stderr",
     "output_type": "stream",
     "text": [
      "'"
     ]
    },
    {
     "name": "stderr",
     "output_type": "stream",
     "text": [
      "processes"
     ]
    },
    {
     "name": "stderr",
     "output_type": "stream",
     "text": [
      "'"
     ]
    },
    {
     "name": "stderr",
     "output_type": "stream",
     "text": [
      ","
     ]
    },
    {
     "name": "stderr",
     "output_type": "stream",
     "text": [
      " "
     ]
    },
    {
     "name": "stderr",
     "output_type": "stream",
     "text": [
      "count"
     ]
    },
    {
     "name": "stderr",
     "output_type": "stream",
     "text": [
      ":"
     ]
    },
    {
     "name": "stderr",
     "output_type": "stream",
     "text": [
      " "
     ]
    },
    {
     "name": "stderr",
     "output_type": "stream",
     "text": [
      "2"
     ]
    },
    {
     "name": "stderr",
     "output_type": "stream",
     "text": [
      "\n"
     ]
    },
    {
     "name": "stderr",
     "output_type": "stream",
     "text": [
      "ic"
     ]
    },
    {
     "name": "stderr",
     "output_type": "stream",
     "text": [
      "|"
     ]
    },
    {
     "name": "stderr",
     "output_type": "stream",
     "text": [
      " "
     ]
    },
    {
     "name": "stderr",
     "output_type": "stream",
     "text": [
      "token"
     ]
    },
    {
     "name": "stderr",
     "output_type": "stream",
     "text": [
      ":"
     ]
    },
    {
     "name": "stderr",
     "output_type": "stream",
     "text": [
      " "
     ]
    },
    {
     "name": "stderr",
     "output_type": "stream",
     "text": [
      "'"
     ]
    },
    {
     "name": "stderr",
     "output_type": "stream",
     "text": [
      "easy"
     ]
    },
    {
     "name": "stderr",
     "output_type": "stream",
     "text": [
      "'"
     ]
    },
    {
     "name": "stderr",
     "output_type": "stream",
     "text": [
      ","
     ]
    },
    {
     "name": "stderr",
     "output_type": "stream",
     "text": [
      " "
     ]
    },
    {
     "name": "stderr",
     "output_type": "stream",
     "text": [
      "count"
     ]
    },
    {
     "name": "stderr",
     "output_type": "stream",
     "text": [
      ":"
     ]
    },
    {
     "name": "stderr",
     "output_type": "stream",
     "text": [
      " "
     ]
    },
    {
     "name": "stderr",
     "output_type": "stream",
     "text": [
      "2"
     ]
    },
    {
     "name": "stderr",
     "output_type": "stream",
     "text": [
      "\n"
     ]
    },
    {
     "name": "stderr",
     "output_type": "stream",
     "text": [
      "ic"
     ]
    },
    {
     "name": "stderr",
     "output_type": "stream",
     "text": [
      "|"
     ]
    },
    {
     "name": "stderr",
     "output_type": "stream",
     "text": [
      " "
     ]
    },
    {
     "name": "stderr",
     "output_type": "stream",
     "text": [
      "token"
     ]
    },
    {
     "name": "stderr",
     "output_type": "stream",
     "text": [
      ":"
     ]
    },
    {
     "name": "stderr",
     "output_type": "stream",
     "text": [
      " "
     ]
    },
    {
     "name": "stderr",
     "output_type": "stream",
     "text": [
      "'"
     ]
    },
    {
     "name": "stderr",
     "output_type": "stream",
     "text": [
      "scale"
     ]
    },
    {
     "name": "stderr",
     "output_type": "stream",
     "text": [
      "'"
     ]
    },
    {
     "name": "stderr",
     "output_type": "stream",
     "text": [
      ","
     ]
    },
    {
     "name": "stderr",
     "output_type": "stream",
     "text": [
      " "
     ]
    },
    {
     "name": "stderr",
     "output_type": "stream",
     "text": [
      "count"
     ]
    },
    {
     "name": "stderr",
     "output_type": "stream",
     "text": [
      ":"
     ]
    },
    {
     "name": "stderr",
     "output_type": "stream",
     "text": [
      " "
     ]
    },
    {
     "name": "stderr",
     "output_type": "stream",
     "text": [
      "2"
     ]
    },
    {
     "name": "stderr",
     "output_type": "stream",
     "text": [
      "\n"
     ]
    },
    {
     "name": "stderr",
     "output_type": "stream",
     "text": [
      "ic"
     ]
    },
    {
     "name": "stderr",
     "output_type": "stream",
     "text": [
      "|"
     ]
    },
    {
     "name": "stderr",
     "output_type": "stream",
     "text": [
      " "
     ]
    },
    {
     "name": "stderr",
     "output_type": "stream",
     "text": [
      "token"
     ]
    },
    {
     "name": "stderr",
     "output_type": "stream",
     "text": [
      ":"
     ]
    },
    {
     "name": "stderr",
     "output_type": "stream",
     "text": [
      " "
     ]
    },
    {
     "name": "stderr",
     "output_type": "stream",
     "text": [
      "'"
     ]
    },
    {
     "name": "stderr",
     "output_type": "stream",
     "text": [
      "existing"
     ]
    },
    {
     "name": "stderr",
     "output_type": "stream",
     "text": [
      "'"
     ]
    },
    {
     "name": "stderr",
     "output_type": "stream",
     "text": [
      ","
     ]
    },
    {
     "name": "stderr",
     "output_type": "stream",
     "text": [
      " "
     ]
    },
    {
     "name": "stderr",
     "output_type": "stream",
     "text": [
      "count"
     ]
    },
    {
     "name": "stderr",
     "output_type": "stream",
     "text": [
      ":"
     ]
    },
    {
     "name": "stderr",
     "output_type": "stream",
     "text": [
      " "
     ]
    },
    {
     "name": "stderr",
     "output_type": "stream",
     "text": [
      "2"
     ]
    },
    {
     "name": "stderr",
     "output_type": "stream",
     "text": [
      "\n"
     ]
    },
    {
     "name": "stderr",
     "output_type": "stream",
     "text": [
      "ic"
     ]
    },
    {
     "name": "stderr",
     "output_type": "stream",
     "text": [
      "|"
     ]
    },
    {
     "name": "stderr",
     "output_type": "stream",
     "text": [
      " "
     ]
    },
    {
     "name": "stderr",
     "output_type": "stream",
     "text": [
      "token"
     ]
    },
    {
     "name": "stderr",
     "output_type": "stream",
     "text": [
      ":"
     ]
    },
    {
     "name": "stderr",
     "output_type": "stream",
     "text": [
      " "
     ]
    },
    {
     "name": "stderr",
     "output_type": "stream",
     "text": [
      "'"
     ]
    },
    {
     "name": "stderr",
     "output_type": "stream",
     "text": [
      "applications"
     ]
    },
    {
     "name": "stderr",
     "output_type": "stream",
     "text": [
      "'"
     ]
    },
    {
     "name": "stderr",
     "output_type": "stream",
     "text": [
      ","
     ]
    },
    {
     "name": "stderr",
     "output_type": "stream",
     "text": [
      " "
     ]
    },
    {
     "name": "stderr",
     "output_type": "stream",
     "text": [
      "count"
     ]
    },
    {
     "name": "stderr",
     "output_type": "stream",
     "text": [
      ":"
     ]
    },
    {
     "name": "stderr",
     "output_type": "stream",
     "text": [
      " "
     ]
    },
    {
     "name": "stderr",
     "output_type": "stream",
     "text": [
      "2"
     ]
    },
    {
     "name": "stderr",
     "output_type": "stream",
     "text": [
      "\n"
     ]
    },
    {
     "name": "stderr",
     "output_type": "stream",
     "text": [
      "ic"
     ]
    },
    {
     "name": "stderr",
     "output_type": "stream",
     "text": [
      "|"
     ]
    },
    {
     "name": "stderr",
     "output_type": "stream",
     "text": [
      " "
     ]
    },
    {
     "name": "stderr",
     "output_type": "stream",
     "text": [
      "token"
     ]
    },
    {
     "name": "stderr",
     "output_type": "stream",
     "text": [
      ":"
     ]
    },
    {
     "name": "stderr",
     "output_type": "stream",
     "text": [
      " "
     ]
    },
    {
     "name": "stderr",
     "output_type": "stream",
     "text": [
      "'"
     ]
    },
    {
     "name": "stderr",
     "output_type": "stream",
     "text": [
      "running"
     ]
    },
    {
     "name": "stderr",
     "output_type": "stream",
     "text": [
      "'"
     ]
    },
    {
     "name": "stderr",
     "output_type": "stream",
     "text": [
      ","
     ]
    },
    {
     "name": "stderr",
     "output_type": "stream",
     "text": [
      " "
     ]
    },
    {
     "name": "stderr",
     "output_type": "stream",
     "text": [
      "count"
     ]
    },
    {
     "name": "stderr",
     "output_type": "stream",
     "text": [
      ":"
     ]
    },
    {
     "name": "stderr",
     "output_type": "stream",
     "text": [
      " "
     ]
    },
    {
     "name": "stderr",
     "output_type": "stream",
     "text": [
      "2"
     ]
    },
    {
     "name": "stderr",
     "output_type": "stream",
     "text": [
      "\n"
     ]
    },
    {
     "name": "stderr",
     "output_type": "stream",
     "text": [
      "ic"
     ]
    },
    {
     "name": "stderr",
     "output_type": "stream",
     "text": [
      "|"
     ]
    },
    {
     "name": "stderr",
     "output_type": "stream",
     "text": [
      " "
     ]
    },
    {
     "name": "stderr",
     "output_type": "stream",
     "text": [
      "token"
     ]
    },
    {
     "name": "stderr",
     "output_type": "stream",
     "text": [
      ":"
     ]
    },
    {
     "name": "stderr",
     "output_type": "stream",
     "text": [
      " "
     ]
    },
    {
     "name": "stderr",
     "output_type": "stream",
     "text": [
      "'"
     ]
    },
    {
     "name": "stderr",
     "output_type": "stream",
     "text": [
      "hyper-parameter"
     ]
    },
    {
     "name": "stderr",
     "output_type": "stream",
     "text": [
      "'"
     ]
    },
    {
     "name": "stderr",
     "output_type": "stream",
     "text": [
      ","
     ]
    },
    {
     "name": "stderr",
     "output_type": "stream",
     "text": [
      " "
     ]
    },
    {
     "name": "stderr",
     "output_type": "stream",
     "text": [
      "count"
     ]
    },
    {
     "name": "stderr",
     "output_type": "stream",
     "text": [
      ":"
     ]
    },
    {
     "name": "stderr",
     "output_type": "stream",
     "text": [
      " "
     ]
    },
    {
     "name": "stderr",
     "output_type": "stream",
     "text": [
      "2"
     ]
    },
    {
     "name": "stderr",
     "output_type": "stream",
     "text": [
      "\n"
     ]
    },
    {
     "name": "stderr",
     "output_type": "stream",
     "text": [
      "ic"
     ]
    },
    {
     "name": "stderr",
     "output_type": "stream",
     "text": [
      "|"
     ]
    },
    {
     "name": "stderr",
     "output_type": "stream",
     "text": [
      " "
     ]
    },
    {
     "name": "stderr",
     "output_type": "stream",
     "text": [
      "token"
     ]
    },
    {
     "name": "stderr",
     "output_type": "stream",
     "text": [
      ":"
     ]
    },
    {
     "name": "stderr",
     "output_type": "stream",
     "text": [
      " "
     ]
    },
    {
     "name": "stderr",
     "output_type": "stream",
     "text": [
      "'"
     ]
    },
    {
     "name": "stderr",
     "output_type": "stream",
     "text": [
      "search"
     ]
    },
    {
     "name": "stderr",
     "output_type": "stream",
     "text": [
      "'"
     ]
    },
    {
     "name": "stderr",
     "output_type": "stream",
     "text": [
      ","
     ]
    },
    {
     "name": "stderr",
     "output_type": "stream",
     "text": [
      " "
     ]
    },
    {
     "name": "stderr",
     "output_type": "stream",
     "text": [
      "count"
     ]
    },
    {
     "name": "stderr",
     "output_type": "stream",
     "text": [
      ":"
     ]
    },
    {
     "name": "stderr",
     "output_type": "stream",
     "text": [
      " "
     ]
    },
    {
     "name": "stderr",
     "output_type": "stream",
     "text": [
      "2"
     ]
    },
    {
     "name": "stderr",
     "output_type": "stream",
     "text": [
      "\n"
     ]
    },
    {
     "name": "stderr",
     "output_type": "stream",
     "text": [
      "ic"
     ]
    },
    {
     "name": "stderr",
     "output_type": "stream",
     "text": [
      "|"
     ]
    },
    {
     "name": "stderr",
     "output_type": "stream",
     "text": [
      " "
     ]
    },
    {
     "name": "stderr",
     "output_type": "stream",
     "text": [
      "token"
     ]
    },
    {
     "name": "stderr",
     "output_type": "stream",
     "text": [
      ":"
     ]
    },
    {
     "name": "stderr",
     "output_type": "stream",
     "text": [
      " "
     ]
    },
    {
     "name": "stderr",
     "output_type": "stream",
     "text": [
      "'"
     ]
    },
    {
     "name": "stderr",
     "output_type": "stream",
     "text": [
      "hyper-parameters"
     ]
    },
    {
     "name": "stderr",
     "output_type": "stream",
     "text": [
      "'"
     ]
    },
    {
     "name": "stderr",
     "output_type": "stream",
     "text": [
      ","
     ]
    },
    {
     "name": "stderr",
     "output_type": "stream",
     "text": [
      " "
     ]
    },
    {
     "name": "stderr",
     "output_type": "stream",
     "text": [
      "count"
     ]
    },
    {
     "name": "stderr",
     "output_type": "stream",
     "text": [
      ":"
     ]
    },
    {
     "name": "stderr",
     "output_type": "stream",
     "text": [
      " "
     ]
    },
    {
     "name": "stderr",
     "output_type": "stream",
     "text": [
      "2"
     ]
    },
    {
     "name": "stderr",
     "output_type": "stream",
     "text": [
      "\n"
     ]
    },
    {
     "name": "stderr",
     "output_type": "stream",
     "text": [
      "ic"
     ]
    },
    {
     "name": "stderr",
     "output_type": "stream",
     "text": [
      "|"
     ]
    },
    {
     "name": "stderr",
     "output_type": "stream",
     "text": [
      " "
     ]
    },
    {
     "name": "stderr",
     "output_type": "stream",
     "text": [
      "token"
     ]
    },
    {
     "name": "stderr",
     "output_type": "stream",
     "text": [
      ":"
     ]
    },
    {
     "name": "stderr",
     "output_type": "stream",
     "text": [
      " "
     ]
    },
    {
     "name": "stderr",
     "output_type": "stream",
     "text": [
      "'"
     ]
    },
    {
     "name": "stderr",
     "output_type": "stream",
     "text": [
      "cross-validation"
     ]
    },
    {
     "name": "stderr",
     "output_type": "stream",
     "text": [
      "'"
     ]
    },
    {
     "name": "stderr",
     "output_type": "stream",
     "text": [
      ","
     ]
    },
    {
     "name": "stderr",
     "output_type": "stream",
     "text": [
      " "
     ]
    },
    {
     "name": "stderr",
     "output_type": "stream",
     "text": [
      "count"
     ]
    },
    {
     "name": "stderr",
     "output_type": "stream",
     "text": [
      ":"
     ]
    },
    {
     "name": "stderr",
     "output_type": "stream",
     "text": [
      " "
     ]
    },
    {
     "name": "stderr",
     "output_type": "stream",
     "text": [
      "2"
     ]
    },
    {
     "name": "stderr",
     "output_type": "stream",
     "text": [
      "\n"
     ]
    },
    {
     "name": "stderr",
     "output_type": "stream",
     "text": [
      "ic"
     ]
    },
    {
     "name": "stderr",
     "output_type": "stream",
     "text": [
      "|"
     ]
    },
    {
     "name": "stderr",
     "output_type": "stream",
     "text": [
      " "
     ]
    },
    {
     "name": "stderr",
     "output_type": "stream",
     "text": [
      "token"
     ]
    },
    {
     "name": "stderr",
     "output_type": "stream",
     "text": [
      ":"
     ]
    },
    {
     "name": "stderr",
     "output_type": "stream",
     "text": [
      " "
     ]
    },
    {
     "name": "stderr",
     "output_type": "stream",
     "text": [
      "'"
     ]
    },
    {
     "name": "stderr",
     "output_type": "stream",
     "text": [
      "iterations"
     ]
    },
    {
     "name": "stderr",
     "output_type": "stream",
     "text": [
      "'"
     ]
    },
    {
     "name": "stderr",
     "output_type": "stream",
     "text": [
      ","
     ]
    },
    {
     "name": "stderr",
     "output_type": "stream",
     "text": [
      " "
     ]
    },
    {
     "name": "stderr",
     "output_type": "stream",
     "text": [
      "count"
     ]
    },
    {
     "name": "stderr",
     "output_type": "stream",
     "text": [
      ":"
     ]
    },
    {
     "name": "stderr",
     "output_type": "stream",
     "text": [
      " "
     ]
    },
    {
     "name": "stderr",
     "output_type": "stream",
     "text": [
      "2"
     ]
    },
    {
     "name": "stderr",
     "output_type": "stream",
     "text": [
      "\n"
     ]
    },
    {
     "name": "stderr",
     "output_type": "stream",
     "text": [
      "ic"
     ]
    },
    {
     "name": "stderr",
     "output_type": "stream",
     "text": [
      "|"
     ]
    },
    {
     "name": "stderr",
     "output_type": "stream",
     "text": [
      " "
     ]
    },
    {
     "name": "stderr",
     "output_type": "stream",
     "text": [
      "token"
     ]
    },
    {
     "name": "stderr",
     "output_type": "stream",
     "text": [
      ":"
     ]
    },
    {
     "name": "stderr",
     "output_type": "stream",
     "text": [
      " "
     ]
    },
    {
     "name": "stderr",
     "output_type": "stream",
     "text": [
      "'"
     ]
    },
    {
     "name": "stderr",
     "output_type": "stream",
     "text": [
      "result"
     ]
    },
    {
     "name": "stderr",
     "output_type": "stream",
     "text": [
      "'"
     ]
    },
    {
     "name": "stderr",
     "output_type": "stream",
     "text": [
      ","
     ]
    },
    {
     "name": "stderr",
     "output_type": "stream",
     "text": [
      " "
     ]
    },
    {
     "name": "stderr",
     "output_type": "stream",
     "text": [
      "count"
     ]
    },
    {
     "name": "stderr",
     "output_type": "stream",
     "text": [
      ":"
     ]
    },
    {
     "name": "stderr",
     "output_type": "stream",
     "text": [
      " "
     ]
    },
    {
     "name": "stderr",
     "output_type": "stream",
     "text": [
      "2"
     ]
    },
    {
     "name": "stderr",
     "output_type": "stream",
     "text": [
      "\n"
     ]
    },
    {
     "name": "stderr",
     "output_type": "stream",
     "text": [
      "ic"
     ]
    },
    {
     "name": "stderr",
     "output_type": "stream",
     "text": [
      "|"
     ]
    },
    {
     "name": "stderr",
     "output_type": "stream",
     "text": [
      " "
     ]
    },
    {
     "name": "stderr",
     "output_type": "stream",
     "text": [
      "token"
     ]
    },
    {
     "name": "stderr",
     "output_type": "stream",
     "text": [
      ":"
     ]
    },
    {
     "name": "stderr",
     "output_type": "stream",
     "text": [
      " "
     ]
    },
    {
     "name": "stderr",
     "output_type": "stream",
     "text": [
      "'"
     ]
    },
    {
     "name": "stderr",
     "output_type": "stream",
     "text": [
      "so"
     ]
    },
    {
     "name": "stderr",
     "output_type": "stream",
     "text": [
      "'"
     ]
    },
    {
     "name": "stderr",
     "output_type": "stream",
     "text": [
      ","
     ]
    },
    {
     "name": "stderr",
     "output_type": "stream",
     "text": [
      " "
     ]
    },
    {
     "name": "stderr",
     "output_type": "stream",
     "text": [
      "count"
     ]
    },
    {
     "name": "stderr",
     "output_type": "stream",
     "text": [
      ":"
     ]
    },
    {
     "name": "stderr",
     "output_type": "stream",
     "text": [
      " "
     ]
    },
    {
     "name": "stderr",
     "output_type": "stream",
     "text": [
      "2"
     ]
    },
    {
     "name": "stderr",
     "output_type": "stream",
     "text": [
      "\n"
     ]
    },
    {
     "name": "stderr",
     "output_type": "stream",
     "text": [
      "ic"
     ]
    },
    {
     "name": "stderr",
     "output_type": "stream",
     "text": [
      "|"
     ]
    },
    {
     "name": "stderr",
     "output_type": "stream",
     "text": [
      " "
     ]
    },
    {
     "name": "stderr",
     "output_type": "stream",
     "text": [
      "token"
     ]
    },
    {
     "name": "stderr",
     "output_type": "stream",
     "text": [
      ":"
     ]
    },
    {
     "name": "stderr",
     "output_type": "stream",
     "text": [
      " "
     ]
    },
    {
     "name": "stderr",
     "output_type": "stream",
     "text": [
      "'"
     ]
    },
    {
     "name": "stderr",
     "output_type": "stream",
     "text": [
      "access"
     ]
    },
    {
     "name": "stderr",
     "output_type": "stream",
     "text": [
      "'"
     ]
    },
    {
     "name": "stderr",
     "output_type": "stream",
     "text": [
      ","
     ]
    },
    {
     "name": "stderr",
     "output_type": "stream",
     "text": [
      " "
     ]
    },
    {
     "name": "stderr",
     "output_type": "stream",
     "text": [
      "count"
     ]
    },
    {
     "name": "stderr",
     "output_type": "stream",
     "text": [
      ":"
     ]
    },
    {
     "name": "stderr",
     "output_type": "stream",
     "text": [
      " "
     ]
    },
    {
     "name": "stderr",
     "output_type": "stream",
     "text": [
      "2"
     ]
    },
    {
     "name": "stderr",
     "output_type": "stream",
     "text": [
      "\n"
     ]
    },
    {
     "name": "stderr",
     "output_type": "stream",
     "text": [
      "ic"
     ]
    },
    {
     "name": "stderr",
     "output_type": "stream",
     "text": [
      "|"
     ]
    },
    {
     "name": "stderr",
     "output_type": "stream",
     "text": [
      " "
     ]
    },
    {
     "name": "stderr",
     "output_type": "stream",
     "text": [
      "token"
     ]
    },
    {
     "name": "stderr",
     "output_type": "stream",
     "text": [
      ":"
     ]
    },
    {
     "name": "stderr",
     "output_type": "stream",
     "text": [
      " "
     ]
    },
    {
     "name": "stderr",
     "output_type": "stream",
     "text": [
      "'"
     ]
    },
    {
     "name": "stderr",
     "output_type": "stream",
     "text": [
      "return"
     ]
    },
    {
     "name": "stderr",
     "output_type": "stream",
     "text": [
      "'"
     ]
    },
    {
     "name": "stderr",
     "output_type": "stream",
     "text": [
      ","
     ]
    },
    {
     "name": "stderr",
     "output_type": "stream",
     "text": [
      " "
     ]
    },
    {
     "name": "stderr",
     "output_type": "stream",
     "text": [
      "count"
     ]
    },
    {
     "name": "stderr",
     "output_type": "stream",
     "text": [
      ":"
     ]
    },
    {
     "name": "stderr",
     "output_type": "stream",
     "text": [
      " "
     ]
    },
    {
     "name": "stderr",
     "output_type": "stream",
     "text": [
      "2"
     ]
    },
    {
     "name": "stderr",
     "output_type": "stream",
     "text": [
      "\n"
     ]
    },
    {
     "name": "stderr",
     "output_type": "stream",
     "text": [
      "ic"
     ]
    },
    {
     "name": "stderr",
     "output_type": "stream",
     "text": [
      "|"
     ]
    },
    {
     "name": "stderr",
     "output_type": "stream",
     "text": [
      " "
     ]
    },
    {
     "name": "stderr",
     "output_type": "stream",
     "text": [
      "token"
     ]
    },
    {
     "name": "stderr",
     "output_type": "stream",
     "text": [
      ":"
     ]
    },
    {
     "name": "stderr",
     "output_type": "stream",
     "text": [
      " "
     ]
    },
    {
     "name": "stderr",
     "output_type": "stream",
     "text": [
      "'"
     ]
    },
    {
     "name": "stderr",
     "output_type": "stream",
     "text": [
      "involve"
     ]
    },
    {
     "name": "stderr",
     "output_type": "stream",
     "text": [
      "'"
     ]
    },
    {
     "name": "stderr",
     "output_type": "stream",
     "text": [
      ","
     ]
    },
    {
     "name": "stderr",
     "output_type": "stream",
     "text": [
      " "
     ]
    },
    {
     "name": "stderr",
     "output_type": "stream",
     "text": [
      "count"
     ]
    },
    {
     "name": "stderr",
     "output_type": "stream",
     "text": [
      ":"
     ]
    },
    {
     "name": "stderr",
     "output_type": "stream",
     "text": [
      " "
     ]
    },
    {
     "name": "stderr",
     "output_type": "stream",
     "text": [
      "2"
     ]
    },
    {
     "name": "stderr",
     "output_type": "stream",
     "text": [
      "\n"
     ]
    },
    {
     "name": "stderr",
     "output_type": "stream",
     "text": [
      "ic"
     ]
    },
    {
     "name": "stderr",
     "output_type": "stream",
     "text": [
      "|"
     ]
    },
    {
     "name": "stderr",
     "output_type": "stream",
     "text": [
      " "
     ]
    },
    {
     "name": "stderr",
     "output_type": "stream",
     "text": [
      "token"
     ]
    },
    {
     "name": "stderr",
     "output_type": "stream",
     "text": [
      ":"
     ]
    },
    {
     "name": "stderr",
     "output_type": "stream",
     "text": [
      " "
     ]
    },
    {
     "name": "stderr",
     "output_type": "stream",
     "text": [
      "'"
     ]
    },
    {
     "name": "stderr",
     "output_type": "stream",
     "text": [
      "implements"
     ]
    },
    {
     "name": "stderr",
     "output_type": "stream",
     "text": [
      "'"
     ]
    },
    {
     "name": "stderr",
     "output_type": "stream",
     "text": [
      ","
     ]
    },
    {
     "name": "stderr",
     "output_type": "stream",
     "text": [
      " "
     ]
    },
    {
     "name": "stderr",
     "output_type": "stream",
     "text": [
      "count"
     ]
    },
    {
     "name": "stderr",
     "output_type": "stream",
     "text": [
      ":"
     ]
    },
    {
     "name": "stderr",
     "output_type": "stream",
     "text": [
      " "
     ]
    },
    {
     "name": "stderr",
     "output_type": "stream",
     "text": [
      "2"
     ]
    },
    {
     "name": "stderr",
     "output_type": "stream",
     "text": [
      "\n"
     ]
    },
    {
     "name": "stderr",
     "output_type": "stream",
     "text": [
      "ic"
     ]
    },
    {
     "name": "stderr",
     "output_type": "stream",
     "text": [
      "|"
     ]
    },
    {
     "name": "stderr",
     "output_type": "stream",
     "text": [
      " "
     ]
    },
    {
     "name": "stderr",
     "output_type": "stream",
     "text": [
      "token"
     ]
    },
    {
     "name": "stderr",
     "output_type": "stream",
     "text": [
      ":"
     ]
    },
    {
     "name": "stderr",
     "output_type": "stream",
     "text": [
      " "
     ]
    },
    {
     "name": "stderr",
     "output_type": "stream",
     "text": [
      "'"
     ]
    },
    {
     "name": "stderr",
     "output_type": "stream",
     "text": [
      "task"
     ]
    },
    {
     "name": "stderr",
     "output_type": "stream",
     "text": [
      "'"
     ]
    },
    {
     "name": "stderr",
     "output_type": "stream",
     "text": [
      ","
     ]
    },
    {
     "name": "stderr",
     "output_type": "stream",
     "text": [
      " "
     ]
    },
    {
     "name": "stderr",
     "output_type": "stream",
     "text": [
      "count"
     ]
    },
    {
     "name": "stderr",
     "output_type": "stream",
     "text": [
      ":"
     ]
    },
    {
     "name": "stderr",
     "output_type": "stream",
     "text": [
      " "
     ]
    },
    {
     "name": "stderr",
     "output_type": "stream",
     "text": [
      "2"
     ]
    },
    {
     "name": "stderr",
     "output_type": "stream",
     "text": [
      "\n"
     ]
    },
    {
     "name": "stderr",
     "output_type": "stream",
     "text": [
      "ic"
     ]
    },
    {
     "name": "stderr",
     "output_type": "stream",
     "text": [
      "|"
     ]
    },
    {
     "name": "stderr",
     "output_type": "stream",
     "text": [
      " "
     ]
    },
    {
     "name": "stderr",
     "output_type": "stream",
     "text": [
      "token"
     ]
    },
    {
     "name": "stderr",
     "output_type": "stream",
     "text": [
      ":"
     ]
    },
    {
     "name": "stderr",
     "output_type": "stream",
     "text": [
      " "
     ]
    },
    {
     "name": "stderr",
     "output_type": "stream",
     "text": [
      "'"
     ]
    },
    {
     "name": "stderr",
     "output_type": "stream",
     "text": [
      "properties"
     ]
    },
    {
     "name": "stderr",
     "output_type": "stream",
     "text": [
      "'"
     ]
    },
    {
     "name": "stderr",
     "output_type": "stream",
     "text": [
      ","
     ]
    },
    {
     "name": "stderr",
     "output_type": "stream",
     "text": [
      " "
     ]
    },
    {
     "name": "stderr",
     "output_type": "stream",
     "text": [
      "count"
     ]
    },
    {
     "name": "stderr",
     "output_type": "stream",
     "text": [
      ":"
     ]
    },
    {
     "name": "stderr",
     "output_type": "stream",
     "text": [
      " "
     ]
    },
    {
     "name": "stderr",
     "output_type": "stream",
     "text": [
      "2"
     ]
    },
    {
     "name": "stderr",
     "output_type": "stream",
     "text": [
      "\n"
     ]
    },
    {
     "name": "stderr",
     "output_type": "stream",
     "text": [
      "ic"
     ]
    },
    {
     "name": "stderr",
     "output_type": "stream",
     "text": [
      "|"
     ]
    },
    {
     "name": "stderr",
     "output_type": "stream",
     "text": [
      " "
     ]
    },
    {
     "name": "stderr",
     "output_type": "stream",
     "text": [
      "token"
     ]
    },
    {
     "name": "stderr",
     "output_type": "stream",
     "text": [
      ":"
     ]
    },
    {
     "name": "stderr",
     "output_type": "stream",
     "text": [
      " "
     ]
    },
    {
     "name": "stderr",
     "output_type": "stream",
     "text": [
      "'"
     ]
    },
    {
     "name": "stderr",
     "output_type": "stream",
     "text": [
      "stateless"
     ]
    },
    {
     "name": "stderr",
     "output_type": "stream",
     "text": [
      "'"
     ]
    },
    {
     "name": "stderr",
     "output_type": "stream",
     "text": [
      ","
     ]
    },
    {
     "name": "stderr",
     "output_type": "stream",
     "text": [
      " "
     ]
    },
    {
     "name": "stderr",
     "output_type": "stream",
     "text": [
      "count"
     ]
    },
    {
     "name": "stderr",
     "output_type": "stream",
     "text": [
      ":"
     ]
    },
    {
     "name": "stderr",
     "output_type": "stream",
     "text": [
      " "
     ]
    },
    {
     "name": "stderr",
     "output_type": "stream",
     "text": [
      "2"
     ]
    },
    {
     "name": "stderr",
     "output_type": "stream",
     "text": [
      "\n"
     ]
    },
    {
     "name": "stderr",
     "output_type": "stream",
     "text": [
      "ic"
     ]
    },
    {
     "name": "stderr",
     "output_type": "stream",
     "text": [
      "|"
     ]
    },
    {
     "name": "stderr",
     "output_type": "stream",
     "text": [
      " "
     ]
    },
    {
     "name": "stderr",
     "output_type": "stream",
     "text": [
      "token"
     ]
    },
    {
     "name": "stderr",
     "output_type": "stream",
     "text": [
      ":"
     ]
    },
    {
     "name": "stderr",
     "output_type": "stream",
     "text": [
      " "
     ]
    },
    {
     "name": "stderr",
     "output_type": "stream",
     "text": [
      "'"
     ]
    },
    {
     "name": "stderr",
     "output_type": "stream",
     "text": [
      "following"
     ]
    },
    {
     "name": "stderr",
     "output_type": "stream",
     "text": [
      "'"
     ]
    },
    {
     "name": "stderr",
     "output_type": "stream",
     "text": [
      ","
     ]
    },
    {
     "name": "stderr",
     "output_type": "stream",
     "text": [
      " "
     ]
    },
    {
     "name": "stderr",
     "output_type": "stream",
     "text": [
      "count"
     ]
    },
    {
     "name": "stderr",
     "output_type": "stream",
     "text": [
      ":"
     ]
    },
    {
     "name": "stderr",
     "output_type": "stream",
     "text": [
      " "
     ]
    },
    {
     "name": "stderr",
     "output_type": "stream",
     "text": [
      "2"
     ]
    },
    {
     "name": "stderr",
     "output_type": "stream",
     "text": [
      "\n"
     ]
    },
    {
     "name": "stderr",
     "output_type": "stream",
     "text": [
      "ic"
     ]
    },
    {
     "name": "stderr",
     "output_type": "stream",
     "text": [
      "|"
     ]
    },
    {
     "name": "stderr",
     "output_type": "stream",
     "text": [
      " "
     ]
    },
    {
     "name": "stderr",
     "output_type": "stream",
     "text": [
      "token"
     ]
    },
    {
     "name": "stderr",
     "output_type": "stream",
     "text": [
      ":"
     ]
    },
    {
     "name": "stderr",
     "output_type": "stream",
     "text": [
      " "
     ]
    },
    {
     "name": "stderr",
     "output_type": "stream",
     "text": [
      "'"
     ]
    },
    {
     "name": "stderr",
     "output_type": "stream",
     "text": [
      "just"
     ]
    },
    {
     "name": "stderr",
     "output_type": "stream",
     "text": [
      "'"
     ]
    },
    {
     "name": "stderr",
     "output_type": "stream",
     "text": [
      ","
     ]
    },
    {
     "name": "stderr",
     "output_type": "stream",
     "text": [
      " "
     ]
    },
    {
     "name": "stderr",
     "output_type": "stream",
     "text": [
      "count"
     ]
    },
    {
     "name": "stderr",
     "output_type": "stream",
     "text": [
      ":"
     ]
    },
    {
     "name": "stderr",
     "output_type": "stream",
     "text": [
      " "
     ]
    },
    {
     "name": "stderr",
     "output_type": "stream",
     "text": [
      "2"
     ]
    },
    {
     "name": "stderr",
     "output_type": "stream",
     "text": [
      "\n"
     ]
    },
    {
     "name": "stderr",
     "output_type": "stream",
     "text": [
      "ic"
     ]
    },
    {
     "name": "stderr",
     "output_type": "stream",
     "text": [
      "|"
     ]
    },
    {
     "name": "stderr",
     "output_type": "stream",
     "text": [
      " "
     ]
    },
    {
     "name": "stderr",
     "output_type": "stream",
     "text": [
      "token"
     ]
    },
    {
     "name": "stderr",
     "output_type": "stream",
     "text": [
      ":"
     ]
    },
    {
     "name": "stderr",
     "output_type": "stream",
     "text": [
      " "
     ]
    },
    {
     "name": "stderr",
     "output_type": "stream",
     "text": [
      "'"
     ]
    },
    {
     "name": "stderr",
     "output_type": "stream",
     "text": [
      "were"
     ]
    },
    {
     "name": "stderr",
     "output_type": "stream",
     "text": [
      "'"
     ]
    },
    {
     "name": "stderr",
     "output_type": "stream",
     "text": [
      ","
     ]
    },
    {
     "name": "stderr",
     "output_type": "stream",
     "text": [
      " "
     ]
    },
    {
     "name": "stderr",
     "output_type": "stream",
     "text": [
      "count"
     ]
    },
    {
     "name": "stderr",
     "output_type": "stream",
     "text": [
      ":"
     ]
    },
    {
     "name": "stderr",
     "output_type": "stream",
     "text": [
      " "
     ]
    },
    {
     "name": "stderr",
     "output_type": "stream",
     "text": [
      "2"
     ]
    },
    {
     "name": "stderr",
     "output_type": "stream",
     "text": [
      "\n"
     ]
    },
    {
     "name": "stderr",
     "output_type": "stream",
     "text": [
      "ic"
     ]
    },
    {
     "name": "stderr",
     "output_type": "stream",
     "text": [
      "|"
     ]
    },
    {
     "name": "stderr",
     "output_type": "stream",
     "text": [
      " "
     ]
    },
    {
     "name": "stderr",
     "output_type": "stream",
     "text": [
      "token"
     ]
    },
    {
     "name": "stderr",
     "output_type": "stream",
     "text": [
      ":"
     ]
    },
    {
     "name": "stderr",
     "output_type": "stream",
     "text": [
      " "
     ]
    },
    {
     "name": "stderr",
     "output_type": "stream",
     "text": [
      "'"
     ]
    },
    {
     "name": "stderr",
     "output_type": "stream",
     "text": [
      "performed"
     ]
    },
    {
     "name": "stderr",
     "output_type": "stream",
     "text": [
      "'"
     ]
    },
    {
     "name": "stderr",
     "output_type": "stream",
     "text": [
      ","
     ]
    },
    {
     "name": "stderr",
     "output_type": "stream",
     "text": [
      " "
     ]
    },
    {
     "name": "stderr",
     "output_type": "stream",
     "text": [
      "count"
     ]
    },
    {
     "name": "stderr",
     "output_type": "stream",
     "text": [
      ":"
     ]
    },
    {
     "name": "stderr",
     "output_type": "stream",
     "text": [
      " "
     ]
    },
    {
     "name": "stderr",
     "output_type": "stream",
     "text": [
      "2"
     ]
    },
    {
     "name": "stderr",
     "output_type": "stream",
     "text": [
      "\n"
     ]
    },
    {
     "name": "stderr",
     "output_type": "stream",
     "text": [
      "ic"
     ]
    },
    {
     "name": "stderr",
     "output_type": "stream",
     "text": [
      "|"
     ]
    },
    {
     "name": "stderr",
     "output_type": "stream",
     "text": [
      " "
     ]
    },
    {
     "name": "stderr",
     "output_type": "stream",
     "text": [
      "token"
     ]
    },
    {
     "name": "stderr",
     "output_type": "stream",
     "text": [
      ":"
     ]
    },
    {
     "name": "stderr",
     "output_type": "stream",
     "text": [
      " "
     ]
    },
    {
     "name": "stderr",
     "output_type": "stream",
     "text": [
      "'"
     ]
    },
    {
     "name": "stderr",
     "output_type": "stream",
     "text": [
      "executed"
     ]
    },
    {
     "name": "stderr",
     "output_type": "stream",
     "text": [
      "'"
     ]
    },
    {
     "name": "stderr",
     "output_type": "stream",
     "text": [
      ","
     ]
    },
    {
     "name": "stderr",
     "output_type": "stream",
     "text": [
      " "
     ]
    },
    {
     "name": "stderr",
     "output_type": "stream",
     "text": [
      "count"
     ]
    },
    {
     "name": "stderr",
     "output_type": "stream",
     "text": [
      ":"
     ]
    },
    {
     "name": "stderr",
     "output_type": "stream",
     "text": [
      " "
     ]
    },
    {
     "name": "stderr",
     "output_type": "stream",
     "text": [
      "2"
     ]
    },
    {
     "name": "stderr",
     "output_type": "stream",
     "text": [
      "\n"
     ]
    },
    {
     "name": "stderr",
     "output_type": "stream",
     "text": [
      "ic"
     ]
    },
    {
     "name": "stderr",
     "output_type": "stream",
     "text": [
      "|"
     ]
    },
    {
     "name": "stderr",
     "output_type": "stream",
     "text": [
      " "
     ]
    },
    {
     "name": "stderr",
     "output_type": "stream",
     "text": [
      "token"
     ]
    },
    {
     "name": "stderr",
     "output_type": "stream",
     "text": [
      ":"
     ]
    },
    {
     "name": "stderr",
     "output_type": "stream",
     "text": [
      " "
     ]
    },
    {
     "name": "stderr",
     "output_type": "stream",
     "text": [
      "'"
     ]
    },
    {
     "name": "stderr",
     "output_type": "stream",
     "text": [
      "process"
     ]
    },
    {
     "name": "stderr",
     "output_type": "stream",
     "text": [
      "'"
     ]
    },
    {
     "name": "stderr",
     "output_type": "stream",
     "text": [
      ","
     ]
    },
    {
     "name": "stderr",
     "output_type": "stream",
     "text": [
      " "
     ]
    },
    {
     "name": "stderr",
     "output_type": "stream",
     "text": [
      "count"
     ]
    },
    {
     "name": "stderr",
     "output_type": "stream",
     "text": [
      ":"
     ]
    },
    {
     "name": "stderr",
     "output_type": "stream",
     "text": [
      " "
     ]
    },
    {
     "name": "stderr",
     "output_type": "stream",
     "text": [
      "2"
     ]
    },
    {
     "name": "stderr",
     "output_type": "stream",
     "text": [
      "\n"
     ]
    },
    {
     "name": "stderr",
     "output_type": "stream",
     "text": [
      "ic"
     ]
    },
    {
     "name": "stderr",
     "output_type": "stream",
     "text": [
      "|"
     ]
    },
    {
     "name": "stderr",
     "output_type": "stream",
     "text": [
      " "
     ]
    },
    {
     "name": "stderr",
     "output_type": "stream",
     "text": [
      "token"
     ]
    },
    {
     "name": "stderr",
     "output_type": "stream",
     "text": [
      ":"
     ]
    },
    {
     "name": "stderr",
     "output_type": "stream",
     "text": [
      " "
     ]
    },
    {
     "name": "stderr",
     "output_type": "stream",
     "text": [
      "'"
     ]
    },
    {
     "name": "stderr",
     "output_type": "stream",
     "text": [
      "gets"
     ]
    },
    {
     "name": "stderr",
     "output_type": "stream",
     "text": [
      "'"
     ]
    },
    {
     "name": "stderr",
     "output_type": "stream",
     "text": [
      ","
     ]
    },
    {
     "name": "stderr",
     "output_type": "stream",
     "text": [
      " "
     ]
    },
    {
     "name": "stderr",
     "output_type": "stream",
     "text": [
      "count"
     ]
    },
    {
     "name": "stderr",
     "output_type": "stream",
     "text": [
      ":"
     ]
    },
    {
     "name": "stderr",
     "output_type": "stream",
     "text": [
      " "
     ]
    },
    {
     "name": "stderr",
     "output_type": "stream",
     "text": [
      "2"
     ]
    },
    {
     "name": "stderr",
     "output_type": "stream",
     "text": [
      "\n"
     ]
    },
    {
     "name": "stderr",
     "output_type": "stream",
     "text": [
      "ic"
     ]
    },
    {
     "name": "stderr",
     "output_type": "stream",
     "text": [
      "|"
     ]
    },
    {
     "name": "stderr",
     "output_type": "stream",
     "text": [
      " "
     ]
    },
    {
     "name": "stderr",
     "output_type": "stream",
     "text": [
      "token"
     ]
    },
    {
     "name": "stderr",
     "output_type": "stream",
     "text": [
      ":"
     ]
    },
    {
     "name": "stderr",
     "output_type": "stream",
     "text": [
      " "
     ]
    },
    {
     "name": "stderr",
     "output_type": "stream",
     "text": [
      "'"
     ]
    },
    {
     "name": "stderr",
     "output_type": "stream",
     "text": [
      "patterns"
     ]
    },
    {
     "name": "stderr",
     "output_type": "stream",
     "text": [
      "'"
     ]
    },
    {
     "name": "stderr",
     "output_type": "stream",
     "text": [
      ","
     ]
    },
    {
     "name": "stderr",
     "output_type": "stream",
     "text": [
      " "
     ]
    },
    {
     "name": "stderr",
     "output_type": "stream",
     "text": [
      "count"
     ]
    },
    {
     "name": "stderr",
     "output_type": "stream",
     "text": [
      ":"
     ]
    },
    {
     "name": "stderr",
     "output_type": "stream",
     "text": [
      " "
     ]
    },
    {
     "name": "stderr",
     "output_type": "stream",
     "text": [
      "2"
     ]
    },
    {
     "name": "stderr",
     "output_type": "stream",
     "text": [
      "\n"
     ]
    },
    {
     "name": "stderr",
     "output_type": "stream",
     "text": [
      "ic"
     ]
    },
    {
     "name": "stderr",
     "output_type": "stream",
     "text": [
      "|"
     ]
    },
    {
     "name": "stderr",
     "output_type": "stream",
     "text": [
      " "
     ]
    },
    {
     "name": "stderr",
     "output_type": "stream",
     "text": [
      "token"
     ]
    },
    {
     "name": "stderr",
     "output_type": "stream",
     "text": [
      ":"
     ]
    },
    {
     "name": "stderr",
     "output_type": "stream",
     "text": [
      " "
     ]
    },
    {
     "name": "stderr",
     "output_type": "stream",
     "text": [
      "'"
     ]
    },
    {
     "name": "stderr",
     "output_type": "stream",
     "text": [
      "provide"
     ]
    },
    {
     "name": "stderr",
     "output_type": "stream",
     "text": [
      "'"
     ]
    },
    {
     "name": "stderr",
     "output_type": "stream",
     "text": [
      ","
     ]
    },
    {
     "name": "stderr",
     "output_type": "stream",
     "text": [
      " "
     ]
    },
    {
     "name": "stderr",
     "output_type": "stream",
     "text": [
      "count"
     ]
    },
    {
     "name": "stderr",
     "output_type": "stream",
     "text": [
      ":"
     ]
    },
    {
     "name": "stderr",
     "output_type": "stream",
     "text": [
      " "
     ]
    },
    {
     "name": "stderr",
     "output_type": "stream",
     "text": [
      "2"
     ]
    },
    {
     "name": "stderr",
     "output_type": "stream",
     "text": [
      "\n"
     ]
    },
    {
     "name": "stderr",
     "output_type": "stream",
     "text": [
      "ic"
     ]
    },
    {
     "name": "stderr",
     "output_type": "stream",
     "text": [
      "|"
     ]
    },
    {
     "name": "stderr",
     "output_type": "stream",
     "text": [
      " "
     ]
    },
    {
     "name": "stderr",
     "output_type": "stream",
     "text": [
      "token"
     ]
    },
    {
     "name": "stderr",
     "output_type": "stream",
     "text": [
      ":"
     ]
    },
    {
     "name": "stderr",
     "output_type": "stream",
     "text": [
      " "
     ]
    },
    {
     "name": "stderr",
     "output_type": "stream",
     "text": [
      "'"
     ]
    },
    {
     "name": "stderr",
     "output_type": "stream",
     "text": [
      "simple"
     ]
    },
    {
     "name": "stderr",
     "output_type": "stream",
     "text": [
      "'"
     ]
    },
    {
     "name": "stderr",
     "output_type": "stream",
     "text": [
      ","
     ]
    },
    {
     "name": "stderr",
     "output_type": "stream",
     "text": [
      " "
     ]
    },
    {
     "name": "stderr",
     "output_type": "stream",
     "text": [
      "count"
     ]
    },
    {
     "name": "stderr",
     "output_type": "stream",
     "text": [
      ":"
     ]
    },
    {
     "name": "stderr",
     "output_type": "stream",
     "text": [
      " "
     ]
    },
    {
     "name": "stderr",
     "output_type": "stream",
     "text": [
      "2"
     ]
    },
    {
     "name": "stderr",
     "output_type": "stream",
     "text": [
      "\n"
     ]
    },
    {
     "name": "stderr",
     "output_type": "stream",
     "text": [
      "ic"
     ]
    },
    {
     "name": "stderr",
     "output_type": "stream",
     "text": [
      "|"
     ]
    },
    {
     "name": "stderr",
     "output_type": "stream",
     "text": [
      " "
     ]
    },
    {
     "name": "stderr",
     "output_type": "stream",
     "text": [
      "token"
     ]
    },
    {
     "name": "stderr",
     "output_type": "stream",
     "text": [
      ":"
     ]
    },
    {
     "name": "stderr",
     "output_type": "stream",
     "text": [
      " "
     ]
    },
    {
     "name": "stderr",
     "output_type": "stream",
     "text": [
      "'"
     ]
    },
    {
     "name": "stderr",
     "output_type": "stream",
     "text": [
      "stream"
     ]
    },
    {
     "name": "stderr",
     "output_type": "stream",
     "text": [
      "'"
     ]
    },
    {
     "name": "stderr",
     "output_type": "stream",
     "text": [
      ","
     ]
    },
    {
     "name": "stderr",
     "output_type": "stream",
     "text": [
      " "
     ]
    },
    {
     "name": "stderr",
     "output_type": "stream",
     "text": [
      "count"
     ]
    },
    {
     "name": "stderr",
     "output_type": "stream",
     "text": [
      ":"
     ]
    },
    {
     "name": "stderr",
     "output_type": "stream",
     "text": [
      " "
     ]
    },
    {
     "name": "stderr",
     "output_type": "stream",
     "text": [
      "2"
     ]
    },
    {
     "name": "stderr",
     "output_type": "stream",
     "text": [
      "\n"
     ]
    },
    {
     "name": "stderr",
     "output_type": "stream",
     "text": [
      "ic"
     ]
    },
    {
     "name": "stderr",
     "output_type": "stream",
     "text": [
      "|"
     ]
    },
    {
     "name": "stderr",
     "output_type": "stream",
     "text": [
      " "
     ]
    },
    {
     "name": "stderr",
     "output_type": "stream",
     "text": [
      "token"
     ]
    },
    {
     "name": "stderr",
     "output_type": "stream",
     "text": [
      ":"
     ]
    },
    {
     "name": "stderr",
     "output_type": "stream",
     "text": [
      " "
     ]
    },
    {
     "name": "stderr",
     "output_type": "stream",
     "text": [
      "'"
     ]
    },
    {
     "name": "stderr",
     "output_type": "stream",
     "text": [
      "processing"
     ]
    },
    {
     "name": "stderr",
     "output_type": "stream",
     "text": [
      "'"
     ]
    },
    {
     "name": "stderr",
     "output_type": "stream",
     "text": [
      ","
     ]
    },
    {
     "name": "stderr",
     "output_type": "stream",
     "text": [
      " "
     ]
    },
    {
     "name": "stderr",
     "output_type": "stream",
     "text": [
      "count"
     ]
    },
    {
     "name": "stderr",
     "output_type": "stream",
     "text": [
      ":"
     ]
    },
    {
     "name": "stderr",
     "output_type": "stream",
     "text": [
      " "
     ]
    },
    {
     "name": "stderr",
     "output_type": "stream",
     "text": [
      "2"
     ]
    },
    {
     "name": "stderr",
     "output_type": "stream",
     "text": [
      "\n"
     ]
    },
    {
     "name": "stderr",
     "output_type": "stream",
     "text": [
      "ic"
     ]
    },
    {
     "name": "stderr",
     "output_type": "stream",
     "text": [
      "|"
     ]
    },
    {
     "name": "stderr",
     "output_type": "stream",
     "text": [
      " "
     ]
    },
    {
     "name": "stderr",
     "output_type": "stream",
     "text": [
      "token"
     ]
    },
    {
     "name": "stderr",
     "output_type": "stream",
     "text": [
      ":"
     ]
    },
    {
     "name": "stderr",
     "output_type": "stream",
     "text": [
      " "
     ]
    },
    {
     "name": "stderr",
     "output_type": "stream",
     "text": [
      "'"
     ]
    },
    {
     "name": "stderr",
     "output_type": "stream",
     "text": [
      "transformations"
     ]
    },
    {
     "name": "stderr",
     "output_type": "stream",
     "text": [
      "'"
     ]
    },
    {
     "name": "stderr",
     "output_type": "stream",
     "text": [
      ","
     ]
    },
    {
     "name": "stderr",
     "output_type": "stream",
     "text": [
      " "
     ]
    },
    {
     "name": "stderr",
     "output_type": "stream",
     "text": [
      "count"
     ]
    },
    {
     "name": "stderr",
     "output_type": "stream",
     "text": [
      ":"
     ]
    },
    {
     "name": "stderr",
     "output_type": "stream",
     "text": [
      " "
     ]
    },
    {
     "name": "stderr",
     "output_type": "stream",
     "text": [
      "2"
     ]
    },
    {
     "name": "stderr",
     "output_type": "stream",
     "text": [
      "\n"
     ]
    },
    {
     "name": "stderr",
     "output_type": "stream",
     "text": [
      "ic"
     ]
    },
    {
     "name": "stderr",
     "output_type": "stream",
     "text": [
      "|"
     ]
    },
    {
     "name": "stderr",
     "output_type": "stream",
     "text": [
      " "
     ]
    },
    {
     "name": "stderr",
     "output_type": "stream",
     "text": [
      "token"
     ]
    },
    {
     "name": "stderr",
     "output_type": "stream",
     "text": [
      ":"
     ]
    },
    {
     "name": "stderr",
     "output_type": "stream",
     "text": [
      " "
     ]
    },
    {
     "name": "stderr",
     "output_type": "stream",
     "text": [
      "'"
     ]
    },
    {
     "name": "stderr",
     "output_type": "stream",
     "text": [
      "creates"
     ]
    },
    {
     "name": "stderr",
     "output_type": "stream",
     "text": [
      "'"
     ]
    },
    {
     "name": "stderr",
     "output_type": "stream",
     "text": [
      ","
     ]
    },
    {
     "name": "stderr",
     "output_type": "stream",
     "text": [
      " "
     ]
    },
    {
     "name": "stderr",
     "output_type": "stream",
     "text": [
      "count"
     ]
    },
    {
     "name": "stderr",
     "output_type": "stream",
     "text": [
      ":"
     ]
    },
    {
     "name": "stderr",
     "output_type": "stream",
     "text": [
      " "
     ]
    },
    {
     "name": "stderr",
     "output_type": "stream",
     "text": [
      "2"
     ]
    },
    {
     "name": "stderr",
     "output_type": "stream",
     "text": [
      "\n"
     ]
    },
    {
     "name": "stderr",
     "output_type": "stream",
     "text": [
      "ic"
     ]
    },
    {
     "name": "stderr",
     "output_type": "stream",
     "text": [
      "|"
     ]
    },
    {
     "name": "stderr",
     "output_type": "stream",
     "text": [
      " "
     ]
    },
    {
     "name": "stderr",
     "output_type": "stream",
     "text": [
      "token"
     ]
    },
    {
     "name": "stderr",
     "output_type": "stream",
     "text": [
      ":"
     ]
    },
    {
     "name": "stderr",
     "output_type": "stream",
     "text": [
      " "
     ]
    },
    {
     "name": "stderr",
     "output_type": "stream",
     "text": [
      "'"
     ]
    },
    {
     "name": "stderr",
     "output_type": "stream",
     "text": [
      "application"
     ]
    },
    {
     "name": "stderr",
     "output_type": "stream",
     "text": [
      "'"
     ]
    },
    {
     "name": "stderr",
     "output_type": "stream",
     "text": [
      ","
     ]
    },
    {
     "name": "stderr",
     "output_type": "stream",
     "text": [
      " "
     ]
    },
    {
     "name": "stderr",
     "output_type": "stream",
     "text": [
      "count"
     ]
    },
    {
     "name": "stderr",
     "output_type": "stream",
     "text": [
      ":"
     ]
    },
    {
     "name": "stderr",
     "output_type": "stream",
     "text": [
      " "
     ]
    },
    {
     "name": "stderr",
     "output_type": "stream",
     "text": [
      "2"
     ]
    },
    {
     "name": "stderr",
     "output_type": "stream",
     "text": [
      "\n"
     ]
    },
    {
     "name": "stderr",
     "output_type": "stream",
     "text": [
      "ic"
     ]
    },
    {
     "name": "stderr",
     "output_type": "stream",
     "text": [
      "|"
     ]
    },
    {
     "name": "stderr",
     "output_type": "stream",
     "text": [
      " "
     ]
    },
    {
     "name": "stderr",
     "output_type": "stream",
     "text": [
      "token"
     ]
    },
    {
     "name": "stderr",
     "output_type": "stream",
     "text": [
      ":"
     ]
    },
    {
     "name": "stderr",
     "output_type": "stream",
     "text": [
      " "
     ]
    },
    {
     "name": "stderr",
     "output_type": "stream",
     "text": [
      "'"
     ]
    },
    {
     "name": "stderr",
     "output_type": "stream",
     "text": [
      "passed"
     ]
    },
    {
     "name": "stderr",
     "output_type": "stream",
     "text": [
      "'"
     ]
    },
    {
     "name": "stderr",
     "output_type": "stream",
     "text": [
      ","
     ]
    },
    {
     "name": "stderr",
     "output_type": "stream",
     "text": [
      " "
     ]
    },
    {
     "name": "stderr",
     "output_type": "stream",
     "text": [
      "count"
     ]
    },
    {
     "name": "stderr",
     "output_type": "stream",
     "text": [
      ":"
     ]
    },
    {
     "name": "stderr",
     "output_type": "stream",
     "text": [
      " "
     ]
    },
    {
     "name": "stderr",
     "output_type": "stream",
     "text": [
      "2"
     ]
    },
    {
     "name": "stderr",
     "output_type": "stream",
     "text": [
      "\n"
     ]
    },
    {
     "name": "stderr",
     "output_type": "stream",
     "text": [
      "ic"
     ]
    },
    {
     "name": "stderr",
     "output_type": "stream",
     "text": [
      "|"
     ]
    },
    {
     "name": "stderr",
     "output_type": "stream",
     "text": [
      " "
     ]
    },
    {
     "name": "stderr",
     "output_type": "stream",
     "text": [
      "token"
     ]
    },
    {
     "name": "stderr",
     "output_type": "stream",
     "text": [
      ":"
     ]
    },
    {
     "name": "stderr",
     "output_type": "stream",
     "text": [
      " "
     ]
    },
    {
     "name": "stderr",
     "output_type": "stream",
     "text": [
      "'"
     ]
    },
    {
     "name": "stderr",
     "output_type": "stream",
     "text": [
      "sequences"
     ]
    },
    {
     "name": "stderr",
     "output_type": "stream",
     "text": [
      "'"
     ]
    },
    {
     "name": "stderr",
     "output_type": "stream",
     "text": [
      ","
     ]
    },
    {
     "name": "stderr",
     "output_type": "stream",
     "text": [
      " "
     ]
    },
    {
     "name": "stderr",
     "output_type": "stream",
     "text": [
      "count"
     ]
    },
    {
     "name": "stderr",
     "output_type": "stream",
     "text": [
      ":"
     ]
    },
    {
     "name": "stderr",
     "output_type": "stream",
     "text": [
      " "
     ]
    },
    {
     "name": "stderr",
     "output_type": "stream",
     "text": [
      "2"
     ]
    },
    {
     "name": "stderr",
     "output_type": "stream",
     "text": [
      "\n"
     ]
    },
    {
     "name": "stderr",
     "output_type": "stream",
     "text": [
      "ic"
     ]
    },
    {
     "name": "stderr",
     "output_type": "stream",
     "text": [
      "|"
     ]
    },
    {
     "name": "stderr",
     "output_type": "stream",
     "text": [
      " "
     ]
    },
    {
     "name": "stderr",
     "output_type": "stream",
     "text": [
      "token"
     ]
    },
    {
     "name": "stderr",
     "output_type": "stream",
     "text": [
      ":"
     ]
    },
    {
     "name": "stderr",
     "output_type": "stream",
     "text": [
      " "
     ]
    },
    {
     "name": "stderr",
     "output_type": "stream",
     "text": [
      "'"
     ]
    },
    {
     "name": "stderr",
     "output_type": "stream",
     "text": [
      "methods"
     ]
    },
    {
     "name": "stderr",
     "output_type": "stream",
     "text": [
      "'"
     ]
    },
    {
     "name": "stderr",
     "output_type": "stream",
     "text": [
      ","
     ]
    },
    {
     "name": "stderr",
     "output_type": "stream",
     "text": [
      " "
     ]
    },
    {
     "name": "stderr",
     "output_type": "stream",
     "text": [
      "count"
     ]
    },
    {
     "name": "stderr",
     "output_type": "stream",
     "text": [
      ":"
     ]
    },
    {
     "name": "stderr",
     "output_type": "stream",
     "text": [
      " "
     ]
    },
    {
     "name": "stderr",
     "output_type": "stream",
     "text": [
      "2"
     ]
    },
    {
     "name": "stderr",
     "output_type": "stream",
     "text": [
      "\n"
     ]
    },
    {
     "name": "stderr",
     "output_type": "stream",
     "text": [
      "ic"
     ]
    },
    {
     "name": "stderr",
     "output_type": "stream",
     "text": [
      "|"
     ]
    },
    {
     "name": "stderr",
     "output_type": "stream",
     "text": [
      " "
     ]
    },
    {
     "name": "stderr",
     "output_type": "stream",
     "text": [
      "token"
     ]
    },
    {
     "name": "stderr",
     "output_type": "stream",
     "text": [
      ":"
     ]
    },
    {
     "name": "stderr",
     "output_type": "stream",
     "text": [
      " "
     ]
    },
    {
     "name": "stderr",
     "output_type": "stream",
     "text": [
      "'"
     ]
    },
    {
     "name": "stderr",
     "output_type": "stream",
     "text": [
      "read"
     ]
    },
    {
     "name": "stderr",
     "output_type": "stream",
     "text": [
      "'"
     ]
    },
    {
     "name": "stderr",
     "output_type": "stream",
     "text": [
      ","
     ]
    },
    {
     "name": "stderr",
     "output_type": "stream",
     "text": [
      " "
     ]
    },
    {
     "name": "stderr",
     "output_type": "stream",
     "text": [
      "count"
     ]
    },
    {
     "name": "stderr",
     "output_type": "stream",
     "text": [
      ":"
     ]
    },
    {
     "name": "stderr",
     "output_type": "stream",
     "text": [
      " "
     ]
    },
    {
     "name": "stderr",
     "output_type": "stream",
     "text": [
      "2"
     ]
    },
    {
     "name": "stderr",
     "output_type": "stream",
     "text": [
      "\n"
     ]
    },
    {
     "name": "stderr",
     "output_type": "stream",
     "text": [
      "ic"
     ]
    },
    {
     "name": "stderr",
     "output_type": "stream",
     "text": [
      "|"
     ]
    },
    {
     "name": "stderr",
     "output_type": "stream",
     "text": [
      " "
     ]
    },
    {
     "name": "stderr",
     "output_type": "stream",
     "text": [
      "token"
     ]
    },
    {
     "name": "stderr",
     "output_type": "stream",
     "text": [
      ":"
     ]
    },
    {
     "name": "stderr",
     "output_type": "stream",
     "text": [
      " "
     ]
    },
    {
     "name": "stderr",
     "output_type": "stream",
     "text": [
      "'"
     ]
    },
    {
     "name": "stderr",
     "output_type": "stream",
     "text": [
      "calling"
     ]
    },
    {
     "name": "stderr",
     "output_type": "stream",
     "text": [
      "'"
     ]
    },
    {
     "name": "stderr",
     "output_type": "stream",
     "text": [
      ","
     ]
    },
    {
     "name": "stderr",
     "output_type": "stream",
     "text": [
      " "
     ]
    },
    {
     "name": "stderr",
     "output_type": "stream",
     "text": [
      "count"
     ]
    },
    {
     "name": "stderr",
     "output_type": "stream",
     "text": [
      ":"
     ]
    },
    {
     "name": "stderr",
     "output_type": "stream",
     "text": [
      " "
     ]
    },
    {
     "name": "stderr",
     "output_type": "stream",
     "text": [
      "2"
     ]
    },
    {
     "name": "stderr",
     "output_type": "stream",
     "text": [
      "\n"
     ]
    },
    {
     "name": "stderr",
     "output_type": "stream",
     "text": [
      "ic"
     ]
    },
    {
     "name": "stderr",
     "output_type": "stream",
     "text": [
      "|"
     ]
    },
    {
     "name": "stderr",
     "output_type": "stream",
     "text": [
      " "
     ]
    },
    {
     "name": "stderr",
     "output_type": "stream",
     "text": [
      "token"
     ]
    },
    {
     "name": "stderr",
     "output_type": "stream",
     "text": [
      ":"
     ]
    },
    {
     "name": "stderr",
     "output_type": "stream",
     "text": [
      " "
     ]
    },
    {
     "name": "stderr",
     "output_type": "stream",
     "text": [
      "'"
     ]
    },
    {
     "name": "stderr",
     "output_type": "stream",
     "text": [
      "iterable"
     ]
    },
    {
     "name": "stderr",
     "output_type": "stream",
     "text": [
      "'"
     ]
    },
    {
     "name": "stderr",
     "output_type": "stream",
     "text": [
      ","
     ]
    },
    {
     "name": "stderr",
     "output_type": "stream",
     "text": [
      " "
     ]
    },
    {
     "name": "stderr",
     "output_type": "stream",
     "text": [
      "count"
     ]
    },
    {
     "name": "stderr",
     "output_type": "stream",
     "text": [
      ":"
     ]
    },
    {
     "name": "stderr",
     "output_type": "stream",
     "text": [
      " "
     ]
    },
    {
     "name": "stderr",
     "output_type": "stream",
     "text": [
      "2"
     ]
    },
    {
     "name": "stderr",
     "output_type": "stream",
     "text": [
      "\n"
     ]
    },
    {
     "name": "stderr",
     "output_type": "stream",
     "text": [
      "ic"
     ]
    },
    {
     "name": "stderr",
     "output_type": "stream",
     "text": [
      "|"
     ]
    },
    {
     "name": "stderr",
     "output_type": "stream",
     "text": [
      " "
     ]
    },
    {
     "name": "stderr",
     "output_type": "stream",
     "text": [
      "token"
     ]
    },
    {
     "name": "stderr",
     "output_type": "stream",
     "text": [
      ":"
     ]
    },
    {
     "name": "stderr",
     "output_type": "stream",
     "text": [
      " "
     ]
    },
    {
     "name": "stderr",
     "output_type": "stream",
     "text": [
      "'"
     ]
    },
    {
     "name": "stderr",
     "output_type": "stream",
     "text": [
      "steps"
     ]
    },
    {
     "name": "stderr",
     "output_type": "stream",
     "text": [
      "'"
     ]
    },
    {
     "name": "stderr",
     "output_type": "stream",
     "text": [
      ","
     ]
    },
    {
     "name": "stderr",
     "output_type": "stream",
     "text": [
      " "
     ]
    },
    {
     "name": "stderr",
     "output_type": "stream",
     "text": [
      "count"
     ]
    },
    {
     "name": "stderr",
     "output_type": "stream",
     "text": [
      ":"
     ]
    },
    {
     "name": "stderr",
     "output_type": "stream",
     "text": [
      " "
     ]
    },
    {
     "name": "stderr",
     "output_type": "stream",
     "text": [
      "2"
     ]
    },
    {
     "name": "stderr",
     "output_type": "stream",
     "text": [
      "\n"
     ]
    },
    {
     "name": "stderr",
     "output_type": "stream",
     "text": [
      "ic"
     ]
    },
    {
     "name": "stderr",
     "output_type": "stream",
     "text": [
      "|"
     ]
    },
    {
     "name": "stderr",
     "output_type": "stream",
     "text": [
      " "
     ]
    },
    {
     "name": "stderr",
     "output_type": "stream",
     "text": [
      "token"
     ]
    },
    {
     "name": "stderr",
     "output_type": "stream",
     "text": [
      ":"
     ]
    },
    {
     "name": "stderr",
     "output_type": "stream",
     "text": [
      " "
     ]
    },
    {
     "name": "stderr",
     "output_type": "stream",
     "text": [
      "'"
     ]
    },
    {
     "name": "stderr",
     "output_type": "stream",
     "text": [
      "some"
     ]
    },
    {
     "name": "stderr",
     "output_type": "stream",
     "text": [
      "'"
     ]
    },
    {
     "name": "stderr",
     "output_type": "stream",
     "text": [
      ","
     ]
    },
    {
     "name": "stderr",
     "output_type": "stream",
     "text": [
      " "
     ]
    },
    {
     "name": "stderr",
     "output_type": "stream",
     "text": [
      "count"
     ]
    },
    {
     "name": "stderr",
     "output_type": "stream",
     "text": [
      ":"
     ]
    },
    {
     "name": "stderr",
     "output_type": "stream",
     "text": [
      " "
     ]
    },
    {
     "name": "stderr",
     "output_type": "stream",
     "text": [
      "2"
     ]
    },
    {
     "name": "stderr",
     "output_type": "stream",
     "text": [
      "\n"
     ]
    },
    {
     "name": "stderr",
     "output_type": "stream",
     "text": [
      "ic"
     ]
    },
    {
     "name": "stderr",
     "output_type": "stream",
     "text": [
      "|"
     ]
    },
    {
     "name": "stderr",
     "output_type": "stream",
     "text": [
      " "
     ]
    },
    {
     "name": "stderr",
     "output_type": "stream",
     "text": [
      "token"
     ]
    },
    {
     "name": "stderr",
     "output_type": "stream",
     "text": [
      ":"
     ]
    },
    {
     "name": "stderr",
     "output_type": "stream",
     "text": [
      " "
     ]
    },
    {
     "name": "stderr",
     "output_type": "stream",
     "text": [
      "'"
     ]
    },
    {
     "name": "stderr",
     "output_type": "stream",
     "text": [
      "transformation"
     ]
    },
    {
     "name": "stderr",
     "output_type": "stream",
     "text": [
      "'"
     ]
    },
    {
     "name": "stderr",
     "output_type": "stream",
     "text": [
      ","
     ]
    },
    {
     "name": "stderr",
     "output_type": "stream",
     "text": [
      " "
     ]
    },
    {
     "name": "stderr",
     "output_type": "stream",
     "text": [
      "count"
     ]
    },
    {
     "name": "stderr",
     "output_type": "stream",
     "text": [
      ":"
     ]
    },
    {
     "name": "stderr",
     "output_type": "stream",
     "text": [
      " "
     ]
    },
    {
     "name": "stderr",
     "output_type": "stream",
     "text": [
      "2"
     ]
    },
    {
     "name": "stderr",
     "output_type": "stream",
     "text": [
      "\n"
     ]
    },
    {
     "name": "stderr",
     "output_type": "stream",
     "text": [
      "ic"
     ]
    },
    {
     "name": "stderr",
     "output_type": "stream",
     "text": [
      "|"
     ]
    },
    {
     "name": "stderr",
     "output_type": "stream",
     "text": [
      " "
     ]
    },
    {
     "name": "stderr",
     "output_type": "stream",
     "text": [
      "token"
     ]
    },
    {
     "name": "stderr",
     "output_type": "stream",
     "text": [
      ":"
     ]
    },
    {
     "name": "stderr",
     "output_type": "stream",
     "text": [
      " "
     ]
    },
    {
     "name": "stderr",
     "output_type": "stream",
     "text": [
      "'"
     ]
    },
    {
     "name": "stderr",
     "output_type": "stream",
     "text": [
      "semantic"
     ]
    },
    {
     "name": "stderr",
     "output_type": "stream",
     "text": [
      "'"
     ]
    },
    {
     "name": "stderr",
     "output_type": "stream",
     "text": [
      ","
     ]
    },
    {
     "name": "stderr",
     "output_type": "stream",
     "text": [
      " "
     ]
    },
    {
     "name": "stderr",
     "output_type": "stream",
     "text": [
      "count"
     ]
    },
    {
     "name": "stderr",
     "output_type": "stream",
     "text": [
      ":"
     ]
    },
    {
     "name": "stderr",
     "output_type": "stream",
     "text": [
      " "
     ]
    },
    {
     "name": "stderr",
     "output_type": "stream",
     "text": [
      "2"
     ]
    },
    {
     "name": "stderr",
     "output_type": "stream",
     "text": [
      "\n"
     ]
    },
    {
     "name": "stderr",
     "output_type": "stream",
     "text": [
      "ic"
     ]
    },
    {
     "name": "stderr",
     "output_type": "stream",
     "text": [
      "|"
     ]
    },
    {
     "name": "stderr",
     "output_type": "stream",
     "text": [
      " "
     ]
    },
    {
     "name": "stderr",
     "output_type": "stream",
     "text": [
      "token"
     ]
    },
    {
     "name": "stderr",
     "output_type": "stream",
     "text": [
      ":"
     ]
    },
    {
     "name": "stderr",
     "output_type": "stream",
     "text": [
      " "
     ]
    },
    {
     "name": "stderr",
     "output_type": "stream",
     "text": [
      "'"
     ]
    },
    {
     "name": "stderr",
     "output_type": "stream",
     "text": [
      "guarantees"
     ]
    },
    {
     "name": "stderr",
     "output_type": "stream",
     "text": [
      "'"
     ]
    },
    {
     "name": "stderr",
     "output_type": "stream",
     "text": [
      ","
     ]
    },
    {
     "name": "stderr",
     "output_type": "stream",
     "text": [
      " "
     ]
    },
    {
     "name": "stderr",
     "output_type": "stream",
     "text": [
      "count"
     ]
    },
    {
     "name": "stderr",
     "output_type": "stream",
     "text": [
      ":"
     ]
    },
    {
     "name": "stderr",
     "output_type": "stream",
     "text": [
      " "
     ]
    },
    {
     "name": "stderr",
     "output_type": "stream",
     "text": [
      "2"
     ]
    },
    {
     "name": "stderr",
     "output_type": "stream",
     "text": [
      "\n"
     ]
    },
    {
     "name": "stderr",
     "output_type": "stream",
     "text": [
      "ic"
     ]
    },
    {
     "name": "stderr",
     "output_type": "stream",
     "text": [
      "|"
     ]
    },
    {
     "name": "stderr",
     "output_type": "stream",
     "text": [
      " "
     ]
    },
    {
     "name": "stderr",
     "output_type": "stream",
     "text": [
      "token"
     ]
    },
    {
     "name": "stderr",
     "output_type": "stream",
     "text": [
      ":"
     ]
    },
    {
     "name": "stderr",
     "output_type": "stream",
     "text": [
      " "
     ]
    },
    {
     "name": "stderr",
     "output_type": "stream",
     "text": [
      "'"
     ]
    },
    {
     "name": "stderr",
     "output_type": "stream",
     "text": [
      "case"
     ]
    },
    {
     "name": "stderr",
     "output_type": "stream",
     "text": [
      "'"
     ]
    },
    {
     "name": "stderr",
     "output_type": "stream",
     "text": [
      ","
     ]
    },
    {
     "name": "stderr",
     "output_type": "stream",
     "text": [
      " "
     ]
    },
    {
     "name": "stderr",
     "output_type": "stream",
     "text": [
      "count"
     ]
    },
    {
     "name": "stderr",
     "output_type": "stream",
     "text": [
      ":"
     ]
    },
    {
     "name": "stderr",
     "output_type": "stream",
     "text": [
      " "
     ]
    },
    {
     "name": "stderr",
     "output_type": "stream",
     "text": [
      "2"
     ]
    },
    {
     "name": "stderr",
     "output_type": "stream",
     "text": [
      "\n"
     ]
    },
    {
     "name": "stderr",
     "output_type": "stream",
     "text": [
      "ic"
     ]
    },
    {
     "name": "stderr",
     "output_type": "stream",
     "text": [
      "|"
     ]
    },
    {
     "name": "stderr",
     "output_type": "stream",
     "text": [
      " "
     ]
    },
    {
     "name": "stderr",
     "output_type": "stream",
     "text": [
      "token"
     ]
    },
    {
     "name": "stderr",
     "output_type": "stream",
     "text": [
      ":"
     ]
    },
    {
     "name": "stderr",
     "output_type": "stream",
     "text": [
      " "
     ]
    },
    {
     "name": "stderr",
     "output_type": "stream",
     "text": [
      "'"
     ]
    },
    {
     "name": "stderr",
     "output_type": "stream",
     "text": [
      "apply"
     ]
    },
    {
     "name": "stderr",
     "output_type": "stream",
     "text": [
      "'"
     ]
    },
    {
     "name": "stderr",
     "output_type": "stream",
     "text": [
      ","
     ]
    },
    {
     "name": "stderr",
     "output_type": "stream",
     "text": [
      " "
     ]
    },
    {
     "name": "stderr",
     "output_type": "stream",
     "text": [
      "count"
     ]
    },
    {
     "name": "stderr",
     "output_type": "stream",
     "text": [
      ":"
     ]
    },
    {
     "name": "stderr",
     "output_type": "stream",
     "text": [
      " "
     ]
    },
    {
     "name": "stderr",
     "output_type": "stream",
     "text": [
      "2"
     ]
    },
    {
     "name": "stderr",
     "output_type": "stream",
     "text": [
      "\n"
     ]
    },
    {
     "name": "stderr",
     "output_type": "stream",
     "text": [
      "ic"
     ]
    },
    {
     "name": "stderr",
     "output_type": "stream",
     "text": [
      "|"
     ]
    },
    {
     "name": "stderr",
     "output_type": "stream",
     "text": [
      " "
     ]
    },
    {
     "name": "stderr",
     "output_type": "stream",
     "text": [
      "token"
     ]
    },
    {
     "name": "stderr",
     "output_type": "stream",
     "text": [
      ":"
     ]
    },
    {
     "name": "stderr",
     "output_type": "stream",
     "text": [
      " "
     ]
    },
    {
     "name": "stderr",
     "output_type": "stream",
     "text": [
      "'"
     ]
    },
    {
     "name": "stderr",
     "output_type": "stream",
     "text": [
      "asynchronous"
     ]
    },
    {
     "name": "stderr",
     "output_type": "stream",
     "text": [
      "'"
     ]
    },
    {
     "name": "stderr",
     "output_type": "stream",
     "text": [
      ","
     ]
    },
    {
     "name": "stderr",
     "output_type": "stream",
     "text": [
      " "
     ]
    },
    {
     "name": "stderr",
     "output_type": "stream",
     "text": [
      "count"
     ]
    },
    {
     "name": "stderr",
     "output_type": "stream",
     "text": [
      ":"
     ]
    },
    {
     "name": "stderr",
     "output_type": "stream",
     "text": [
      " "
     ]
    },
    {
     "name": "stderr",
     "output_type": "stream",
     "text": [
      "2"
     ]
    },
    {
     "name": "stderr",
     "output_type": "stream",
     "text": [
      "\n"
     ]
    },
    {
     "name": "stderr",
     "output_type": "stream",
     "text": [
      "ic"
     ]
    },
    {
     "name": "stderr",
     "output_type": "stream",
     "text": [
      "|"
     ]
    },
    {
     "name": "stderr",
     "output_type": "stream",
     "text": [
      " "
     ]
    },
    {
     "name": "stderr",
     "output_type": "stream",
     "text": [
      "token"
     ]
    },
    {
     "name": "stderr",
     "output_type": "stream",
     "text": [
      ":"
     ]
    },
    {
     "name": "stderr",
     "output_type": "stream",
     "text": [
      " "
     ]
    },
    {
     "name": "stderr",
     "output_type": "stream",
     "text": [
      "'"
     ]
    },
    {
     "name": "stderr",
     "output_type": "stream",
     "text": [
      "input"
     ]
    },
    {
     "name": "stderr",
     "output_type": "stream",
     "text": [
      "'"
     ]
    },
    {
     "name": "stderr",
     "output_type": "stream",
     "text": [
      ","
     ]
    },
    {
     "name": "stderr",
     "output_type": "stream",
     "text": [
      " "
     ]
    },
    {
     "name": "stderr",
     "output_type": "stream",
     "text": [
      "count"
     ]
    },
    {
     "name": "stderr",
     "output_type": "stream",
     "text": [
      ":"
     ]
    },
    {
     "name": "stderr",
     "output_type": "stream",
     "text": [
      " "
     ]
    },
    {
     "name": "stderr",
     "output_type": "stream",
     "text": [
      "2"
     ]
    },
    {
     "name": "stderr",
     "output_type": "stream",
     "text": [
      "\n"
     ]
    },
    {
     "name": "stderr",
     "output_type": "stream",
     "text": [
      "ic"
     ]
    },
    {
     "name": "stderr",
     "output_type": "stream",
     "text": [
      "|"
     ]
    },
    {
     "name": "stderr",
     "output_type": "stream",
     "text": [
      " "
     ]
    },
    {
     "name": "stderr",
     "output_type": "stream",
     "text": [
      "token"
     ]
    },
    {
     "name": "stderr",
     "output_type": "stream",
     "text": [
      ":"
     ]
    },
    {
     "name": "stderr",
     "output_type": "stream",
     "text": [
      " "
     ]
    },
    {
     "name": "stderr",
     "output_type": "stream",
     "text": [
      "'"
     ]
    },
    {
     "name": "stderr",
     "output_type": "stream",
     "text": [
      "markdown"
     ]
    },
    {
     "name": "stderr",
     "output_type": "stream",
     "text": [
      "'"
     ]
    },
    {
     "name": "stderr",
     "output_type": "stream",
     "text": [
      ","
     ]
    },
    {
     "name": "stderr",
     "output_type": "stream",
     "text": [
      " "
     ]
    },
    {
     "name": "stderr",
     "output_type": "stream",
     "text": [
      "count"
     ]
    },
    {
     "name": "stderr",
     "output_type": "stream",
     "text": [
      ":"
     ]
    },
    {
     "name": "stderr",
     "output_type": "stream",
     "text": [
      " "
     ]
    },
    {
     "name": "stderr",
     "output_type": "stream",
     "text": [
      "2"
     ]
    },
    {
     "name": "stderr",
     "output_type": "stream",
     "text": [
      "\n"
     ]
    },
    {
     "name": "stderr",
     "output_type": "stream",
     "text": [
      "ic"
     ]
    },
    {
     "name": "stderr",
     "output_type": "stream",
     "text": [
      "|"
     ]
    },
    {
     "name": "stderr",
     "output_type": "stream",
     "text": [
      " "
     ]
    },
    {
     "name": "stderr",
     "output_type": "stream",
     "text": [
      "token"
     ]
    },
    {
     "name": "stderr",
     "output_type": "stream",
     "text": [
      ":"
     ]
    },
    {
     "name": "stderr",
     "output_type": "stream",
     "text": [
      " "
     ]
    },
    {
     "name": "stderr",
     "output_type": "stream",
     "text": [
      "'"
     ]
    },
    {
     "name": "stderr",
     "output_type": "stream",
     "text": [
      "cells"
     ]
    },
    {
     "name": "stderr",
     "output_type": "stream",
     "text": [
      "'"
     ]
    },
    {
     "name": "stderr",
     "output_type": "stream",
     "text": [
      ","
     ]
    },
    {
     "name": "stderr",
     "output_type": "stream",
     "text": [
      " "
     ]
    },
    {
     "name": "stderr",
     "output_type": "stream",
     "text": [
      "count"
     ]
    },
    {
     "name": "stderr",
     "output_type": "stream",
     "text": [
      ":"
     ]
    },
    {
     "name": "stderr",
     "output_type": "stream",
     "text": [
      " "
     ]
    },
    {
     "name": "stderr",
     "output_type": "stream",
     "text": [
      "2"
     ]
    },
    {
     "name": "stderr",
     "output_type": "stream",
     "text": [
      "\n"
     ]
    },
    {
     "name": "stderr",
     "output_type": "stream",
     "text": [
      "ic"
     ]
    },
    {
     "name": "stderr",
     "output_type": "stream",
     "text": [
      "|"
     ]
    },
    {
     "name": "stderr",
     "output_type": "stream",
     "text": [
      " "
     ]
    },
    {
     "name": "stderr",
     "output_type": "stream",
     "text": [
      "token"
     ]
    },
    {
     "name": "stderr",
     "output_type": "stream",
     "text": [
      ":"
     ]
    },
    {
     "name": "stderr",
     "output_type": "stream",
     "text": [
      " "
     ]
    },
    {
     "name": "stderr",
     "output_type": "stream",
     "text": [
      "'"
     ]
    },
    {
     "name": "stderr",
     "output_type": "stream",
     "text": [
      "show"
     ]
    },
    {
     "name": "stderr",
     "output_type": "stream",
     "text": [
      "'"
     ]
    },
    {
     "name": "stderr",
     "output_type": "stream",
     "text": [
      ","
     ]
    },
    {
     "name": "stderr",
     "output_type": "stream",
     "text": [
      " "
     ]
    },
    {
     "name": "stderr",
     "output_type": "stream",
     "text": [
      "count"
     ]
    },
    {
     "name": "stderr",
     "output_type": "stream",
     "text": [
      ":"
     ]
    },
    {
     "name": "stderr",
     "output_type": "stream",
     "text": [
      " "
     ]
    },
    {
     "name": "stderr",
     "output_type": "stream",
     "text": [
      "2"
     ]
    },
    {
     "name": "stderr",
     "output_type": "stream",
     "text": [
      "\n"
     ]
    },
    {
     "name": "stderr",
     "output_type": "stream",
     "text": [
      "ic"
     ]
    },
    {
     "name": "stderr",
     "output_type": "stream",
     "text": [
      "|"
     ]
    },
    {
     "name": "stderr",
     "output_type": "stream",
     "text": [
      " "
     ]
    },
    {
     "name": "stderr",
     "output_type": "stream",
     "text": [
      "token"
     ]
    },
    {
     "name": "stderr",
     "output_type": "stream",
     "text": [
      ":"
     ]
    },
    {
     "name": "stderr",
     "output_type": "stream",
     "text": [
      " "
     ]
    },
    {
     "name": "stderr",
     "output_type": "stream",
     "text": [
      "'"
     ]
    },
    {
     "name": "stderr",
     "output_type": "stream",
     "text": [
      "passing"
     ]
    },
    {
     "name": "stderr",
     "output_type": "stream",
     "text": [
      "'"
     ]
    },
    {
     "name": "stderr",
     "output_type": "stream",
     "text": [
      ","
     ]
    },
    {
     "name": "stderr",
     "output_type": "stream",
     "text": [
      " "
     ]
    },
    {
     "name": "stderr",
     "output_type": "stream",
     "text": [
      "count"
     ]
    },
    {
     "name": "stderr",
     "output_type": "stream",
     "text": [
      ":"
     ]
    },
    {
     "name": "stderr",
     "output_type": "stream",
     "text": [
      " "
     ]
    },
    {
     "name": "stderr",
     "output_type": "stream",
     "text": [
      "2"
     ]
    },
    {
     "name": "stderr",
     "output_type": "stream",
     "text": [
      "\n"
     ]
    },
    {
     "name": "stderr",
     "output_type": "stream",
     "text": [
      "ic"
     ]
    },
    {
     "name": "stderr",
     "output_type": "stream",
     "text": [
      "|"
     ]
    },
    {
     "name": "stderr",
     "output_type": "stream",
     "text": [
      " "
     ]
    },
    {
     "name": "stderr",
     "output_type": "stream",
     "text": [
      "token"
     ]
    },
    {
     "name": "stderr",
     "output_type": "stream",
     "text": [
      ":"
     ]
    },
    {
     "name": "stderr",
     "output_type": "stream",
     "text": [
      " "
     ]
    },
    {
     "name": "stderr",
     "output_type": "stream",
     "text": [
      "'"
     ]
    },
    {
     "name": "stderr",
     "output_type": "stream",
     "text": [
      "word"
     ]
    },
    {
     "name": "stderr",
     "output_type": "stream",
     "text": [
      "'"
     ]
    },
    {
     "name": "stderr",
     "output_type": "stream",
     "text": [
      ","
     ]
    },
    {
     "name": "stderr",
     "output_type": "stream",
     "text": [
      " "
     ]
    },
    {
     "name": "stderr",
     "output_type": "stream",
     "text": [
      "count"
     ]
    },
    {
     "name": "stderr",
     "output_type": "stream",
     "text": [
      ":"
     ]
    },
    {
     "name": "stderr",
     "output_type": "stream",
     "text": [
      " "
     ]
    },
    {
     "name": "stderr",
     "output_type": "stream",
     "text": [
      "2"
     ]
    },
    {
     "name": "stderr",
     "output_type": "stream",
     "text": [
      "\n"
     ]
    },
    {
     "name": "stderr",
     "output_type": "stream",
     "text": [
      "ic"
     ]
    },
    {
     "name": "stderr",
     "output_type": "stream",
     "text": [
      "|"
     ]
    },
    {
     "name": "stderr",
     "output_type": "stream",
     "text": [
      " "
     ]
    },
    {
     "name": "stderr",
     "output_type": "stream",
     "text": [
      "token"
     ]
    },
    {
     "name": "stderr",
     "output_type": "stream",
     "text": [
      ":"
     ]
    },
    {
     "name": "stderr",
     "output_type": "stream",
     "text": [
      " "
     ]
    },
    {
     "name": "stderr",
     "output_type": "stream",
     "text": [
      "'"
     ]
    },
    {
     "name": "stderr",
     "output_type": "stream",
     "text": [
      "compute"
     ]
    },
    {
     "name": "stderr",
     "output_type": "stream",
     "text": [
      "'"
     ]
    },
    {
     "name": "stderr",
     "output_type": "stream",
     "text": [
      ","
     ]
    },
    {
     "name": "stderr",
     "output_type": "stream",
     "text": [
      " "
     ]
    },
    {
     "name": "stderr",
     "output_type": "stream",
     "text": [
      "count"
     ]
    },
    {
     "name": "stderr",
     "output_type": "stream",
     "text": [
      ":"
     ]
    },
    {
     "name": "stderr",
     "output_type": "stream",
     "text": [
      " "
     ]
    },
    {
     "name": "stderr",
     "output_type": "stream",
     "text": [
      "2"
     ]
    },
    {
     "name": "stderr",
     "output_type": "stream",
     "text": [
      "\n"
     ]
    },
    {
     "name": "stderr",
     "output_type": "stream",
     "text": [
      "ic"
     ]
    },
    {
     "name": "stderr",
     "output_type": "stream",
     "text": [
      "|"
     ]
    },
    {
     "name": "stderr",
     "output_type": "stream",
     "text": [
      " "
     ]
    },
    {
     "name": "stderr",
     "output_type": "stream",
     "text": [
      "token"
     ]
    },
    {
     "name": "stderr",
     "output_type": "stream",
     "text": [
      ":"
     ]
    },
    {
     "name": "stderr",
     "output_type": "stream",
     "text": [
      " "
     ]
    },
    {
     "name": "stderr",
     "output_type": "stream",
     "text": [
      "'"
     ]
    },
    {
     "name": "stderr",
     "output_type": "stream",
     "text": [
      "memory"
     ]
    },
    {
     "name": "stderr",
     "output_type": "stream",
     "text": [
      "'"
     ]
    },
    {
     "name": "stderr",
     "output_type": "stream",
     "text": [
      ","
     ]
    },
    {
     "name": "stderr",
     "output_type": "stream",
     "text": [
      " "
     ]
    },
    {
     "name": "stderr",
     "output_type": "stream",
     "text": [
      "count"
     ]
    },
    {
     "name": "stderr",
     "output_type": "stream",
     "text": [
      ":"
     ]
    },
    {
     "name": "stderr",
     "output_type": "stream",
     "text": [
      " "
     ]
    },
    {
     "name": "stderr",
     "output_type": "stream",
     "text": [
      "2"
     ]
    },
    {
     "name": "stderr",
     "output_type": "stream",
     "text": [
      "\n"
     ]
    },
    {
     "name": "stderr",
     "output_type": "stream",
     "text": [
      "ic"
     ]
    },
    {
     "name": "stderr",
     "output_type": "stream",
     "text": [
      "|"
     ]
    },
    {
     "name": "stderr",
     "output_type": "stream",
     "text": [
      " "
     ]
    },
    {
     "name": "stderr",
     "output_type": "stream",
     "text": [
      "token"
     ]
    },
    {
     "name": "stderr",
     "output_type": "stream",
     "text": [
      ":"
     ]
    },
    {
     "name": "stderr",
     "output_type": "stream",
     "text": [
      " "
     ]
    },
    {
     "name": "stderr",
     "output_type": "stream",
     "text": [
      "'"
     ]
    },
    {
     "name": "stderr",
     "output_type": "stream",
     "text": [
      "requirements"
     ]
    },
    {
     "name": "stderr",
     "output_type": "stream",
     "text": [
      "'"
     ]
    },
    {
     "name": "stderr",
     "output_type": "stream",
     "text": [
      ","
     ]
    },
    {
     "name": "stderr",
     "output_type": "stream",
     "text": [
      " "
     ]
    },
    {
     "name": "stderr",
     "output_type": "stream",
     "text": [
      "count"
     ]
    },
    {
     "name": "stderr",
     "output_type": "stream",
     "text": [
      ":"
     ]
    },
    {
     "name": "stderr",
     "output_type": "stream",
     "text": [
      " "
     ]
    },
    {
     "name": "stderr",
     "output_type": "stream",
     "text": [
      "2"
     ]
    },
    {
     "name": "stderr",
     "output_type": "stream",
     "text": [
      "\n"
     ]
    },
    {
     "name": "stderr",
     "output_type": "stream",
     "text": [
      "ic"
     ]
    },
    {
     "name": "stderr",
     "output_type": "stream",
     "text": [
      "|"
     ]
    },
    {
     "name": "stderr",
     "output_type": "stream",
     "text": [
      " "
     ]
    },
    {
     "name": "stderr",
     "output_type": "stream",
     "text": [
      "token"
     ]
    },
    {
     "name": "stderr",
     "output_type": "stream",
     "text": [
      ":"
     ]
    },
    {
     "name": "stderr",
     "output_type": "stream",
     "text": [
      " "
     ]
    },
    {
     "name": "stderr",
     "output_type": "stream",
     "text": [
      "'"
     ]
    },
    {
     "name": "stderr",
     "output_type": "stream",
     "text": [
      "stateful"
     ]
    },
    {
     "name": "stderr",
     "output_type": "stream",
     "text": [
      "'"
     ]
    },
    {
     "name": "stderr",
     "output_type": "stream",
     "text": [
      ","
     ]
    },
    {
     "name": "stderr",
     "output_type": "stream",
     "text": [
      " "
     ]
    },
    {
     "name": "stderr",
     "output_type": "stream",
     "text": [
      "count"
     ]
    },
    {
     "name": "stderr",
     "output_type": "stream",
     "text": [
      ":"
     ]
    },
    {
     "name": "stderr",
     "output_type": "stream",
     "text": [
      " "
     ]
    },
    {
     "name": "stderr",
     "output_type": "stream",
     "text": [
      "2"
     ]
    },
    {
     "name": "stderr",
     "output_type": "stream",
     "text": [
      "\n"
     ]
    },
    {
     "name": "stderr",
     "output_type": "stream",
     "text": [
      "ic"
     ]
    },
    {
     "name": "stderr",
     "output_type": "stream",
     "text": [
      "|"
     ]
    },
    {
     "name": "stderr",
     "output_type": "stream",
     "text": [
      " "
     ]
    },
    {
     "name": "stderr",
     "output_type": "stream",
     "text": [
      "token"
     ]
    },
    {
     "name": "stderr",
     "output_type": "stream",
     "text": [
      ":"
     ]
    },
    {
     "name": "stderr",
     "output_type": "stream",
     "text": [
      " "
     ]
    },
    {
     "name": "stderr",
     "output_type": "stream",
     "text": [
      "'"
     ]
    },
    {
     "name": "stderr",
     "output_type": "stream",
     "text": [
      "classes"
     ]
    },
    {
     "name": "stderr",
     "output_type": "stream",
     "text": [
      "'"
     ]
    },
    {
     "name": "stderr",
     "output_type": "stream",
     "text": [
      ","
     ]
    },
    {
     "name": "stderr",
     "output_type": "stream",
     "text": [
      " "
     ]
    },
    {
     "name": "stderr",
     "output_type": "stream",
     "text": [
      "count"
     ]
    },
    {
     "name": "stderr",
     "output_type": "stream",
     "text": [
      ":"
     ]
    },
    {
     "name": "stderr",
     "output_type": "stream",
     "text": [
      " "
     ]
    },
    {
     "name": "stderr",
     "output_type": "stream",
     "text": [
      "2"
     ]
    },
    {
     "name": "stderr",
     "output_type": "stream",
     "text": [
      "\n"
     ]
    },
    {
     "name": "stderr",
     "output_type": "stream",
     "text": [
      "ic"
     ]
    },
    {
     "name": "stderr",
     "output_type": "stream",
     "text": [
      "|"
     ]
    },
    {
     "name": "stderr",
     "output_type": "stream",
     "text": [
      " "
     ]
    },
    {
     "name": "stderr",
     "output_type": "stream",
     "text": [
      "token"
     ]
    },
    {
     "name": "stderr",
     "output_type": "stream",
     "text": [
      ":"
     ]
    },
    {
     "name": "stderr",
     "output_type": "stream",
     "text": [
      " "
     ]
    },
    {
     "name": "stderr",
     "output_type": "stream",
     "text": [
      "'"
     ]
    },
    {
     "name": "stderr",
     "output_type": "stream",
     "text": [
      "multiprocessing"
     ]
    },
    {
     "name": "stderr",
     "output_type": "stream",
     "text": [
      "'"
     ]
    },
    {
     "name": "stderr",
     "output_type": "stream",
     "text": [
      ","
     ]
    },
    {
     "name": "stderr",
     "output_type": "stream",
     "text": [
      " "
     ]
    },
    {
     "name": "stderr",
     "output_type": "stream",
     "text": [
      "count"
     ]
    },
    {
     "name": "stderr",
     "output_type": "stream",
     "text": [
      ":"
     ]
    },
    {
     "name": "stderr",
     "output_type": "stream",
     "text": [
      " "
     ]
    },
    {
     "name": "stderr",
     "output_type": "stream",
     "text": [
      "2"
     ]
    },
    {
     "name": "stderr",
     "output_type": "stream",
     "text": [
      "\n"
     ]
    }
   ],
   "source": [
    "for token, count in sorted(wc_sum.items(), key=lambda item: item[1], reverse=True):\n",
    "    if count > 1:\n",
    "        ic(token, count)"
   ]
  },
  {
   "cell_type": "markdown",
   "metadata": {},
   "source": [
    "Finally, shutdown Ray"
   ]
  },
  {
   "cell_type": "code",
   "execution_count": 15,
   "metadata": {},
   "outputs": [],
   "source": [
    "ray.shutdown()"
   ]
  },
  {
   "cell_type": "markdown",
   "metadata": {},
   "source": [
    "---\n",
    "\n",
    "## Summary"
   ]
  },
  {
   "cell_type": "markdown",
   "metadata": {},
   "source": [
    "Parallel iterators provide a somewhat higher-level abstraction which uses Ray actors and `ray.wait` loops, and fit conveninently into efficient software patterns in Python.\n",
    "\n",
    "Engineering trade-offs are available a multiple levels:\n",
    "\n",
    "  * trade-off compute and memory requirements by partitioning sequences of items into data shards\n",
    "  * trade-off compute and memory requirements for transformations on items by passing the data shards to remote functions (stateless) and remote methods (stateful)\n",
    "  * trade-off the semantic guarantees on fetch ordering by using asynchronous iteration"
   ]
  }
 ],
 "metadata": {
  "kernelspec": {
   "display_name": "Python 3",
   "language": "python",
   "name": "orchest-kernel-ea858517-17b2-4ad8-bad2-1764d69f4b6d"
  },
  "language_info": {
   "codemirror_mode": {
    "name": "ipython",
    "version": 3
   },
   "file_extension": ".py",
   "mimetype": "text/x-python",
   "name": "python",
   "nbconvert_exporter": "python",
   "pygments_lexer": "ipython3",
   "version": "3.7.6"
  }
 },
 "nbformat": 4,
 "nbformat_minor": 4
}
